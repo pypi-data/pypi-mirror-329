{
 "cells": [
  {
   "cell_type": "code",
   "execution_count": null,
   "id": "b625e1f3-2216-45d5-be2a-8c65b74b7518",
   "metadata": {},
   "outputs": [],
   "source": [
    "import argparse\n",
    "import json\n",
    "import logging\n",
    "\n",
    "import dask\n",
    "import numpy as np\n",
    "import xarray as xr\n",
    "\n",
    "from dask.distributed import Client\n",
    "import dask.config\n",
    "import dask.array as da"
   ]
  },
  {
   "cell_type": "code",
   "execution_count": null,
   "id": "567289a7-ac3f-4f64-8604-eb091ed3b87f",
   "metadata": {},
   "outputs": [],
   "source": [
    "import sys"
   ]
  },
  {
   "cell_type": "code",
   "execution_count": null,
   "id": "a5214643-3175-4f48-aa24-b9738acb9cd8",
   "metadata": {},
   "outputs": [],
   "source": [
    "sys.path.append('../src')"
   ]
  },
  {
   "cell_type": "code",
   "execution_count": null,
   "id": "c8a4131e-fc6f-4ad1-8e7c-fffe90f3b6fb",
   "metadata": {},
   "outputs": [],
   "source": [
    "import helper_modules"
   ]
  },
  {
   "cell_type": "code",
   "execution_count": null,
   "id": "ed13fc84-6c88-4486-8c47-f64a42798a50",
   "metadata": {},
   "outputs": [],
   "source": [
    "%load_ext autoreload\n",
    "%autoreload 2"
   ]
  },
  {
   "cell_type": "code",
   "execution_count": null,
   "id": "c025fc62-a45a-4659-aabc-e6c7e684c913",
   "metadata": {},
   "outputs": [],
   "source": [
    "with open(\"../src/conf/domain_config.json\", \"r\") as j:\n",
    "    domain_config = json.loads(j.read())"
   ]
  },
  {
   "cell_type": "code",
   "execution_count": null,
   "id": "787a449e-6156-42ef-871f-60fc00571075",
   "metadata": {},
   "outputs": [],
   "source": [
    "with open(\"../src/conf/attribute_config.json\", \"r\") as j:\n",
    "    attribute_config = json.loads(j.read())"
   ]
  },
  {
   "cell_type": "code",
   "execution_count": null,
   "id": "3131e335-cb08-474e-80fc-556b65cc9055",
   "metadata": {},
   "outputs": [],
   "source": [
    "with open(\"../src/conf/variable_config.json\", \"r\") as j:\n",
    "    variable_config = json.loads(j.read())"
   ]
  },
  {
   "cell_type": "code",
   "execution_count": null,
   "id": "8cf334b2-07ab-4544-8b27-6fc20cac8707",
   "metadata": {},
   "outputs": [],
   "source": [
    "domain_config = domain_config['west_africa']"
   ]
  },
  {
   "cell_type": "code",
   "execution_count": null,
   "id": "9fe39474-ccb3-42ee-865b-9e79bf317b59",
   "metadata": {},
   "outputs": [],
   "source": [
    "variable_config = {\n",
    "    key: value\n",
    "    for key, value in variable_config.items()\n",
    "    if key in domain_config[\"variables\"]\n",
    "}"
   ]
  },
  {
   "cell_type": "code",
   "execution_count": null,
   "id": "f549150d-366c-4a20-93b6-4d5d039ab8e9",
   "metadata": {},
   "outputs": [],
   "source": [
    "reg_dir_dict, glob_dir_dict = helper_modules.set_and_make_dirs(domain_config)"
   ]
  },
  {
   "cell_type": "code",
   "execution_count": null,
   "id": "d0636253-c304-4ef9-934d-bed0f7194865",
   "metadata": {},
   "outputs": [],
   "source": [
    "syr_calib = domain_config[\"syr_calib\"]\n",
    "eyr_calib = domain_config[\"eyr_calib\"]"
   ]
  },
  {
   "cell_type": "code",
   "execution_count": null,
   "id": "cb3b79e1-5d22-48b9-91c3-0e1fece26e07",
   "metadata": {},
   "outputs": [],
   "source": [
    "client, cluster = helper_modules.getCluster('cclake', 1, 40)\n",
    "        \n",
    "client.get_versions(check=True)\n",
    "client.amm.start()\n",
    "         \n",
    "print(f\"Dask dashboard available at {client.dashboard_link}\")"
   ]
  },
  {
   "cell_type": "code",
   "execution_count": null,
   "id": "886e09a6-5292-42be-bd57-e9bb9cc133b2",
   "metadata": {},
   "outputs": [],
   "source": [
    "client.close()\n",
    "cluster.close()"
   ]
  },
  {
   "cell_type": "code",
   "execution_count": null,
   "id": "c8c68c92-37b0-4d4d-b4b0-f4efab40046a",
   "metadata": {},
   "outputs": [],
   "source": [
    "client = Client(scheduler_file='/pd/home/lorenz-c/scheduler_test.json')"
   ]
  },
  {
   "cell_type": "code",
   "execution_count": null,
   "id": "f84a5f04-6607-4245-ab5e-27100635e54c",
   "metadata": {},
   "outputs": [],
   "source": [
    "client.dashboard_link"
   ]
  },
  {
   "cell_type": "code",
   "execution_count": null,
   "id": "b8d3aa80-8a95-45f1-82bd-6c1ff5401df8",
   "metadata": {},
   "outputs": [],
   "source": [
    "raw_full, pp_full, refrcst_full, ref_full = helper_modules.set_input_files(domain_config, reg_dir_dict, 4, 2016, 'tp')"
   ]
  },
  {
   "cell_type": "code",
   "execution_count": null,
   "id": "9f5c553e-b780-4693-a101-77f039727c3c",
   "metadata": {},
   "outputs": [],
   "source": [
    "coords = helper_modules.get_coords_from_frcst(raw_full)"
   ]
  },
  {
   "cell_type": "code",
   "execution_count": null,
   "id": "467fbd04-fb0d-4b91-a1df-d08ac7695af2",
   "metadata": {},
   "outputs": [],
   "source": [
    "global_attributes = helper_modules.update_global_attributes(\n",
    "    attribute_config, domain_config[\"bc_params\"], coords, 'west_africa'\n",
    ")"
   ]
  },
  {
   "cell_type": "code",
   "execution_count": null,
   "id": "3fb9e48b-d4ea-4e44-955b-1e7b36a6e580",
   "metadata": {},
   "outputs": [],
   "source": [
    "encoding = helper_modules.set_encoding(variable_config, coords)"
   ]
  },
  {
   "cell_type": "code",
   "execution_count": null,
   "id": "776059fd-64a8-4f2a-899e-f59d112177ae",
   "metadata": {},
   "outputs": [],
   "source": [
    "ds_obs = xr.open_zarr(ref_full, consolidated=False)\n",
    "ds_obs = xr.open_zarr(\n",
    "    ref_full,\n",
    "    chunks={\"time\": len(ds_obs.time), \"lat\": 1, \"lon\": 1},\n",
    "    consolidated=False\n",
    "    )\n",
    "da_obs = ds_obs['tp'].persist()\n",
    "#da_obs = da_obs.isel(lat=np.arange(100, 130), lon=np.arange(100, 130))"
   ]
  },
  {
   "cell_type": "code",
   "execution_count": null,
   "id": "68e66be4-a574-49f7-999f-7d610d863d3d",
   "metadata": {},
   "outputs": [],
   "source": [
    "ds_mdl = xr.open_zarr(refrcst_full, consolidated=False)\n",
    "ds_mdl = xr.open_zarr(\n",
    "    refrcst_full,\n",
    "    chunks={\n",
    "       \"time\": len(ds_mdl.time),\n",
    "       \"ens\": len(ds_mdl.ens),\n",
    "       \"lat\": 1,\n",
    "       \"lon\": 1\n",
    "    },\n",
    "    consolidated=False\n",
    "    )\n",
    "da_mdl = ds_mdl['tp']\n",
    "#da_mdl = da_mdl.isel(lat=np.arange(100, 130), lon=np.arange(100, 130))"
   ]
  },
  {
   "cell_type": "code",
   "execution_count": null,
   "id": "7bcbe168-7673-43bf-840a-7ce21fb0f2a7",
   "metadata": {
    "tags": []
   },
   "outputs": [],
   "source": [
    "ds_pred = xr.open_dataset(raw_full)\n",
    "ds_pred = xr.open_mfdataset(\n",
    "    raw_full,\n",
    "    chunks={\n",
    "        \"time\": len(ds_pred.time),\n",
    "        \"ens\": len(ds_pred.ens),\n",
    "        \"lat\": 1,\n",
    "        \"lon\": 1\n",
    "     },\n",
    "     parallel=True,\n",
    "     engine=\"netcdf4\",\n",
    ")\n",
    "da_pred = ds_pred['tp'].persist()\n",
    "\n",
    "#da_pred = da_pred.isel(lat=np.arange(100, 130), lon=np.arange(100, 130))"
   ]
  },
  {
   "cell_type": "code",
   "execution_count": null,
   "id": "beed9ec5-b309-4ca0-9fca-0437a7648aa5",
   "metadata": {},
   "outputs": [],
   "source": [
    "da.from_delayed()"
   ]
  },
  {
   "cell_type": "code",
   "execution_count": null,
   "id": "831bc94f-5a26-4358-9b59-eaddd868724d",
   "metadata": {},
   "outputs": [],
   "source": [
    "pred_out = da.zeros(shape=(len(da_pred.time), len(da_pred.lat), len(da_pred.lon), len(da_pred.ens)), chunks=(1, len(da_pred.lat), len(da_pred.lon), len(da_pred.ens)))"
   ]
  },
  {
   "cell_type": "code",
   "execution_count": null,
   "id": "127ed325-4eee-4318-9620-24acfde1772c",
   "metadata": {},
   "outputs": [],
   "source": [
    "import importlib"
   ]
  },
  {
   "cell_type": "code",
   "execution_count": null,
   "id": "2ba61adc-a4b1-4f07-987b-3d993e8fafc7",
   "metadata": {},
   "outputs": [],
   "source": [
    "import bc_module_v2"
   ]
  },
  {
   "cell_type": "code",
   "execution_count": null,
   "id": "0e90188a-de40-4110-b835-79ecc0b75b48",
   "metadata": {},
   "outputs": [],
   "source": [
    "client.upload_file(\"bc_module_v2.py\")"
   ]
  },
  {
   "cell_type": "code",
   "execution_count": null,
   "id": "5319b7df-9544-4649-bf98-b39cf27dc2f0",
   "metadata": {},
   "outputs": [],
   "source": [
    "da_obs.isel(lon=0, lat=0)"
   ]
  },
  {
   "cell_type": "code",
   "execution_count": null,
   "id": "709ad2b4-a925-48c0-95f9-899d9cffd0b7",
   "metadata": {},
   "outputs": [],
   "source": [
    "import dask.array as da"
   ]
  },
  {
   "cell_type": "code",
   "execution_count": null,
   "id": "2fef0f90-7322-4123-b3b3-915e908a4da6",
   "metadata": {},
   "outputs": [],
   "source": [
    "for timestep in range(0, 10):\n",
    "    \n",
    "    intersection_day_obs, intersection_day_mdl = bc_module_v2.get_intersect_days(timestep, domain_config, da_obs.time, da_mdl.time, da_pred.time)\n",
    "    \n",
    "    da_obs_sub = da_obs.loc[dict(time=intersection_day_obs)]\n",
    "    da_mdl_sub = da_mdl.loc[dict(time=intersection_day_mdl)]\n",
    "    da_mdl_sub = da_mdl_sub.stack(ens_time=(\"ens\", \"time\"), create_index=True)\n",
    "    da_mdl_sub = da_mdl_sub.drop(\"time\")\n",
    "        \n",
    "    da_pred_sub = da_pred.isel(time=timestep)\n",
    "    \n",
    "    out = xr.apply_ufunc(\n",
    "            bc_module_v2.bc_module,\n",
    "            da_pred_sub,\n",
    "            da_obs_sub,\n",
    "            da_mdl_sub,\n",
    "            kwargs={\n",
    "                \"domain_config\": domain_config,\n",
    "                \"precip\": variable_config['tp'][\"isprecip\"],\n",
    "            },\n",
    "            input_core_dims=[[\"ens\"], [\"time\"], [\"ens_time\"]],\n",
    "            output_core_dims=[[\"ens\"]],\n",
    "            vectorize=True,\n",
    "            dask=\"parallelized\",\n",
    "            output_dtypes=[np.float64],\n",
    "    )\n",
    "    print(f\"Timestep {timestep}\")\n",
    "    #pred_out[timestep, :, :, :] = da.from_array(out, chunks=[217, 298, 25])\n",
    "    pred_out[timestep, :, :, :] = out\n"
   ]
  },
  {
   "cell_type": "code",
   "execution_count": null,
   "id": "f21badf2-3a94-4093-8e20-bdb144ff9f65",
   "metadata": {
    "tags": []
   },
   "outputs": [],
   "source": [
    "pred_out.persist()"
   ]
  },
  {
   "cell_type": "code",
   "execution_count": null,
   "id": "e33340e7-c408-48be-99e7-7c48b9f45c1e",
   "metadata": {},
   "outputs": [],
   "source": [
    "da_out = xr.Dataset(\n",
    "            data_vars=dict(tp=([\"time\", \"lat\", \"lon\", \"ens\"], pred_out)),       \n",
    "            coords=dict(\n",
    "                time=da_pred.time,\n",
    "                ens=da_pred.ens,\n",
    "                lon=da_pred.lon,\n",
    "                lat=da_pred.lat\n",
    "            ),\n",
    "            attrs=dict(\n",
    "            description=\"This is a small stupid test...\",\n",
    "            nits=\"And were going to kick some ass...\"),\n",
    "    )"
   ]
  },
  {
   "cell_type": "code",
   "execution_count": null,
   "id": "e33c3259-c860-449d-87ce-39031d1e70bd",
   "metadata": {},
   "outputs": [],
   "source": [
    "da_out.to_netcdf('test.nc')"
   ]
  },
  {
   "cell_type": "code",
   "execution_count": null,
   "id": "0b99f042-5c44-4097-9dca-a7c72bbf82cf",
   "metadata": {},
   "outputs": [],
   "source": [
    "pred_out.to_zarr('test_1.zarr')"
   ]
  },
  {
   "cell_type": "code",
   "execution_count": null,
   "id": "4e6f061c-e5c4-4603-b011-ba1d69af06e6",
   "metadata": {},
   "outputs": [],
   "source": [
    "for i in range(0, len(da_pred.lat)):\n",
    "    for j in range(0, len(da_pred.lon)):\n",
    "        out = bc_module_v2.bc_module(da_pred, da_obs, da_mdl, i, j, 'fluff', domain_config, True)\n",
    "        pred_out[:, :, i, j] = da.from_delayed(out, shape=[len(da_pred.time), len(da_pred.ens)], dtype=float)\n",
    "        print(i, j)"
   ]
  },
  {
   "cell_type": "code",
   "execution_count": null,
   "id": "4b8ba369-6cb8-4386-b9e9-7368a5a8fc72",
   "metadata": {},
   "outputs": [],
   "source": [
    "pred_out.persist()"
   ]
  },
  {
   "cell_type": "code",
   "execution_count": null,
   "id": "51609f14-37d5-41e0-8992-8c09a5e48ed2",
   "metadata": {},
   "outputs": [],
   "source": [
    "da_out = xr.Dataset(\n",
    "            data_vars=dict(tp=([\"time\", \"ens\", \"lat\", \"lon\"], pred_out)),       \n",
    "            coords=dict(\n",
    "                time=da_pred.time,\n",
    "                ens=da_pred.ens,\n",
    "                lon=da_pred.lon,\n",
    "                lat=da_pred.lat\n",
    "            ),\n",
    "            attrs=dict(\n",
    "            description=\"This is a small stupid test...\",\n",
    "            nits=\"And were going to kick some ass...\"),\n",
    "    )"
   ]
  },
  {
   "cell_type": "code",
   "execution_count": null,
   "id": "e08ca1d4-ebd7-4ac4-a60b-bc4483fc3920",
   "metadata": {},
   "outputs": [],
   "source": [
    "da_out.to_zarr('/bg/data/NCZarr/bcsd_test.zarr')"
   ]
  },
  {
   "cell_type": "code",
   "execution_count": null,
   "id": "3d815114-040f-4c25-aac2-3b03681df3cf",
   "metadata": {},
   "outputs": [],
   "source": []
  }
 ],
 "metadata": {
  "kernelspec": {
   "display_name": "forecast_bias_correction_bg",
   "language": "python",
   "name": "forecast_bias_correction_bg"
  },
  "language_info": {
   "codemirror_mode": {
    "name": "ipython",
    "version": 3
   },
   "file_extension": ".py",
   "mimetype": "text/x-python",
   "name": "python",
   "nbconvert_exporter": "python",
   "pygments_lexer": "ipython3",
   "version": "3.10.5"
  }
 },
 "nbformat": 4,
 "nbformat_minor": 5
}
