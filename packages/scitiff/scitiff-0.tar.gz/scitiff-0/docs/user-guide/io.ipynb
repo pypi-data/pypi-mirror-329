{
 "cells": [
  {
   "cell_type": "markdown",
   "metadata": {},
   "source": [
    "# IO\n",
    "\n",
    "\n",
    "## Export Tiff Image with Meta Data"
   ]
  },
  {
   "cell_type": "code",
   "execution_count": null,
   "metadata": {},
   "outputs": [],
   "source": [
    "import scipp as sc\n",
    "\n",
    "pattern = [[i * 400 + j for j in range(400)] for i in range(300)]\n",
    "sample_img = sc.DataArray(\n",
    "    data=sc.array(\n",
    "        dims=['t', 'y', 'x'],\n",
    "        values=[pattern, pattern[::-1]],\n",
    "        unit='counts',\n",
    "        dtype=sc.DType.float32,\n",
    "    ),\n",
    "    coords={\n",
    "        't': sc.array(dims=['t'], values=[0, 1], unit='s'),\n",
    "        'y': sc.linspace(dim='y', start=0.0, stop=300.0, num=300, unit='mm'),\n",
    "        'x': sc.linspace(dim='x', start=0.0, stop=400.0, num=400, unit='mm'),\n",
    "    },\n",
    ")\n",
    "sample_img"
   ]
  },
  {
   "cell_type": "code",
   "execution_count": null,
   "metadata": {},
   "outputs": [],
   "source": [
    "config = {\"grid\": True, \"aspect\": True}\n",
    "sample_img['t', 0].plot(title='T=0', **config) / sample_img['t', 1].plot(title='T=1', **config)"
   ]
  },
  {
   "cell_type": "code",
   "execution_count": null,
   "metadata": {},
   "outputs": [],
   "source": [
    "from scitiff.io import export\n",
    "\n",
    "export(sample_img, 'sample_img.tiff')"
   ]
  },
  {
   "cell_type": "markdown",
   "metadata": {},
   "source": [
    "## Load TIFF Image with Meta Data"
   ]
  },
  {
   "cell_type": "code",
   "execution_count": null,
   "metadata": {},
   "outputs": [],
   "source": [
    "from scitiff.io import load\n",
    "\n",
    "loaded_img = load('sample_img.tiff')\n",
    "loaded_img"
   ]
  },
  {
   "cell_type": "code",
   "execution_count": null,
   "metadata": {},
   "outputs": [],
   "source": [
    "loaded_img['t', 0].plot(title='T=0', **config) / loaded_img['t', 1].plot(title='T=1', **config)"
   ]
  }
 ],
 "metadata": {
  "kernelspec": {
   "display_name": "esstiff-dev",
   "language": "python",
   "name": "python3"
  },
  "language_info": {
   "codemirror_mode": {
    "name": "ipython",
    "version": 3
   },
   "file_extension": ".py",
   "mimetype": "text/x-python",
   "name": "python",
   "nbconvert_exporter": "python",
   "pygments_lexer": "ipython3",
   "version": "3.10.16"
  }
 },
 "nbformat": 4,
 "nbformat_minor": 2
}
