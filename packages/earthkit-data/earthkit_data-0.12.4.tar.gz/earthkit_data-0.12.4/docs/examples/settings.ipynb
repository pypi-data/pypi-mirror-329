{
 "cells": [
  {
   "cell_type": "markdown",
   "id": "53d7b7af-fc34-450c-9c39-493f3d881c49",
   "metadata": {
    "editable": true,
    "slideshow": {
     "slide_type": ""
    },
    "tags": []
   },
   "source": [
    "## Settings"
   ]
  },
  {
   "cell_type": "code",
   "execution_count": 1,
   "id": "55715969-c15d-4b7f-bf0f-459591359d76",
   "metadata": {},
   "outputs": [],
   "source": [
    "from earthkit.data import settings"
   ]
  },
  {
   "cell_type": "markdown",
   "id": "01b48692-a39d-4cfd-99dd-4047501edb54",
   "metadata": {
    "editable": true,
    "slideshow": {
     "slide_type": ""
    },
    "tags": []
   },
   "source": [
    "#### Settings basics"
   ]
  },
  {
   "attachments": {},
   "cell_type": "raw",
   "id": "492ab3b0-edf8-421f-8b77-c508447d391c",
   "metadata": {
    "editable": true,
    "raw_mimetype": "text/restructuredtext",
    "slideshow": {
     "slide_type": ""
    },
    "tags": []
   },
   "source": [
    "The :ref:`settings` object is loaded from the **\"~/.earthkit-data/settings.yaml\"** file. Changes are immediately saved back into this file unless we explicitly disable it or use :ref:`temporary settings <settings_temporary>`."
   ]
  },
  {
   "cell_type": "markdown",
   "id": "bb06b2f7-5552-4247-843e-2e328beaabe9",
   "metadata": {
    "editable": true,
    "slideshow": {
     "slide_type": ""
    },
    "tags": []
   },
   "source": [
    "For the rest of this notebook we disable the settings autosave so the changes will not be written into our configuration file."
   ]
  },
  {
   "cell_type": "code",
   "execution_count": 2,
   "id": "c5d47016-6f5b-4cbc-ac15-1d231546ac10",
   "metadata": {
    "editable": true,
    "slideshow": {
     "slide_type": ""
    },
    "tags": []
   },
   "outputs": [],
   "source": [
    "settings.auto_save_settings = False"
   ]
  },
  {
   "attachments": {},
   "cell_type": "markdown",
   "id": "27d1d708-8090-43af-8be8-5d81eec4791b",
   "metadata": {},
   "source": [
    "We can display the current settings and the default values with:"
   ]
  },
  {
   "cell_type": "code",
   "execution_count": 3,
   "id": "953cdbe7-e159-47cf-bb27-613f1ec3fba3",
   "metadata": {},
   "outputs": [
    {
     "data": {
      "text/html": [
       "<style type=\"text/css\">table.ek td {\n",
       "    vertical-align: top;\n",
       "    text-align: left !important;\n",
       "}\n",
       "\n",
       "table.ek th {\n",
       "    vertical-align: top;\n",
       "    text-align: left !important;\n",
       "}\n",
       "</style><table class='ek'><tr><th>Name</th><th>Value</th><th>Default</th></tr><tr><td>cache-policy</td><td>'user'</td><td>'user'</td></tr><tr><td>check-out-of-date-urls</td><td>True</td><td>True</td></tr><tr><td>download-out-of-date-urls</td><td>False</td><td>False</td></tr><tr><td>maximum-cache-disk-usage</td><td>'95%'</td><td>'95%'</td></tr><tr><td>maximum-cache-size</td><td>None</td><td>None</td></tr><tr><td>number-of-download-threads</td><td>5</td><td>5</td></tr><tr><td>reader-type-check-bytes</td><td>64</td><td>64</td></tr><tr><td>temporary-cache-directory-root</td><td>None</td><td>None</td></tr><tr><td>url-download-timeout</td><td>'30s'</td><td>'30s'</td></tr><tr><td>use-message-position-index-cache</td><td>False</td><td>False</td></tr><tr><td>use-standalone-mars-client-when-available</td><td>True</td><td>True</td></tr><tr><td>user-cache-directory</td><td>'/var/folders/ng/g0zkhc2s42xbslpsywwp_26m0000gn/T/earthkit-data-cgr'</td><td>'/var/folders/ng/g0zkhc2s42xbslpsywwp_26m0000gn/T/earthkit-data-cgr'</td></tr><tr><td>version</td><td>'0.2.1.dev28+g10f7c90.d20230714'</td><td>''</td></tr></table>"
      ],
      "text/plain": [
       "cache-policy: (user, user)\n",
       "check-out-of-date-urls: (True, True)\n",
       "download-out-of-date-urls: (False, False)\n",
       "maximum-cache-disk-usage: (95%, 95%)\n",
       "maximum-cache-size: (None, None)\n",
       "number-of-download-threads: (5, 5)\n",
       "reader-type-check-bytes: (64, 64)\n",
       "temporary-cache-directory-root: (None, None)\n",
       "url-download-timeout: (30s, 30s)\n",
       "use-message-position-index-cache: (False, False)\n",
       "use-standalone-mars-client-when-available: (True, True)\n",
       "user-cache-directory: (/var/folders/ng/g0zkhc2s42xbslpsywwp_26m0000gn/T/earthkit-data-cgr, /var/folders/ng/g0zkhc2s42xbslpsywwp_26m0000gn/T/earthkit-data-cgr)\n",
       "version: (0.2.1.dev28+g10f7c90.d20230714, )"
      ]
     },
     "execution_count": 3,
     "metadata": {},
     "output_type": "execute_result"
    }
   ],
   "source": [
    "settings"
   ]
  },
  {
   "cell_type": "raw",
   "id": "23b0893d-f6cd-42bc-b030-0917684b7786",
   "metadata": {
    "editable": true,
    "raw_mimetype": "text/restructuredtext",
    "slideshow": {
     "slide_type": ""
    },
    "tags": []
   },
   "source": [
    "We can use :ref:`get() <settings_get>` to access the settings values."
   ]
  },
  {
   "cell_type": "code",
   "execution_count": 4,
   "id": "c477d8a3-eef8-4f73-86f1-64bdbabd13d5",
   "metadata": {
    "editable": true,
    "slideshow": {
     "slide_type": ""
    },
    "tags": []
   },
   "outputs": [
    {
     "data": {
      "text/plain": [
       "5"
      ]
     },
     "execution_count": 4,
     "metadata": {},
     "output_type": "execute_result"
    }
   ],
   "source": [
    "settings.get(\"number-of-download-threads\")"
   ]
  },
  {
   "cell_type": "raw",
   "id": "c61b5316-04cc-455a-a51a-66717af22bfd",
   "metadata": {
    "editable": true,
    "raw_mimetype": "text/restructuredtext",
    "slideshow": {
     "slide_type": ""
    },
    "tags": []
   },
   "source": [
    "We can use :ref:`set() <settings_set>` to change the values."
   ]
  },
  {
   "cell_type": "code",
   "execution_count": 5,
   "id": "373e772d-52ac-4166-94a5-b7f501a4490f",
   "metadata": {
    "editable": true,
    "slideshow": {
     "slide_type": ""
    },
    "tags": []
   },
   "outputs": [
    {
     "data": {
      "text/plain": [
       "6"
      ]
     },
     "execution_count": 5,
     "metadata": {},
     "output_type": "execute_result"
    }
   ],
   "source": [
    "settings.set(\"number-of-download-threads\", 6)\n",
    "settings.get(\"number-of-download-threads\")"
   ]
  },
  {
   "cell_type": "markdown",
   "id": "27182b2a-f49b-406d-af81-bbd77bef3b1b",
   "metadata": {},
   "source": [
    "Multiple values can be set together. The argument list can be a dictionary:"
   ]
  },
  {
   "cell_type": "code",
   "execution_count": 6,
   "id": "f2c4e61b-5e91-4986-8987-21a3deeed750",
   "metadata": {},
   "outputs": [
    {
     "name": "stdout",
     "output_type": "stream",
     "text": [
      "7\n",
      "60\n"
     ]
    }
   ],
   "source": [
    "settings.set({\"number-of-download-threads\": 7, \"url-download-timeout\": \"1m\"})\n",
    "print(settings.get(\"number-of-download-threads\"))\n",
    "print(settings.get(\"url-download-timeout\"))"
   ]
  },
  {
   "cell_type": "markdown",
   "id": "2b0e80b7-cc1d-47df-ac9c-8815581f2b87",
   "metadata": {
    "editable": true,
    "slideshow": {
     "slide_type": ""
    },
    "tags": []
   },
   "source": [
    "Alternatively, we can use keyword arguments. However, because the \"-\" character is not allowed in variable names in Python we have to replace \"-\" with \"_\" in all the keyword arguments:"
   ]
  },
  {
   "cell_type": "code",
   "execution_count": 7,
   "id": "ea398b6b-5d51-42fd-ae59-76b6140f7456",
   "metadata": {},
   "outputs": [
    {
     "name": "stdout",
     "output_type": "stream",
     "text": [
      "8\n",
      "120\n"
     ]
    }
   ],
   "source": [
    "settings.set(number_of_download_threads=8, url_download_timeout=\"2m\")\n",
    "print(settings.get(\"number-of-download-threads\"))\n",
    "print(settings.get(\"url-download-timeout\"))"
   ]
  },
  {
   "cell_type": "markdown",
   "id": "b7c8edff-9355-4144-aee9-e0a2a55f8eba",
   "metadata": {},
   "source": [
    "#### Temporary settings"
   ]
  },
  {
   "attachments": {},
   "cell_type": "raw",
   "id": "08bca9e3-65f3-4557-8be0-be2c79f98fb7",
   "metadata": {
    "editable": true,
    "raw_mimetype": "text/restructuredtext",
    "slideshow": {
     "slide_type": ""
    },
    "tags": []
   },
   "source": [
    "We can create a :ref:`temporary settings <settings_temporary>` (as a context manager) as a copy of the original settings. We will still refer to it as \"settings\", but it is completely independent from the original object and changes are not saved into the yaml file (even when *settings.auto_save_settings* is True)."
   ]
  },
  {
   "cell_type": "code",
   "execution_count": 8,
   "id": "5f63aca8-b609-4436-91d8-5e9b0e56a7c0",
   "metadata": {
    "editable": true,
    "slideshow": {
     "slide_type": ""
    },
    "tags": []
   },
   "outputs": [
    {
     "name": "stdout",
     "output_type": "stream",
     "text": [
      "8\n",
      "12\n"
     ]
    }
   ],
   "source": [
    "with settings.temporary():\n",
    "    print(settings.get(\"number-of-download-threads\"))\n",
    "    settings.set(\"number-of-download-threads\", 12)\n",
    "    print(settings.get(\"number-of-download-threads\"))"
   ]
  },
  {
   "cell_type": "markdown",
   "id": "b1f883bd-c63b-45dd-b333-de6ed682a62f",
   "metadata": {},
   "source": [
    "When we leave the context the settings are  reverted to the original one:"
   ]
  },
  {
   "cell_type": "code",
   "execution_count": 9,
   "id": "f44da09d-4d5e-4ee1-babc-943e901aeb69",
   "metadata": {},
   "outputs": [
    {
     "data": {
      "text/plain": [
       "8"
      ]
     },
     "execution_count": 9,
     "metadata": {},
     "output_type": "execute_result"
    }
   ],
   "source": [
    "settings.get(\"number-of-download-threads\")"
   ]
  },
  {
   "cell_type": "markdown",
   "id": "2670d106-7e09-42ba-bc66-335d84c38905",
   "metadata": {},
   "source": [
    "A temporary settings can also be created with arguments:"
   ]
  },
  {
   "cell_type": "code",
   "execution_count": 10,
   "id": "15870fd7-e2a1-4674-a701-f85861e6eb8a",
   "metadata": {},
   "outputs": [
    {
     "name": "stdout",
     "output_type": "stream",
     "text": [
      "11\n",
      "8\n"
     ]
    }
   ],
   "source": [
    "with settings.temporary(\"number-of-download-threads\", 11):\n",
    "    print(settings.get(\"number-of-download-threads\"))\n",
    "\n",
    "print(settings.get(\"number-of-download-threads\"))"
   ]
  },
  {
   "cell_type": "markdown",
   "id": "313fbf8f-a540-449e-b340-5c46014d931c",
   "metadata": {},
   "source": [
    "#### Reset to defaults"
   ]
  },
  {
   "attachments": {},
   "cell_type": "raw",
   "id": "323f7e0b-9126-4af5-9197-be98c60e2e1c",
   "metadata": {
    "editable": true,
    "raw_mimetype": "text/restructuredtext",
    "slideshow": {
     "slide_type": ""
    },
    "tags": []
   },
   "source": [
    "The :ref:`reset() <settings_reset>` method resets the settings to the defaults. We demonstrate it on a temporary settings:"
   ]
  },
  {
   "cell_type": "code",
   "execution_count": 11,
   "id": "2cc244ba-e80f-4111-b309-6ea7bf1b8119",
   "metadata": {
    "editable": true,
    "slideshow": {
     "slide_type": ""
    },
    "tags": []
   },
   "outputs": [
    {
     "name": "stdout",
     "output_type": "stream",
     "text": [
      "12\n",
      "5\n"
     ]
    }
   ],
   "source": [
    "with settings.temporary():\n",
    "    settings.set(\"number-of-download-threads\", 12)\n",
    "    print(settings.get(\"number-of-download-threads\"))\n",
    "    settings.reset()\n",
    "    print(settings.get(\"number-of-download-threads\"))\n",
    "    "
   ]
  },
  {
   "cell_type": "code",
   "execution_count": null,
   "id": "13f10d70-de59-4086-82d5-8d04d4c0907c",
   "metadata": {},
   "outputs": [],
   "source": []
  }
 ],
 "metadata": {
  "kernelspec": {
   "display_name": "dev",
   "language": "python",
   "name": "dev"
  },
  "language_info": {
   "codemirror_mode": {
    "name": "ipython",
    "version": 3
   },
   "file_extension": ".py",
   "mimetype": "text/x-python",
   "name": "python",
   "nbconvert_exporter": "python",
   "pygments_lexer": "ipython3",
   "version": "3.10.13"
  }
 },
 "nbformat": 4,
 "nbformat_minor": 5
}
