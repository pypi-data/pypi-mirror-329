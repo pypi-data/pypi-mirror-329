{
  "cells": [
    {
      "cell_type": "markdown",
      "metadata": {},
      "source": [
        "\n2-phase regressor\n"
      ]
    },
    {
      "cell_type": "code",
      "execution_count": null,
      "metadata": {
        "collapsed": false
      },
      "outputs": [],
      "source": [
        "import pandas as pd\nimport numpy as np\nfrom yaml import load, CLoader as Loader\nfrom abil.tune import tune\nfrom abil.predict import predict\nfrom abil.post import post\nfrom abil.utils import upsample\n\nimport os\n\n# Load YAML config\nwith open('2-phase.yml', 'r') as f:\n    model_config = load(f, Loader=Loader)\n\n# Example data\nX_predict =  pd.read_csv(\"./data/prediction.csv\")\nX_predict.set_index(['depth', 'time'], inplace=True)\n\nimport matplotlib.pyplot as plt\n# Convert to xarray Dataset\nds = X_predict.to_xarray()\n\n# Create a figure with 1 row and 3 columns for subplots\nfig, axes = plt.subplots(1, 3, figsize=(15, 5))  # Adjust figsize as needed\n# Plot each variable in its respective subplot\nds['no3'].plot(ax=axes[0], yincrease=False)\naxes[0].set_title('NO3')\nds['temperature'].plot(ax=axes[1], yincrease=False)\naxes[1].set_title('Temperature')\nds['PAR'].plot(ax=axes[2], yincrease=False)\naxes[2].set_title('PAR')\n# Save the figure to a PNG file\nplt.savefig('environmental_data.png')\n# Optionally, close the plot to free up memory\nplt.close()\n\nd = pd.read_csv(\"./data/training.csv\")\nd.set_index(['depth', 'time'], inplace=True)\n\n\n# Convert to xarray Dataset\nds = d.to_xarray()\n\n# Create a figure with 1 row and 3 columns for subplots\nfig, axes = plt.subplots(1, 3, figsize=(15, 5))  # Adjust figsize as needed\n# Plot each variable in its respective subplot\nds['Emiliania huxleyi'].plot(ax=axes[0], yincrease=False)\naxes[0].set_title('Emiliania huxleyi')\nds['Florisphaera profunda'].plot(ax=axes[1], yincrease=False)\naxes[1].set_title('Florisphaera profunda')\nds['Umbellosphaera irregularis'].plot(ax=axes[2], yincrease=False)\naxes[2].set_title('Umbellosphaera irregularis')\n# Save the figure to a PNG file\nplt.savefig('observational_data.png')\n# Optionally, close the plot to free up memory\nplt.close()\n\n\n# def predict_single_species(d, species):\n#     df = d\n#     df[species] = df[species].fillna(0)\n#     df = upsample(df, species, ratio=10)\n#     y = df[species]\n#     X_train = df[['temperature', 'no3', 'PAR']]\n\n#     # Train model\n#     m = tune(X_train, y, model_config)\n#     m.train(model=\"rf\", regressor=True)\n#     m.train(model=\"xgb\", regressor=True)\n#     m.train(model=\"knn\", regressor=True)\n\n#     # Predict\n#     m = predict(X_train, y, X_predict, model_config)\n#     m.make_prediction()\n\n# predict_single_species(d, 'Emiliania huxleyi')\n# predict_single_species(d, 'Florisphaera profunda')\n# predict_single_species(d, 'Umbellosphaera irregularis')\n\n\n# # Post-process\n# y = d[['Emiliania huxleyi', 'Florisphaera profunda', 'Umbellosphaera irregularis']]\n# X_train = d[['temperature', 'no3', 'PAR']]\n# m = post(X_train, y, X_predict, model_config, \"mean\")\n# m.export_ds(\"2-phase_model\")\n\n\n# import xarray as xr\n\n# ds = xr.open_dataset(\"ModelOutput/2-phase/posts/2-phase_model_mean.nc\")\n\n# # Create a figure with 1 row and 3 columns for subplots\n# fig, axes = plt.subplots(1, 3, figsize=(15, 5))  # Adjust figsize as needed\n# # Plot each variable in its respective subplot\n# ds['Emiliania huxleyi'].plot(ax=axes[0], yincrease=False)\n# axes[0].set_title('Emiliania huxleyi')\n\n# ds['Florisphaera profunda'].plot(ax=axes[1], yincrease=False)\n# axes[1].set_title('Florisphaera profunda')\n\n# ds['Umbellosphaera irregularis'].plot(ax=axes[2], yincrease=False)\n# axes[2].set_title('Umbellosphaera irregularis')\n# # Save the figure to a PNG file\n# plt.savefig('species_predictions.png')\n\n# # Optionally, close the plot to free up memory\n# plt.close()"
      ]
    }
  ],
  "metadata": {
    "kernelspec": {
      "display_name": "Python 3",
      "language": "python",
      "name": "python3"
    },
    "language_info": {
      "codemirror_mode": {
        "name": "ipython",
        "version": 3
      },
      "file_extension": ".py",
      "mimetype": "text/x-python",
      "name": "python",
      "nbconvert_exporter": "python",
      "pygments_lexer": "ipython3",
      "version": "3.12.3"
    }
  },
  "nbformat": 4,
  "nbformat_minor": 0
}