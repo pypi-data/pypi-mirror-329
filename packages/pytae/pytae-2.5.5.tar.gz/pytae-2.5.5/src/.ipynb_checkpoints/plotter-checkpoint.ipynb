{
 "cells": [
  {
   "cell_type": "code",
   "execution_count": null,
   "id": "2073a774-f8ae-4997-8c9b-287490c43d84",
   "metadata": {
    "scrolled": true
   },
   "outputs": [],
   "source": [
    "import numpy as np\n",
    "import pandas as pd\n",
    "import pytae as pt\n",
    "\n",
    "fmri = pt.sample_data['fmri']\n",
    "tips = pt.sample_data['tips']\n",
    "healthexp = pt.sample_data['healthexp']\n",
    "\n",
    "\n",
    "color={'cue': 'blue', 'stim': 'black', 'parietal': 'red',\n",
    "       'frontal': 'green','Male':'blue','Female':'pink','Dinner':'green',\n",
    "       'Lunch':'orange','Yes':'grey','No':'brown'}\n",
    "\n",
    "style={'cue':'-','stim':'--'}\n",
    "width={'cue':3,'stim':1}\n",
    "marker = {'Male': 'o', 'Female': 'x'}\n",
    "size={'Male': 10,'Female': 20}\n",
    "\n",
    "mosaic = \"\"\"\n",
    "ABC\n",
    "DEF\n",
    "GHI\n",
    "JJJ\n",
    "\"\"\"\n",
    "k = pt.Plotter(mosaic,figsize=(12, 12))\n",
    "\n",
    "(k\n",
    ".data(fmri)\n",
    ".plot(x='timepoint', y='signal',by='event',aggfunc='mean',color=color,style=style,width=width,\n",
    "      on='A',title='region & event',kind='line')\n",
    ".plot(x='timepoint', y='signal',by='region',kind='bar',stacked=True,on='A',color=color,aggfunc='mean')\n",
    ".data(tips)\n",
    ".plot(x='day',y='total_bill',by='sex',aggfunc='mean',on='B^',kind='bar',color=color,\n",
    "      title='avg bill by sex')\n",
    ".plot(x='size',y='tip',by='smoker',on='C',kind='barh',color=color,title='avg tips by smoker status')\n",
    ".data(tips)\n",
    ".plot(kind='scatter',x='total_bill',y='tip',on='D',marker='x',s=5,c='day',cmap='viridis',title='scatter plot demo')\n",
    ".data(tips)\n",
    ".plot(kind='hexbin',x='total_bill',y='tip',on='E',C='size',reduce_C_function=np.sum,cmap=\"viridis\",gridsize=20,title='hexbin demo')\n",
    ".data(tips)\n",
    ".plot(kind='pie',y='tip',by='time',on='F',aggfunc='mean', autopct='%1.1f%%',colors=color,explode=(0,0.05),title='pie demo') #for pie matplotlib says colors and not color\n",
    ".data(healthexp)\n",
    ".plot(kind='area',x='Year',y='Spending_USD',aggfunc='mean',on='G^',legend=False, by=\"Country\",title='area plot demo')\n",
    ".data(tips)\n",
    "\n",
    ".plot(kind='kde',on='H^',by='day',column='tip',title='kde by days')# ,secondary_y=True)\n",
    " .plot(kind='kde',column='tip',on='H', by=\"sex\")\n",
    ".plot(kind='density',on='I',by='day',column='tip',title='density by days' )\n",
    ".data(fmri)\n",
    ".plot(kind='hist',column='signal',by='event',on='J',bins=100)\n",
    "# .finalize(consolidate_legends=True,ncols=4) \n",
    ".finalize()\n",
    "\n",
    ")\n",
    "\n",
    "\n",
    "\n",
    "k.fig\n",
    "\n",
    "\n",
    "    "
   ]
  },
  {
   "cell_type": "code",
   "execution_count": null,
   "id": "af5a7a1e-c86d-4892-bb70-5c8fa7063c68",
   "metadata": {},
   "outputs": [],
   "source": [
    "mosaic = \"\"\"\n",
    "AB\n",
    "CD\n",
    "\"\"\"\n",
    "k = pt.Plotter(mosaic,figsize=(8,8))\n",
    "\n",
    "(k\n",
    ".data(fmri)\n",
    ".plot(x='timepoint', y='signal',by='event',aggfunc='mean',color=color,style=style,width=width,\n",
    "      on='A',title='region & event',kind='line')\n",
    ".plot(x='timepoint', y='signal',by='region',kind='bar',stacked=True,on='A',color=color,aggfunc='mean')\n",
    ".data(tips)\n",
    ".plot(x='day',y='total_bill',by='sex',aggfunc='mean',on='B',kind='bar',color=color,\n",
    "      title='avg bill by sex',secondary_y=True)\n",
    ".plot(x='size',y='tip',by='smoker',on='C',kind='barh',color=color,title='avg tips by smoker status')\n",
    ".data(healthexp)\n",
    ".plot(kind='area',x='Year',y='Spending_USD',aggfunc='mean',on='D', \n",
    "      by=\"Country\",title='area plot demo',secondary_y=True,legend=False)\n",
    "\n",
    "# .finalize(consolidate_legends=True,ncols=2, bbox_to_anchor=(0.8, -0.005)) \n",
    ".finalize()\n",
    ")\n",
    "\n",
    "# Todo: remove (right label if consolidate_legend is not used)\n",
    "\n",
    "\n",
    "k.fig"
   ]
  },
  {
   "cell_type": "code",
   "execution_count": null,
   "id": "b5e8280c-290c-4279-a288-6c761d962a92",
   "metadata": {},
   "outputs": [],
   "source": [
    "k.plot_kwargs_store['A']['kind']"
   ]
  },
  {
   "cell_type": "code",
   "execution_count": null,
   "id": "059b7ab1-a20f-4ded-8710-d18b2eb4454d",
   "metadata": {},
   "outputs": [],
   "source": []
  },
  {
   "cell_type": "code",
   "execution_count": null,
   "id": "8e27c97c-6127-4862-bf45-2342514472b3",
   "metadata": {},
   "outputs": [],
   "source": [
    "penguins = pt.sample_data['penguins']\n",
    "penguins\n",
    "# penguins.group_x(group=['island','species','sex'])"
   ]
  },
  {
   "cell_type": "code",
   "execution_count": null,
   "id": "739f6232-9ebb-48b2-9648-2e0455cd0da8",
   "metadata": {},
   "outputs": [],
   "source": []
  },
  {
   "cell_type": "code",
   "execution_count": null,
   "id": "0e3099fd-22f4-4389-92f6-822fb146263c",
   "metadata": {},
   "outputs": [],
   "source": []
  }
 ],
 "metadata": {
  "kernelspec": {
   "display_name": "py_env",
   "language": "python",
   "name": "py_env"
  },
  "language_info": {
   "codemirror_mode": {
    "name": "ipython",
    "version": 3
   },
   "file_extension": ".py",
   "mimetype": "text/x-python",
   "name": "python",
   "nbconvert_exporter": "python",
   "pygments_lexer": "ipython3",
   "version": "3.9.6"
  }
 },
 "nbformat": 4,
 "nbformat_minor": 5
}
