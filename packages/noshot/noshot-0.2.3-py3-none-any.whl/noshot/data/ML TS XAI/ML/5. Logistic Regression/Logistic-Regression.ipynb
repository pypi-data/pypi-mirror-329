{
 "cells": [
  {
   "cell_type": "code",
   "execution_count": null,
   "id": "0fcc8bb7-4d22-4d3b-b58a-302bb24f8f2e",
   "metadata": {},
   "outputs": [],
   "source": [
    "import itertools\n",
    "import numpy as np\n",
    "import pandas as pd\n",
    "import matplotlib.pyplot as plt\n",
    "from sklearn import linear_model,datasets\n",
    "from sklearn.model_selection import train_test_split\n",
    "from sklearn.metrics import confusion_matrix\n",
    "import warnings\n",
    "warnings.filterwarnings('ignore')"
   ]
  },
  {
   "cell_type": "code",
   "execution_count": null,
   "id": "d28e507b-fb15-4058-a161-656859a27c65",
   "metadata": {},
   "outputs": [],
   "source": [
    "wine = datasets.load_wine()\n",
    "type(wine)"
   ]
  },
  {
   "cell_type": "code",
   "execution_count": null,
   "id": "9ee44a66-dc4a-4c79-9dab-eec60669dd8b",
   "metadata": {},
   "outputs": [],
   "source": [
    "wine.data[:5,:]"
   ]
  },
  {
   "cell_type": "code",
   "execution_count": null,
   "id": "3eed721d-7956-40fb-9831-1a79f73cb906",
   "metadata": {},
   "outputs": [],
   "source": [
    "print(type(wine.feature_names))\n",
    "wine.feature_names"
   ]
  },
  {
   "cell_type": "code",
   "execution_count": null,
   "id": "bd9d60dd-8272-46b4-8335-69d9751ed0c7",
   "metadata": {},
   "outputs": [],
   "source": [
    "X_train,X_test,y_train,y_test = train_test_split(wine.data, wine.target, test_size=0.30, random_state=7)\n",
    "\n",
    "log_reg_model = linear_model.LogisticRegression()\n",
    "log_reg_model.fit(X_train,y_train)"
   ]
  },
  {
   "cell_type": "code",
   "execution_count": null,
   "id": "7c8fca42-c8d8-4334-9cc4-da4f5e1b0a1e",
   "metadata": {},
   "outputs": [],
   "source": [
    "log_reg_base_score = log_reg_model.score(X_test,y_test)\n",
    "print(\"The score for the Logistic Regression Model is : \", log_reg_base_score)"
   ]
  },
  {
   "cell_type": "code",
   "execution_count": null,
   "id": "61bbb23e-cb29-41ae-9ea3-82e8d465c7f2",
   "metadata": {},
   "outputs": [],
   "source": [
    "cm = confusion_matrix(y_test, log_reg_model.predict(X_test))\n",
    "print(cm)"
   ]
  },
  {
   "cell_type": "code",
   "execution_count": null,
   "id": "2fcd6449-feca-4b90-828f-420ba5bb8bcf",
   "metadata": {},
   "outputs": [],
   "source": [
    "X = wine.data[:,:2]\n",
    "Y = wine.target\n",
    "log_reg_model.fit(X,Y)\n",
    "x_min, x_max = X[:, 0].min() - .5, X[:, 0].max() + .5\n",
    "y_min, y_max = X[:, 1].min() - .5, X[:, 1].max() + .5\n",
    "xx, yy = np.meshgrid(np.arange(x_min, x_max, .01), np.arange(y_min, y_max, .01))\n",
    "Z = log_reg_model.predict(np.c_[xx.ravel(), yy.ravel()])\n",
    "Z = Z.reshape(xx.shape)\n",
    "plt.figure(1, figsize = (4, 3))\n",
    "plt.pcolormesh(xx, yy, Z, cmap = plt.cm.Paired)\n",
    "plt.scatter(X[:, 0], X[:, 1], c = Y, edgecolors = 'k', cmap = plt.cm.Paired)\n",
    "plt.xlabel('X')\n",
    "plt.ylabel('Y')\n",
    "plt.xlim(xx.min(), xx.max())\n",
    "plt.ylim(yy.min(), yy.max())\n",
    "plt.xticks(())\n",
    "plt.yticks(())\n",
    "plt.show()"
   ]
  }
 ],
 "metadata": {
  "kernelspec": {
   "display_name": "Python 3 (ipykernel)",
   "language": "python",
   "name": "python3"
  },
  "language_info": {
   "codemirror_mode": {
    "name": "ipython",
    "version": 3
   },
   "file_extension": ".py",
   "mimetype": "text/x-python",
   "name": "python",
   "nbconvert_exporter": "python",
   "pygments_lexer": "ipython3",
   "version": "3.12.4"
  }
 },
 "nbformat": 4,
 "nbformat_minor": 5
}
