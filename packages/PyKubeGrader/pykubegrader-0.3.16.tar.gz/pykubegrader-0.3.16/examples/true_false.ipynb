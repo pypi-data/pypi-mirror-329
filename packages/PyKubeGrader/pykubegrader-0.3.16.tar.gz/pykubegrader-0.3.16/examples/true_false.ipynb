{
 "cells": [
  {
   "cell_type": "code",
   "execution_count": null,
   "metadata": {},
   "outputs": [],
   "source": [
    "from pykubegrader.widgets.true_false import TFQuestion, TFStyle"
   ]
  },
  {
   "cell_type": "code",
   "execution_count": null,
   "metadata": {},
   "outputs": [],
   "source": [
    "class Question1(TFQuestion):\n",
    "    def __init__(\n",
    "        self,\n",
    "        title=\"Respond with True or False\",\n",
    "        style=TFStyle,\n",
    "        question_number=2,\n",
    "        keys=[\"MC1\", \"MC2\", \"MC3\", \"MC4\"],\n",
    "        descriptions=[\n",
    "            \"Which of the following stores key:value pairs?\",\n",
    "            \"The following condition returns to the next iteration of the loop\",\n",
    "            \"Which operator is used for exponentiation in Python?\",\n",
    "            \"Which method is used to add an element to the end of a list in Python?\",\n",
    "        ],\n",
    "        points=2,\n",
    "    ):\n",
    "        super().__init__(\n",
    "            title=title,\n",
    "            style=style,\n",
    "            question_number=question_number,\n",
    "            keys=keys,\n",
    "            options=[[\"True\", \"False\"] for _ in range(len(keys))],\n",
    "            descriptions=descriptions,\n",
    "            points=points,\n",
    "        )"
   ]
  },
  {
   "cell_type": "code",
   "execution_count": null,
   "metadata": {},
   "outputs": [],
   "source": [
    "Question1().show()"
   ]
  },
  {
   "cell_type": "code",
   "execution_count": null,
   "metadata": {},
   "outputs": [],
   "source": []
  },
  {
   "cell_type": "code",
   "execution_count": null,
   "metadata": {},
   "outputs": [],
   "source": []
  }
 ],
 "metadata": {
  "kernelspec": {
   "display_name": "engr131_dev",
   "language": "python",
   "name": "python3"
  },
  "language_info": {
   "codemirror_mode": {
    "name": "ipython",
    "version": 3
   },
   "file_extension": ".py",
   "mimetype": "text/x-python",
   "name": "python",
   "nbconvert_exporter": "python",
   "pygments_lexer": "ipython3",
   "version": "3.12.7"
  }
 },
 "nbformat": 4,
 "nbformat_minor": 2
}
