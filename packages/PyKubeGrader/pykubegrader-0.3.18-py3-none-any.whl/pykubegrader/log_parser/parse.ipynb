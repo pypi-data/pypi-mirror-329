{
 "cells": [
  {
   "cell_type": "code",
   "execution_count": null,
   "metadata": {},
   "outputs": [],
   "source": [
    "# ruff: noqa\n",
    "\n",
    "# Get the public/private keypair for decryption\n",
    "key_box = get_keybox()"
   ]
  },
  {
   "cell_type": "code",
   "execution_count": null,
   "metadata": {},
   "outputs": [],
   "source": [
    "from parse import LogParser\n",
    "\n",
    "# ----------------- Example usage -----------------\n",
    "\n",
    "if __name__ == \"__main__\":\n",
    "    log_lines = [\n",
    "        \"Student Info, 449, jovyan, 2024-12-27 20:55:12\",\n",
    "        \"total-points, 4.0, week1-readings, 17_operators_q, 2024-12-27 20:55:23\",\n",
    "        \"17_operators_q, question-operators-mario-dining-1, 0, 0.5, 2024-12-27 20:55:23\",\n",
    "        \"17_operators_q, question-operators-mario-dining-2, 0, 0.5, 2024-12-27 20:55:23\",\n",
    "        \"17_operators_q, question-operators-mario-dining-3, 0, 0.5, 2024-12-27 20:55:23\",\n",
    "        \"17_operators_q, question-operators-mario-dining-4, 0, 0.5, 2024-12-27 20:55:23\",\n",
    "        \"17_operators_q, question-operators-mario-dining-5, 0, 1.0, 2024-12-27 20:55:23\",\n",
    "        \"total-points, 4.0, week1-readings, 17_operators_q, 2024-12-27 20:55:42\",\n",
    "        \"17_operators_q, question-operators-mario-dining-1, 0.5, 0.5, 2024-12-27 20:55:42\",\n",
    "        \"17_operators_q, question-operators-mario-dining-2, 0.5, 0.5, 2024-12-27 20:55:42\",\n",
    "        \"17_operators_q, question-operators-mario-dining-3, 0.5, 0.5, 2024-12-27 20:55:42\",\n",
    "        \"17_operators_q, question-operators-mario-dining-4, 0.5, 0.5, 2024-12-27 20:55:42\",\n",
    "        \"17_operators_q, question-operators-mario-dining-5, 1.0, 1.0, 2024-12-27 20:55:42\",\n",
    "        \"total-points, 2.0, week1-readings, 17_operators_q, 2024-12-27 20:55:47\",\n",
    "        \"17_operators_q, question-operators-mario-dining-1, 0.5, 0.5, 2024-12-27 20:55:47\",\n",
    "        \"17_operators_q, question-operators-mario-dining-2, 0, 0.5, 2024-12-27 20:55:47\",\n",
    "        \"17_operators_q, question-operators-mario-dining-3, 0.5, 0.5, 2024-12-27 20:55:47\",\n",
    "        \"17_operators_q, question-operators-mario-dining-4, 0, 0.5, 2024-12-27 20:55:47\",\n",
    "        \"17_operators_q, question-operators-mario-dining-5, 0, 1.0, 2024-12-27 20:55:47\",\n",
    "        \"19_operators_q, question-operators-mario-dining-3, 0.5, 0.5, 2024-12-27 20:55:47\",\n",
    "    ]\n",
    "\n",
    "    parser = LogParser(log_lines=log_lines, week_tag=\"week1-readings\")\n",
    "    parser.parse_logs()\n",
    "    parser.calculate_total_scores()\n",
    "    results = parser.get_results()\n",
    "\n",
    "    print(\"Student Information:\")\n",
    "    print(results[\"student_information\"])\n",
    "\n",
    "    print(\"\\nAssignment Information:\")\n",
    "    for assignment, info in results[\"assignment_information\"].items():\n",
    "        print(f\"\\nAssignment Tag: {assignment}\")\n",
    "        print(f\"Latest Timestamp: {info['latest_timestamp']}\")\n",
    "        print(f\"Total Score: {info['total_score']}\")\n",
    "        print(f\"Max Points: {info['max_points']}\")\n",
    "\n",
    "    print(\"\\nAssignment Scores:\")\n",
    "    for assignment, score_info in results[\"assignment_scores\"].items():\n",
    "        print(f\"\\nAssignment Tag: {assignment}\")\n",
    "        print(f\"Total Score Earned: {score_info['total_score']}\")\n",
    "        print(\"Questions:\")\n",
    "        for q_tag, q_data in score_info[\"questions\"].items():\n",
    "            print(f\"  {q_tag}:\")\n",
    "            print(f\"    score_earned: {q_data['score_earned']}\")\n",
    "            print(f\"    score_possible: {q_data['score_possible']}\")\n",
    "            print(f\"    timestamp: {q_data['timestamp']}\")"
   ]
  },
  {
   "cell_type": "code",
   "execution_count": null,
   "metadata": {},
   "outputs": [],
   "source": [
    "log_lines = [\n",
    "    # Student Info\n",
    "    \"Student Info, 449, jovyan, 2024-12-27 20:55:12\",\n",
    "    # Week 1 Assignment: 17_operators_q\n",
    "    \"total-points, 3.0, week1-readings, 17_operators_q, 2024-12-27 20:55:23\",\n",
    "    \"17_operators_q, question-operators-mario-dining-1, 0, 0.5, 2024-12-27 20:55:23\",\n",
    "    \"17_operators_q, question-operators-mario-dining-2, 0.5, 0.5, 2024-12-27 20:55:23\",\n",
    "    \"17_operators_q, question-operators-mario-dining-3, 0.5, 0.5, 2024-12-27 20:55:23\",\n",
    "    \"17_operators_q, question-operators-mario-dining-4, 0.5, 0.5, 2024-12-27 20:55:23\",\n",
    "    \"17_operators_q, question-operators-mario-dining-5, 1.0, 1.0, 2024-12-27 20:55:23\",\n",
    "    # Week 1 Assignment: 18_advanced_q\n",
    "    \"total-points, 4.0, week1-readings, 18_advanced_q, 2024-12-27 20:56:00\",\n",
    "    \"18_advanced_q, question-advanced-problem-1, 1.0, 1.0, 2024-12-27 20:56:00\",\n",
    "    \"18_advanced_q, question-advanced-problem-2, 1.0, 1.0, 2024-12-27 20:56:00\",\n",
    "    \"18_advanced_q, question-advanced-problem-3, 0.5, 1.0, 2024-12-27 20:56:00\",\n",
    "    \"18_advanced_q, question-advanced-problem-4, 0.5, 1.0, 2024-12-27 20:56:00\",\n",
    "    # Week 2 Assignment: 19_concepts_q\n",
    "    \"total-points, 5.0, week2-concepts, 19_concepts_q, 2024-12-28 20:57:00\",\n",
    "    \"19_concepts_q, question-concepts-basic-1, 0.5, 1.0, 2024-12-28 20:57:00\",\n",
    "    \"19_concepts_q, question-concepts-basic-2, 0.5, 1.0, 2024-12-28 20:57:00\",\n",
    "    \"19_concepts_q, question-concepts-basic-3, 0.5, 1.0, 2024-12-28 20:57:00\",\n",
    "    \"19_concepts_q, question-concepts-basic-4, 0.5, 1.0, 2024-12-28 20:57:00\",\n",
    "    \"19_concepts_q, question-concepts-basic-5, 1.0, 1.0, 2024-12-28 20:57:00\",\n",
    "]\n",
    "\n",
    "\n",
    "parser = LogParser(log_lines=log_lines, week_tag=\"week1-readings\")\n",
    "parser.parse_logs()\n",
    "parser.calculate_total_scores()\n",
    "results = parser.get_results()\n",
    "\n",
    "results"
   ]
  },
  {
   "cell_type": "code",
   "execution_count": null,
   "metadata": {},
   "outputs": [],
   "source": [
    "log_lines = [\n",
    "    # Student Info\n",
    "    \"Student Info, 550, jovyan2, 2024-12-27 20:55:12\",\n",
    "    # Week 1 Assignment: 17_operators_q (Initial Attempt)\n",
    "    \"total-points, 3.0, week1-readings,17_operators_q, 2024-12-27 20:55:23\",\n",
    "    \"17_operators_q, question-operators-mario-dining-1, 0, 0.5, 2024-12-27 20:55:23\",\n",
    "    \"17_operators_q, question-operators-mario-dining-2, 0, 0.5, 2024-12-27 20:55:23\",\n",
    "    \"17_operators_q, question-operators-mario-dining-3, 0.5, 0.5, 2024-12-27 20:55:23\",\n",
    "    \"17_operators_q, question-operators-mario-dining-4, 0, 0.5, 2024-12-27 20:55:23\",\n",
    "    \"17_operators_q, question-operators-mario-dining-5, 0, 1.0, 2024-12-27 20:55:23\",\n",
    "    # Week 1 Assignment: 17_operators_q (Re-attempt)\n",
    "    \"total-points, 3.0, week1-readings,17_operators_q, 2024-12-27 21:00:00\",\n",
    "    \"17_operators_q, question-operators-mario-dining-1, 0.5, 0.5, 2024-12-27 21:00:00\",\n",
    "    \"17_operators_q, question-operators-mario-dining-2, 0.5, 0.5, 2024-12-27 21:00:00\",\n",
    "    \"17_operators_q, question-operators-mario-dining-4, 0.5, 0.5, 2024-12-27 21:00:00\",\n",
    "    # Week 1 Assignment: 18_challenging_q\n",
    "    \"total-points, 5.0, week1-readings,18_challenging_q, 2024-12-27 21:05:00\",\n",
    "    \"18_challenging_q, question-challenging-problem-1, 1.0, 1.0, 2024-12-27 21:05:00\",\n",
    "    \"18_challenging_q, question-challenging-problem-2, 0.5, 1.0, 2024-12-27 21:05:00\",\n",
    "    \"18_challenging_q, question-challenging-problem-3, 1.0, 1.0, 2024-12-27 21:05:00\",\n",
    "    \"18_challenging_q, question-challenging-problem-4, 1.0, 1.0, 2024-12-27 21:05:00\",\n",
    "    \"18_challenging_q, question-challenging-problem-5, 0, 1.0, 2024-12-27 21:05:00\",\n",
    "]\n",
    "\n",
    "parser = LogParser(log_lines=log_lines, week_tag=\"week1-readings\")\n",
    "parser.parse_logs()\n",
    "parser.calculate_total_scores()\n",
    "results = parser.get_results()\n",
    "\n",
    "results"
   ]
  },
  {
   "cell_type": "code",
   "execution_count": null,
   "metadata": {},
   "outputs": [],
   "source": [
    "log_lines = [\n",
    "    # Student Info\n",
    "    \"Student Info, 660, jovyan3, 2024-12-27 20:55:12\",\n",
    "    # Week 1 Assignment: skipped some questions\n",
    "    \"total-points, 4.0, week1-readings,17_operators_q, 2024-12-27 20:55:23\",\n",
    "    \"17_operators_q, question-operators-mario-dining-1, 0.5, 0.5, 2024-12-27 20:55:23\",\n",
    "    \"17_operators_q, question-operators-mario-dining-3, 0.5, 0.5, 2024-12-27 20:55:23\",\n",
    "    \"17_operators_q, question-operators-mario-dining-5, 1.0, 1.0, 2024-12-27 20:55:23\",\n",
    "    \"total-points, 4.0, week1-readings,18_operators_q, 2024-12-27 20:55:23\",\n",
    "    # Week 2 Assignment: all questions attempted\n",
    "    \"total-points, 5.0, week2-math,20_math_q, 2024-12-28 20:55:23\",\n",
    "    \"20_math_q, question-math-basic-1, 1.0, 1.0, 2024-12-28 20:55:23\",\n",
    "    \"20_math_q, question-math-basic-2, 0.5, 1.0, 2024-12-28 20:55:23\",\n",
    "    \"20_math_q, question-math-basic-3, 0.5, 1.0, 2024-12-28 20:55:23\",\n",
    "    \"20_math_q, question-math-basic-4, 1.0, 1.0, 2024-12-28 20:55:23\",\n",
    "    \"20_math_q, question-math-basic-5, 0.5, 1.0, 2024-12-28 20:55:23\",\n",
    "    # Week 3 Assignment: some skipped, partial scores\n",
    "    \"total-points, 4.0, week3-concepts,21_concepts_q, 2024-12-29 20:55:23\",\n",
    "    \"21_concepts_q, question-concepts-basic-1, 0.5, 1.0, 2024-12-29 20:55:23\",\n",
    "    \"21_concepts_q, question-concepts-basic-2, 0.5, 1.0, 2024-12-29 20:55:23\",\n",
    "]\n",
    "\n",
    "parser = LogParser(log_lines=log_lines, week_tag=\"week1-readings\")\n",
    "parser.parse_logs()\n",
    "parser.calculate_total_scores()\n",
    "results = parser.get_results()\n",
    "\n",
    "results"
   ]
  },
  {
   "cell_type": "code",
   "execution_count": null,
   "metadata": {},
   "outputs": [],
   "source": [
    "type(results[\"student_information\"][\"timestamp\"])"
   ]
  },
  {
   "cell_type": "code",
   "execution_count": null,
   "metadata": {},
   "outputs": [],
   "source": [
    "student_email = results[\"student_information\"][\"username\"]\n",
    "time_stamp = results[\"student_information\"][\"timestamp\"]\n",
    "\n",
    "week_num = results[\"week_num\"]\n",
    "assignment_type = results[\"assignment_type\"]\n",
    "\n",
    "assignments_graded = results[\"assignment_information\"].keys()\n",
    "total_score = 0\n",
    "for assignment in assignments_graded:\n",
    "    total_score += results[\"assignment_information\"][assignment][\"total_score\"]"
   ]
  },
  {
   "cell_type": "code",
   "execution_count": null,
   "metadata": {},
   "outputs": [],
   "source": [
    "total_score"
   ]
  },
  {
   "cell_type": "code",
   "execution_count": null,
   "metadata": {},
   "outputs": [],
   "source": [
    "def extract_score_from_dict(results):\n",
    "    student_email = results[\"student_information\"][\"username\"]"
   ]
  },
  {
   "cell_type": "code",
   "execution_count": null,
   "metadata": {},
   "outputs": [],
   "source": [
    "student_email"
   ]
  }
 ],
 "metadata": {
  "kernelspec": {
   "display_name": "engr131_dev",
   "language": "python",
   "name": "python3"
  },
  "language_info": {
   "codemirror_mode": {
    "name": "ipython",
    "version": 3
   },
   "file_extension": ".py",
   "mimetype": "text/x-python",
   "name": "python",
   "nbconvert_exporter": "python",
   "pygments_lexer": "ipython3",
   "version": "3.12.7"
  }
 },
 "nbformat": 4,
 "nbformat_minor": 2
}
