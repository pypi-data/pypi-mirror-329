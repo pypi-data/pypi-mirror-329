{
 "cells": [
  {
   "cell_type": "markdown",
   "metadata": {
    "id": "6Tq7F_Kyi4V6"
   },
   "source": [
    "# Finetune a YOLO model using a dataset from OpenStreetMap data and Mapbox tiles"
   ]
  },
  {
   "cell_type": "markdown",
   "metadata": {
    "id": "tc54-OyDjbT5"
   },
   "source": [
    "## Dependencies"
   ]
  },
  {
   "cell_type": "code",
   "execution_count": null,
   "metadata": {
    "id": "glngzI8Wtnuz"
   },
   "outputs": [],
   "source": [
    "%pip install --quiet ultralytics"
   ]
  },
  {
   "cell_type": "markdown",
   "metadata": {
    "id": "kNhyzcUXjdws"
   },
   "source": [
    "## Download dataset from HuggingFace Hub Datasets"
   ]
  },
  {
   "cell_type": "markdown",
   "metadata": {
    "id": "9e_3WF8_jgRm"
   },
   "source": [
    "You need to set the `HF_TOKEN` Colab secret:\n",
    "\n",
    "- Create an account: https://huggingface.co/join\n",
    "- Follow this guide about [`User Access Tokens`](https://huggingface.co/docs/hub/security-tokens)"
   ]
  },
  {
   "cell_type": "code",
   "execution_count": null,
   "metadata": {
    "id": "-fjTcS7kI0_q"
   },
   "outputs": [],
   "source": [
    "from huggingface_hub import hf_hub_download"
   ]
  },
  {
   "cell_type": "code",
   "execution_count": null,
   "metadata": {
    "id": "gceaLmZfJBFv"
   },
   "outputs": [],
   "source": [
    "REPO = \"mozilla-ai/osm-swimming-pools\""
   ]
  },
  {
   "cell_type": "code",
   "execution_count": null,
   "metadata": {
    "id": "13lQZ82rJZMR"
   },
   "outputs": [],
   "source": [
    "hf_hub_download(REPO, filename=\"train.zip\", repo_type=\"dataset\", local_dir=\"datasets\")"
   ]
  },
  {
   "cell_type": "code",
   "execution_count": null,
   "metadata": {
    "id": "BXW4nOm2Jivw"
   },
   "outputs": [],
   "source": [
    "hf_hub_download(REPO, filename=\"val.zip\", repo_type=\"dataset\", local_dir=\"datasets\")"
   ]
  },
  {
   "cell_type": "code",
   "execution_count": null,
   "metadata": {
    "id": "kT7EN4eJJklo"
   },
   "outputs": [],
   "source": [
    "hf_hub_download(\n",
    "    REPO, filename=\"yolo_dataset.yaml\", repo_type=\"dataset\", local_dir=\"datasets\"\n",
    ")"
   ]
  },
  {
   "cell_type": "code",
   "execution_count": null,
   "metadata": {
    "id": "kAJM3P_LJvy4"
   },
   "outputs": [],
   "source": [
    "!unzip -q datasets/train.zip"
   ]
  },
  {
   "cell_type": "code",
   "execution_count": null,
   "metadata": {
    "id": "9mXwvnm0J01F"
   },
   "outputs": [],
   "source": [
    "!unzip -q datasets/val.zip"
   ]
  },
  {
   "cell_type": "markdown",
   "metadata": {
    "id": "n02AfCxh9-pG"
   },
   "source": [
    "# Finetune model"
   ]
  },
  {
   "cell_type": "code",
   "execution_count": null,
   "metadata": {
    "id": "yJE8xR6lBlEu"
   },
   "outputs": [],
   "source": [
    "from ultralytics import YOLO"
   ]
  },
  {
   "cell_type": "markdown",
   "metadata": {
    "id": "TqEFsZwiqmPV"
   },
   "source": [
    "Check the [available models](https://docs.ultralytics.com/tasks/detect/#models)."
   ]
  },
  {
   "cell_type": "code",
   "execution_count": null,
   "metadata": {
    "id": "lV8Yl6SnjmsV"
   },
   "outputs": [],
   "source": [
    "MODEL = \"yolo11m.pt\""
   ]
  },
  {
   "cell_type": "code",
   "execution_count": null,
   "metadata": {
    "id": "E30UlYaiBFm4"
   },
   "outputs": [],
   "source": [
    "yolo = YOLO(MODEL)"
   ]
  },
  {
   "cell_type": "code",
   "execution_count": null,
   "metadata": {
    "id": "KfDnK_OXBO0-"
   },
   "outputs": [],
   "source": [
    "yolo.train(\n",
    "    data=\"datasets/yolo_dataset.yaml\",\n",
    "    patience=3,\n",
    "    imgsz=512,\n",
    "    scale=0.0,\n",
    "    flipud=0.5,\n",
    "    translate=0.0,\n",
    ")"
   ]
  },
  {
   "cell_type": "markdown",
   "metadata": {
    "id": "2XYhDCT3OCcX"
   },
   "source": [
    "# Check results"
   ]
  },
  {
   "cell_type": "code",
   "execution_count": null,
   "metadata": {
    "id": "4I1h9wQWN_Il"
   },
   "outputs": [],
   "source": [
    "from PIL import Image"
   ]
  },
  {
   "cell_type": "code",
   "execution_count": null,
   "metadata": {
    "id": "wMxL3klQOVmF"
   },
   "outputs": [],
   "source": [
    "Image.open(\"/content/runs/detect/train/val_batch0_labels.jpg\")"
   ]
  },
  {
   "cell_type": "code",
   "execution_count": null,
   "metadata": {
    "id": "DJfUqc7pOa-E"
   },
   "outputs": [],
   "source": [
    "Image.open(\"/content/runs/detect/train/val_batch0_pred.jpg\")"
   ]
  },
  {
   "cell_type": "markdown",
   "metadata": {
    "id": "afvV5sq3OLwb"
   },
   "source": [
    "# Upload model"
   ]
  },
  {
   "cell_type": "code",
   "execution_count": null,
   "metadata": {
    "id": "knFHp68iKUg1"
   },
   "outputs": [],
   "source": [
    "USER = \"daavoo\"\n",
    "REPO = \"yolo-osm-pool-detector\""
   ]
  },
  {
   "cell_type": "code",
   "execution_count": null,
   "metadata": {
    "id": "yL_ZYPntBXsP"
   },
   "outputs": [],
   "source": [
    "from google.colab import userdata\n",
    "from huggingface_hub import HfApi"
   ]
  },
  {
   "cell_type": "code",
   "execution_count": null,
   "metadata": {
    "id": "9X18nvwDIwui"
   },
   "outputs": [],
   "source": [
    "api = HfApi()"
   ]
  },
  {
   "cell_type": "code",
   "execution_count": null,
   "metadata": {
    "id": "huRjKfNdJY-X"
   },
   "outputs": [],
   "source": [
    "api.create_repo(f\"{USER}/{REPO}\", token=userdata.get(\"HF_TOKEN\"), repo_type=\"model\")"
   ]
  },
  {
   "cell_type": "code",
   "execution_count": null,
   "metadata": {
    "id": "KPy6nKNUIytm"
   },
   "outputs": [],
   "source": [
    "api.upload_file(\n",
    "    token=userdata.get(\"HF_TOKEN\"),\n",
    "    path_or_fileobj=\"/content/runs/detect/train/weights/best.pt\",\n",
    "    path_in_repo=\"model.pt\",\n",
    "    repo_id=f\"{USER}/{REPO}\",\n",
    "    repo_type=\"model\",\n",
    ")"
   ]
  }
 ],
 "metadata": {
  "accelerator": "GPU",
  "colab": {
   "gpuType": "T4",
   "provenance": []
  },
  "kernelspec": {
   "display_name": "Python 3",
   "name": "python3"
  },
  "language_info": {
   "codemirror_mode": {
    "name": "ipython",
    "version": 3
   },
   "file_extension": ".py",
   "mimetype": "text/x-python",
   "name": "python",
   "nbconvert_exporter": "python",
   "pygments_lexer": "ipython3",
   "version": "3.10.12"
  }
 },
 "nbformat": 4,
 "nbformat_minor": 0
}
