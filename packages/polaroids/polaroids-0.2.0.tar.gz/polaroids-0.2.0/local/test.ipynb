{
 "cells": [
  {
   "cell_type": "code",
   "execution_count": 1,
   "metadata": {},
   "outputs": [],
   "source": [
    "%load_ext autoreload\n",
    "%autoreload 2"
   ]
  },
  {
   "cell_type": "code",
   "execution_count": 4,
   "metadata": {},
   "outputs": [
    {
     "data": {
      "text/html": [
       "<div><style>\n",
       ".dataframe > thead > tr,\n",
       ".dataframe > tbody > tr {\n",
       "  text-align: right;\n",
       "  white-space: pre-wrap;\n",
       "}\n",
       "</style>\n",
       "<small>shape: (2, 2)</small><table border=\"1\" class=\"dataframe\"><thead><tr><th>a</th><th>b</th></tr><tr><td>i64</td><td>i64</td></tr></thead><tbody><tr><td>0</td><td>null</td></tr><tr><td>1</td><td>0</td></tr></tbody></table></div>"
      ],
      "text/plain": [
       "shape: (2, 2)\n",
       "┌─────┬──────┐\n",
       "│ a   ┆ b    │\n",
       "│ --- ┆ ---  │\n",
       "│ i64 ┆ i64  │\n",
       "╞═════╪══════╡\n",
       "│ 0   ┆ null │\n",
       "│ 1   ┆ 0    │\n",
       "└─────┴──────┘"
      ]
     },
     "execution_count": 4,
     "metadata": {},
     "output_type": "execute_result"
    }
   ],
   "source": [
    "from typing import Annotated, Iterable, TypedDict\n",
    "from polaroids import DataFrame, Field\n",
    "from polaroids.dataframe import _Metadata\n",
    "import polars as pl\n",
    "from polaroids import _utils\n",
    "\n",
    "from typing import Annotated, TypedDict\n",
    "from polaroids import DataFrame, Field\n",
    "import polars as pl\n",
    "\n",
    "class Schema(TypedDict):\n",
    "    a: Annotated[int, Field(\n",
    "        sorted=\"ascending\",\n",
    "        coerce=True,\n",
    "        unique=True,\n",
    "        checks=[lambda d: d.ge(0)],\n",
    "    )]\n",
    "    b: int | None\n",
    "\n",
    "df = (\n",
    "    pl.DataFrame({\"a\": [0.0, 1.0], \"b\": [None, 0]})   \n",
    "    .pipe(DataFrame[Schema]) # <- Add a Schema to your dataframe\n",
    "    .validate() # Validate it from the Schema annotations!\n",
    ")\n",
    "df"
   ]
  },
  {
   "cell_type": "code",
   "execution_count": null,
   "metadata": {},
   "outputs": [
    {
     "ename": "KeyError",
     "evalue": "'not_exist'",
     "output_type": "error",
     "traceback": [
      "\u001b[0;31m---------------------------------------------------------------------------\u001b[0m",
      "\u001b[0;31mKeyError\u001b[0m                                  Traceback (most recent call last)",
      "Cell \u001b[0;32mIn[5], line 2\u001b[0m\n\u001b[1;32m      1\u001b[0m row \u001b[38;5;241m=\u001b[39m df\u001b[38;5;241m.\u001b[39mrow(\u001b[38;5;241m0\u001b[39m, named\u001b[38;5;241m=\u001b[39m\u001b[38;5;28;01mTrue\u001b[39;00m)\n\u001b[0;32m----> 2\u001b[0m \u001b[43mrow\u001b[49m\u001b[43m[\u001b[49m\u001b[38;5;124;43m\"\u001b[39;49m\u001b[38;5;124;43mnot_exist\u001b[39;49m\u001b[38;5;124;43m\"\u001b[39;49m\u001b[43m]\u001b[49m\n",
      "\u001b[0;31mKeyError\u001b[0m: 'not_exist'"
     ]
    }
   ],
   "source": [
    "row = df.row(0, named=True)\n",
    "row[\"a\"]\n",
    "row[\"not_exists\"]\n",
    "\n",
    "\n"
   ]
  },
  {
   "cell_type": "code",
   "execution_count": null,
   "metadata": {},
   "outputs": [
    {
     "ename": "AssertionError",
     "evalue": "a should be greater the b",
     "output_type": "error",
     "traceback": [
      "\u001b[0;31m---------------------------------------------------------------------------\u001b[0m",
      "\u001b[0;31mAssertionError\u001b[0m                            Traceback (most recent call last)",
      "Cell \u001b[0;32mIn[37], line 38\u001b[0m\n\u001b[1;32m     36\u001b[0m \u001b[38;5;66;03m# This will raise an AssertionError\u001b[39;00m\n\u001b[1;32m     37\u001b[0m df_invalid \u001b[38;5;241m=\u001b[39m pl\u001b[38;5;241m.\u001b[39mDataFrame({\u001b[38;5;124m\"\u001b[39m\u001b[38;5;124ma\u001b[39m\u001b[38;5;124m\"\u001b[39m: [\u001b[38;5;241m5\u001b[39m, \u001b[38;5;241m6\u001b[39m], \u001b[38;5;124m\"\u001b[39m\u001b[38;5;124mb\u001b[39m\u001b[38;5;124m\"\u001b[39m: [\u001b[38;5;28;01mNone\u001b[39;00m, \u001b[38;5;241m10\u001b[39m]})\n\u001b[0;32m---> 38\u001b[0m \u001b[43mBasicSchemaDataFrame\u001b[49m\u001b[43m(\u001b[49m\u001b[43mdf_invalid\u001b[49m\u001b[43m)\u001b[49m\u001b[38;5;241;43m.\u001b[39;49m\u001b[43mvalidate\u001b[49m\u001b[43m(\u001b[49m\u001b[43m)\u001b[49m\n",
      "File \u001b[0;32m~/dev/polaric/src/polaroids/dataframe.py:87\u001b[0m, in \u001b[0;36mDataFrame.validate\u001b[0;34m(self)\u001b[0m\n\u001b[1;32m     85\u001b[0m \u001b[38;5;28;01mfor\u001b[39;00m name, f \u001b[38;5;129;01min\u001b[39;00m \u001b[38;5;28mself\u001b[39m\u001b[38;5;241m.\u001b[39m\u001b[38;5;18m__class__\u001b[39m\u001b[38;5;241m.\u001b[39m\u001b[38;5;18m__dict__\u001b[39m\u001b[38;5;241m.\u001b[39mitems():\n\u001b[1;32m     86\u001b[0m     \u001b[38;5;28;01mif\u001b[39;00m name\u001b[38;5;241m.\u001b[39mstartswith(\u001b[38;5;124m\"\u001b[39m\u001b[38;5;124mcheck_\u001b[39m\u001b[38;5;124m\"\u001b[39m) \u001b[38;5;129;01mand\u001b[39;00m \u001b[38;5;28misinstance\u001b[39m(f, Callable):\n\u001b[0;32m---> 87\u001b[0m         \u001b[43mf\u001b[49m\u001b[43m(\u001b[49m\u001b[38;5;28;43mself\u001b[39;49m\u001b[43m)\u001b[49m\n\u001b[1;32m     88\u001b[0m \u001b[38;5;28;01mreturn\u001b[39;00m \u001b[38;5;28mself\u001b[39m\n",
      "Cell \u001b[0;32mIn[37], line 31\u001b[0m, in \u001b[0;36mBasicSchemaDataFrame.check_a_greater_then_b\u001b[0;34m(self)\u001b[0m\n\u001b[1;32m     30\u001b[0m \u001b[38;5;28;01mdef\u001b[39;00m\u001b[38;5;250m \u001b[39m\u001b[38;5;21mcheck_a_greater_then_b\u001b[39m(\u001b[38;5;28mself\u001b[39m) \u001b[38;5;241m-\u001b[39m\u001b[38;5;241m>\u001b[39m \u001b[38;5;28;01mNone\u001b[39;00m:\n\u001b[0;32m---> 31\u001b[0m     \u001b[38;5;28;01massert\u001b[39;00m \u001b[38;5;28mself\u001b[39m\u001b[38;5;241m.\u001b[39mselect((pl\u001b[38;5;241m.\u001b[39mcol(\u001b[38;5;124m\"\u001b[39m\u001b[38;5;124ma\u001b[39m\u001b[38;5;124m\"\u001b[39m) \u001b[38;5;241m>\u001b[39m\u001b[38;5;241m=\u001b[39m pl\u001b[38;5;241m.\u001b[39mcol(\u001b[38;5;124m\"\u001b[39m\u001b[38;5;124mb\u001b[39m\u001b[38;5;124m\"\u001b[39m))\u001b[38;5;241m.\u001b[39mall())\u001b[38;5;241m.\u001b[39mitem(), \u001b[38;5;124m\"\u001b[39m\u001b[38;5;124ma should be greater the b\u001b[39m\u001b[38;5;124m\"\u001b[39m\n",
      "\u001b[0;31mAssertionError\u001b[0m: a should be greater the b"
     ]
    }
   ],
   "source": [
    "\n",
    "\n",
    "from typing import Annotated, Self, TypedDict\n",
    "from polaroids import DataFrame, Field\n",
    "import polars as pl\n",
    "\n",
    "class BasicSchema(TypedDict):\n",
    "    a: Annotated[pl.Int64, Field(\n",
    "        sorted=\"ascending\",\n",
    "        coerce=True,\n",
    "        unique=True,\n",
    "        checks=[lambda d: d.ge(0)],\n",
    "    )]\n",
    "    b: int | None\n",
    "\n",
    "df = pl.DataFrame({\"a\": [0.0, 1.0], \"b\": [None, 0]})\n",
    "\n",
    "df_validated = df.pipe(DataFrame[BasicSchema]).validate()\n",
    "df_validated\n",
    "# shape: (2, 2)\n",
    "# ┌─────┬──────┐\n",
    "# │ a   ┆ b    │\n",
    "# │ --- ┆ ---  │\n",
    "# │ i64 ┆ i64  │\n",
    "# ╞═════╪══════╡\n",
    "# │ 0   ┆ null │\n",
    "# │ 1   ┆ 10   │\n",
    "# └─────┴──────┘\n",
    "\n",
    "\n",
    "class BasicSchemaDataFrame(DataFrame[BasicSchema]):\n",
    "    def check_a_greater_then_b(self) -> None:\n",
    "        assert self.select((pl.col(\"a\") >= pl.col(\"b\")).all()).item(), \"a should be greater the b\"\n",
    "\n",
    "# Example usage\n",
    "BasicSchemaDataFrame(df).validate() # Passes validation\n",
    "\n",
    "# This will raise an AssertionError\n",
    "(\n",
    "    pl.DataFrame({\"a\": [5, 6], \"b\": [None, 10]})\n",
    "    .pipe(BasicSchemaDataFrame)\n",
    "    .validate() # This will raise 💣 !\n",
    ")\n"
   ]
  },
  {
   "cell_type": "code",
   "execution_count": 31,
   "metadata": {},
   "outputs": [
    {
     "name": "stdout",
     "output_type": "stream",
     "text": [
      "shape: (2, 2)\n",
      "┌─────┬──────┐\n",
      "│ a   ┆ b    │\n",
      "│ --- ┆ ---  │\n",
      "│ i64 ┆ str  │\n",
      "╞═════╪══════╡\n",
      "│ 0   ┆ null │\n",
      "│ 1   ┆ cat  │\n",
      "└─────┴──────┘\n"
     ]
    }
   ],
   "source": [
    "print(df_validated)"
   ]
  },
  {
   "cell_type": "code",
   "execution_count": 20,
   "metadata": {},
   "outputs": [
    {
     "name": "stdout",
     "output_type": "stream",
     "text": [
      "shape: (2, 2)\n",
      "┌─────┬──────┐\n",
      "│ a   ┆ b    │\n",
      "│ --- ┆ ---  │\n",
      "│ i64 ┆ str  │\n",
      "╞═════╪══════╡\n",
      "│ 2   ┆ a    │\n",
      "│ 5   ┆ null │\n",
      "└─────┴──────┘\n"
     ]
    }
   ],
   "source": [
    "from typing import TypedDict\n",
    "from polaroids import DataFrame, Field\n",
    "import polars as pl\n",
    "\n",
    "class BasicSchema(TypedDict):\n",
    "    a: Annotated[pl.Int64, Field(\n",
    "        sorted=\"ascending\",\n",
    "        coerce=True,\n",
    "        unique=True,\n",
    "        checks=[lambda d: d.ge(0)],\n",
    "    )]\n",
    "    b: str | None\n",
    "\n",
    "print(\n",
    "    pl.DataFrame({\"a\": [2.0, 5.0], \"b\": [\"a\", None]})\n",
    "    .pipe(DataFrame[BasicSchema])\n",
    "    .validate()\n",
    ")"
   ]
  },
  {
   "cell_type": "code",
   "execution_count": 15,
   "metadata": {},
   "outputs": [
    {
     "ename": "ValidationError",
     "evalue": "The following columns contains nulls: ['a', 'b'].",
     "output_type": "error",
     "traceback": [
      "\u001b[0;31m---------------------------------------------------------------------------\u001b[0m",
      "\u001b[0;31mValidationError\u001b[0m                           Traceback (most recent call last)",
      "Cell \u001b[0;32mIn[15], line 15\u001b[0m\n\u001b[1;32m      1\u001b[0m \u001b[38;5;28;01mfrom\u001b[39;00m\u001b[38;5;250m \u001b[39m\u001b[38;5;21;01mcollections\u001b[39;00m\u001b[38;5;21;01m.\u001b[39;00m\u001b[38;5;21;01mabc\u001b[39;00m\u001b[38;5;250m \u001b[39m\u001b[38;5;28;01mimport\u001b[39;00m Callable\n\u001b[1;32m      3\u001b[0m \u001b[38;5;28;01mfrom\u001b[39;00m\u001b[38;5;250m \u001b[39m\u001b[38;5;21;01mpolars\u001b[39;00m\u001b[38;5;250m \u001b[39m\u001b[38;5;28;01mimport\u001b[39;00m String\n\u001b[1;32m      7\u001b[0m df \u001b[38;5;241m=\u001b[39m (\n\u001b[1;32m      8\u001b[0m     \u001b[43mpl\u001b[49m\u001b[38;5;241;43m.\u001b[39;49m\u001b[43mDataFrame\u001b[49m\u001b[43m(\u001b[49m\u001b[43m{\u001b[49m\u001b[38;5;124;43m\"\u001b[39;49m\u001b[38;5;124;43ma\u001b[39;49m\u001b[38;5;124;43m\"\u001b[39;49m\u001b[43m:\u001b[49m\u001b[43m \u001b[49m\u001b[43m[\u001b[49m\u001b[38;5;241;43m0\u001b[39;49m\u001b[43m,\u001b[49m\u001b[38;5;28;43;01mNone\u001b[39;49;00m\u001b[43m,\u001b[49m\u001b[38;5;241;43m2\u001b[39;49m\u001b[43m,\u001b[49m\u001b[38;5;241;43m3\u001b[39;49m\u001b[43m]\u001b[49m\u001b[43m,\u001b[49m\u001b[43m \u001b[49m\u001b[38;5;124;43m\"\u001b[39;49m\u001b[38;5;124;43mb\u001b[39;49m\u001b[38;5;124;43m\"\u001b[39;49m\u001b[43m:\u001b[49m\u001b[43m \u001b[49m\u001b[43m[\u001b[49m\u001b[38;5;28;43;01mNone\u001b[39;49;00m\u001b[43m,\u001b[49m\u001b[38;5;241;43m0\u001b[39;49m\u001b[43m,\u001b[49m\u001b[38;5;241;43m0\u001b[39;49m\u001b[43m,\u001b[49m\u001b[38;5;241;43m0\u001b[39;49m\u001b[43m]\u001b[49m\u001b[43m,\u001b[49m\u001b[43m \u001b[49m\u001b[38;5;124;43m\"\u001b[39;49m\u001b[38;5;124;43mc\u001b[39;49m\u001b[38;5;124;43m\"\u001b[39;49m\u001b[43m:\u001b[49m\u001b[43m \u001b[49m\u001b[43m[\u001b[49m\u001b[38;5;241;43m-\u001b[39;49m\u001b[38;5;241;43m1.0\u001b[39;49m\u001b[43m,\u001b[49m\u001b[43m \u001b[49m\u001b[38;5;241;43m2\u001b[39;49m\u001b[43m,\u001b[49m\u001b[43m \u001b[49m\u001b[38;5;241;43m4\u001b[39;49m\u001b[43m,\u001b[49m\u001b[38;5;241;43m10\u001b[39;49m\u001b[43m]\u001b[49m\u001b[43m}\u001b[49m\u001b[43m)\u001b[49m\n\u001b[1;32m      9\u001b[0m \u001b[43m    \u001b[49m\u001b[38;5;241;43m.\u001b[39;49m\u001b[43mpipe\u001b[49m\u001b[43m(\u001b[49m\u001b[43mDataFrame\u001b[49m\u001b[43m[\u001b[49m\u001b[43mBasicSchema\u001b[49m\u001b[43m]\u001b[49m\u001b[43m)\u001b[49m\n\u001b[1;32m     10\u001b[0m \u001b[43m    \u001b[49m\u001b[38;5;66;43;03m# ._typeddict\u001b[39;49;00m\n\u001b[1;32m     11\u001b[0m \u001b[43m    \u001b[49m\u001b[38;5;66;43;03m# .__annotations__\u001b[39;49;00m\n\u001b[1;32m     12\u001b[0m \u001b[43m    \u001b[49m\u001b[38;5;66;43;03m# .set_sorted(\"a\")\u001b[39;49;00m\n\u001b[1;32m     13\u001b[0m \u001b[43m    \u001b[49m\u001b[38;5;66;43;03m# .__annotations__\u001b[39;49;00m\n\u001b[1;32m     14\u001b[0m \u001b[43m    \u001b[49m\u001b[38;5;66;43;03m# ._metadata\u001b[39;49;00m\n\u001b[0;32m---> 15\u001b[0m \u001b[43m    \u001b[49m\u001b[38;5;241;43m.\u001b[39;49m\u001b[43mvalidate\u001b[49m\u001b[43m(\u001b[49m\u001b[43m)\u001b[49m\n\u001b[1;32m     16\u001b[0m     \u001b[38;5;66;03m# .schema\u001b[39;00m\n\u001b[1;32m     17\u001b[0m     \u001b[38;5;66;03m# ._metadata\u001b[39;00m\n\u001b[1;32m     18\u001b[0m     \u001b[38;5;66;03m# .validate()\u001b[39;00m\n\u001b[1;32m     19\u001b[0m     \u001b[38;5;66;03m# .pipe(pl.DataFrame).select(\"sorted\", \"column\")\u001b[39;00m\n\u001b[1;32m     20\u001b[0m     \u001b[38;5;66;03m# .schema[\"sorted\"]\u001b[39;00m\n\u001b[1;32m     21\u001b[0m     \u001b[38;5;66;03m# .pipe(lambda d: d.to_dict())\u001b[39;00m\n\u001b[1;32m     22\u001b[0m     \u001b[38;5;66;03m# .group_by(\"sorted\").agg(pl.col(\"column\"))\u001b[39;00m\n\u001b[1;32m     23\u001b[0m     \u001b[38;5;66;03m# .group_by(\"sorted\").agg(pl.col(\"column\"))\u001b[39;00m\n\u001b[1;32m     24\u001b[0m     \u001b[38;5;66;03m# .filter(pl.col(\"unique\"))[\"column\"].to_list()\u001b[39;00m\n\u001b[1;32m     25\u001b[0m     \n\u001b[1;32m     26\u001b[0m     \u001b[38;5;66;03m# [\"checks\"] \u001b[39;00m\n\u001b[1;32m     27\u001b[0m     \u001b[38;5;66;03m# .__args__[0].__origin__ is Callable\u001b[39;00m\n\u001b[1;32m     28\u001b[0m )\n\u001b[1;32m     29\u001b[0m df\n",
      "File \u001b[0;32m~/dev/polaric/src/polaric/dataframe.py:49\u001b[0m, in \u001b[0;36mDataFrame.validate\u001b[0;34m(self)\u001b[0m\n\u001b[1;32m     41\u001b[0m     is_null \u001b[38;5;241m=\u001b[39m (\n\u001b[1;32m     42\u001b[0m         \u001b[38;5;28mself\u001b[39m\u001b[38;5;241m.\u001b[39mselect(pl\u001b[38;5;241m.\u001b[39mcol(non_nullable_cols)\u001b[38;5;241m.\u001b[39mis_null()\u001b[38;5;241m.\u001b[39many())\n\u001b[1;32m     43\u001b[0m         \u001b[38;5;241m.\u001b[39mtranspose(include_header\u001b[38;5;241m=\u001b[39m\u001b[38;5;28;01mTrue\u001b[39;00m, column_names\u001b[38;5;241m=\u001b[39m[\u001b[38;5;124m\"\u001b[39m\u001b[38;5;124mis_null\u001b[39m\u001b[38;5;124m\"\u001b[39m])\n\u001b[0;32m   (...)\u001b[0m\n\u001b[1;32m     46\u001b[0m         \u001b[38;5;241m.\u001b[39mto_list()\n\u001b[1;32m     47\u001b[0m     )\n\u001b[1;32m     48\u001b[0m     \u001b[38;5;28;01mif\u001b[39;00m is_null:\n\u001b[0;32m---> 49\u001b[0m         \u001b[38;5;28;01mraise\u001b[39;00m ValidationError(\n\u001b[1;32m     50\u001b[0m             \u001b[38;5;124mf\u001b[39m\u001b[38;5;124m\"\u001b[39m\u001b[38;5;124mThe following columns contains nulls: \u001b[39m\u001b[38;5;132;01m{\u001b[39;00mis_null\u001b[38;5;132;01m}\u001b[39;00m\u001b[38;5;124m.\u001b[39m\u001b[38;5;124m\"\u001b[39m\n\u001b[1;32m     51\u001b[0m         )\n\u001b[1;32m     53\u001b[0m \u001b[38;5;66;03m# Uniqueness\u001b[39;00m\n\u001b[1;32m     54\u001b[0m \u001b[38;5;28;01mif\u001b[39;00m unique_cols \u001b[38;5;241m:=\u001b[39m \u001b[38;5;28mself\u001b[39m\u001b[38;5;241m.\u001b[39m_metadata\u001b[38;5;241m.\u001b[39mfilter(pl\u001b[38;5;241m.\u001b[39mcol(\u001b[38;5;124m\"\u001b[39m\u001b[38;5;124munique\u001b[39m\u001b[38;5;124m\"\u001b[39m))[\u001b[38;5;124m\"\u001b[39m\u001b[38;5;124mcolumn\u001b[39m\u001b[38;5;124m\"\u001b[39m]\u001b[38;5;241m.\u001b[39mto_list():\n",
      "\u001b[0;31mValidationError\u001b[0m: The following columns contains nulls: ['a', 'b']."
     ]
    }
   ],
   "source": [
    "\n",
    "\n",
    "from collections.abc import Callable\n",
    "\n",
    "from polars import String\n",
    "\n",
    "\n",
    "\n",
    "df = (\n",
    "    pl.DataFrame({\"a\": [0,None,2,3], \"b\": [None,0,0,0], \"c\": [-1.0, 2, 4,10]})\n",
    "    .pipe(DataFrame[BasicSchema])\n",
    "    # ._typeddict\n",
    "    # .__annotations__\n",
    "    # .set_sorted(\"a\")\n",
    "    # .__annotations__\n",
    "    # ._metadata\n",
    "    .validate()\n",
    "    # .schema\n",
    "    # ._metadata\n",
    "    # .validate()\n",
    "    # .pipe(pl.DataFrame).select(\"sorted\", \"column\")\n",
    "    # .schema[\"sorted\"]\n",
    "    # .pipe(lambda d: d.to_dict())\n",
    "    # .group_by(\"sorted\").agg(pl.col(\"column\"))\n",
    "    # .group_by(\"sorted\").agg(pl.col(\"column\"))\n",
    "    # .filter(pl.col(\"unique\"))[\"column\"].to_list()\n",
    "    \n",
    "    # [\"checks\"] \n",
    "    # .__args__[0].__origin__ is Callable\n",
    ")\n",
    "df"
   ]
  },
  {
   "cell_type": "code",
   "execution_count": 5,
   "metadata": {},
   "outputs": [
    {
     "data": {
      "text/plain": [
       "Schema([('primary_key', Boolean),\n",
       "        ('unique', Boolean),\n",
       "        ('sorted', Enum(categories=['descending', 'ascending'])),\n",
       "        ('coerce', Boolean),\n",
       "        ('default', Object),\n",
       "        ('checks', Object),\n",
       "        ('column', String),\n",
       "        ('nullable', Boolean)])"
      ]
     },
     "execution_count": 5,
     "metadata": {},
     "output_type": "execute_result"
    }
   ],
   "source": [
    "from ctypes import util\n",
    "\n",
    "\n",
    "_utils.typeddict_to_polats_schema(_Metadata)"
   ]
  },
  {
   "cell_type": "code",
   "execution_count": 46,
   "metadata": {},
   "outputs": [
    {
     "data": {
      "text/plain": [
       "['c']"
      ]
     },
     "execution_count": 46,
     "metadata": {},
     "output_type": "execute_result"
    }
   ],
   "source": [
    "from typing import get_type_hints\n",
    "\n",
    "class BasicSchema(TypedDict):\n",
    "    a: Annotated[pl.Int64, Field(\n",
    "        sorted=\"ascending\",\n",
    "        coerce=True,\n",
    "        unique=True,\n",
    "        checks=[lambda d: d.ge(0)],\n",
    "    )]\n",
    "    b: Annotated[pl.Int64, Field(primary_key=False)]\n",
    "    c: Annotated[int | None, Field(coerce=True)]\n",
    "\n",
    "get_type_hints(BasicSchema)\n",
    "# 'a': Int64, 'b': Int64, 'c': int | None}\n",
    "\n",
    "# I want to retrieve the nullable columns \n",
    "# here : nullable_cols == [\"c\"] \n",
    "nullable_cols = [name for name, hint in get_type_hints(BasicSchema).items() if type(None) in getattr(hint, \"__args__\", [])]\n",
    "nullable_cols"
   ]
  },
  {
   "cell_type": "code",
   "execution_count": 45,
   "metadata": {},
   "outputs": [
    {
     "data": {
      "text/plain": [
       "NoneType"
      ]
     },
     "execution_count": 45,
     "metadata": {},
     "output_type": "execute_result"
    }
   ],
   "source": [
    "type(None)"
   ]
  },
  {
   "cell_type": "code",
   "execution_count": 44,
   "metadata": {},
   "outputs": [
    {
     "data": {
      "text/plain": [
       "NoneType"
      ]
     },
     "execution_count": 44,
     "metadata": {},
     "output_type": "execute_result"
    }
   ],
   "source": [
    "None.__class__"
   ]
  },
  {
   "cell_type": "code",
   "execution_count": 74,
   "metadata": {},
   "outputs": [
    {
     "data": {
      "text/html": [
       "<div><style>\n",
       ".dataframe > thead > tr,\n",
       ".dataframe > tbody > tr {\n",
       "  text-align: right;\n",
       "  white-space: pre-wrap;\n",
       "}\n",
       "</style>\n",
       "<small>shape: (1, 2)</small><table border=\"1\" class=\"dataframe\"><thead><tr><th>sorted</th><th>column</th></tr><tr><td>enum</td><td>list[str]</td></tr></thead><tbody><tr><td>&quot;ascending&quot;</td><td>[&quot;a&quot;]</td></tr></tbody></table></div>"
      ],
      "text/plain": [
       "shape: (1, 2)\n",
       "┌───────────┬───────────┐\n",
       "│ sorted    ┆ column    │\n",
       "│ ---       ┆ ---       │\n",
       "│ enum      ┆ list[str] │\n",
       "╞═══════════╪═══════════╡\n",
       "│ ascending ┆ [\"a\"]     │\n",
       "└───────────┴───────────┘"
      ]
     },
     "execution_count": 74,
     "metadata": {},
     "output_type": "execute_result"
    }
   ],
   "source": [
    "pl.DataFrame({\"sorted\": [\"ascending\"], \"column\": [\"a\"]}, schema_overrides={\"sorted\": e}).group_by(\"sorted\").agg(pl.col(\"column\"))"
   ]
  },
  {
   "cell_type": "code",
   "execution_count": 36,
   "metadata": {},
   "outputs": [
    {
     "data": {
      "text/plain": [
       "{'SORTED_ASC': True, 'SORTED_DESC': False}"
      ]
     },
     "execution_count": 36,
     "metadata": {},
     "output_type": "execute_result"
    }
   ],
   "source": [
    "df = pl.DataFrame({'A' : [1,2,3]})\n",
    "df = df.set_sorted(\"A\")\n",
    "df[\"A\"].flags\n",
    "# (\n",
    "#     pl.DataFrame({'A' : [1,2,3]})\n",
    "#     .with_columns(pl.col('A').set_sorted())\n",
    "#     # .write_parquet('tmp.parquet')\n",
    "# )\n",
    "\n",
    "# pl.read_parquet('tmp.parquet')['A'].flags \n",
    "# Today: {'SORTED_ASC': False, 'SORTED_DESC': False}\n",
    "# Wish: {'SORTED_ASC': True, 'SORTED_DESC': False}"
   ]
  },
  {
   "cell_type": "code",
   "execution_count": 39,
   "metadata": {},
   "outputs": [
    {
     "data": {
      "text/plain": [
       "['b']"
      ]
     },
     "execution_count": 39,
     "metadata": {},
     "output_type": "execute_result"
    }
   ],
   "source": [
    "(\n",
    "    pl.DataFrame({\"a\": [0,1,2,3], \"b\": [0,0,0,0]})\n",
    "    .select(pl.all().is_duplicated().any())\n",
    "    .transpose(include_header = True, column_names = [\"is_duplicated\"])\n",
    "    .filter(pl.col(\"is_duplicated\")).get_column(\"column\").to_list()\n",
    ")"
   ]
  },
  {
   "cell_type": "code",
   "execution_count": null,
   "metadata": {},
   "outputs": [
    {
     "data": {
      "text/html": [
       "<div><style>\n",
       ".dataframe > thead > tr,\n",
       ".dataframe > tbody > tr {\n",
       "  text-align: right;\n",
       "  white-space: pre-wrap;\n",
       "}\n",
       "</style>\n",
       "<small>shape: (1, 2)</small><table border=\"1\" class=\"dataframe\"><thead><tr><th>a</th><th>b</th></tr><tr><td>list[i64]</td><td>list[i64]</td></tr></thead><tbody><tr><td>[0, 1, … 3]</td><td>[0, 0, … 0]</td></tr></tbody></table></div>"
      ],
      "text/plain": [
       "shape: (1, 2)\n",
       "┌─────────────┬─────────────┐\n",
       "│ a           ┆ b           │\n",
       "│ ---         ┆ ---         │\n",
       "│ list[i64]   ┆ list[i64]   │\n",
       "╞═════════════╪═════════════╡\n",
       "│ [0, 1, … 3] ┆ [0, 0, … 0] │\n",
       "└─────────────┴─────────────┘"
      ]
     },
     "execution_count": 38,
     "metadata": {},
     "output_type": "execute_result"
    }
   ],
   "source": [
    "(\n",
    "    pl.DataFrame({\"a\": [0,1,2,3], \"b\": [0,0,0,0]})\n",
    "    \n",
    "    # .select(pl.all().filter(pl.element().is_duplicated()).implode())\n",
    "    # .select(pl.all().is_unique().all())\n",
    "    # .transpose(include_header = True, column_names = [\"is_unique\"])\n",
    "    # .filter(~pl.col(\"is_unique\")).get_column(\"column\").to_list()\n",
    ")"
   ]
  }
 ],
 "metadata": {
  "kernelspec": {
   "display_name": ".venv",
   "language": "python",
   "name": "python3"
  },
  "language_info": {
   "codemirror_mode": {
    "name": "ipython",
    "version": 3
   },
   "file_extension": ".py",
   "mimetype": "text/x-python",
   "name": "python",
   "nbconvert_exporter": "python",
   "pygments_lexer": "ipython3",
   "version": "3.12.5"
  }
 },
 "nbformat": 4,
 "nbformat_minor": 2
}
