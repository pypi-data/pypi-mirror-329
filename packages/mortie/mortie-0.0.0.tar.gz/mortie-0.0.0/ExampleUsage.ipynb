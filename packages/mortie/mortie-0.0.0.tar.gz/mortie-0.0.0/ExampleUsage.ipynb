{
 "cells": [
  {
   "cell_type": "code",
   "execution_count": 1,
   "id": "49b20b0e-66fe-46d0-8425-6133dcbebdbf",
   "metadata": {},
   "outputs": [],
   "source": [
    "import pandas as pd\n",
    "import healpy as hp\n",
    "import numpy as np\n",
    "\n",
    "import mortie as mt"
   ]
  },
  {
   "cell_type": "markdown",
   "id": "f0ee9c89-43de-4096-9602-2b1b13d0b005",
   "metadata": {},
   "source": [
    "Download the data for this example [here](https://earth.gsfc.nasa.gov/sites/default/files/lab_cryo/data/polar_ice_altimetry/antarctic_and_greenland_drainage_systems/ant_grounded_drainagesystem_polygons.txt)\n",
    "\n",
    "These are continental hydrologic basins."
   ]
  },
  {
   "cell_type": "code",
   "execution_count": 2,
   "id": "f1649408-ae71-4a77-8017-41d255f76c1b",
   "metadata": {},
   "outputs": [],
   "source": [
    "basins = pd.read_csv('./Ant_Grounded_DrainageSystem_Polygons.txt',\n",
    "                     names=['Lat','Lon','basin'], delim_whitespace=True)"
   ]
  },
  {
   "cell_type": "code",
   "execution_count": 3,
   "id": "c35af7ff-a7fd-4c17-92ba-aebf3c239007",
   "metadata": {},
   "outputs": [],
   "source": [
    "# Subsetting to basin 4\n",
    "b4 = basins[basins.basin == 4]"
   ]
  },
  {
   "cell_type": "code",
   "execution_count": 4,
   "id": "f8e29e5f-5936-4161-a430-d2205c6b89f4",
   "metadata": {},
   "outputs": [
    {
     "data": {
      "text/html": [
       "<div>\n",
       "<style scoped>\n",
       "    .dataframe tbody tr th:only-of-type {\n",
       "        vertical-align: middle;\n",
       "    }\n",
       "\n",
       "    .dataframe tbody tr th {\n",
       "        vertical-align: top;\n",
       "    }\n",
       "\n",
       "    .dataframe thead th {\n",
       "        text-align: right;\n",
       "    }\n",
       "</style>\n",
       "<table border=\"1\" class=\"dataframe\">\n",
       "  <thead>\n",
       "    <tr style=\"text-align: right;\">\n",
       "      <th></th>\n",
       "      <th>Lat</th>\n",
       "      <th>Lon</th>\n",
       "      <th>basin</th>\n",
       "    </tr>\n",
       "  </thead>\n",
       "  <tbody>\n",
       "    <tr>\n",
       "      <th>196966</th>\n",
       "      <td>-71.013116</td>\n",
       "      <td>-10.087038</td>\n",
       "      <td>4</td>\n",
       "    </tr>\n",
       "    <tr>\n",
       "      <th>196967</th>\n",
       "      <td>-71.026350</td>\n",
       "      <td>-10.069613</td>\n",
       "      <td>4</td>\n",
       "    </tr>\n",
       "    <tr>\n",
       "      <th>196968</th>\n",
       "      <td>-71.038885</td>\n",
       "      <td>-10.057657</td>\n",
       "      <td>4</td>\n",
       "    </tr>\n",
       "    <tr>\n",
       "      <th>196969</th>\n",
       "      <td>-71.053623</td>\n",
       "      <td>-10.033951</td>\n",
       "      <td>4</td>\n",
       "    </tr>\n",
       "    <tr>\n",
       "      <th>196970</th>\n",
       "      <td>-71.066636</td>\n",
       "      <td>-10.006919</td>\n",
       "      <td>4</td>\n",
       "    </tr>\n",
       "    <tr>\n",
       "      <th>...</th>\n",
       "      <td>...</td>\n",
       "      <td>...</td>\n",
       "      <td>...</td>\n",
       "    </tr>\n",
       "    <tr>\n",
       "      <th>239366</th>\n",
       "      <td>-70.943902</td>\n",
       "      <td>-10.055204</td>\n",
       "      <td>4</td>\n",
       "    </tr>\n",
       "    <tr>\n",
       "      <th>239367</th>\n",
       "      <td>-70.965003</td>\n",
       "      <td>-10.086568</td>\n",
       "      <td>4</td>\n",
       "    </tr>\n",
       "    <tr>\n",
       "      <th>239368</th>\n",
       "      <td>-70.980942</td>\n",
       "      <td>-10.108149</td>\n",
       "      <td>4</td>\n",
       "    </tr>\n",
       "    <tr>\n",
       "      <th>239369</th>\n",
       "      <td>-70.993810</td>\n",
       "      <td>-10.123396</td>\n",
       "      <td>4</td>\n",
       "    </tr>\n",
       "    <tr>\n",
       "      <th>239370</th>\n",
       "      <td>-71.013116</td>\n",
       "      <td>-10.087038</td>\n",
       "      <td>4</td>\n",
       "    </tr>\n",
       "  </tbody>\n",
       "</table>\n",
       "<p>42405 rows × 3 columns</p>\n",
       "</div>"
      ],
      "text/plain": [
       "              Lat        Lon  basin\n",
       "196966 -71.013116 -10.087038      4\n",
       "196967 -71.026350 -10.069613      4\n",
       "196968 -71.038885 -10.057657      4\n",
       "196969 -71.053623 -10.033951      4\n",
       "196970 -71.066636 -10.006919      4\n",
       "...           ...        ...    ...\n",
       "239366 -70.943902 -10.055204      4\n",
       "239367 -70.965003 -10.086568      4\n",
       "239368 -70.980942 -10.108149      4\n",
       "239369 -70.993810 -10.123396      4\n",
       "239370 -71.013116 -10.087038      4\n",
       "\n",
       "[42405 rows x 3 columns]"
      ]
     },
     "execution_count": 4,
     "metadata": {},
     "output_type": "execute_result"
    }
   ],
   "source": [
    "b4"
   ]
  },
  {
   "cell_type": "markdown",
   "id": "ded73228-60c1-4d25-ac48-fd7d9fd83949",
   "metadata": {},
   "source": [
    "The healpix datum is a spherical spatial index tree (really a 'trei' since it divides the embedding space). The original formulation allows for 28 levels of the tree; however, numerical precision and inefficent filling of the 64-bit integer means that the mortie package tops out 10 levels before that at level 18. This means that the smallest 'cell' that mortie can represent is ~25 meters on a side:"
   ]
  },
  {
   "cell_type": "code",
   "execution_count": 5,
   "id": "e894deba-6082-4c00-af4a-00733fd0289a",
   "metadata": {},
   "outputs": [
    {
     "name": "stdout",
     "output_type": "stream",
     "text": [
      "6508.1853 km at tessellation order 0\n",
      "3254.09265 km at tessellation order 1\n",
      "1627.046325 km at tessellation order 2\n",
      "813.5231625 km at tessellation order 3\n",
      "406.76158125 km at tessellation order 4\n",
      "203.380790625 km at tessellation order 5\n",
      "101.6903953125 km at tessellation order 6\n",
      "50.84519765625 km at tessellation order 7\n",
      "25.422598828125 km at tessellation order 8\n",
      "12.7112994140625 km at tessellation order 9\n",
      "6.35564970703125 km at tessellation order 10\n",
      "3.177824853515625 km at tessellation order 11\n",
      "1.5889124267578125 km at tessellation order 12\n",
      "0.7944562133789063 km at tessellation order 13\n",
      "0.39722810668945313 km at tessellation order 14\n",
      "0.19861405334472657 km at tessellation order 15\n",
      "0.09930702667236328 km at tessellation order 16\n",
      "0.04965351333618164 km at tessellation order 17\n",
      "0.02482675666809082 km at tessellation order 18\n",
      "0.01241337833404541 km at tessellation order 19\n"
     ]
    }
   ],
   "source": [
    "mt.res2display()"
   ]
  },
  {
   "cell_type": "markdown",
   "id": "8d9b9619-7748-44d8-af86-b61fe8a7b72c",
   "metadata": {},
   "source": [
    "There's more details at the [healpy tutorial](https://healpy.readthedocs.io/en/latest/tutorial.html), the [healpix primer](https://healpix.jpl.nasa.gov/pdf/intro.pdf), and [this presentation](https://dcc.ligo.org/public/0149/G1800186/003/healpix-multiresolution.pdf)"
   ]
  },
  {
   "cell_type": "code",
   "execution_count": 6,
   "id": "5e2b8c3c-ba80-48c2-a80e-97be5fbb5aa1",
   "metadata": {},
   "outputs": [
    {
     "name": "stdout",
     "output_type": "stream",
     "text": [
      "39\n"
     ]
    },
    {
     "data": {
      "image/png": "[encoded data removed]",
      "text/plain": [
       "<Figure size 417.6x460.8 with 2 Axes>"
      ]
     },
     "metadata": {
      "needs_background": "light"
     },
     "output_type": "display_data"
    }
   ],
   "source": [
    "# Plotting coarse grid, level 6 of the tree with 100km grid cells\n",
    "nside = 2**6\n",
    "b2idx = hp.ang2pix(nside,b4.Lon.values, b4.Lat.values, lonlat=True) \n",
    "m = np.zeros(hp.nside2npix(nside))\n",
    "m[np.unique(b2idx).ravel()] += 1\n",
    "# Centered on the south pole\n",
    "hp.gnomview(m, rot=[0,-90], xsize=1500, ysize=1500)# , nest=True)\n",
    "print(len(np.unique(b2idx).ravel()))"
   ]
  },
  {
   "cell_type": "code",
   "execution_count": 7,
   "id": "ffba8ecc-9b87-4ea0-b978-6cce52c38856",
   "metadata": {},
   "outputs": [
    {
     "data": {
      "text/plain": [
       "array([47848, 47849, 47948, 47949, 48043, 48044, 48045, 48046, 48135,\n",
       "       48136, 48138, 48223, 48224, 48227, 48307, 48308, 48311, 48386,\n",
       "       48387, 48390, 48391, 48461, 48462, 48463, 48465, 48466, 48467,\n",
       "       48533, 48534, 48535, 48536, 48537, 48538, 48601, 48602, 48603,\n",
       "       48604, 48605, 48666])"
      ]
     },
     "execution_count": 7,
     "metadata": {},
     "output_type": "execute_result"
    }
   ],
   "source": [
    "np.unique(b2idx).ravel()"
   ]
  },
  {
   "cell_type": "markdown",
   "id": "6b7565c1-7f95-4f32-bac3-ec331a17b3e1",
   "metadata": {},
   "source": [
    "These are the healpix numbers level 6 of the tree. If we ask for them at a different level, they change in an unpredictable way:"
   ]
  },
  {
   "cell_type": "code",
   "execution_count": 8,
   "id": "63aa5577-02d7-426c-837d-1b3d06cba6ed",
   "metadata": {},
   "outputs": [
    {
     "name": "stdout",
     "output_type": "stream",
     "text": [
      "380\n"
     ]
    },
    {
     "data": {
      "image/png": "[encoded data removed]",
      "text/plain": [
       "<Figure size 417.6x460.8 with 2 Axes>"
      ]
     },
     "metadata": {
      "needs_background": "light"
     },
     "output_type": "display_data"
    }
   ],
   "source": [
    "# Level 9 of the tree, up three orders of magnatude-- now the cells 12km in size, and there are more of them\n",
    "nside = 2**9\n",
    "b2idx = hp.ang2pix(nside,b4.Lon.values, b4.Lat.values, lonlat=True) \n",
    "m = np.zeros(hp.nside2npix(nside))\n",
    "m[np.unique(b2idx).ravel()] += 1\n",
    "# Centered on the south pole\n",
    "hp.gnomview(m, rot=[0,-90], xsize=1200, ysize=1200)# , nest=True)\n",
    "print(len(np.unique(b2idx).ravel()))"
   ]
  },
  {
   "cell_type": "code",
   "execution_count": 9,
   "id": "70ca7341-cc36-4996-ba32-6b5620130215",
   "metadata": {},
   "outputs": [
    {
     "data": {
      "text/plain": [
       "array([3059591, 3059592, 3060419, 3060420, 3061244, 3061245, 3062060,\n",
       "       3062064, 3062065, 3062876, 3062877, 3062879, 3062880, 3062881,\n",
       "       3062882, 3063688, 3063689, 3063691, 3063692, 3063693, 3063694,\n",
       "       3064496, 3064498, 3064500, 3064502, 3065300, 3065303, 3065304,\n",
       "       3065306, 3066101, 3066104, 3066106, 3066898, 3066899, 3066902,\n",
       "       3067691, 3067692, 3067694, 3068479, 3068480, 3068482, 3069263,\n",
       "       3069264, 3069267, 3070043, 3070044, 3070047, 3070819, 3070823,\n",
       "       3071591, 3071596, 3072359, 3072365, 3073121, 3073122, 3073123,\n",
       "       3073130, 3073880, 3073881, 3073882, 3073883, 3073890, 3074633,\n",
       "       3074636, 3074637, 3074647, 3074651, 3075386, 3075387, 3075388,\n",
       "       3075400, 3075401, 3075402, 3075403, 3076134, 3076135, 3076136,\n",
       "       3076149, 3076150, 3076151, 3076152, 3076879, 3076896, 3077615,\n",
       "       3077616, 3077617, 3077618, 3077619, 3077636, 3078351, 3078352,\n",
       "       3078353, 3078354, 3078355, 3078373, 3079083, 3079105, 3079811,\n",
       "       3079833, 3080534, 3080535, 3080557, 3081254, 3081255, 3081277,\n",
       "       3081970, 3081994, 3082683, 3082706, 3083391, 3083392, 3083394,\n",
       "       3083395, 3083415, 3084095, 3084096, 3084097, 3084098, 3084099,\n",
       "       3084120, 3084796, 3084797, 3084798, 3084799, 3084821, 3085494,\n",
       "       3085495, 3085517, 3086186, 3086187, 3086208, 3086209, 3086871,\n",
       "       3086874, 3086896, 3086897, 3087554, 3087555, 3087556, 3087557,\n",
       "       3087558, 3087581, 3087582, 3088234, 3088235, 3088237, 3088238,\n",
       "       3088239, 3088262, 3088910, 3088911, 3088938, 3088939, 3089582,\n",
       "       3089583, 3089611, 3089612, 3090250, 3090280, 3090281, 3090914,\n",
       "       3090915, 3090945, 3090946, 3091574, 3091575, 3091605, 3091606,\n",
       "       3092230, 3092260, 3092261, 3092262, 3092882, 3092912, 3092913,\n",
       "       3093530, 3093560, 3094174, 3094203, 3094204, 3094814, 3094842,\n",
       "       3094843, 3094844, 3095447, 3095448, 3095450, 3095451, 3095478,\n",
       "       3095479, 3096079, 3096080, 3096081, 3096082, 3096083, 3096109,\n",
       "       3096110, 3096703, 3096704, 3096705, 3096706, 3096707, 3096710,\n",
       "       3096736, 3096737, 3096738, 3097325, 3097326, 3097327, 3097328,\n",
       "       3097329, 3097330, 3097331, 3097360, 3097361, 3097944, 3097945,\n",
       "       3097946, 3097947, 3097951, 3097980, 3098559, 3098560, 3098561,\n",
       "       3098595, 3098596, 3099171, 3099172, 3099207, 3099208, 3099778,\n",
       "       3099779, 3099812, 3099813, 3099814, 3099815, 3100381, 3100382,\n",
       "       3100383, 3100415, 3100416, 3100417, 3100418, 3100419, 3100980,\n",
       "       3100981, 3100982, 3101014, 3101015, 3101016, 3101575, 3101576,\n",
       "       3101577, 3101610, 3101611, 3102167, 3102168, 3102201, 3102202,\n",
       "       3102755, 3102788, 3102789, 3102790, 3103338, 3103339, 3103372,\n",
       "       3103373, 3103918, 3103919, 3103951, 3103952, 3104494, 3104495,\n",
       "       3104526, 3104527, 3104528, 3105065, 3105066, 3105067, 3105077,\n",
       "       3105079, 3105097, 3105098, 3105099, 3105633, 3105634, 3105644,\n",
       "       3105645, 3105646, 3105647, 3105648, 3105664, 3105665, 3105666,\n",
       "       3106196, 3106197, 3106198, 3106205, 3106206, 3106207, 3106208,\n",
       "       3106209, 3106211, 3106213, 3106225, 3106226, 3106227, 3106228,\n",
       "       3106229, 3106756, 3106757, 3106758, 3106764, 3106765, 3106766,\n",
       "       3106767, 3106768, 3106774, 3106775, 3106784, 3106785, 3106786,\n",
       "       3106787, 3106788, 3107312, 3107319, 3107320, 3107321, 3107331,\n",
       "       3107332, 3107333, 3107338, 3107339, 3107340, 3107341, 3107863,\n",
       "       3107864, 3107871, 3107872, 3107885, 3107886, 3107887, 3107888,\n",
       "       3107889, 3107890, 3107891, 3107892, 3108411, 3108412, 3108418,\n",
       "       3108419, 3108435, 3108436, 3108437, 3108438, 3108955, 3108961,\n",
       "       3108962, 3108963, 3109495, 3109501, 3109502, 3110032, 3110037,\n",
       "       3110563, 3110564, 3110565, 3110569, 3111092, 3111093, 3111096,\n",
       "       3111097, 3111617, 3111620, 3111621, 3112138, 3112139, 3112140,\n",
       "       3112655, 3112656])"
      ]
     },
     "execution_count": 9,
     "metadata": {},
     "output_type": "execute_result"
    }
   ],
   "source": [
    "# Note that the new indices have no obvious relationship to the other indices at the lower resolution\n",
    "np.unique(b2idx).ravel()"
   ]
  },
  {
   "cell_type": "markdown",
   "id": "cbb02893-b348-4123-9b8b-fe4f888ae869",
   "metadata": {},
   "source": [
    "The reason that morton indexing exists, and is interesting, is that it encodes multiple resolutions of data in a meaningful and consistent way. Here's the same data, converted to tree level 9, but using mortie:"
   ]
  },
  {
   "cell_type": "code",
   "execution_count": 10,
   "id": "09c27116-e55f-4d02-ab2c-bee1931c76f2",
   "metadata": {},
   "outputs": [
    {
     "name": "stdout",
     "output_type": "stream",
     "text": [
      "380\n",
      "CPU times: user 12.3 ms, sys: 5.02 ms, total: 17.3 ms\n",
      "Wall time: 27.9 ms\n"
     ]
    },
    {
     "data": {
      "text/plain": [
       "array([-6121322111, -6121321222, -6121321221, -6121321212, -6121321211,\n",
       "       -6121321124, -6121321123, -6121321122, -6121321114, -6121321112,\n",
       "       -6121321111, -6121312222, -6121312122, -6121312121, -6121312114,\n",
       "       -6121312113, -6121312112, -6121312111, -6121311224, -6121311223,\n",
       "       -6121311222, -6121311214, -6121311213, -6121311212, -6121311211,\n",
       "       -6121311124, -6121311123, -6121311114, -6121311113, -6121243222,\n",
       "       -6121243221, -6121243134, -6121243133, -6121243132, -6121243131,\n",
       "       -6121243122, -6121243121, -6121243113, -6121243111, -6121242333,\n",
       "       -6121241444, -6121241443, -6121241442, -6121241441, -6121241434,\n",
       "       -6121241433, -6121241432, -6121241431, -6121241423, -6121241414,\n",
       "       -6121241413, -6121241344, -6121241343, -6121241334, -6121241333,\n",
       "       -6121241324, -6121241323, -6121241314, -6121241313, -6121234244,\n",
       "       -6121234243, -6121234234, -6121234232, -6121234221, -6121234214,\n",
       "       -6121234212, -6121234211, -6121234122, -6121234121, -6121234112,\n",
       "       -6121234111, -6121233231, -6121233222, -6121233221, -6121233214,\n",
       "       -6121233213, -6121233212, -6121233143, -6121233142, -6121233141,\n",
       "       -6121233134, -6121233133, -6121232443, -6121232434, -6121232433,\n",
       "       -6121232424, -6121232422, -6121232421, -6121232412, -6121232344,\n",
       "       -6121232234, -6121232232, -6121232214, -6121232213, -6121232211,\n",
       "       -6121223311, -6121214433, -6121214432, -6121214431, -6121214423,\n",
       "       -6121214422, -6121214421, -6121214414, -6121214244, -6121214243,\n",
       "       -6121214234, -6121214232, -6121214231, -6121214142, -6121214141,\n",
       "       -6121214132, -6121214114, -6121214113, -6121214111, -6121212333,\n",
       "       -6121212331, -6121211442, -6121211441, -6121211434, -6121211433,\n",
       "       -6121211432, -6121211431, -6121211414, -6121211413, -6121211411,\n",
       "       -6121211324, -6121211322, -6121211233, -6121211231, -6121211213,\n",
       "       -6121211144, -6121211142, -6121211141, -6121211133, -6121211132,\n",
       "       -6121211131, -6121211124, -6121211123, -6121144441, -6121144423,\n",
       "       -6121144422, -6121144421, -6121144414, -6121144412, -6121144411,\n",
       "       -6121144341, -6121144334, -6121144333, -6121144332, -6121144324,\n",
       "       -6121144323, -6121144322, -6121144244, -6121143411, -6121143334,\n",
       "       -6121143333, -6121143332, -6121143331, -6121143324, -6121143323,\n",
       "       -6121143322, -6121143321, -6121143314, -6121143313, -6121143312,\n",
       "       -6121143311, -6121134444, -6121134431, -6121134424, -6121134423,\n",
       "       -6121134414, -6121134413, -6121134412, -6121134344, -6121134342,\n",
       "       -6121131111, -6121123112, -6121123111, -6121122411, -6121122323,\n",
       "       -6121122322, -6121122321, -6121122314, -6121122313, -6121122244,\n",
       "       -6121122243, -6121122234, -6121122233, -6121121442, -6121121441,\n",
       "       -6121121434, -6121121433, -6121121432, -6121121424, -6121121344,\n",
       "       -6121121343, -6121121334, -6121114321, -6121114313, -6121114312,\n",
       "       -6121114311, -6121114233, -6121114232, -6121114231, -6121114223,\n",
       "       -6121114222, -6121114221, -6121114214, -6121114144, -6121114143,\n",
       "       -6121113432, -6121113431, -6121113424, -6121113423, -6121113414,\n",
       "       -6121113344, -6121113343, -6121113342, -6121113334, -6121113333,\n",
       "       -6112431211, -6112431122, -6112431121, -6112431113, -6112431112,\n",
       "       -6112431111, -6112423211, -6112423132, -6112423131, -6112423123,\n",
       "       -6112423122, -6112423121, -6112423114, -6112422321, -6112422312,\n",
       "       -6112422311, -6112422224, -6112422223, -6112422221, -6112422214,\n",
       "       -6112422213, -6112422212, -6112422144, -6112422143, -6112422142,\n",
       "       -6112422124, -6112421441, -6112421434, -6112421433, -6112421432,\n",
       "       -6112421424, -6112421423, -6112421422, -6112421421, -6112414412,\n",
       "       -6112414411, -6112414331, -6112414323, -6112414322, -6112414321,\n",
       "       -6112414314, -6112414313, -6112414244, -6112414243, -6112414242,\n",
       "       -6112414234, -6112413443, -6112413442, -6112413441, -6112413434,\n",
       "       -6112413433, -6112413211, -6112413141, -6112413133, -6112413132,\n",
       "       -6112413131, -6112413124, -6112413123, -6112413122, -6112412331,\n",
       "       -6112412321, -6112412313, -6112412312, -6112412311, -6112412143,\n",
       "       -6112412141, -6112412123, -6112412122, -6112412121, -6112411443,\n",
       "       -6112411442, -6112411441, -6112411434, -6112411433, -6112342231,\n",
       "       -6112342224, -6112342223, -6112342222, -6112342221, -6112342214,\n",
       "       -6112342213, -6112342142, -6112342141, -6112342134, -6112342133,\n",
       "       -6112342132, -6112342124, -6112342123, -6112341412, -6112341411,\n",
       "       -6112341322, -6112341321, -6112341311, -6112341244, -6112341243,\n",
       "       -6112341234, -6112341143, -6112341141, -6112341134, -6112341133,\n",
       "       -6112341132, -6112341131, -6112341113, -6112341112, -6112341111,\n",
       "       -6112324421, -6112324412, -6112324411, -6112324332, -6112324331,\n",
       "       -6112324324, -6112324323, -6112324322, -6112324314, -6112324244,\n",
       "       -6112324243, -6112323442, -6112323441, -6112323433, -6112323432,\n",
       "       -6112323431, -6112323344, -6112323343, -6112323334, -6112243121,\n",
       "       -6112243114, -6112243113, -6112243112, -6112242311, -6112242231,\n",
       "       -6112242223, -6112242222, -6112242221, -6112242214, -6112242213,\n",
       "       -6112242143, -6112242142, -6112242141, -6112242134, -6112242133,\n",
       "       -6112241441, -6112241433, -6112241432, -6112241431, -6112241424,\n",
       "       -6112241423, -6112241422, -6112241344, -6112241343, -6112234431,\n",
       "       -6112234413, -6112234412, -6112234411, -6112234344, -6112234342,\n",
       "       -6112234243, -6112234242, -6112234241, -6112234234, -6112234224])"
      ]
     },
     "execution_count": 10,
     "metadata": {},
     "output_type": "execute_result"
    }
   ],
   "source": [
    "%%time\n",
    "\n",
    "# uniq requires nest order\n",
    "order = 9\n",
    "uniq = mt.geo2uniq(b4.Lat.values, b4.Lon.values, order)\n",
    "parents = mt.unique2parent(uniq)\n",
    "normed = mt.heal_norm(parents,order, uniq)\n",
    "\n",
    "mortons6 = mt.fastNorm2Mort(order,normed.ravel(), parents.ravel())\n",
    "print(len(np.unique(mortons6).ravel()))\n",
    "np.unique(mortons6).ravel()"
   ]
  },
  {
   "cell_type": "markdown",
   "id": "5ac50ea4-d6f1-4dfb-a1bf-a0878f951c12",
   "metadata": {},
   "source": [
    "Still 380 cells like in the other example, but now if we go to a finer grid, we just clip the edge of the index:"
   ]
  },
  {
   "cell_type": "code",
   "execution_count": 11,
   "id": "12763c22-a2ae-4649-a4f3-da8489d1e890",
   "metadata": {},
   "outputs": [
    {
     "name": "stdout",
     "output_type": "stream",
     "text": [
      "39\n"
     ]
    },
    {
     "data": {
      "text/plain": [
       "array([-6121322, -6121321, -6121312, -6121311, -6121243, -6121242,\n",
       "       -6121241, -6121234, -6121233, -6121232, -6121223, -6121214,\n",
       "       -6121212, -6121211, -6121144, -6121143, -6121134, -6121131,\n",
       "       -6121123, -6121122, -6121121, -6121114, -6121113, -6112431,\n",
       "       -6112423, -6112422, -6112421, -6112414, -6112413, -6112412,\n",
       "       -6112411, -6112342, -6112341, -6112324, -6112323, -6112243,\n",
       "       -6112242, -6112241, -6112234])"
      ]
     },
     "execution_count": 11,
     "metadata": {},
     "output_type": "execute_result"
    }
   ],
   "source": [
    "# Alternative function that's more compact from above\n",
    "mortons6 = mt.clip2order(6, mt.geo2mort(b4.Lat.values, b4.Lon.values, 18))\n",
    "print(len(np.unique(mortons6)))\n",
    "np.unique(mortons6)"
   ]
  },
  {
   "cell_type": "markdown",
   "id": "b7e941bc-8020-453c-835c-99dca97ee0e5",
   "metadata": {},
   "source": [
    "Why is this interesting? Let's say we have a petabyte of data, and we need to store it, query it, and generally interact with it. Given the structure above, we can define a file hierarchy to split the data, say using S3 buckets:"
   ]
  },
  {
   "cell_type": "code",
   "execution_count": 18,
   "id": "52fe3d8d-cada-49f3-9fa8-23c114b71480",
   "metadata": {},
   "outputs": [],
   "source": [
    "prefix = 's3://geostacks/icesat_2/top='\n",
    "middle = '/mid='\n",
    "cyc = '/cycle=8' # orbit cycle of icesat-2\n",
    "suffix = '/atl06.parquet'\n",
    "\n",
    "filelist = []\n",
    "\n",
    "for s3dir in np.unique(mt.clip2order(4, mt.geo2mort(b4.Lat.values, b4.Lon.values, 18))):\n",
    "    for a in [1,2,3,4]:\n",
    "        for b in [1,2,3,4]:\n",
    "            for c in [1,2,3,4]:\n",
    "                filelist.append(prefix + str(s3dir) + middle + \n",
    "                                str(a)+str(b)+str(c) + \n",
    "                                cyc + suffix)"
   ]
  },
  {
   "cell_type": "code",
   "execution_count": 19,
   "id": "c67f9fd2-388f-4df9-99d7-e6917ecb6da9",
   "metadata": {},
   "outputs": [
    {
     "data": {
      "text/plain": [
       "384"
      ]
     },
     "execution_count": 19,
     "metadata": {},
     "output_type": "execute_result"
    }
   ],
   "source": [
    "len(filelist)"
   ]
  },
  {
   "cell_type": "code",
   "execution_count": 21,
   "id": "1ea53e5f-d620-43a6-bc29-418507a0cc6c",
   "metadata": {},
   "outputs": [
    {
     "data": {
      "text/plain": [
       "array(['s3://geostacks/icesat_2/top=-61211/mid=433/cycle=8/atl06.parquet',\n",
       "       's3://geostacks/icesat_2/top=-61123/mid=122/cycle=8/atl06.parquet',\n",
       "       's3://geostacks/icesat_2/top=-61124/mid=324/cycle=8/atl06.parquet',\n",
       "       's3://geostacks/icesat_2/top=-61123/mid=141/cycle=8/atl06.parquet',\n",
       "       's3://geostacks/icesat_2/top=-61213/mid=413/cycle=8/atl06.parquet',\n",
       "       's3://geostacks/icesat_2/top=-61122/mid=233/cycle=8/atl06.parquet',\n",
       "       's3://geostacks/icesat_2/top=-61122/mid=124/cycle=8/atl06.parquet',\n",
       "       's3://geostacks/icesat_2/top=-61213/mid=211/cycle=8/atl06.parquet',\n",
       "       's3://geostacks/icesat_2/top=-61212/mid=244/cycle=8/atl06.parquet',\n",
       "       's3://geostacks/icesat_2/top=-61122/mid=342/cycle=8/atl06.parquet',\n",
       "       's3://geostacks/icesat_2/top=-61211/mid=434/cycle=8/atl06.parquet',\n",
       "       's3://geostacks/icesat_2/top=-61211/mid=441/cycle=8/atl06.parquet',\n",
       "       's3://geostacks/icesat_2/top=-61211/mid=423/cycle=8/atl06.parquet',\n",
       "       's3://geostacks/icesat_2/top=-61212/mid=241/cycle=8/atl06.parquet',\n",
       "       's3://geostacks/icesat_2/top=-61211/mid=344/cycle=8/atl06.parquet',\n",
       "       's3://geostacks/icesat_2/top=-61122/mid=111/cycle=8/atl06.parquet',\n",
       "       's3://geostacks/icesat_2/top=-61123/mid=231/cycle=8/atl06.parquet',\n",
       "       's3://geostacks/icesat_2/top=-61213/mid=222/cycle=8/atl06.parquet',\n",
       "       's3://geostacks/icesat_2/top=-61124/mid=122/cycle=8/atl06.parquet',\n",
       "       's3://geostacks/icesat_2/top=-61211/mid=331/cycle=8/atl06.parquet',\n",
       "       's3://geostacks/icesat_2/top=-61211/mid=143/cycle=8/atl06.parquet',\n",
       "       's3://geostacks/icesat_2/top=-61122/mid=333/cycle=8/atl06.parquet',\n",
       "       's3://geostacks/icesat_2/top=-61122/mid=221/cycle=8/atl06.parquet',\n",
       "       's3://geostacks/icesat_2/top=-61211/mid=332/cycle=8/atl06.parquet',\n",
       "       's3://geostacks/icesat_2/top=-61122/mid=442/cycle=8/atl06.parquet',\n",
       "       's3://geostacks/icesat_2/top=-61212/mid=222/cycle=8/atl06.parquet',\n",
       "       's3://geostacks/icesat_2/top=-61122/mid=212/cycle=8/atl06.parquet',\n",
       "       's3://geostacks/icesat_2/top=-61211/mid=424/cycle=8/atl06.parquet',\n",
       "       's3://geostacks/icesat_2/top=-61124/mid=443/cycle=8/atl06.parquet',\n",
       "       's3://geostacks/icesat_2/top=-61123/mid=141/cycle=8/atl06.parquet',\n",
       "       's3://geostacks/icesat_2/top=-61122/mid=214/cycle=8/atl06.parquet',\n",
       "       's3://geostacks/icesat_2/top=-61213/mid=331/cycle=8/atl06.parquet',\n",
       "       's3://geostacks/icesat_2/top=-61123/mid=324/cycle=8/atl06.parquet',\n",
       "       's3://geostacks/icesat_2/top=-61213/mid=122/cycle=8/atl06.parquet',\n",
       "       's3://geostacks/icesat_2/top=-61122/mid=421/cycle=8/atl06.parquet',\n",
       "       's3://geostacks/icesat_2/top=-61124/mid=112/cycle=8/atl06.parquet',\n",
       "       's3://geostacks/icesat_2/top=-61124/mid=214/cycle=8/atl06.parquet',\n",
       "       's3://geostacks/icesat_2/top=-61212/mid=433/cycle=8/atl06.parquet',\n",
       "       's3://geostacks/icesat_2/top=-61122/mid=241/cycle=8/atl06.parquet',\n",
       "       's3://geostacks/icesat_2/top=-61212/mid=242/cycle=8/atl06.parquet'],\n",
       "      dtype='<U64')"
      ]
     },
     "execution_count": 21,
     "metadata": {},
     "output_type": "execute_result"
    }
   ],
   "source": [
    "np.random.choice(filelist, 40)"
   ]
  },
  {
   "cell_type": "markdown",
   "id": "49c7818e-bdbc-45ef-80e3-9551ee9365d3",
   "metadata": {},
   "source": [
    "In reality, we'd have three levels of division in the s3 structure, not two, and they'd be balanced in terms of number of digits...but this example is more human readable."
   ]
  },
  {
   "cell_type": "code",
   "execution_count": null,
   "id": "e04a5b23-3df3-4288-ae88-a67db7ec474e",
   "metadata": {},
   "outputs": [],
   "source": []
  }
 ],
 "metadata": {
  "kernelspec": {
   "display_name": "Python 3 (ipykernel)",
   "language": "python",
   "name": "python3"
  },
  "language_info": {
   "codemirror_mode": {
    "name": "ipython",
    "version": 3
   },
   "file_extension": ".py",
   "mimetype": "text/x-python",
   "name": "python",
   "nbconvert_exporter": "python",
   "pygments_lexer": "ipython3",
   "version": "3.9.10"
  }
 },
 "nbformat": 4,
 "nbformat_minor": 5
}
