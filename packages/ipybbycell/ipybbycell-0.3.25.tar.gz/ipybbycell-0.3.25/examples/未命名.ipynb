{
 "cells": [
  {
   "cell_type": "code",
   "execution_count": null,
   "id": "a02600d4",
   "metadata": {
    "bxyCellId": "id_t75knjt"
   },
   "outputs": [],
   "source": []
  },
  {
   "cell_type": "markdown",
   "id": "7b83caf4",
   "metadata": {
    "bxyCellId": "id_wtrgdou"
   },
   "source": [
    "### 步骤标题"
   ]
  },
  {
   "cell_type": "code",
   "execution_count": null,
   "id": "4b13d0fa",
   "metadata": {
    "bxyCellId": "id_88q1mja"
   },
   "outputs": [],
   "source": [
    "#platform-desc\n"
   ]
  },
  {
   "cell_type": "markdown",
   "id": "da19bc89",
   "metadata": {
    "bxyCellId": "id_usvxw9k"
   },
   "source": [
    "#### 题目描述\n",
    "\n",
    "在此处填写题目描述\n",
    "\n",
    "#### 输入描述\n",
    "\n",
    "在此处填写输入描述\n",
    "\n",
    "#### 输出描述\n",
    "\n",
    "在此处填写输出描述\n",
    "\n",
    "#### 输入样例\n",
    "\n",
    "在此处填写输入样例\n",
    "\n",
    "#### 输出样例\n",
    "\n",
    "在此处填写输出样例\n"
   ]
  },
  {
   "cell_type": "code",
   "execution_count": null,
   "id": "e7092a1e",
   "metadata": {
    "bxyCellId": "id_ofvdfpn"
   },
   "outputs": [],
   "source": [
    "//platform-edit\n",
    "#include <iostream>\n",
    "using namespace std;\n",
    "\n",
    "int main(){\n",
    "    \n",
    "    return 0;\n",
    "}"
   ]
  },
  {
   "cell_type": "code",
   "execution_count": null,
   "id": "64bda52f",
   "metadata": {
    "bxyCellId": "id_mq327m4"
   },
   "outputs": [],
   "source": [
    "//platform-edit-answer\n",
    "//参考答案\n",
    "#include <iostream>\n",
    "using namespace std;\n",
    "\n",
    "int main(){\n",
    "\n",
    "    \n",
    "    return 0;\n",
    "}"
   ]
  },
  {
   "cell_type": "markdown",
   "id": "f3170924",
   "metadata": {
    "bxyCellId": "id_imgbabo"
   },
   "source": [
    "ONLINE_JUDGE_PROBLEM_ID=XXX"
   ]
  },
  {
   "cell_type": "markdown",
   "id": "24723fa9",
   "metadata": {},
   "source": [
    "### 步骤标题"
   ]
  },
  {
   "cell_type": "code",
   "execution_count": null,
   "id": "b393b514",
   "metadata": {},
   "outputs": [],
   "source": [
    "#platform-desc\n"
   ]
  },
  {
   "cell_type": "markdown",
   "id": "d1d2e991",
   "metadata": {},
   "source": [
    "#### 题目描述\n",
    "\n",
    "在此处填写题目描述\n",
    "\n",
    "#### 输入描述\n",
    "\n",
    "在此处填写输入描述\n",
    "\n",
    "#### 输出描述\n",
    "\n",
    "在此处填写输出描述\n",
    "\n",
    "#### 输入样例\n",
    "\n",
    "在此处填写输入样例\n",
    "\n",
    "#### 输出样例\n",
    "\n",
    "在此处填写输出样例\n"
   ]
  },
  {
   "cell_type": "code",
   "execution_count": null,
   "id": "dfbc06b1",
   "metadata": {},
   "outputs": [],
   "source": [
    "//platform-edit\n",
    "\n",
    "  "
   ]
  },
  {
   "cell_type": "code",
   "execution_count": null,
   "id": "2ff786fd",
   "metadata": {},
   "outputs": [],
   "source": [
    "//platform-edit-answer\n",
    "//参考答案\n",
    "#include <iostream>\n",
    "using namespace std;\n",
    "\n",
    "int main(){\n",
    "\n",
    "    \n",
    "    return 0;\n",
    "}"
   ]
  },
  {
   "cell_type": "markdown",
   "id": "b3ea6380",
   "metadata": {},
   "source": [
    "ONLINE_JUDGE_PROBLEM_ID=XXX"
   ]
  }
 ],
 "metadata": {
  "bxyId": "id_sbn2d6w",
  "kernelspec": {
   "display_name": "Python 3",
   "language": "python",
   "name": "python3"
  },
  "language_info": {
   "codemirror_mode": {
    "name": "ipython",
    "version": 3
   },
   "file_extension": ".py",
   "mimetype": "text/x-python",
   "name": "python",
   "nbconvert_exporter": "python",
   "pygments_lexer": "ipython3",
   "version": "3.6.8"
  }
 },
 "nbformat": 4,
 "nbformat_minor": 5
}
