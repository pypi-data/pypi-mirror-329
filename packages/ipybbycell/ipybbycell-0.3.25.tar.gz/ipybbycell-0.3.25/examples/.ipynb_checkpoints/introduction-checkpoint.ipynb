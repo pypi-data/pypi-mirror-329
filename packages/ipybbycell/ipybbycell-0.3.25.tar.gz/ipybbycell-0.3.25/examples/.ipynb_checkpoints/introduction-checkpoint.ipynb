{
 "cells": [
  {
   "cell_type": "code",
   "execution_count": null,
   "metadata": {
    "bxyCellId": "id_63obnj0"
   },
   "outputs": [],
   "source": []
  },
  {
   "cell_type": "code",
   "execution_count": null,
   "metadata": {
    "bxyCellId": "id_okpil1x",
    "bxyPosterSlotId": "cell1",
    "bxyQuizStep": {
     "options": {
      "ff": {
       "posterSlotId": "1"
      },
      "fill-2": {
       "posterSlotId": "e"
      }
     }
    }
   },
   "outputs": [],
   "source": []
  }
 ],
 "metadata": {
  "bxyId": "id_y33kqx1",
  "bxyPosterId": "poster",
  "graffiti": {
   "firstAuthorId": "dev",
   "id": "id_oifly75",
   "language": "EN"
  },
  "kernelspec": {
   "display_name": "Python 3",
   "language": "python",
   "name": "python3"
  },
  "language_info": {
   "codemirror_mode": {
    "name": "ipython",
    "version": 3
   },
   "file_extension": ".py",
   "mimetype": "text/x-python",
   "name": "python",
   "nbconvert_exporter": "python",
   "pygments_lexer": "ipython3",
   "version": "3.6.8"
  }
 },
 "nbformat": 4,
 "nbformat_minor": 2
}
