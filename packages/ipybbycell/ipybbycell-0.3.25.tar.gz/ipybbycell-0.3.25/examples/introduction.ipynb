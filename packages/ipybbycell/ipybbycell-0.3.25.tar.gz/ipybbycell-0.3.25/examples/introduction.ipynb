{
 "cells": [
  {
   "cell_type": "code",
   "execution_count": null,
   "metadata": {
    "bxyCellId": "id_63obnj0"
   },
   "outputs": [],
   "source": []
  },
  {
   "cell_type": "code",
   "execution_count": null,
   "metadata": {
    "bxyCellId": "id_okpil1x",
    "bxyPosterSlotId": "cell1",
    "bxyQuizStep": {
     "options": {
      "ff": {
       "posterSlotId": "1"
      },
      "fill-2": {
       "posterSlotId": "e"
      }
     }
    }
   },
   "outputs": [],
   "source": []
  },
  {
   "cell_type": "markdown",
   "metadata": {
    "bxyCellId": "id_22ruq0l"
   },
   "source": [
    "### 步骤标题123213123"
   ]
  },
  {
   "cell_type": "code",
   "execution_count": null,
   "metadata": {
    "bxyCellId": "id_d8r151l"
   },
   "outputs": [],
   "source": [
    "#platform-desc\n",
    "from ipyaliplayer import Player\n",
    "Player(vid='--替换你的视频id，上传地址 https://www.boyuai.com/elites/admin/public-video', aspect_ratio=4/3)\n"
   ]
  },
  {
   "cell_type": "markdown",
   "metadata": {
    "bxyCellId": "id_qw2mlvl"
   },
   "source": [
    "<!-- --------------------------------------- -->\n",
    "<!-- /////////// 图片播放器 Begin /////////// -->\n",
    "<!-- --------------------------------------- -->\n",
    "<div class=\"image-player\">\n",
    "<div class=\"image-viewer\">\n",
    "\n",
    "\n",
    "<!-------------- 在此处添加图片资源 ------------------->\n",
    "<img src=\"【在此处粘贴替换图片地址】\" />\n",
    "<img src=\"【在此处粘贴替换图片地址】\" />\n",
    "<img src=\"【在此处粘贴替换图片地址】\" />\n",
    "<!-------------- 在此处添加图片资源 ------------------->\n",
    "\n",
    "\n",
    "</div>\n",
    "<div class=\"button-wrapper\">\n",
    "<button class=\"last\"></button>\n",
    "<div>\n",
    "<span class=\"current\">0</span>\n",
    "<span>/</span>\n",
    "<span class=\"total\">0</span>\n",
    "</div>\n",
    "<button class=\"next\"></button>\n",
    "</div>\n",
    "</div>\n",
    "<!-- --------------------------------------- -->\n",
    "<!-- //////////// 图片播放器 End /////////// -->\n",
    "<!-- --------------------------------------- -->\n",
    "\n",
    "  <!-- ---------------------------------------- -->\n",
    "  <!-- /////////// 图片播放器 Begin /////////// -->\n",
    "  <!-- ---------------------------------------- -->\n",
    "  <div class=\"image-player\">\n",
    "  <div class=\"image-viewer\">\n",
    "  \n",
    "  \n",
    "  <!-------------- 在此处添加图片资源 ------------------->\n",
    "  <img src=\"https://staticcdn.boyuai.com/user-assets/14398/uLkYavzXiGnvZxCYhtMdsT/1.png\" />\n",
    "      <img src=\"https://staticcdn.boyuai.com/user-assets/14398/jUs1thD7ZX71RFgZNWWyi9/2.png\" />\n",
    "      <img src=\"https://staticcdn.boyuai.com/user-assets/14398/iXXtqXm7DFyRt9NnfafTYE/3.png\" />\n",
    "  <!-------------- 在此处添加图片资源 ------------------->\n",
    "  \n",
    "  \n",
    "  </div>\n",
    "  <div class=\"button-wrapper\">\n",
    "  <button class=\"last\"></button>\n",
    "  <div>\n",
    "  <span class=\"current\">0</span>\n",
    "  <span>/</span>\n",
    "  <span class=\"total\">0</span>\n",
    "  </div>\n",
    "  <button class=\"next\"></button>\n",
    "  </div>\n",
    "  </div>\n",
    "  <!-- ---------------------------------------- -->\n",
    "  <!-- /////////// 图片播放器 End //////////// -->\n",
    "  <!-- ---------------------------------------- -->\n",
    "\n",
    "\n",
    "<details>\n",
    "\n",
    "<summary>标题</summary>\n",
    "\n",
    "内容\n",
    "\n",
    "</details>\n",
    "\n",
    "\n",
    "<!-- ---------------------------------------- -->\n",
    "<!-- /////////// 音频播放器 Begin /////////// -->\n",
    "<!-- ---------------------------------------- -->\n",
    "<audio controls>\n",
    "  <source src=\"https://static-dev.boyuai.com/user-assets/6078/NDDA8nreyiuMoANwM6yKxC/陈百强 - 偏偏喜欢你.mp3\" />\n",
    "</audio>\n",
    "<!-- ---------------------------------------- -->\n",
    "<!-- /////////// 音频播放器 End //////////// -->\n",
    "<!-- ---------------------------------------- -->\n"
   ]
  },
  {
   "cell_type": "code",
   "execution_count": 1,
   "metadata": {
    "bxyCellId": "id_6fx27uh"
   },
   "outputs": [],
   "source": [
    "#platform-lock-hidden\n",
    "\n",
    "# platform-lock-hidden 的代码不会展示，但会被运行\n",
    "\n",
    "def add(x):\n",
    "  return x + 1"
   ]
  },
  {
   "cell_type": "code",
   "execution_count": null,
   "metadata": {
    "bxyCellId": "id_6tyquw5"
   },
   "outputs": [],
   "source": [
    "#platform-edit\n",
    "\n",
    "# platform-edit 可被学员编辑\n",
    "\n",
    "$$$"
   ]
  },
  {
   "cell_type": "code",
   "execution_count": null,
   "metadata": {
    "bxyCellId": "id_uycheud"
   },
   "outputs": [],
   "source": [
    "#platform-edit-answer\n",
    "\n",
    "# 练习答案代码\n",
    "# 我们提供“一键填入”功能将答案复制到对应的代码块中\n",
    "# 建议 platform-edit-answer 块是直接在 platform-edit 块的基础上修改，并添加额外的解释说明\n",
    "\n",
    "x = add(0)"
   ]
  },
  {
   "cell_type": "code",
   "execution_count": null,
   "metadata": {
    "bxyCellId": "id_kjijqe1"
   },
   "outputs": [],
   "source": [
    "ddddd"
   ]
  },
  {
   "cell_type": "code",
   "execution_count": null,
   "metadata": {
    "bxyCellId": "id_f7ox95y"
   },
   "outputs": [],
   "source": [
    "\n",
    "\n",
    "\n",
    "\n",
    "\n",
    "\n",
    "\n",
    "\n",
    "\n",
    "\n",
    "\n",
    "\n",
    "\n",
    "\n",
    "\n"
   ]
  },
  {
   "cell_type": "markdown",
   "metadata": {
    "bxyCellId": "id_euq7el5"
   },
   "source": [
    "### 步骤标题"
   ]
  },
  {
   "cell_type": "code",
   "execution_count": null,
   "metadata": {
    "bxyCellId": "id_vqtdt3p"
   },
   "outputs": [],
   "source": [
    "#platform-desc\n"
   ]
  },
  {
   "cell_type": "markdown",
   "metadata": {
    "bxyCellId": "id_usfgjvz"
   },
   "source": [
    "#### 题目描述\n",
    "\n",
    "在此处填写题目描述\n",
    "\n",
    "#### 输入描述\n",
    "\n",
    "在此处填写输入描述\n",
    "\n",
    "#### 输出描述\n",
    "\n",
    "在此处填写输出描述\n",
    "\n",
    "#### 输入样例\n",
    "\n",
    "在此处填写输入样例\n",
    "\n",
    "#### 输出样例\n",
    "\n",
    "在此处填写输出样例\n",
    "\n",
    "\n",
    "<!-- ---------------------------------------- -->\n",
    "<!-- /////////// 音频播放器 Begin /////////// -->\n",
    "<!-- ---------------------------------------- -->\n",
    "<audio controls>\n",
    "  <source src=\"【此处填入音频链接】\" />\n",
    "</audio>\n",
    "<!-- ---------------------------------------- -->\n",
    "<!-- /////////// 音频播放器 End //////////// -->\n",
    "<!-- ---------------------------------------- -->\n",
    "\n",
    "\n",
    "<div style=\"user-select:none;\">\n",
    "\n",
    "```\n",
    "// insert something...\n",
    "```\n",
    "\n",
    "</div>\n"
   ]
  },
  {
   "cell_type": "code",
   "execution_count": null,
   "metadata": {
    "bxyCellId": "id_41d09rh"
   },
   "outputs": [],
   "source": [
    "//platform-edit\n",
    "#include <iostream>\n",
    "using namespace std;\n",
    "\n",
    "int main(){\n",
    "    \n",
    "    return 0;\n",
    "}"
   ]
  },
  {
   "cell_type": "code",
   "execution_count": null,
   "metadata": {
    "bxyCellId": "id_i0s0ztx"
   },
   "outputs": [],
   "source": [
    "//platform-edit-answer\n",
    "//参考答案\n",
    "#include <iostream>\n",
    "using namespace std;\n",
    "\n",
    "int main(){\n",
    "\n",
    "    \n",
    "    return 0;\n",
    "}"
   ]
  },
  {
   "cell_type": "markdown",
   "metadata": {
    "bxyCellId": "id_op4rkwk"
   },
   "source": [
    "ONLINE_JUDGE_PROBLEM_ID=XXX"
   ]
  },
  {
   "cell_type": "code",
   "execution_count": null,
   "metadata": {
    "bxyCellId": "id_mo71q85"
   },
   "outputs": [],
   "source": [
    "#platform-lock\n",
    "\n",
    "# platform-lock 的代码会被展示和运行，无法修改\n",
    "print(\"add(0) =\", x)"
   ]
  },
  {
   "cell_type": "markdown",
   "metadata": {
    "bxyCellId": "id_r18wrm3"
   },
   "source": [
    "add(0) = 1"
   ]
  },
  {
   "cell_type": "markdown",
   "metadata": {
    "bxyCellId": "id_8ttfmhg"
   },
   "source": [
    "### 步骤标题"
   ]
  },
  {
   "cell_type": "code",
   "execution_count": null,
   "metadata": {
    "bxyCellId": "id_admfzun"
   },
   "outputs": [],
   "source": [
    "#platform-desc\n"
   ]
  },
  {
   "cell_type": "markdown",
   "metadata": {
    "bxyCellId": "id_alqommu"
   },
   "source": [
    "#### 题目描述\n",
    "\n",
    "在此处填写题目描述\n",
    "\n",
    "#### 输入描述\n",
    "\n",
    "在此处填写输入描述\n",
    "\n",
    "#### 输出描述\n",
    "\n",
    "在此处填写输出描述\n",
    "\n",
    "#### 输入样例\n",
    "\n",
    "在此处填写输入样例\n",
    "\n",
    "#### 输出样例\n",
    "\n",
    "在此处填写输出样例\n"
   ]
  },
  {
   "cell_type": "code",
   "execution_count": null,
   "metadata": {
    "bxyCellId": "id_i9fvquk"
   },
   "outputs": [],
   "source": [
    "//platform-edit\n",
    "#include <iostream>\n",
    "using namespace std;\n",
    "\n",
    "int main(){\n",
    "    \n",
    "    return 0;\n",
    "}"
   ]
  },
  {
   "cell_type": "code",
   "execution_count": null,
   "metadata": {
    "bxyCellId": "id_wur38p8"
   },
   "outputs": [],
   "source": [
    "//platform-edit-answer\n",
    "//参考答案\n",
    "#include <iostream>\n",
    "using namespace std;\n",
    "\n",
    "int main(){\n",
    "\n",
    "    \n",
    "    return 0;\n",
    "}"
   ]
  },
  {
   "cell_type": "markdown",
   "metadata": {
    "bxyCellId": "id_qwd9t9c"
   },
   "source": [
    "ONLINE_JUDGE_PROBLEM_ID=XXX"
   ]
  }
 ],
 "metadata": {
  "bxyId": "id_y33kqx1",
  "bxyPosterId": "poster",
  "graffiti": {
   "firstAuthorId": "dev",
   "id": "id_oifly75",
   "language": "EN"
  },
  "kernelspec": {
   "display_name": "Python 3",
   "language": "python",
   "name": "python3"
  },
  "language_info": {
   "codemirror_mode": {
    "name": "ipython",
    "version": 3
   },
   "file_extension": ".py",
   "mimetype": "text/x-python",
   "name": "python",
   "nbconvert_exporter": "python",
   "pygments_lexer": "ipython3",
   "version": "3.6.8"
  }
 },
 "nbformat": 4,
 "nbformat_minor": 2
}
