{
 "cells": [
  {
   "cell_type": "markdown",
   "id": "c369ec22",
   "metadata": {},
   "source": [
    "# Configuration and Usage\n",
    "\n",
    "This notebook describes the basic concepts and configuration of Pulla.\n",
    "\n",
    "## Basics"
   ]
  },
  {
   "cell_type": "code",
   "execution_count": 1,
   "id": "aa726584",
   "metadata": {
    "ExecuteTime": {
     "end_time": "2024-07-15T09:46:58.809295Z",
     "start_time": "2024-07-15T09:46:58.482773Z"
    }
   },
   "outputs": [],
   "source": [
    "import os\n",
    "from pprint import pprint\n",
    "from qiskit import QuantumCircuit\n",
    "from qiskit.compiler import transpile\n",
    "from iqm.qiskit_iqm import IQMProvider\n",
    "from iqm.qiskit_iqm.iqm_transpilation import optimize_single_qubit_gates\n",
    "from iqm.pulla.utils_qiskit import qiskit_to_pulla"
   ]
  },
  {
   "cell_type": "markdown",
   "id": "c0d5f768",
   "metadata": {},
   "source": [
    "Now let's create a Pulla object.\n",
    "\n",
    "A Pulla object is conceptually an **IQM quantum computer client for fetching calibration data and constructing a circuit-to-pulse compiler.**. It consists of:\n",
    "\n",
    "- methods for fetching calibration sets from the server\n",
    "- methods for fetching metadata about the QC from the server\n",
    "- method for executing pulse-level instruction schedules (e.g. ones created by the compiler)\n",
    "\n",
    "A Compiler object defines a **particular circuit-to-pulse compilation logic**. It consists of:\n",
    "\n",
    "- single calibration set\n",
    "- schedule builder based on the calibration set\n",
    "- circuit compilation options\n",
    "- information about the QC (chip topology, channel properties, etc.)\n",
    "- compilation stages\n",
    "- set of available circuit-level quantum operations (\"native operations\") (including user-defined operations)\n",
    "- set of implementations for each native operation (including user-defined implementations)\n",
    "- methods for manipulating the calibration, operations, and implementations\n",
    "\n",
    "Pulla can construct a standard compiler equivalent to the one used by the server side (CoCoS). You can also construct a Compiler manually.\n",
    "\n",
    "To create an instance of Pulla, you need to provide the URL of Station Control. Upon successful initialization, some configuration data is printed (the verbosity of such messages will be controlled by a debug level value)."
   ]
  },
  {
   "cell_type": "code",
   "execution_count": null,
   "id": "507385f0",
   "metadata": {
    "ExecuteTime": {
     "end_time": "2024-07-15T09:47:31.529589Z",
     "start_time": "2024-07-15T09:47:23.417210Z"
    }
   },
   "outputs": [],
   "source": [
    "from iqm.pulla.pulla import Pulla\n",
    "\n",
    "station_control_url = os.environ['PULLA_STATION_CONTROL_URL'] # or set the URL directly here\n",
    "\n",
    "p = Pulla(station_control_url)"
   ]
  },
  {
   "cell_type": "markdown",
   "id": "378fc082",
   "metadata": {},
   "source": [
    "You can access various things like channel properties of the connected station, chip topology, or the current calibration. The initial calibration is the latest calibration of the connected station. "
   ]
  },
  {
   "cell_type": "code",
   "execution_count": 3,
   "id": "79610d10",
   "metadata": {
    "ExecuteTime": {
     "end_time": "2024-07-12T18:26:44.460936Z",
     "start_time": "2024-07-12T18:26:44.360366Z"
    }
   },
   "outputs": [
    {
     "name": "stdout",
     "output_type": "stream",
     "text": [
      "ChannelProperties(sample_rate=2000000000,\n",
      "                  instruction_duration_granularity=8,\n",
      "                  instruction_duration_min=8,\n",
      "                  compatible_instructions=(),\n",
      "                  is_iq=True,\n",
      "                  is_virtual=False,\n",
      "                  blocks_component=True)\n"
     ]
    }
   ],
   "source": [
    "pprint(p.get_channel_properties()[0]['QB1__drive.awg'])"
   ]
  },
  {
   "cell_type": "code",
   "execution_count": 4,
   "id": "6bd02ba4",
   "metadata": {
    "ExecuteTime": {
     "end_time": "2024-07-12T18:26:47.093634Z",
     "start_time": "2024-07-12T18:26:47.020567Z"
    }
   },
   "outputs": [
    {
     "data": {
      "text/plain": [
       "'TC-1-3'"
      ]
     },
     "execution_count": 4,
     "metadata": {},
     "output_type": "execute_result"
    }
   ],
   "source": [
    "p.get_chip_topology().get_coupler_for('QB1', 'QB3')"
   ]
  },
  {
   "cell_type": "markdown",
   "id": "02a29eb8",
   "metadata": {},
   "source": [
    "Call `get_standard_compiler()` method to get an instance of `Compiler`. It will be pre-populated with the latest default calibration set and standard compilation stages. This standard compiler is the same one that CoCoS uses on the server side when processing circuits."
   ]
  },
  {
   "cell_type": "code",
   "execution_count": 5,
   "id": "2a63a4fc",
   "metadata": {},
   "outputs": [],
   "source": [
    "compiler = p.get_standard_compiler()"
   ]
  },
  {
   "cell_type": "code",
   "execution_count": 6,
   "id": "7e1f05a0",
   "metadata": {
    "ExecuteTime": {
     "end_time": "2024-07-12T18:27:05.909017Z",
     "start_time": "2024-07-12T18:27:05.820685Z"
    }
   },
   "outputs": [
    {
     "name": "stdout",
     "output_type": "stream",
     "text": [
      "{'QB1.drive.awg.trigger_delay': 5e-07,\n",
      " 'QB1.drive.frequency': 4125545769.6098022,\n",
      " 'QB1.flux.voltage': -0.19278427456300698,\n",
      " 'QB1.readout.average_response_e': 0.006816367663293804,\n",
      " 'QB1.readout.average_response_g': -0.0011533715161316659,\n",
      " 'QB1.readout.average_response_phase': -0.8662044568763143}\n"
     ]
    }
   ],
   "source": [
    "# get_calibration() returns the entire calibration set\n",
    "# here we filter the data by 'QB1'\n",
    "\n",
    "pprint({k: v for k, v in compiler.get_calibration().items() if k.startswith('QB1')})"
   ]
  },
  {
   "cell_type": "markdown",
   "id": "dd9d6ef4",
   "metadata": {},
   "source": [
    "`get_standard_compiler()` fetches the latest calibration set from the server. This network request takes a few moments. You may want to create many Compiler instances without such delay.\n",
    "\n",
    "It may also be possible that, due to human error, the latest calibration set stored on the server is invalid (or incompatible with your version of Pulla or IQM Pulse). In that case `get_standard_compiler()` will fail. \n",
    "\n",
    "To avoid this, you can pass the calibration set manually, and Pulla will construct the compiler with it instead of getting one from the server. If you want to reuse the calibration of an existing compiler, call `Compiler.get_calibration()`, e.g.:\n",
    "\n",
    "```python\n",
    "compiler_new = p.get_standard_compiler(calibration_set=compiler_old.get_calibration())\n",
    "```\n",
    "\n",
    "You can also get a specific calibration set from the server if you know its UUID by calling `Pulla.fetch_calibration_set_by_id()`, e.g.:\n",
    "\n",
    "```python\n",
    "specific_cal_set = p.fetch_calibration_set_by_id('fe026208-19aa-4906-93ab-06ba3c86100f')\n",
    "compiler = p.get_standard_compiler(calibration_set=specific_cal_set)\n",
    "```"
   ]
  },
  {
   "cell_type": "markdown",
   "id": "aaee44f7",
   "metadata": {},
   "source": [
    "The compiler initializes with the following default configuration options:\n",
    "\n",
    "- `circuit_boundary_mode='all'`\n",
    "- `measurement_mode='all'`\n",
    "- `heralding_mode='none'`\n",
    "- `dd_mode='none'`\n",
    "\n",
    "You can change them by changing the corresponding attributes of `compiler.options`."
   ]
  },
  {
   "cell_type": "markdown",
   "id": "3852e18e",
   "metadata": {},
   "source": [
    "## Complex readout\n",
    "\n",
    "For the `constant` implementation of the `measure` operation, the readout type is controlled by the `acquisition_type` parameter. By default, it's set to `\"threshold\"`. Let's change it to `\"complex\"`. The full key in the calibration set dictionary is `gates.measure.constant.QUBIT.acquisition_type`, where `QUBIT` is the physical qubit name. \n",
    "\n",
    "Note that we call `get_calibration()` to get a copy of the compiler's current calibration set, make changes to the copy, then replace the compiler's set with the copy. The compiler always contains a single calibration set only."
   ]
  },
  {
   "cell_type": "code",
   "execution_count": null,
   "id": "80d2c0a8",
   "metadata": {},
   "outputs": [
    {
     "name": "stdout",
     "output_type": "stream",
     "text": [
      "[10-31 18:58:18;I] Submitted sweep with ID: 50e6a9b0-b47c-4ef0-ab80-541b0b02eeba\n",
      "[10-31 18:58:18;I] Created task in queue with ID: 7d93b241-9303-483a-ba57-23ee4fb012cc\n",
      "[10-31 18:58:18;I] Sweep link: http://xld11-s2.xld11.iqm.fi/station/sweeps/50e6a9b0-b47c-4ef0-ab80-541b0b02eeba\n",
      "[10-31 18:58:18;I] Task link: http://xld11-s2.xld11.iqm.fi/station/tasks/7d93b241-9303-483a-ba57-23ee4fb012cc\n",
      "[10-31 18:58:18;I] Waiting for the sweep to finish...\n",
      "[10-31 18:58:20;I] Sweep status: SweepStatus.SUCCESS\n",
      "Raw results:\n",
      "[{'meas_3_1_2': [[(0.017560029610991477+0.001747127801179886j)], [(0.020133029192686083+0.0008924271911382675j)], [(0.017855847001075745+0.0019635492861270905j)], [(0.0017019706815481186-0.0004723154604434967j)], [(-0.005224970668554306-0.00043420156836509706j)], [(0.0007658885419368744-0.0012639837712049484j)], [(0.0028541987389326096-0.0008985150754451752j)], [(0.017014767691493033+0.0010119934976100921j)], [(0.017034811615943907+0.0012639050036668778j)], [(0.015309534698724748-0.002708324134349823j)]], 'meas_3_1_1': [[(0.019376286864280702-0.00210743710398674j)], [(0.018009518772363665-0.0030516235083341598j)], [(0.018922824278473853-0.003862631008028984j)], [(0.0014579930305480958-0.004029262945055962j)], [(-0.0010851595550775528-0.005570073902606964j)], [(0.002359690770506859-0.006554983094334602j)], [(0.0009728277027606964-0.004944017618894577j)], [(0.018303910166025162-0.0023298319429159164j)], [(0.012900233909487725-0.0029298262149095537j)], [(0.0015736334770917893-0.00441809307038784j)]], 'meas_3_1_0': [[(0.0027815798074007033+0.0021424723714590075j)], [(0.012645499736070633-0.0006962650120258332j)], [(0.013543942973017692-0.002404656171798706j)], [(-0.0006662311404943466+0.00016822126507759095j)], [(3.840082883834839e-05-0.002238329127430916j)], [(0.0014284905046224594-0.003383114218711853j)], [(0.0003444172292947769+0.0008650016337633133j)], [(0.011626350373029708-0.0031556818485260012j)], [(0.01110577204823494-0.003783987507224083j)], [(0.01471160139143467-0.0015116431415081023j)]]}]\n",
      "\n"
     ]
    }
   ],
   "source": [
    "cocos_url = os.environ['PULLA_COCOS_URL']                     # or set the URL directly here\n",
    "\n",
    "provider = IQMProvider(cocos_url)\n",
    "backend = provider.get_backend()\n",
    "shots = 10\n",
    "\n",
    "qc = QuantumCircuit(3, 3)\n",
    "qc.h(0)\n",
    "qc.cx(0, 1)\n",
    "qc.cx(0, 2)\n",
    "qc.measure_all()\n",
    "\n",
    "qc_transpiled = transpile(qc, backend=backend, layout_method='sabre', optimization_level=3)\n",
    "qc_optimized = optimize_single_qubit_gates(qc_transpiled)\n",
    "circuits, compiler = qiskit_to_pulla(p, backend, qc_optimized)\n",
    "\n",
    "updated_cal_set = compiler.get_calibration()\n",
    "for qubit in compiler.component_mapping.values():\n",
    "    updated_cal_set[f'gates.measure.constant.{qubit}.acquisition_type'] = 'complex'\n",
    "\n",
    "compiler.set_calibration(updated_cal_set)\n",
    "\n",
    "playlist, context = compiler.compile(circuits)\n",
    "settings, context = compiler.build_settings(context, shots=shots)\n",
    "response_data = p.execute(playlist, context, settings, verbose=False)\n",
    "\n",
    "# execute() returns a StationControlResult object; the measurements are in StationControlResult.result\n",
    "# in addition, by default execute() prints the measurement results; disable it with verbose=False\n",
    "\n",
    "print(f\"Raw results:\\n{response_data.result}\\n\")"
   ]
  }
 ],
 "metadata": {
  "kernelspec": {
   "display_name": "Python 3 (ipykernel)",
   "language": "python",
   "name": "python3"
  },
  "language_info": {
   "codemirror_mode": {
    "name": "ipython",
    "version": 3
   },
   "file_extension": ".py",
   "mimetype": "text/x-python",
   "name": "python",
   "nbconvert_exporter": "python",
   "pygments_lexer": "ipython3",
   "version": "3.11.9"
  }
 },
 "nbformat": 4,
 "nbformat_minor": 5
}
