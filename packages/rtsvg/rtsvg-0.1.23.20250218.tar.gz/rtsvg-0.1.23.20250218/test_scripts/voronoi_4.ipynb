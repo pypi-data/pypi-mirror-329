{
 "cells": [
  {
   "cell_type": "code",
   "execution_count": null,
   "metadata": {},
   "outputs": [],
   "source": [
    "import polars as pl\n",
    "import numpy as np\n",
    "import networkx as nx\n",
    "import random\n",
    "from math import cos, sin, pi ,sqrt\n",
    "import rtsvg\n",
    "rt  = rtsvg.RACETrack()\n",
    "# Circles\n",
    "#circles     = [(25,25,20),(80,80,30),(20,100,10),(25,60,5),(60,30,5),(48,48,6),(40,90,6),\n",
    "#               (100,20,10),(80,15,5)] # additions from earlier versions of this structure\n",
    "circles     = [(25,25,20),(80,80,30),(20,100,10),(25,60,5),(60,30,5),(48,48,6),(40,90,6)]\n",
    "svg_hdr     = f'<svg x=\"0\" y=\"0\" width=\"512\" height=\"512\" viewbox=\"0 0 128 128\"><rect x=\"0\" y=\"0\" width=\"128\" height=\"128\" fill=\"white\"/>'\n",
    "svg_circles = []\n",
    "for i in range(len(circles)): svg_circles.append(f'<circle cx=\"{circles[i][0]}\" cy=\"{circles[i][1]}\" r=\"{circles[i][2]}\" stroke=\"#000000\" fill=\"none\"/>')\n",
    "svg_ftr     = '</svg>'"
   ]
  },
  {
   "cell_type": "code",
   "execution_count": 2,
   "metadata": {},
   "outputs": [],
   "source": [
    "csample = [(25,25,20),(80,80,40),(20,100,10)]\n",
    "svg_csample = []\n",
    "for i in range(len(csample)): svg_csample.append(f'<circle cx=\"{csample[i][0]}\" cy=\"{csample[i][1]}\" r=\"{csample[i][2]}\" stroke=\"#000000\" fill=\"none\"/>')\n",
    "svg_grid    = []\n",
    "for x in range(0,128):\n",
    "    for y in range(0,128):\n",
    "        d0 = sqrt((x-csample[0][0])**2 + (y-csample[0][1])**2) - csample[0][2]\n",
    "        d1 = sqrt((x-csample[1][0])**2 + (y-csample[1][1])**2) - csample[1][2]\n",
    "        d2 = sqrt((x-csample[2][0])**2 + (y-csample[2][1])**2) - csample[2][2]\n",
    "        d  = abs(d2 - d1) + abs(d0 - d1) + abs(d0 - d2)\n",
    "        if d < 20.0:\n",
    "            _color_ = rt.co_mgr.spectrum(d, 0.0, 20.0) \n",
    "            svg_grid.append(f'<rect x=\"{x}\" y=\"{y}\" width=\"1\" height=\"1\" fill=\"{_color_}\"/>')\n",
    "for i in range(len(csample)):\n",
    "    for j in range(len(csample)):\n",
    "        if i == j: continue\n",
    "        c0    = csample[i]\n",
    "        c1    = csample[j]\n",
    "        uv    = rt.unitVector((c0,c1))\n",
    "        c0_xy = (c0[0] + uv[0]*c0[2], c0[1] + uv[1]*c0[2])\n",
    "        c1_xy = (c1[0] - uv[0]*c1[2], c1[1] - uv[1]*c1[2])\n",
    "        svg_grid.append(f'<line x1=\"{c0_xy[0]}\" y1=\"{c0_xy[1]}\" x2=\"{c1_xy[0]}\" y2=\"{c1_xy[1]}\" stroke=\"#ff0000\" stroke-width=\"0.05\"/>')\n",
    "        bisector_xy = ((c0_xy[0] + c1_xy[0])/2, (c0_xy[1] + c1_xy[1])/2)\n",
    "        #svg_grid.append(f'<circle cx=\"{bisector_xy[0]}\" cy=\"{bisector_xy[1]}\" r=\"0.1\" stroke=\"#000000\" fill=\"none\"/>')\n",
    "        uv_perp = (uv[1], -uv[0])\n",
    "        svg_grid.append(f'<line x1=\"{bisector_xy[0]}\" y1=\"{bisector_xy[1]}\" x2=\"{bisector_xy[0]+uv_perp[0]*100}\" y2=\"{bisector_xy[1]+uv_perp[1]*100}\" stroke=\"#0000ff\" stroke-width=\"0.2\"/>')\n",
    "_xy_ = rt.approxThreeCirclesCenter(csample[0], csample[1], csample[2])\n",
    "svg_grid.append(f'<circle cx=\"{_xy_[0]}\" cy=\"{_xy_[1]}\" r=\"2.0\" stroke=\"#000000\" fill=\"none\"/>')\n",
    "#rt.tile([svg_hdr + ''.join(svg_grid) + ''.join(svg_csample) + svg_ftr])"
   ]
  },
  {
   "cell_type": "code",
   "execution_count": null,
   "metadata": {},
   "outputs": [],
   "source": [
    "# Polygons\n",
    "polys = rt.isedgarVoronoi(circles, ((0.0,0.0),(0.0,128.0),(128.0,128.0),(128.0,0.0)), use_circle_radius=True)\n",
    "svg_polys, xy_seen = [], set()\n",
    "for i in range(len(polys)):\n",
    "    _poly_ = polys[i]\n",
    "    d      = f'M {_poly_[0][0]} {_poly_[0][1]} '\n",
    "    for j in range(1,len(_poly_)): d += f'L {_poly_[j][0]} {_poly_[j][1]} '\n",
    "    d     += f'Z'\n",
    "    svg_polys.append(f'<path d=\"{d}\" stroke=\"#000000\" stroke-width=\"0.1\" fill=\"none\"/>')\n",
    "    for j in range(len(_poly_)):\n",
    "        _xy_ = _poly_[j]\n",
    "        if _xy_ not in xy_seen: svg_polys.append(f'<circle cx=\"{_xy_[0]}\" cy=\"{_xy_[1]}\" r=\"{0.1+1.1*random.random()}\" stroke=\"#000000\" stroke-width=\"0.1\" fill=\"none\" />')\n",
    "        xy_seen.add(_xy_)\n",
    "\n",
    "def containsAnotherCircle(c0, c1, c2):\n",
    "    for _circle_ in circles:\n",
    "        if _circle_ == c0 or _circle_ == c1 or _circle_ == c2: continue\n",
    "        if rt.pointInTriangle((c0,c1,c2), _circle_): return True\n",
    "    return False\n",
    "\n",
    "# For all circles, draw the points between the three circles\n",
    "svg_inters = []\n",
    "for i in range(len(circles)):\n",
    "    c0 = circles[i]\n",
    "    for ii in range(i+1,len(circles)):\n",
    "        c1 = circles[ii]\n",
    "        for iii in range(ii+1,len(circles)):\n",
    "            c2 = circles[iii]\n",
    "            if i != ii and ii != iii and i != iii: # not the same circle\n",
    "                if (c1[1] - c0[1])*(c2[0] - c1[0]) != (c2[1] - c1[1]) * (c1[0] - c0[0]): # not colinear\n",
    "                    if containsAnotherCircle(c0, c1, c2): continue\n",
    "                    _xy_ = rt.approxThreeCirclesCenter(c0, c1, c2)\n",
    "                    svg_inters.append(f'<circle cx=\"{_xy_[0]}\" cy=\"{_xy_[1]}\" r=\"0.5\" stroke=\"none\" fill=\"#ff0000\"/>')\n",
    "               \n",
    "rt.tile([svg_hdr + ''.join(svg_inters) + ''.join(svg_polys) + ''.join(svg_circles) + svg_ftr])"
   ]
  },
  {
   "cell_type": "code",
   "execution_count": null,
   "metadata": {},
   "outputs": [],
   "source": []
  }
 ],
 "metadata": {
  "kernelspec": {
   "display_name": ".venv",
   "language": "python",
   "name": "python3"
  },
  "language_info": {
   "codemirror_mode": {
    "name": "ipython",
    "version": 3
   },
   "file_extension": ".py",
   "mimetype": "text/x-python",
   "name": "python",
   "nbconvert_exporter": "python",
   "pygments_lexer": "ipython3",
   "version": "3.12.3"
  }
 },
 "nbformat": 4,
 "nbformat_minor": 2
}
