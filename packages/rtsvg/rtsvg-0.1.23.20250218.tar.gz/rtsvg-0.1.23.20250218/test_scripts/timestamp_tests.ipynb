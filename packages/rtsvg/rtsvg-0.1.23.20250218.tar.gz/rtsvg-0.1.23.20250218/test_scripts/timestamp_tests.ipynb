{
 "cells": [
  {
   "cell_type": "code",
   "execution_count": null,
   "metadata": {},
   "outputs": [],
   "source": [
    "import pandas as pd\n",
    "import polars as pl\n",
    "import numpy  as np\n",
    "import sys\n",
    "sys.path.insert(1, '../rtsvg')\n",
    "from rtsvg import *\n",
    "rt = RACETrack()"
   ]
  },
  {
   "cell_type": "code",
   "execution_count": null,
   "metadata": {},
   "outputs": [],
   "source": [
    "examples = ['1985-04-12T23:20:50.52Z',      # Examples from https://www.rfc-editor.org/rfc/rfc3339\n",
    "            '1985-04-12T23:20:50.5Z',\n",
    "            '1996-12-19T16:39:57-08:00',\n",
    "            '1990-12-31T23:59:59Z',\n",
    "            '1990-12-31T15:59:02-08:00',\n",
    "            '1937-01-01T12:00:27.87+00:20',\n",
    "            '1992-02-01',\n",
    "            '1992-12',\n",
    "            '1992',\n",
    "            '1985-04-12 23:20:50.52',\n",
    "            '1996-12-19 16:39:57',\n",
    "            '1990-12-31 23:59:32',\n",
    "            '1990-12-31 15:59',\n",
    "            '1937-01-01 12:00']\n",
    "\n",
    "for x in examples:\n",
    "    try:\n",
    "        df = pd.DataFrame({'timestamp': [x]})\n",
    "        df = rt.columnsAreTimestamps(df, 'timestamp')\n",
    "        pd_ok = True\n",
    "    except:\n",
    "        pd_ok = False\n",
    "    try:\n",
    "        df = pl.DataFrame({'timestamp': [x]})\n",
    "        df = rt.columnsAreTimestamps(df, 'timestamp')\n",
    "        pl_ok = True\n",
    "    except:\n",
    "        pl_ok = False\n",
    "    as_str = '\"' + str(x) + '\"'\n",
    "    print(f'{as_str:40}\\t{pd_ok}\\t{pl_ok}\\t{pd.to_datetime(x)}')"
   ]
  },
  {
   "cell_type": "code",
   "execution_count": null,
   "metadata": {},
   "outputs": [],
   "source": [
    "from datetime import datetime\n",
    "for x in examples:\n",
    "    format = rt.guessTimestampFormat(x)\n",
    "    x_as_str = '\"' + x + '\"'\n",
    "    try:\n",
    "        datetime.strptime(x, format)\n",
    "        strptime_status = True\n",
    "    except:\n",
    "        strptime_status = False\n",
    "    print(f'{x_as_str:32}\\t{format:16}\\t{strptime_status}')"
   ]
  },
  {
   "cell_type": "code",
   "execution_count": null,
   "metadata": {},
   "outputs": [],
   "source": []
  }
 ],
 "metadata": {
  "kernelspec": {
   "display_name": "Python 3",
   "language": "python",
   "name": "python3"
  },
  "language_info": {
   "codemirror_mode": {
    "name": "ipython",
    "version": 3
   },
   "file_extension": ".py",
   "mimetype": "text/x-python",
   "name": "python",
   "nbconvert_exporter": "python",
   "pygments_lexer": "ipython3",
   "version": "3.11.7"
  }
 },
 "nbformat": 4,
 "nbformat_minor": 2
}
