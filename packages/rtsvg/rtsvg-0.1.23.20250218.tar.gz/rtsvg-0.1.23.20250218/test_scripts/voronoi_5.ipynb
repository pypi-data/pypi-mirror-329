{
 "cells": [
  {
   "cell_type": "code",
   "execution_count": null,
   "metadata": {},
   "outputs": [],
   "source": [
    "import polars as pl\n",
    "import numpy as np\n",
    "import networkx as nx\n",
    "import random\n",
    "from math import cos, sin, pi ,sqrt\n",
    "import rtsvg\n",
    "rt  = rtsvg.RACETrack()\n",
    "svg_hdr     = f'<svg x=\"0\" y=\"0\" width=\"512\" height=\"512\" viewbox=\"0 0 128 128\"><rect x=\"0\" y=\"0\" width=\"128\" height=\"128\" fill=\"white\"/>'\n",
    "svg_ftr     = '</svg>'"
   ]
  },
  {
   "cell_type": "code",
   "execution_count": null,
   "metadata": {},
   "outputs": [],
   "source": [
    "def makeRandomCircles(_num_=4):\n",
    "    overlap = True\n",
    "    while overlap:\n",
    "        circles = []\n",
    "        for i in range(_num_):\n",
    "            x = random.uniform(30,98)\n",
    "            y = random.uniform(30,98)\n",
    "            r = random.uniform(5,30)\n",
    "            circles.append((x,y,r))\n",
    "        overlap = False\n",
    "        for i in range(_num_):\n",
    "            for j in range(i+1,_num_):\n",
    "                if sqrt((circles[i][0]-circles[j][0])**2 + (circles[i][1]-circles[j][1])**2) < (circles[i][2] + circles[j][2] + 10): # make sure they are at least 20 units apart\n",
    "                    overlap = True\n",
    "    return circles\n",
    "\n",
    "tiles = []\n",
    "for _sample_ in range(90):\n",
    "    _circles_ = makeRandomCircles(4)\n",
    "    _svg_     = []\n",
    "    for _circle_ in _circles_: _svg_.append(f'<circle cx=\"{_circle_[0]}\" cy=\"{_circle_[1]}\" r=\"{_circle_[2]}\" fill=\"none\" stroke=\"#c0c0c0\" stroke-width=\"1.2\"/>')\n",
    "    _polys_   = rt.isedgarVoronoi(_circles_, [(0,0),(0,128),(128,128),(128,0)], use_circle_radius=True)\n",
    "    _seen_    = set()\n",
    "    for _poly_ in _polys_:\n",
    "        _xy_ = _poly_[0]\n",
    "        if _xy_ not in _seen_:\n",
    "            _svg_.append(f'<circle cx=\"{_xy_[0]}\" cy=\"{_xy_[1]}\" r=\"{1+1.5*random.random()}\" fill=\"none\" stroke=\"black\" stroke-width=\"0.1\"/>')\n",
    "            _seen_.add(_xy_)\n",
    "        d = f'M {_xy_[0]} {_xy_[1]} '\n",
    "        for _xy_ in _poly_[1:]:\n",
    "            if _xy_ not in _seen_:\n",
    "                _svg_.append(f'<circle cx=\"{_xy_[0]}\" cy=\"{_xy_[1]}\" r=\"{1+1.5*random.random()}\" fill=\"none\" stroke=\"black\" stroke-width=\"0.1\"/>')\n",
    "                _seen_.add(_xy_) \n",
    "            d += f'L {_xy_[0]} {_xy_[1]} '\n",
    "        d += 'Z'\n",
    "        _svg_.append(f'<path d=\"{d}\" fill=\"none\" stroke=\"black\" stroke-width=\"0.5\"/>')\n",
    "    for i in range(len(_circles_)):\n",
    "        c0, c1, c2 = _circles_[i], _circles_[(i+1)%len(_circles_)], _circles_[(i+2)%len(_circles_)]\n",
    "        if (c1[1] - c0[1])*(c2[0] - c1[0]) != (c2[1] - c1[1]) * (c1[0] - c0[0]): # not colinear\n",
    "            _xy_ = rt.approxThreeCirclesCenter(c0, c1, c2)\n",
    "            _svg_.append(f'<circle cx=\"{_xy_[0]}\" cy=\"{_xy_[1]}\" r=\"3\" fill=\"none\" stroke=\"red\" stroke-width=\"0.1\"/>')\n",
    "            _svg_.append(f'<circle cx=\"{_xy_[0]}\" cy=\"{_xy_[1]}\" r=\"0.3\" fill=\"red\" stroke=\"none\"/>')\n",
    "    tiles.append(svg_hdr + ''.join(_svg_) + svg_ftr)\n",
    "rt.table(tiles, per_row=3,spacer=2)"
   ]
  },
  {
   "cell_type": "code",
   "execution_count": null,
   "metadata": {},
   "outputs": [],
   "source": []
  }
 ],
 "metadata": {
  "kernelspec": {
   "display_name": ".venv",
   "language": "python",
   "name": "python3"
  },
  "language_info": {
   "codemirror_mode": {
    "name": "ipython",
    "version": 3
   },
   "file_extension": ".py",
   "mimetype": "text/x-python",
   "name": "python",
   "nbconvert_exporter": "python",
   "pygments_lexer": "ipython3",
   "version": "3.12.3"
  }
 },
 "nbformat": 4,
 "nbformat_minor": 2
}
