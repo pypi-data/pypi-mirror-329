{
 "cells": [
  {
   "cell_type": "markdown",
   "id": "6bcb66e9",
   "metadata": {
    "lines_to_next_cell": 2
   },
   "source": [
    "# Examples for Name Matching (using Pandas)\n",
    "\n",
    "This notebook illustrate basic usage of name matching algorithm from the `entity_matching_model` package."
   ]
  },
  {
   "cell_type": "code",
   "execution_count": null,
   "id": "ee1200ba",
   "metadata": {},
   "outputs": [],
   "source": [
    "import emm"
   ]
  },
  {
   "cell_type": "code",
   "execution_count": null,
   "id": "7a26d2e6",
   "metadata": {
    "lines_to_next_cell": 2,
    "tags": [
     "keep_output"
    ]
   },
   "outputs": [],
   "source": [
    "import pandas as pd\n",
    "from emm import PandasEntityMatching\n",
    "import warnings\n",
    "warnings.filterwarnings(\"ignore\")"
   ]
  },
  {
   "cell_type": "code",
   "execution_count": null,
   "id": "6b790223",
   "metadata": {
    "tags": [
     "keep_output"
    ]
   },
   "outputs": [],
   "source": [
    "gt = pd.DataFrame([\n",
    "    (1, 'John Smith LLC'),\n",
    "    (2, 'ING LLC'),\n",
    "    (3, 'John Doe LLC'),\n",
    "    (4, 'Zhe Sun G.M.B.H'),\n",
    "    (5, 'Random GMBH'),\n",
    "], columns=['id', 'name'])\n",
    "display(gt)"
   ]
  },
  {
   "cell_type": "markdown",
   "id": "6c1abd03",
   "metadata": {},
   "source": [
    "Prepare very simple supervised model (only for illustration purposes).\n",
    "For production usage use model trained by Core Algo or train your own on real data."
   ]
  },
  {
   "cell_type": "code",
   "execution_count": null,
   "id": "a6cbe05d",
   "metadata": {
    "tags": [
     "keep_output"
    ]
   },
   "outputs": [],
   "source": [
    "from emm.supervised_model.base_supervised_model import train_test_model\n",
    "from emm.helper.io import save_file\n",
    "from emm.data import create_training_data\n",
    "\n",
    "df, vocabulary = create_training_data()\n",
    "sem, _= train_test_model(df, vocabulary, name_only=False)\n",
    "save_file(\"sem.pkl\", sem)\n",
    "sem_nm, _ = train_test_model(df, vocabulary, name_only=True)\n",
    "save_file(\"sem_nm.pkl\", sem_nm)"
   ]
  },
  {
   "cell_type": "code",
   "execution_count": null,
   "id": "207b90cd",
   "metadata": {
    "tags": [
     "keep_output"
    ]
   },
   "outputs": [],
   "source": [
    "# instantiate a matching model\n",
    "nm = PandasEntityMatching({\n",
    "    'name_only': True,\n",
    "    'preprocessor': 'preprocess_merge_abbr',\n",
    "    'indexers': [{\n",
    "        'type': 'cosine_similarity',\n",
    "        'tokenizer': 'words',\n",
    "        'ngram': 1,\n",
    "        'num_candidates': 5,\n",
    "        'cos_sim_lower_bound': 0.2,\n",
    "    }],\n",
    "    'supervised_on': True,\n",
    "    'supervised_model_filename': 'sem_nm.pkl',\n",
    "    'supervised_model_dir': '.',\n",
    "})\n",
    "\n",
    "# matching of names is done against the ground-truth dataset (gt).\n",
    "# for this we need to fit our indexers to the ground-truth.\n",
    "nm.fit(gt)"
   ]
  },
  {
   "cell_type": "code",
   "execution_count": null,
   "id": "fd4d4319",
   "metadata": {},
   "outputs": [],
   "source": [
    "# store the model, we will load it again later.\n",
    "nm.save(\"serialized_em_nm.pkl\")"
   ]
  },
  {
   "cell_type": "markdown",
   "id": "d1fb0dac",
   "metadata": {},
   "source": [
    "## Name matching without supervised model"
   ]
  },
  {
   "cell_type": "markdown",
   "id": "d766705f",
   "metadata": {},
   "source": [
    "Name matching using basic preprocessing, word tokenization and cosine similarity. \n",
    "This example is not using any supervised model. The candidate score is just a cosine similarity value."
   ]
  },
  {
   "cell_type": "code",
   "execution_count": null,
   "id": "c99baf63",
   "metadata": {
    "tags": [
     "keep_output"
    ]
   },
   "outputs": [],
   "source": [
    "nm = PandasEntityMatching({\n",
    "    'name_only': True,\n",
    "    'entity_id_col': 'id',\n",
    "    'name_col': 'name',\n",
    "    'preprocessor': 'preprocess_merge_abbr',\n",
    "    'indexers': [{\n",
    "        'type': 'cosine_similarity',\n",
    "        'tokenizer': 'words',\n",
    "        'ngram': 1,\n",
    "        'num_candidates': 5,\n",
    "        'cos_sim_lower_bound': 0.2,\n",
    "    }],\n",
    "    'supervised_on': False,\n",
    "})\n",
    "nm.fit(gt)\n",
    "res = nm.transform(pd.DataFrame([\n",
    "    (10, 'John Smith'),\n",
    "    (11, 'I.n.G. LLC'),\n",
    "    (12, 'Jon DOEE LLC'), # this will not be matched due to mispellings\n",
    "], columns=['id', 'name']))\n",
    "display(res)"
   ]
  },
  {
   "cell_type": "markdown",
   "id": "1dc53902",
   "metadata": {},
   "source": [
    "Name matching using basic preprocessing, 2-characters ngram tokenization and cosine similarity. \n",
    "This example is not using any supervised model. The candidate score is just a cosine similarity value."
   ]
  },
  {
   "cell_type": "code",
   "execution_count": null,
   "id": "2d72c421",
   "metadata": {
    "tags": [
     "keep_output"
    ]
   },
   "outputs": [],
   "source": [
    "nm = PandasEntityMatching({\n",
    "    'name_only': True,\n",
    "    'entity_id_col': 'id',\n",
    "    'name_col': 'name',\n",
    "    'preprocessor': 'preprocess_merge_abbr',\n",
    "    'indexers': [{\n",
    "        'type': 'cosine_similarity',\n",
    "        'tokenizer': 'characters',\n",
    "        'ngram': 2,\n",
    "        'num_candidates': 5,\n",
    "        'cos_sim_lower_bound': 0.2,\n",
    "    }],\n",
    "    'supervised_on': False,\n",
    "})\n",
    "nm.fit(gt)\n",
    "res = nm.transform(pd.DataFrame([\n",
    "    (10, 'John Smith'),\n",
    "    (11, 'I.n.G. LLC'),\n",
    "    (12, 'Jon DOEE LLC'),  # it will not be matched due to mispellings\n",
    "], columns=['id', 'name']))\n",
    "display(res)"
   ]
  },
  {
   "cell_type": "markdown",
   "id": "db2bec55",
   "metadata": {},
   "source": [
    "Name matching using basic preprocessing and two indexers (word & ngram cosine similarity). \n",
    "This example is not using any supervised model."
   ]
  },
  {
   "cell_type": "code",
   "execution_count": null,
   "id": "921cf382",
   "metadata": {
    "tags": [
     "keep_output"
    ]
   },
   "outputs": [],
   "source": [
    "nm = PandasEntityMatching({\n",
    "    'name_only': True,\n",
    "    'entity_id_col': 'id',\n",
    "    'name_col': 'name',\n",
    "    'preprocessor': 'preprocess_merge_abbr',\n",
    "    'indexers': [\n",
    "        {'type': 'cosine_similarity', 'tokenizer': 'words', 'ngram': 1, 'num_candidates': 5, 'cos_sim_lower_bound': 0.2},\n",
    "        {'type': 'cosine_similarity', 'tokenizer': 'characters', 'ngram': 2, 'num_candidates': 5, 'cos_sim_lower_bound': 0.2},\n",
    "    ],\n",
    "    'supervised_on': False,\n",
    "})\n",
    "nm.fit(gt)\n",
    "res = nm.transform(pd.DataFrame([\n",
    "    (10, 'John Smith'),\n",
    "    (11, 'I.n.G. LLC'),\n",
    "    (12, 'Jon DOEE LLC'),\n",
    "], columns=['id', 'name']))\n",
    "display(res)"
   ]
  },
  {
   "cell_type": "markdown",
   "id": "e7809b25",
   "metadata": {},
   "source": [
    "Name matching using basic preprocessing with Sorted Neighbourhood indexing. \n",
    "This example is not using any supervised model. The candidate score is just a SNI distance (normalized to range 0-1)."
   ]
  },
  {
   "cell_type": "code",
   "execution_count": null,
   "id": "9b8b0df2",
   "metadata": {
    "tags": [
     "keep_output"
    ]
   },
   "outputs": [],
   "source": [
    "nm = PandasEntityMatching({\n",
    "    'name_only': True,\n",
    "    'uid_col': 'uid',\n",
    "    'entity_id_col': 'id',\n",
    "    'name_col': 'name',\n",
    "    'preprocessor': 'preprocess_merge_abbr',\n",
    "    'indexers': [\n",
    "        {'type': 'sni', 'window_length': 3},\n",
    "    ],\n",
    "    'supervised_on': False,\n",
    "})\n",
    "nm.fit(gt)\n",
    "res = nm.transform(pd.DataFrame([\n",
    "    (10, 'Jo S'),\n",
    "    (11, 'InG. LLC'),\n",
    "    (12, 'Jon DOEE LLC'),\n",
    "], columns=['id', 'name']))\n",
    "display(res)"
   ]
  },
  {
   "cell_type": "markdown",
   "id": "6a29ac57",
   "metadata": {},
   "source": [
    "You can also define custom function that transforms names before SNI, for example: reversing names"
   ]
  },
  {
   "cell_type": "code",
   "execution_count": null,
   "id": "5d129035",
   "metadata": {
    "lines_to_next_cell": 2,
    "tags": [
     "keep_output"
    ]
   },
   "outputs": [],
   "source": [
    "reverse_name = lambda x: x[::-1]\n",
    "nm = PandasEntityMatching({\n",
    "    'name_only': True,\n",
    "    'uid_col': 'uid',\n",
    "    'entity_id_col': 'id',\n",
    "    'name_col': 'name',\n",
    "    'preprocessor': 'preprocess_merge_abbr',\n",
    "    'indexers': [\n",
    "        {'type': 'sni', 'window_length': 3, 'mapping_func': reverse_name},\n",
    "    ],\n",
    "    'supervised_on': False,\n",
    "})\n",
    "nm.fit(gt)\n",
    "res = nm.transform(pd.DataFrame([\n",
    "    (11, 'a InG. LLC'),\n",
    "    (12, 'ING. LLC ZZZ'),\n",
    "    (13, 'John Smith LLC'),\n",
    "], columns=['id', 'name']))\n",
    "display(res)"
   ]
  },
  {
   "cell_type": "markdown",
   "id": "53bd9c55",
   "metadata": {},
   "source": [
    "Name matching using blocking function (it will generate only those candidate pairs that have the same value of blocking function)."
   ]
  },
  {
   "cell_type": "code",
   "execution_count": null,
   "id": "787242bc",
   "metadata": {
    "tags": [
     "keep_output"
    ]
   },
   "outputs": [],
   "source": [
    "first_character = lambda x: x[0] if len(x) > 0 else '?'\n",
    "\n",
    "nm = PandasEntityMatching({\n",
    "    'name_only': True,\n",
    "    'uid_col': 'uid',\n",
    "    'entity_id_col': 'id',\n",
    "    'name_col': 'name',\n",
    "    'preprocessor': 'preprocess_merge_abbr',\n",
    "    'indexers': [\n",
    "        {'type': 'cosine_similarity', 'tokenizer': 'characters', 'ngram': 1, 'blocking_func': first_character},\n",
    "    ],\n",
    "    'supervised_on': False,\n",
    "})\n",
    "nm.fit(gt)\n",
    "res = nm.transform(pd.DataFrame([\n",
    "    (10, '!notING'),  # it will not be matched due to different value of blocking function (first character)\n",
    "    (11, 'ING'),\n",
    "], columns=['id', 'name']))\n",
    "display(res)"
   ]
  },
  {
   "cell_type": "markdown",
   "id": "c6d42168",
   "metadata": {},
   "source": [
    "## Name matching with supervised model"
   ]
  },
  {
   "cell_type": "code",
   "execution_count": null,
   "id": "af106830",
   "metadata": {
    "tags": [
     "keep_output"
    ]
   },
   "outputs": [],
   "source": [
    "nm = PandasEntityMatching({\n",
    "    'name_only': True,\n",
    "    'entity_id_col': 'id',\n",
    "    'name_col': 'name',\n",
    "    'preprocessor': 'preprocess_merge_abbr',\n",
    "    'indexers': [{\n",
    "        'type': 'cosine_similarity',\n",
    "        'tokenizer': 'characters',\n",
    "        'ngram': 2,\n",
    "        'num_candidates': 5,\n",
    "        'cos_sim_lower_bound': 0.2,\n",
    "    }],\n",
    "    'supervised_on': True,\n",
    "    'supervised_model_filename': 'sem_nm.pkl',\n",
    "    'supervised_model_dir': '.',\n",
    "})\n",
    "nm.fit(gt)\n",
    "res = nm.transform(pd.DataFrame([\n",
    "    (10, 'John Smith'),\n",
    "    (11, 'I.n.G. LLC'),\n",
    "    (12, 'Jon DOEE LLC'),\n",
    "], columns=['id', 'name']))\n",
    "display(res)"
   ]
  },
  {
   "cell_type": "markdown",
   "id": "18747133",
   "metadata": {},
   "source": [
    "## Name matching using multiple indexers"
   ]
  },
  {
   "cell_type": "code",
   "execution_count": null,
   "id": "fddf41fa",
   "metadata": {
    "tags": [
     "keep_output"
    ]
   },
   "outputs": [],
   "source": [
    "nm = PandasEntityMatching({\n",
    "    'name_only': True,\n",
    "    'entity_id_col': 'id',\n",
    "    'name_col': 'name',\n",
    "    'preprocessor': 'preprocess_merge_abbr',\n",
    "    'indexers': [\n",
    "        {'type': 'cosine_similarity', 'tokenizer': 'words', 'ngram': 1, 'num_candidates': 5, 'cos_sim_lower_bound': 0.2},\n",
    "        {'type': 'cosine_similarity', 'tokenizer': 'characters', 'ngram': 2, 'num_candidates': 5, 'cos_sim_lower_bound': 0.2},\n",
    "        {'type': 'sni', 'window_length': 3},\n",
    "    ],\n",
    "    'supervised_on': False,\n",
    "})\n",
    "nm.fit(gt)\n",
    "res = nm.transform(pd.DataFrame([\n",
    "    (10, 'John Smith'),\n",
    "    (11, 'I.n.G. LLC'),\n",
    "    (12, 'Jon DOEE LLC'),\n",
    "    (14, 'Z'),  # this will be matched only by SNI\n",
    "], columns=['id', 'name']))\n",
    "display(res)"
   ]
  },
  {
   "cell_type": "markdown",
   "id": "c65dc273",
   "metadata": {},
   "source": [
    "## Name matching from serialized model"
   ]
  },
  {
   "cell_type": "markdown",
   "id": "704dc179",
   "metadata": {},
   "source": [
    "The persisted model is pandas only. A loaded model no longer needs to be fit to the ground-truth data.\n",
    "In particular for large datasets (e.g. > 100k names in the ground truth), this can save quite a bit of time when reusing a trained entity-matching model."
   ]
  },
  {
   "cell_type": "code",
   "execution_count": null,
   "id": "9fb0b5ec",
   "metadata": {
    "tags": [
     "keep_output"
    ]
   },
   "outputs": [],
   "source": [
    "nm = PandasEntityMatching.load(\"serialized_em_nm.pkl\")\n",
    "res = nm.transform(pd.DataFrame([\n",
    "    (10, 'John Smith'),\n",
    "    (11, 'I.n.G. LLC'),\n",
    "    (12, 'Jon DOE LLC'),\n",
    "], columns=['id', 'name']))\n",
    "display(res)"
   ]
  },
  {
   "cell_type": "code",
   "execution_count": null,
   "id": "1dc3cbd2",
   "metadata": {},
   "outputs": [],
   "source": []
  }
 ],
 "metadata": {
  "kernelspec": {
   "display_name": "Python 3 (ipykernel)",
   "language": "python",
   "name": "python3"
  },
  "language_info": {
   "codemirror_mode": {
    "name": "ipython",
    "version": 3
   },
   "file_extension": ".py",
   "mimetype": "text/x-python",
   "name": "python",
   "nbconvert_exporter": "python",
   "pygments_lexer": "ipython3",
   "version": "3.10.6"
  }
 },
 "nbformat": 4,
 "nbformat_minor": 5
}
