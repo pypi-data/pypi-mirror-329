{
 "cells": [
  {
   "cell_type": "markdown",
   "id": "8541edf3",
   "metadata": {
    "lines_to_next_cell": 2
   },
   "source": [
    "# Examples for Name Matching (using Spark)\n",
    "\n",
    "This notebook illustrate basic usage of name matching algorithm from the `entity_matching_model` package."
   ]
  },
  {
   "cell_type": "code",
   "execution_count": null,
   "id": "5735840a",
   "metadata": {
    "tags": [
     "keep_output"
    ]
   },
   "outputs": [],
   "source": [
    "import emm"
   ]
  },
  {
   "cell_type": "code",
   "execution_count": null,
   "id": "a6716056",
   "metadata": {
    "tags": [
     "keep_output"
    ]
   },
   "outputs": [],
   "source": [
    "from pyspark import SparkConf\n",
    "from pyspark.sql import SparkSession\n",
    "from emm import SparkEntityMatching\n",
    "\n",
    "import warnings\n",
    "warnings.filterwarnings(\"ignore\")"
   ]
  },
  {
   "cell_type": "code",
   "execution_count": null,
   "id": "4f825c9a",
   "metadata": {
    "tags": [
     "keep_output"
    ]
   },
   "outputs": [],
   "source": [
    "# create spark session\n",
    "conf = {\n",
    "\"spark.driver.memory\": \"4G\",\n",
    "\"spark.driver.memoryOverhead\": \"4G\",\n",
    "\"spark.driver.maxResultSize\": \"1G\",\n",
    "\"spark.executor.memory\": \"4G\",\n",
    "\"spark.executor.memoryOverhead\": \"4G\",\n",
    "\"spark.sql.shuffle.partitions\": 1,  # because in examples we use very small datasets\n",
    "}\n",
    "\n",
    "conf = [(k, v) for k, v in conf.items()]\n",
    "config = SparkConf().setAll(conf)\n",
    "\n",
    "spark_session = SparkSession.builder.appName(\"Spark EMM Example\").config(conf=config)\n",
    "spark = spark_session.getOrCreate()\n"
   ]
  },
  {
   "cell_type": "code",
   "execution_count": null,
   "id": "3ad7acea",
   "metadata": {
    "tags": [
     "keep_output"
    ]
   },
   "outputs": [],
   "source": [
    "gt = spark.createDataFrame([\n",
    "    (1, 'John Smith LLC'),\n",
    "    (2, 'ING LLC'),\n",
    "    (3, 'John Doe LLC'),\n",
    "    (4, 'Zhe Sun G.M.B.H'),\n",
    "    (5, 'Random GMBH'),\n",
    "], ['id', 'name'])\n",
    "gt.show(10, False)"
   ]
  },
  {
   "cell_type": "markdown",
   "id": "a6ea7113",
   "metadata": {},
   "source": [
    "Prepare very simple supervised model (only for illustration purposes).\n",
    "For production usage use model trained by Core Algo or train your own on real data."
   ]
  },
  {
   "cell_type": "code",
   "execution_count": null,
   "id": "d1b9b214",
   "metadata": {
    "tags": [
     "keep_output"
    ]
   },
   "outputs": [],
   "source": [
    "from emm.supervised_model.base_supervised_model import train_test_model\n",
    "from emm.helper.io import save_file\n",
    "from emm.data import create_training_data\n",
    "\n",
    "df, vocabulary = create_training_data()\n",
    "sem, _= train_test_model(df, vocabulary, name_only=False)\n",
    "save_file(\"sem.pkl\", sem)\n",
    "sem_nm, _ = train_test_model(df, vocabulary, name_only=True)\n",
    "save_file(\"sem_nm.pkl\", sem_nm)"
   ]
  },
  {
   "cell_type": "code",
   "execution_count": null,
   "id": "8ceee9cc",
   "metadata": {
    "tags": [
     "keep_output"
    ]
   },
   "outputs": [],
   "source": [
    "nm = SparkEntityMatching({\n",
    "    'name_only': True,\n",
    "    'preprocessor': 'preprocess_merge_abbr',\n",
    "    'indexers': [{\n",
    "        'type': 'cosine_similarity',\n",
    "        'tokenizer': 'words',\n",
    "        'ngram': 1,\n",
    "        'num_candidates': 5,\n",
    "        'cos_sim_lower_bound': 0.2,\n",
    "    }],\n",
    "    'supervised_on': True,\n",
    "    'supervised_model_filename': 'sem_nm.pkl',\n",
    "    'supervised_model_dir': '.',\n",
    "})\n",
    "nm.write().overwrite().save(\"serialized_em_nm.pkl\")"
   ]
  },
  {
   "cell_type": "markdown",
   "id": "7eac161f",
   "metadata": {},
   "source": [
    "## Name matching without supervised model"
   ]
  },
  {
   "cell_type": "markdown",
   "id": "ba47032f",
   "metadata": {},
   "source": [
    "Name matching using basic preprocessing, word tokenization and cosine similarity. \n",
    "This example is not using any supervised model. The candidate score is just a cosine similarity value."
   ]
  },
  {
   "cell_type": "code",
   "execution_count": null,
   "id": "86a8dafe",
   "metadata": {
    "tags": [
     "keep_output"
    ]
   },
   "outputs": [],
   "source": [
    "nm = SparkEntityMatching({\n",
    "    'name_only': True,\n",
    "    'entity_id_col': 'id',\n",
    "    'name_col': 'name',\n",
    "    'preprocessor': 'preprocess_merge_abbr',\n",
    "    'indexers': [{\n",
    "        'type': 'cosine_similarity',\n",
    "        'tokenizer': 'words',\n",
    "        'ngram': 1,\n",
    "        'num_candidates': 5,\n",
    "        'cos_sim_lower_bound': 0.2,\n",
    "    }],\n",
    "    'supervised_on': False,\n",
    "})\n",
    "nm.fit(gt)"
   ]
  },
  {
   "cell_type": "code",
   "execution_count": null,
   "id": "84d5a43d",
   "metadata": {},
   "outputs": [],
   "source": [
    "res = nm.transform(spark.createDataFrame([\n",
    "    (10, 'John Smith'),\n",
    "    (11, 'I.n.G. LLC'),\n",
    "    (12, 'Jon DOEE LLC'), # this will not be matched due to mispellings\n",
    "], ['id', 'name']))\n",
    "res.show(10, False)"
   ]
  },
  {
   "cell_type": "markdown",
   "id": "52076245",
   "metadata": {},
   "source": [
    "Name matching using basic preprocessing, 2-characters ngram tokenization and cosine similarity. \n",
    "This example is not using any supervised model. The candidate score is just a cosine similarity value."
   ]
  },
  {
   "cell_type": "code",
   "execution_count": null,
   "id": "dba8e34b",
   "metadata": {
    "tags": [
     "keep_output"
    ]
   },
   "outputs": [],
   "source": [
    "nm = SparkEntityMatching({\n",
    "    'name_only': True,\n",
    "    'entity_id_col': 'id',\n",
    "    'name_col': 'name',\n",
    "    'preprocessor': 'preprocess_merge_abbr',\n",
    "    'indexers': [{\n",
    "        'type': 'cosine_similarity',\n",
    "        'tokenizer': 'characters',\n",
    "        'ngram': 2,\n",
    "        'num_candidates': 5,\n",
    "        'cos_sim_lower_bound': 0.2,\n",
    "    }],\n",
    "    'supervised_on': False,\n",
    "})\n",
    "nm.fit(gt)\n",
    "res = nm.transform(spark.createDataFrame([\n",
    "    (10, 'John Smith'),\n",
    "    (11, 'I.n.G. LLC'),\n",
    "    (12, 'Jon DOEE LLC'),  # it will not be matched due to mispellings\n",
    "], ['id', 'name']))\n",
    "res.show(10, False)"
   ]
  },
  {
   "cell_type": "markdown",
   "id": "1aedc821",
   "metadata": {},
   "source": [
    "Name matching using basic preprocessing and two indexers (word & ngram cosine similarity). \n",
    "This example is not using any supervised model."
   ]
  },
  {
   "cell_type": "code",
   "execution_count": null,
   "id": "02b9874a",
   "metadata": {
    "tags": [
     "keep_output"
    ]
   },
   "outputs": [],
   "source": [
    "nm = SparkEntityMatching({\n",
    "    'name_only': True,\n",
    "    'entity_id_col': 'id',\n",
    "    'name_col': 'name',\n",
    "    'preprocessor': 'preprocess_merge_abbr',\n",
    "    'indexers': [\n",
    "        {'type': 'cosine_similarity', 'tokenizer': 'words', 'ngram': 1, 'num_candidates': 5, 'cos_sim_lower_bound': 0.2},\n",
    "        {'type': 'cosine_similarity', 'tokenizer': 'characters', 'ngram': 2, 'num_candidates': 5, 'cos_sim_lower_bound': 0.2},\n",
    "    ],\n",
    "    'supervised_on': False,\n",
    "})\n",
    "nm.fit(gt)\n",
    "res = nm.transform(spark.createDataFrame([\n",
    "    (10, 'John Smith'),\n",
    "    (11, 'I.n.G. LLC'),\n",
    "    (12, 'Jon DOEE LLC'),\n",
    "], ['id', 'name']))\n",
    "res.show(10, False)"
   ]
  },
  {
   "cell_type": "markdown",
   "id": "5e3a083d",
   "metadata": {},
   "source": [
    "Name matching using basic preprocessing with Sorted Neighbourhood indexing. \n",
    "This example is not using any supervised model. The candidate score is just a SNI distance (normalized to range 0-1)."
   ]
  },
  {
   "cell_type": "code",
   "execution_count": null,
   "id": "13b2f94f",
   "metadata": {
    "tags": [
     "keep_output"
    ]
   },
   "outputs": [],
   "source": [
    "nm = SparkEntityMatching({\n",
    "    'name_only': True,\n",
    "    'uid_col': 'uid',\n",
    "    'entity_id_col': 'id',\n",
    "    'name_col': 'name',\n",
    "    'preprocessor': 'preprocess_merge_abbr',\n",
    "    'indexers': [\n",
    "        {'type': 'sni', 'window_length': 3},\n",
    "    ],\n",
    "    'supervised_on': False,\n",
    "})\n",
    "nm.fit(gt)\n",
    "res = nm.transform(spark.createDataFrame([\n",
    "    (10, 'Jo S'),\n",
    "    (11, 'InG. LLC'),\n",
    "    (12, 'Jon DOEE LLC'),\n",
    "], ['id', 'name']))\n",
    "res.show(10, False)"
   ]
  },
  {
   "cell_type": "markdown",
   "id": "8761932a",
   "metadata": {},
   "source": [
    "You can also define custom function that transforms names before SNI, for example: reversing names"
   ]
  },
  {
   "cell_type": "code",
   "execution_count": null,
   "id": "53698996",
   "metadata": {
    "lines_to_next_cell": 2,
    "tags": [
     "keep_output"
    ]
   },
   "outputs": [],
   "source": [
    "reverse_name = lambda x: x[::-1]\n",
    "nm = SparkEntityMatching({\n",
    "    'name_only': True,\n",
    "    'uid_col': 'uid',\n",
    "    'entity_id_col': 'id',\n",
    "    'name_col': 'name',\n",
    "    'preprocessor': 'preprocess_merge_abbr',\n",
    "    'indexers': [\n",
    "        {'type': 'sni', 'window_length': 3, 'mapping_func': reverse_name},\n",
    "    ],\n",
    "    'supervised_on': False,\n",
    "})\n",
    "nm.fit(gt)\n",
    "res = nm.transform(spark.createDataFrame([\n",
    "    (11, 'a InG. LLC'),\n",
    "    (12, 'ING. LLC ZZZ'),\n",
    "    (13, 'John Smith LLC'),\n",
    "], ['id', 'name']))\n",
    "res.show(10, False)"
   ]
  },
  {
   "cell_type": "markdown",
   "id": "a576745d",
   "metadata": {},
   "source": [
    "Name matching using blocking function (it will generate only those candidate pairs that have the same value of blocking function)."
   ]
  },
  {
   "cell_type": "code",
   "execution_count": null,
   "id": "f4d12ada",
   "metadata": {
    "tags": [
     "keep_output"
    ]
   },
   "outputs": [],
   "source": [
    "first_character = lambda x: x[0] if len(x) > 0 else '?'\n",
    "\n",
    "nm = SparkEntityMatching({\n",
    "    'name_only': True,\n",
    "    'uid_col': 'uid',\n",
    "    'entity_id_col': 'id',\n",
    "    'name_col': 'name',\n",
    "    'preprocessor': 'preprocess_merge_abbr',\n",
    "    'indexers': [\n",
    "        {'type': 'cosine_similarity', 'tokenizer': 'characters', 'ngram': 1, 'blocking_func': first_character},\n",
    "    ],\n",
    "    'supervised_on': False,\n",
    "})\n",
    "nm.fit(gt)\n",
    "res = nm.transform(spark.createDataFrame([\n",
    "    (10, '!notING'),  # it will not be matched due to different value of blocking function (first character)\n",
    "    (11, 'ING'),\n",
    "], ['id', 'name']))\n",
    "res.show(10, False)"
   ]
  },
  {
   "cell_type": "markdown",
   "id": "2092d3ec",
   "metadata": {},
   "source": [
    "## Name matching with supervised model"
   ]
  },
  {
   "cell_type": "code",
   "execution_count": null,
   "id": "6c75dbc2",
   "metadata": {
    "tags": [
     "keep_output"
    ]
   },
   "outputs": [],
   "source": [
    "nm = SparkEntityMatching({\n",
    "    'name_only': True,\n",
    "    'entity_id_col': 'id',\n",
    "    'name_col': 'name',\n",
    "    'preprocessor': 'preprocess_merge_abbr',\n",
    "    'indexers': [{\n",
    "        'type': 'cosine_similarity',\n",
    "        'tokenizer': 'characters',\n",
    "        'ngram': 2,\n",
    "        'num_candidates': 5,\n",
    "        'cos_sim_lower_bound': 0.2,\n",
    "    }],\n",
    "    'supervised_on': True,\n",
    "    'supervised_model_filename': 'sem_nm.pkl',\n",
    "    'supervised_model_dir': '.',\n",
    "})\n",
    "nm.fit(gt)\n",
    "res = nm.transform(spark.createDataFrame([\n",
    "    (10, 'John Smith'),\n",
    "    (11, 'I.n.G. LLC'),\n",
    "    (12, 'Jon DOEE LLC'),\n",
    "], ['id', 'name']))\n",
    "res.show(10, False)"
   ]
  },
  {
   "cell_type": "markdown",
   "id": "43b3d0a1",
   "metadata": {},
   "source": [
    "## Name matching using multiple indexers"
   ]
  },
  {
   "cell_type": "code",
   "execution_count": null,
   "id": "039c0d96",
   "metadata": {
    "tags": [
     "keep_output"
    ]
   },
   "outputs": [],
   "source": [
    "nm = SparkEntityMatching({\n",
    "    'name_only': True,\n",
    "    'entity_id_col': 'id',\n",
    "    'name_col': 'name',\n",
    "    'preprocessor': 'preprocess_merge_abbr',\n",
    "    'indexers': [\n",
    "        {'type': 'cosine_similarity', 'tokenizer': 'words', 'ngram': 1, 'num_candidates': 5, 'cos_sim_lower_bound': 0.2},\n",
    "        {'type': 'cosine_similarity', 'tokenizer': 'characters', 'ngram': 2, 'num_candidates': 5, 'cos_sim_lower_bound': 0.2},\n",
    "        {'type': 'sni', 'window_length': 3},\n",
    "    ],\n",
    "    'supervised_on': False,\n",
    "})\n",
    "nm.fit(gt)\n",
    "res = nm.transform(spark.createDataFrame([\n",
    "    (10, 'John Smith'),\n",
    "    (11, 'I.n.G. LLC'),\n",
    "    (12, 'Jon DOEE LLC'),\n",
    "    (14, 'Z'),  # this will be matched only by SNI\n",
    "], ['id', 'name']))\n",
    "res.show(10, False)"
   ]
  },
  {
   "cell_type": "markdown",
   "id": "ffd364c5",
   "metadata": {},
   "source": [
    "## Name matching from serialized model"
   ]
  },
  {
   "cell_type": "markdown",
   "id": "34e85fed",
   "metadata": {},
   "source": [
    "The persisted model is spark only. A loaded model no longer needs to be fit to the ground-truth data.\n",
    "In particular for large datasets (e.g. > 100k names in the ground truth), this can save a lot of time when reusing a trained entity-matching model."
   ]
  },
  {
   "cell_type": "code",
   "execution_count": null,
   "id": "dd7bf705",
   "metadata": {},
   "outputs": [],
   "source": [
    "nm.save('name_matching_spark_model')"
   ]
  },
  {
   "cell_type": "code",
   "execution_count": null,
   "id": "fff5906e",
   "metadata": {},
   "outputs": [],
   "source": [
    "nm2 = SparkEntityMatching.load('name_matching_spark_model')"
   ]
  },
  {
   "cell_type": "code",
   "execution_count": null,
   "id": "3d36ca19",
   "metadata": {},
   "outputs": [],
   "source": [
    "res2 = nm2.transform(spark.createDataFrame([\n",
    "    (10, 'John Smith'),\n",
    "    (11, 'I.n.G. LLC'),\n",
    "    (12, 'Jon DOE LLC'),\n",
    "], ['id', 'name']))\n",
    "res2.show(10, False)"
   ]
  }
 ],
 "metadata": {
  "kernelspec": {
   "display_name": "Python 3 (ipykernel)",
   "language": "python",
   "name": "python3"
  },
  "language_info": {
   "codemirror_mode": {
    "name": "ipython",
    "version": 3
   },
   "file_extension": ".py",
   "mimetype": "text/x-python",
   "name": "python",
   "nbconvert_exporter": "python",
   "pygments_lexer": "ipython3",
   "version": "3.10.6"
  }
 },
 "nbformat": 4,
 "nbformat_minor": 5
}
