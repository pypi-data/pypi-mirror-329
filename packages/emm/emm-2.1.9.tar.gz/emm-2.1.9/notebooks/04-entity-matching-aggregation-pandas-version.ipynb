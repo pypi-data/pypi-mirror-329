{
 "cells": [
  {
   "cell_type": "markdown",
   "id": "8bb53e8d",
   "metadata": {},
   "source": [
    "# Examples to use Aggregation method, using Pandas\n",
    "\n",
    "The EMM package can be used to match a group of company names that belong together,\n",
    "to a company name in the ground truth. For example, all names used to address an external bank account.\n",
    "\n",
    "This notebook illustrate basic usage of `entity_matching_model` package, \n",
    "how to use the aggregation layer.\n",
    "\n",
    "(Examples below also work with Spark version.)"
   ]
  },
  {
   "cell_type": "code",
   "execution_count": null,
   "id": "a459ff4d",
   "metadata": {},
   "outputs": [],
   "source": [
    "%matplotlib inline\n",
    "%load_ext autoreload\n",
    "%autoreload 2"
   ]
  },
  {
   "cell_type": "code",
   "execution_count": null,
   "id": "39144113",
   "metadata": {},
   "outputs": [],
   "source": [
    "import numpy as np\n",
    "import pandas as pd\n",
    "from emm import PandasEntityMatching, resources\n",
    "from emm.data.create_data import pandas_create_noised_data\n",
    "from emm.threshold.threshold_decision import get_threshold_curves_parameters\n",
    "import warnings\n",
    "warnings.filterwarnings(\"ignore\")"
   ]
  },
  {
   "cell_type": "markdown",
   "id": "7f44d85f",
   "metadata": {},
   "source": [
    "## Train a model"
   ]
  },
  {
   "cell_type": "code",
   "execution_count": null,
   "id": "706107cb",
   "metadata": {},
   "outputs": [],
   "source": [
    "# create noised names, based on Dutch chamber of commerce data\n",
    "ground_truth, _, positive_noised_pd, negative_pd = pandas_create_noised_data(random_seed=42)\n",
    "train_set, positive_test_set = positive_noised_pd[:2267], positive_noised_pd[2267:]\n",
    "negative_test_set = negative_pd[:len(positive_test_set)]"
   ]
  },
  {
   "cell_type": "code",
   "execution_count": null,
   "id": "ff7ab4c3",
   "metadata": {},
   "outputs": [],
   "source": [
    "# example indexers\n",
    "indexers = [\n",
    "    {\n",
    "        'type': 'cosine_similarity',\n",
    "        'tokenizer': 'words',           # word-based cosine similarity\n",
    "        'ngram': 1,\n",
    "        'num_candidates': 5,            # max 5 candidates per name-to-match\n",
    "        'cos_sim_lower_bound': 0.2,     # lower bound on cosine similarity\n",
    "    },\n",
    "]\n",
    "\n",
    "em_params = {\n",
    "    'name_only': True,          # only consider name information for matching\n",
    "    'entity_id_col': 'Index',   # important to set index and name columns\n",
    "    'name_col': 'Name',\n",
    "    'indexers': [indexers[0]],\n",
    "    'supervised_on': True,       # without specifying a model, this option add an untrained supervised model  \n",
    "    'return_sm_features': True,  # when calling transform, return the features used by the supervised model\n",
    "    'without_rank_features': False,\n",
    "    'with_legal_entity_forms_match': True,  # add feature with match of legal entity forms, e.g. ltd != co\n",
    "    'aggregation_layer': True,    # aggregation layer, the aggregation of names on an account level\n",
    "    'aggregation_method': 'mean_score', # aggregation method\n",
    "}\n",
    "p = PandasEntityMatching(em_params)"
   ]
  },
  {
   "cell_type": "code",
   "execution_count": null,
   "id": "a3dc5161",
   "metadata": {},
   "outputs": [],
   "source": [
    "# this fits the tfidf matrix of the indexer(s), based on the ground truth names.\n",
    "p.fit(ground_truth)"
   ]
  },
  {
   "cell_type": "code",
   "execution_count": null,
   "id": "4124d1a8",
   "metadata": {},
   "outputs": [],
   "source": [
    "# fit the supervised model part of the PandasEntityMatching object (this takes a while)\n",
    "# these name-pairs are generated automatically internally.\n",
    "# the aggregation layer does not need fitting, so no special training set is required.\n",
    "p.fit_classifier(train_set)"
   ]
  },
  {
   "cell_type": "markdown",
   "id": "2c58619c",
   "metadata": {},
   "source": [
    "### scoring for name aggregation"
   ]
  },
  {
   "cell_type": "code",
   "execution_count": null,
   "id": "a4a060ca",
   "metadata": {},
   "outputs": [],
   "source": [
    "# For aggregation of name-scores, need to have:\n",
    "# an 'account' column: which indicated which names belong together\n",
    "# and a frequency column, here call 'counterparty_account_count_distinct', \n",
    "# which indicates how frequently each name occurs.\n",
    "\n",
    "# Below we add these column with dummy values. \n",
    "# Each name belongs to a single account and is used just once."
   ]
  },
  {
   "cell_type": "code",
   "execution_count": null,
   "id": "a92aac94",
   "metadata": {},
   "outputs": [],
   "source": [
    "positive_test_set['account'] = range(len(positive_test_set))\n",
    "positive_test_set['account'] = positive_test_set['account'].astype(str)\n",
    "positive_test_set['counterparty_account_count_distinct'] = 1\n",
    "\n",
    "negative_test_set['account'] = range(len(negative_test_set))\n",
    "negative_test_set['account'] += 10000\n",
    "negative_test_set['account'] = negative_test_set['account'].astype(str)\n",
    "negative_test_set['counterparty_account_count_distinct'] = 1"
   ]
  },
  {
   "cell_type": "code",
   "execution_count": null,
   "id": "b652895d",
   "metadata": {},
   "outputs": [],
   "source": [
    "# this can take some time.\n",
    "candidates_pos = p.transform(positive_test_set)\n",
    "candidates_neg = p.transform(negative_test_set)\n",
    "candidates_neg['positive_set'] = False\n",
    "candidates_pos['positive_set'] = True"
   ]
  },
  {
   "cell_type": "code",
   "execution_count": null,
   "id": "a3593042",
   "metadata": {},
   "outputs": [],
   "source": [
    "candidates = pd.concat([candidates_pos, candidates_neg])\n",
    "candidates['correct'] = (candidates['gt_entity_id'] == candidates['entity_id'])\n",
    "best_candidates = candidates[candidates.best_match]"
   ]
  },
  {
   "cell_type": "code",
   "execution_count": null,
   "id": "3b31f5ba",
   "metadata": {},
   "outputs": [],
   "source": [
    "# as we only have one name per account, the name-scores and aggregated scores are the same.\n",
    "best_candidates[['nm_score', 'agg_score']].head()"
   ]
  },
  {
   "cell_type": "code",
   "execution_count": null,
   "id": "2c7d0abf",
   "metadata": {},
   "outputs": [],
   "source": [
    "# for threshold curves (below), scores cannot contain NANs.\n",
    "best_candidates.dropna(subset=['agg_score'], inplace=True)"
   ]
  },
  {
   "cell_type": "code",
   "execution_count": null,
   "id": "770ea2bb",
   "metadata": {},
   "outputs": [],
   "source": [
    "# get discrimination threshold curves for best candidates\n",
    "# do clustering of `agg_score` column\n",
    "curves = get_threshold_curves_parameters(best_candidates, score_col='agg_score', \n",
    "                                         aggregation_layer=True, aggregation_method=\"mean_score\")"
   ]
  },
  {
   "cell_type": "code",
   "execution_count": null,
   "id": "362bf635",
   "metadata": {},
   "outputs": [],
   "source": [
    "# aggregation here\n",
    "curves['threshold_curves'].keys()"
   ]
  },
  {
   "cell_type": "code",
   "execution_count": null,
   "id": "b9b959b0",
   "metadata": {},
   "outputs": [],
   "source": [
    "# curves['threshold_curves']"
   ]
  },
  {
   "cell_type": "code",
   "execution_count": null,
   "id": "0e0bddac",
   "metadata": {},
   "outputs": [],
   "source": [
    "# add them to the EMM model\n",
    "p.parameters.update(curves)"
   ]
  },
  {
   "cell_type": "code",
   "execution_count": null,
   "id": "ff324a7e",
   "metadata": {},
   "outputs": [],
   "source": [
    "p.save('am_curves.pkl')"
   ]
  },
  {
   "cell_type": "markdown",
   "id": "bf34ebc3",
   "metadata": {},
   "source": [
    "## Load pretrained model"
   ]
  },
  {
   "cell_type": "code",
   "execution_count": null,
   "id": "571a251f",
   "metadata": {},
   "outputs": [],
   "source": [
    "am = PandasEntityMatching.load('am_curves.pkl')"
   ]
  },
  {
   "cell_type": "markdown",
   "id": "3d9abcc6",
   "metadata": {},
   "source": [
    "## Get thresholds"
   ]
  },
  {
   "cell_type": "code",
   "execution_count": null,
   "id": "2a528236",
   "metadata": {},
   "outputs": [],
   "source": [
    "# discrimination threshold for positive names only, with minimum precision of 95%\n",
    "threshold1 = am.calc_threshold(agg_name=\"mean_score\", type_name='positive', metric_name='precision', min_value=0.95)"
   ]
  },
  {
   "cell_type": "code",
   "execution_count": null,
   "id": "48f7f451",
   "metadata": {},
   "outputs": [],
   "source": [
    "threshold1"
   ]
  },
  {
   "cell_type": "code",
   "execution_count": null,
   "id": "8e60d79f",
   "metadata": {},
   "outputs": [],
   "source": [
    "# discrimination threshold for positive and negative names, with minimum precision of 80%\n",
    "threshold2 = am.calc_threshold(agg_name=\"mean_score\", type_name='all', metric_name='precision', min_value=0.80)"
   ]
  },
  {
   "cell_type": "code",
   "execution_count": null,
   "id": "9b8bb2c7",
   "metadata": {},
   "outputs": [],
   "source": [
    "threshold2"
   ]
  },
  {
   "cell_type": "code",
   "execution_count": null,
   "id": "70d5eba3",
   "metadata": {},
   "outputs": [],
   "source": []
  }
 ],
 "metadata": {
  "kernelspec": {
   "display_name": "Python 3 (ipykernel)",
   "language": "python",
   "name": "python3"
  },
  "language_info": {
   "codemirror_mode": {
    "name": "ipython",
    "version": 3
   },
   "file_extension": ".py",
   "mimetype": "text/x-python",
   "name": "python",
   "nbconvert_exporter": "python",
   "pygments_lexer": "ipython3",
   "version": "3.10.6"
  }
 },
 "nbformat": 4,
 "nbformat_minor": 5
}
