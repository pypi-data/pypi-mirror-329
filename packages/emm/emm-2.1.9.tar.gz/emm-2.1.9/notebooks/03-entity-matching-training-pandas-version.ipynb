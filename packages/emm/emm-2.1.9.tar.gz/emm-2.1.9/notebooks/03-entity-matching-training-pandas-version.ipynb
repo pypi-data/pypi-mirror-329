{
 "cells": [
  {
   "cell_type": "markdown",
   "id": "6bcb66e9",
   "metadata": {
    "lines_to_next_cell": 2
   },
   "source": [
    "# Examples for Name Matching (using Pandas)\n",
    "\n",
    "This notebook illustrate basic usage of name matching algorithm from the `entity_matching_model` package.\n",
    "\n",
    "(Code below also works with Spark version.)"
   ]
  },
  {
   "cell_type": "code",
   "execution_count": null,
   "id": "ee1200ba",
   "metadata": {},
   "outputs": [],
   "source": [
    "import emm\n",
    "import matplotlib"
   ]
  },
  {
   "cell_type": "code",
   "execution_count": null,
   "id": "7a26d2e6",
   "metadata": {
    "lines_to_next_cell": 2,
    "tags": [
     "keep_output"
    ]
   },
   "outputs": [],
   "source": [
    "import pandas as pd\n",
    "from emm import PandasEntityMatching, resources\n",
    "from emm.data.create_data import pandas_create_noised_data\n",
    "from emm.helper.blocking_functions import first as first_character\n",
    "from emm.threshold.threshold_decision import get_threshold_curves_parameters\n",
    "import warnings\n",
    "warnings.filterwarnings(\"ignore\")"
   ]
  },
  {
   "cell_type": "code",
   "execution_count": null,
   "id": "f31548fb",
   "metadata": {},
   "outputs": [],
   "source": [
    "%matplotlib inline"
   ]
  },
  {
   "cell_type": "code",
   "execution_count": null,
   "id": "48a43653",
   "metadata": {},
   "outputs": [],
   "source": [
    "# create noised names, based on Dutch chamber of commerce data\n",
    "ground_truth, _, positive_noised_pd, negative_pd = pandas_create_noised_data(random_seed=42)"
   ]
  },
  {
   "cell_type": "code",
   "execution_count": null,
   "id": "f35c14f2",
   "metadata": {},
   "outputs": [],
   "source": [
    "len(ground_truth), len(positive_noised_pd), len(negative_pd)"
   ]
  },
  {
   "cell_type": "code",
   "execution_count": null,
   "id": "a55e4ab5",
   "metadata": {},
   "outputs": [],
   "source": [
    "# have a look at the names in the ground truth\n",
    "ground_truth"
   ]
  },
  {
   "cell_type": "code",
   "execution_count": null,
   "id": "126ef6cd",
   "metadata": {},
   "outputs": [],
   "source": [
    "# and now at those in the noised dataset\n",
    "positive_noised_pd"
   ]
  },
  {
   "cell_type": "markdown",
   "id": "cb307970",
   "metadata": {},
   "source": [
    "Next we configure an EntityMatching object that only looks at names."
   ]
  },
  {
   "cell_type": "code",
   "execution_count": null,
   "id": "138309a1",
   "metadata": {},
   "outputs": [],
   "source": [
    "# example indexers\n",
    "indexers = [\n",
    "        {\n",
    "            'type': 'cosine_similarity',\n",
    "            'tokenizer': 'words',           # word-based cosine similarity\n",
    "            'ngram': 1,\n",
    "            'num_candidates': 5,            # max 5 candidates per name-to-match\n",
    "            'cos_sim_lower_bound': 0.2,     # lower bound on cosine similarity\n",
    "        },\n",
    "        {\n",
    "            'type': 'cosine_similarity',\n",
    "            'tokenizer': 'characters',      # 2character-based cosine similarity\n",
    "            'ngram': 2,\n",
    "            'num_candidates': 5,\n",
    "            'cos_sim_lower_bound': 0.2,\n",
    "            'blocking_func': first_character\n",
    "        },\n",
    "        {'type': 'sni', 'window_length': 3}  # sorted neighbouring indexing window of size 3.\n",
    "]"
   ]
  },
  {
   "cell_type": "code",
   "execution_count": null,
   "id": "b5f53a28",
   "metadata": {},
   "outputs": [],
   "source": [
    "em_params = {\n",
    "    'name_only': True,          # only consider name information for matching\n",
    "    'entity_id_col': 'Index',   # important to set index and name columns\n",
    "    'name_col': 'Name',\n",
    "    'indexers': [indexers[0]],\n",
    "    'supervised_on': True,       # without specifying a model, this option add an untrained supervided model  \n",
    "    'return_sm_features': True,  # when calling transform, return the features used by the supervised model\n",
    "    'without_rank_features': False,\n",
    "    'with_legal_entity_forms_match': False,  # add feature with match of legal entity forms, e.g. ltd != co\n",
    "}\n",
    "p = PandasEntityMatching(em_params)\n"
   ]
  },
  {
   "cell_type": "code",
   "execution_count": null,
   "id": "a583a5b1",
   "metadata": {},
   "outputs": [],
   "source": [
    "# this fits the tfidf matrix of the indexer(s), based on the ground truth names.\n",
    "p.fit(ground_truth, copy_ground_truth=True)"
   ]
  },
  {
   "cell_type": "code",
   "execution_count": null,
   "id": "12607149",
   "metadata": {},
   "outputs": [],
   "source": [
    "# note that return_sm_features = True, and the supervised model is untrained \n",
    "# when calling transform(), the features used by the supervised model are returned (X_feat_*)\n",
    "resp = p.transform(positive_noised_pd)"
   ]
  },
  {
   "cell_type": "code",
   "execution_count": null,
   "id": "64c90f58",
   "metadata": {},
   "outputs": [],
   "source": [
    "resp.head()"
   ]
  },
  {
   "cell_type": "code",
   "execution_count": null,
   "id": "8829990a",
   "metadata": {},
   "outputs": [],
   "source": [
    "# approximately ~3 candidates per name to match.\n",
    "len(positive_noised_pd), len(resp)"
   ]
  },
  {
   "cell_type": "code",
   "execution_count": null,
   "id": "3eb61825",
   "metadata": {},
   "outputs": [],
   "source": [
    "resp['correct'] = resp['gt_entity_id'] == resp['entity_id']"
   ]
  },
  {
   "cell_type": "code",
   "execution_count": null,
   "id": "c088acab",
   "metadata": {},
   "outputs": [],
   "source": [
    "resp['rank_0'].hist()"
   ]
  },
  {
   "cell_type": "code",
   "execution_count": null,
   "id": "08be6f5d",
   "metadata": {},
   "outputs": [],
   "source": [
    "resp['score_0'][resp['correct'] == True].hist(bins=40)"
   ]
  },
  {
   "cell_type": "code",
   "execution_count": null,
   "id": "eb4f36e5",
   "metadata": {},
   "outputs": [],
   "source": [
    "resp['score_0'][resp.rank_0 == 1].hist(bins=40)"
   ]
  },
  {
   "cell_type": "code",
   "execution_count": null,
   "id": "1cb301ea",
   "metadata": {},
   "outputs": [],
   "source": [
    "resn = p.transform(negative_pd)"
   ]
  },
  {
   "cell_type": "code",
   "execution_count": null,
   "id": "417444c6",
   "metadata": {},
   "outputs": [],
   "source": [
    "resn['score_0'][resn.rank_0 == 1].hist(bins=40)"
   ]
  },
  {
   "cell_type": "code",
   "execution_count": null,
   "id": "5b86c9df",
   "metadata": {},
   "outputs": [],
   "source": []
  },
  {
   "cell_type": "code",
   "execution_count": null,
   "id": "e1d9929a",
   "metadata": {},
   "outputs": [],
   "source": [
    "# turn off returning of sm features in transform() call.\n",
    "p.set_return_sm_features(False)"
   ]
  },
  {
   "cell_type": "code",
   "execution_count": null,
   "id": "22534d83",
   "metadata": {},
   "outputs": [],
   "source": [
    "# in more detail: internally the supervised model is trained on the follow name-pairs\n",
    "name_pairs = p.create_training_name_pairs(positive_noised_pd[:2267]) "
   ]
  },
  {
   "cell_type": "code",
   "execution_count": null,
   "id": "3f74733a",
   "metadata": {},
   "outputs": [],
   "source": [
    "name_pairs.head()"
   ]
  },
  {
   "cell_type": "code",
   "execution_count": null,
   "id": "dbecb58b",
   "metadata": {},
   "outputs": [],
   "source": []
  },
  {
   "cell_type": "code",
   "execution_count": null,
   "id": "a6def767",
   "metadata": {},
   "outputs": [],
   "source": [
    "# fit the supervised model part of the PandasEntityMatching object (this takes a while)\n",
    "# these name-pairs are generated automatically internally.\n",
    "p.fit_classifier(positive_noised_pd[:2267])"
   ]
  },
  {
   "cell_type": "code",
   "execution_count": null,
   "id": "c41995ff",
   "metadata": {},
   "outputs": [],
   "source": [
    "# alternatively one can fit the classifier using:\n",
    "#p.fit_classifier(train_name_pairs=name_pairs)"
   ]
  },
  {
   "cell_type": "code",
   "execution_count": null,
   "id": "cce55d99",
   "metadata": {},
   "outputs": [],
   "source": [
    "resp2 = p.transform(positive_noised_pd[2267:])"
   ]
  },
  {
   "cell_type": "code",
   "execution_count": null,
   "id": "04f8a033",
   "metadata": {},
   "outputs": [],
   "source": [
    "resp2['correct'] = (resp2['gt_entity_id'] == resp2['entity_id'])"
   ]
  },
  {
   "cell_type": "code",
   "execution_count": null,
   "id": "7d7a2700",
   "metadata": {},
   "outputs": [],
   "source": [
    "resp2"
   ]
  },
  {
   "cell_type": "code",
   "execution_count": null,
   "id": "2ce536ad",
   "metadata": {},
   "outputs": [],
   "source": [
    "len(resp2[resp2.best_match == True])"
   ]
  },
  {
   "cell_type": "code",
   "execution_count": null,
   "id": "61cb4140",
   "metadata": {},
   "outputs": [],
   "source": [
    "#resp2['nm_score'].hist(bins=40, log=True, alpha=0.5)\n",
    "resp2['nm_score'][resp2.best_match == True][resp2.correct == False].hist(bins=40, log=True, alpha=0.5)\n",
    "resp2['nm_score'][resp2.best_match == True][resp2.correct == True].hist(bins=40, log=True, alpha=0.5)\n"
   ]
  },
  {
   "cell_type": "code",
   "execution_count": null,
   "id": "20bbb4e7",
   "metadata": {},
   "outputs": [],
   "source": [
    "resn2 = p.transform(negative_pd)"
   ]
  },
  {
   "cell_type": "code",
   "execution_count": null,
   "id": "cc63c2ab",
   "metadata": {},
   "outputs": [],
   "source": [
    "# note: we have trained without negative names!\n",
    "resn2[resn2.best_match]['nm_score'].hist(bins=40, log=True, alpha=0.5)"
   ]
  },
  {
   "cell_type": "code",
   "execution_count": null,
   "id": "5cd1f45e",
   "metadata": {},
   "outputs": [],
   "source": [
    "# try training with negative names\n",
    "# either add negative names to the positive ones, and retrain\n",
    "# or in case negative names are missing:\n",
    "p.fit_classifier(positive_noised_pd[:2267], create_negative_sample_fraction=0.5)\n",
    "# look at the impact!"
   ]
  },
  {
   "cell_type": "code",
   "execution_count": null,
   "id": "7ebbea9b",
   "metadata": {},
   "outputs": [],
   "source": [
    "p.save('trained_em.pickle')"
   ]
  },
  {
   "cell_type": "code",
   "execution_count": null,
   "id": "ced226d1",
   "metadata": {},
   "outputs": [],
   "source": [
    "neg_names = negative_pd.rename(columns={'Name': 'name', 'Index': 'index'})"
   ]
  },
  {
   "cell_type": "code",
   "execution_count": null,
   "id": "0aada333",
   "metadata": {},
   "outputs": [],
   "source": [
    "# change of column names\n",
    "nm = PandasEntityMatching.load(\"trained_em.pickle\", \n",
    "                               override_parameters={'name_col': 'name', 'entity_id_col': 'index'})"
   ]
  },
  {
   "cell_type": "code",
   "execution_count": null,
   "id": "28c5b162",
   "metadata": {},
   "outputs": [],
   "source": [
    "resn3 = nm.transform(neg_names)"
   ]
  },
  {
   "cell_type": "code",
   "execution_count": null,
   "id": "50d013b2",
   "metadata": {},
   "outputs": [],
   "source": [
    "resn3[resn3.best_match]['nm_score'].hist(bins=40, log=True, alpha=0.5)"
   ]
  },
  {
   "cell_type": "markdown",
   "id": "36cc3cb7",
   "metadata": {},
   "source": [
    "Ideas:\n",
    "- try different indexers\n",
    "- with and without rank features\n",
    "- return sm features\n",
    "- training with variations of the above.\n",
    "- training create_negative_fraction\n"
   ]
  },
  {
   "cell_type": "code",
   "execution_count": null,
   "id": "eec5ea14",
   "metadata": {},
   "outputs": [],
   "source": []
  },
  {
   "cell_type": "markdown",
   "id": "05e846f8",
   "metadata": {},
   "source": [
    "## Discrimination threshold determination"
   ]
  },
  {
   "cell_type": "code",
   "execution_count": null,
   "id": "1ed14220",
   "metadata": {},
   "outputs": [],
   "source": [
    "positive_test = positive_noised_pd[2267:]\n",
    "negative_test = negative_pd[:len(positive_test)]\n",
    "\n",
    "candidates_pos = p.transform(positive_test)\n",
    "candidates_neg = p.transform(negative_test)\n",
    "candidates_pos['positive_set'] = True\n",
    "candidates_neg['positive_set'] = False\n",
    "candidates = pd.concat([candidates_pos, candidates_neg])\n",
    "candidates['correct'] = (candidates['gt_entity_id'] == candidates['entity_id'])\n",
    "\n",
    "best_candidates = candidates[candidates.best_match]"
   ]
  },
  {
   "cell_type": "code",
   "execution_count": null,
   "id": "0d8c1b9a",
   "metadata": {},
   "outputs": [],
   "source": [
    "# get discrimination threshold curves for best candidates\n",
    "curves = get_threshold_curves_parameters(best_candidates)"
   ]
  },
  {
   "cell_type": "code",
   "execution_count": null,
   "id": "7de91889",
   "metadata": {},
   "outputs": [],
   "source": [
    "# only name-matching, so there is no aggregation here\n",
    "curves['threshold_curves'].keys()"
   ]
  },
  {
   "cell_type": "code",
   "execution_count": null,
   "id": "166c2ae9",
   "metadata": {},
   "outputs": [],
   "source": [
    "# add them to the EMM model. this is needed to run nm.calc_threshold() below.\n",
    "nm.parameters.update(curves)"
   ]
  },
  {
   "cell_type": "markdown",
   "id": "fae05741",
   "metadata": {},
   "source": [
    "### Get threshold scores"
   ]
  },
  {
   "cell_type": "code",
   "execution_count": null,
   "id": "4f1c4a7a",
   "metadata": {},
   "outputs": [],
   "source": [
    "# discrimination threshold for positive names only, with minimum precision of 95%\n",
    "threshold1 = nm.calc_threshold(agg_name='non_aggregated', type_name='positive', metric_name='precision', min_value=0.95)"
   ]
  },
  {
   "cell_type": "code",
   "execution_count": null,
   "id": "c6ac417a",
   "metadata": {},
   "outputs": [],
   "source": [
    "print(threshold1)"
   ]
  },
  {
   "cell_type": "code",
   "execution_count": null,
   "id": "4a532865",
   "metadata": {},
   "outputs": [],
   "source": [
    "# discrimination threshold for positive and negative names, with minimum precision of 80%\n",
    "threshold2 = nm.calc_threshold(agg_name='non_aggregated', type_name='all', metric_name='precision', min_value=0.80)"
   ]
  },
  {
   "cell_type": "code",
   "execution_count": null,
   "id": "d7a18266",
   "metadata": {},
   "outputs": [],
   "source": [
    "print(threshold2)"
   ]
  },
  {
   "cell_type": "code",
   "execution_count": null,
   "id": "77d0603c",
   "metadata": {},
   "outputs": [],
   "source": [
    "nm.save('trained_em_with_thresholds.pickle')"
   ]
  },
  {
   "cell_type": "code",
   "execution_count": null,
   "id": "fa77d713",
   "metadata": {},
   "outputs": [],
   "source": []
  }
 ],
 "metadata": {
  "kernelspec": {
   "display_name": "Python 3 (ipykernel)",
   "language": "python",
   "name": "python3"
  },
  "language_info": {
   "codemirror_mode": {
    "name": "ipython",
    "version": 3
   },
   "file_extension": ".py",
   "mimetype": "text/x-python",
   "name": "python",
   "nbconvert_exporter": "python",
   "pygments_lexer": "ipython3",
   "version": "3.10.6"
  }
 },
 "nbformat": 4,
 "nbformat_minor": 5
}
