{
 "cells": [
  {
   "cell_type": "code",
   "execution_count": 1,
   "id": "73dfb2cc-2401-41d5-befc-a5a3a219938d",
   "metadata": {},
   "outputs": [],
   "source": [
    "import re"
   ]
  },
  {
   "cell_type": "code",
   "execution_count": 2,
   "id": "244b9d20-50d2-4e1e-81fd-0e8b63364622",
   "metadata": {},
   "outputs": [],
   "source": [
    "def parse_id(text):\n",
    "    return text"
   ]
  },
  {
   "cell_type": "code",
   "execution_count": 39,
   "id": "710fcfcb-25eb-4ec1-98db-d4a44471595b",
   "metadata": {},
   "outputs": [],
   "source": [
    "text = \"https://mobile.kptncook.com/recipe/pinterest/Rote-Pasta-mit-Salbei-Zitronen-Butter-&-karamellisierten-Waln%C3%BCssen/19e2eda2?_branch_match_id=866187386318966341&utm_source=SMS&utm_medium=sharing&_branch_referrer=H4sIAAAAAAAAA8soKSkottLXL85ILMrMS9fLLijJS87Pz9ZLzs%2FVN3b2SY4sTzatyk8CACm3OLEoAAAA\""
   ]
  },
  {
   "cell_type": "code",
   "execution_count": 17,
   "id": "8bebebfb-0d09-4d05-812a-a3a372c3d7aa",
   "metadata": {},
   "outputs": [],
   "source": [
    "pattern = re.compile(\"\\/(.*?)\\?\")"
   ]
  },
  {
   "cell_type": "code",
   "execution_count": 18,
   "id": "4fca7171-7761-44c7-9a5f-a973772bbaeb",
   "metadata": {},
   "outputs": [
    {
     "data": {
      "text/plain": [
       "'//mobile.kptncook.com/recipe/pinterest/Rote-Pasta-mit-Salbei-Zitronen-Butter-&-karamellisierten-Waln%C3%BCssen/19e2eda2?'"
      ]
     },
     "execution_count": 18,
     "metadata": {},
     "output_type": "execute_result"
    }
   ],
   "source": [
    "pattern.search(text)[0]"
   ]
  },
  {
   "cell_type": "code",
   "execution_count": 24,
   "id": "f2d649fc-af2a-45c0-b8d2-d229af5fe896",
   "metadata": {},
   "outputs": [],
   "source": [
    "def generate_url_parts(url):\n",
    "    for part in url.split(\"/\"):\n",
    "        for token in part.split(\"?\"):\n",
    "            yield(token)"
   ]
  },
  {
   "cell_type": "code",
   "execution_count": 30,
   "id": "e93c7ee8-1bde-444b-a799-0f1a0dbcc896",
   "metadata": {},
   "outputs": [],
   "source": [
    "def looks_like_uid(token):\n",
    "    correct_len = len(token) == 8\n",
    "    is_alnum = token.isalnum()\n",
    "    return correct_len and is_alnum"
   ]
  },
  {
   "cell_type": "code",
   "execution_count": 34,
   "id": "312b9968-70fc-4e95-8cd3-7997deac10ce",
   "metadata": {},
   "outputs": [],
   "source": [
    "text = \"foobarasdf\""
   ]
  },
  {
   "cell_type": "code",
   "execution_count": 35,
   "id": "ed4c50fc-c87b-43c6-8b38-5b8b1e3ac7d2",
   "metadata": {},
   "outputs": [
    {
     "ename": "StopIteration",
     "evalue": "",
     "output_type": "error",
     "traceback": [
      "\u001b[0;31m---------------------------------------------------------------------------\u001b[0m",
      "\u001b[0;31mStopIteration\u001b[0m                             Traceback (most recent call last)",
      "Input \u001b[0;32mIn [35]\u001b[0m, in \u001b[0;36m<cell line: 1>\u001b[0;34m()\u001b[0m\n\u001b[0;32m----> 1\u001b[0m \u001b[38;5;28;43mnext\u001b[39;49m\u001b[43m(\u001b[49m\u001b[43mpart\u001b[49m\u001b[43m \u001b[49m\u001b[38;5;28;43;01mfor\u001b[39;49;00m\u001b[43m \u001b[49m\u001b[43mpart\u001b[49m\u001b[43m \u001b[49m\u001b[38;5;129;43;01min\u001b[39;49;00m\u001b[43m \u001b[49m\u001b[43mgenerate_url_parts\u001b[49m\u001b[43m(\u001b[49m\u001b[43mtext\u001b[49m\u001b[43m)\u001b[49m\u001b[43m \u001b[49m\u001b[38;5;28;43;01mif\u001b[39;49;00m\u001b[43m \u001b[49m\u001b[43mlooks_like_uid\u001b[49m\u001b[43m(\u001b[49m\u001b[43mpart\u001b[49m\u001b[43m)\u001b[49m\u001b[43m)\u001b[49m\n",
      "\u001b[0;31mStopIteration\u001b[0m: "
     ]
    }
   ],
   "source": [
    "next(part for part in generate_url_parts(text) if looks_like_uid(part))"
   ]
  },
  {
   "cell_type": "code",
   "execution_count": 29,
   "id": "ef421334-2743-476a-9499-20b9b317968a",
   "metadata": {},
   "outputs": [
    {
     "data": {
      "text/plain": [
       "False"
      ]
     },
     "execution_count": 29,
     "metadata": {},
     "output_type": "execute_result"
    }
   ],
   "source": [
    "\"19e2e da2\".isalnum()"
   ]
  },
  {
   "cell_type": "code",
   "execution_count": 36,
   "id": "9bbb9a6f-0eec-430b-9211-129224c91229",
   "metadata": {},
   "outputs": [],
   "source": [
    "oid = \"5aa2cbb028000052091b5c6c\""
   ]
  },
  {
   "cell_type": "code",
   "execution_count": 37,
   "id": "ccaa15d4-6d24-47b9-8ec3-83b90bec22f7",
   "metadata": {},
   "outputs": [
    {
     "data": {
      "text/plain": [
       "24"
      ]
     },
     "execution_count": 37,
     "metadata": {},
     "output_type": "execute_result"
    }
   ],
   "source": [
    "len(oid)"
   ]
  },
  {
   "cell_type": "code",
   "execution_count": 46,
   "id": "f43f24c2-62b6-422e-b8c7-29df1ebb6303",
   "metadata": {},
   "outputs": [
    {
     "data": {
      "text/plain": [
       "['https:',\n",
       " '',\n",
       " 'mobile.kptncook.com',\n",
       " 'recipe',\n",
       " 'pinterest',\n",
       " 'Rote-Pasta-mit-Salbei-Zitronen-Butter-&-karamellisierten-Waln%C3%BCssen',\n",
       " '19e2eda2',\n",
       " '_branch_match_id=866187386318966341&utm_source=SMS&utm_medium=sharing&_branch_referrer=H4sIAAAAAAAAA8soKSkottLXL85ILMrMS9fLLijJS87Pz9ZLzs%2FVN3b2SY4sTzatyk8CACm3OLEoAAAA']"
      ]
     },
     "execution_count": 46,
     "metadata": {},
     "output_type": "execute_result"
    }
   ],
   "source": [
    "re.split(\"/|\\?\", text)"
   ]
  },
  {
   "cell_type": "code",
   "execution_count": null,
   "id": "2c90a764-9a21-4621-b8f4-2a312bfd2054",
   "metadata": {},
   "outputs": [],
   "source": []
  }
 ],
 "metadata": {
  "kernelspec": {
   "display_name": "Python 3 (ipykernel)",
   "language": "python",
   "name": "python3"
  },
  "language_info": {
   "codemirror_mode": {
    "name": "ipython",
    "version": 3
   },
   "file_extension": ".py",
   "mimetype": "text/x-python",
   "name": "python",
   "nbconvert_exporter": "python",
   "pygments_lexer": "ipython3",
   "version": "3.11.0"
  }
 },
 "nbformat": 4,
 "nbformat_minor": 5
}
