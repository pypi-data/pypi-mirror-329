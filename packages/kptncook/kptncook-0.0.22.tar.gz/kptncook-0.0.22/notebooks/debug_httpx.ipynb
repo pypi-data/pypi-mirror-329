{
 "cells": [
  {
   "cell_type": "code",
   "execution_count": 1,
   "id": "60e6fce6-90c1-41ee-99f1-ae6a2a60529f",
   "metadata": {},
   "outputs": [],
   "source": [
    "import httpx"
   ]
  },
  {
   "cell_type": "code",
   "execution_count": 2,
   "id": "489fda82-0d84-4d61-bef9-6d744be0ed4e",
   "metadata": {},
   "outputs": [],
   "source": [
    "r = httpx.get(\"https://mealie.staging.django-cast.com\")"
   ]
  },
  {
   "cell_type": "code",
   "execution_count": 3,
   "id": "1bbf1ed4-16ff-40b9-9b99-5c7eccb89085",
   "metadata": {},
   "outputs": [
    {
     "name": "stdout",
     "output_type": "stream",
     "text": [
      "Help on method close in module httpx._models:\n",
      "\n",
      "close() -> None method of httpx.Response instance\n",
      "    Close the response and release the connection.\n",
      "    Automatically called if the response body is read to completion.\n",
      "\n"
     ]
    }
   ],
   "source": [
    "help(r.close)"
   ]
  },
  {
   "cell_type": "code",
   "execution_count": 8,
   "id": "9db0721f-eca6-4d1f-8cf1-a832a44eb6c9",
   "metadata": {},
   "outputs": [],
   "source": [
    "from pydantic import BaseModel, Field"
   ]
  },
  {
   "cell_type": "code",
   "execution_count": 13,
   "id": "66f69313-68cf-4a16-a64e-3c8f8b88beb8",
   "metadata": {},
   "outputs": [],
   "source": [
    "class RecipeSummary(BaseModel):\n",
    "    user_id: str | None = Field(None, alias=\"userId\")\n",
    "    group_id: str | None = Field(None, alias=\"groupId\")"
   ]
  },
  {
   "cell_type": "code",
   "execution_count": 18,
   "id": "eba8f9bd-0809-4d41-b06b-eb1901e9b00a",
   "metadata": {},
   "outputs": [
    {
     "name": "stdout",
     "output_type": "stream",
     "text": [
      "foo bar\n"
     ]
    },
    {
     "data": {
      "text/plain": [
       "{'userId': 'foo', 'groupId': 'bar'}"
      ]
     },
     "execution_count": 18,
     "metadata": {},
     "output_type": "execute_result"
    }
   ],
   "source": [
    "rs = RecipeSummary(userId=\"foo\", groupId=\"bar\")\n",
    "print(rs.user_id, rs.group_id)\n",
    "rs.dict(by_alias=True)"
   ]
  },
  {
   "cell_type": "code",
   "execution_count": 21,
   "id": "c32886b6-45a2-456a-aa7d-84cbc7c9fc41",
   "metadata": {},
   "outputs": [
    {
     "data": {
      "text/plain": [
       "'{\"userId\": \"foo\", \"groupId\": \"bar\"}'"
      ]
     },
     "execution_count": 21,
     "metadata": {},
     "output_type": "execute_result"
    }
   ],
   "source": [
    "rs.json(by_alias=True)"
   ]
  },
  {
   "cell_type": "code",
   "execution_count": null,
   "id": "45998720-e58d-46e0-891d-bfde36e4924b",
   "metadata": {},
   "outputs": [],
   "source": []
  }
 ],
 "metadata": {
  "kernelspec": {
   "display_name": "Python 3 (ipykernel)",
   "language": "python",
   "name": "python3"
  },
  "language_info": {
   "codemirror_mode": {
    "name": "ipython",
    "version": 3
   },
   "file_extension": ".py",
   "mimetype": "text/x-python",
   "name": "python",
   "nbconvert_exporter": "python",
   "pygments_lexer": "ipython3",
   "version": "3.11.0"
  }
 },
 "nbformat": 4,
 "nbformat_minor": 5
}
