{
 "cells": [
  {
   "cell_type": "code",
   "execution_count": 1,
   "id": "2f87da8e-3211-4e2c-aab6-c6c5ee7ccbbc",
   "metadata": {},
   "outputs": [],
   "source": [
    "from kptncook.mealie import MealieApiClient"
   ]
  },
  {
   "cell_type": "code",
   "execution_count": 2,
   "id": "7d8b5c74-f2c6-476a-ad0d-6762617c5c52",
   "metadata": {},
   "outputs": [],
   "source": [
    "client = MealieApiClient(\"http://localhost:9000/api\")"
   ]
  },
  {
   "cell_type": "code",
   "execution_count": 3,
   "id": "982d2279-337f-4a5c-be95-fb44f400bd06",
   "metadata": {},
   "outputs": [
    {
     "name": "stdin",
     "output_type": "stream",
     "text": [
      " ········\n"
     ]
    }
   ],
   "source": [
    "client.login()"
   ]
  },
  {
   "cell_type": "code",
   "execution_count": 7,
   "id": "d0870eee-2320-4189-a916-e41285e6805d",
   "metadata": {},
   "outputs": [],
   "source": [
    "recipes = client.get_all_recipes()"
   ]
  },
  {
   "cell_type": "code",
   "execution_count": 8,
   "id": "1b519f59-4e74-4ec6-9823-4e75eba236e9",
   "metadata": {},
   "outputs": [
    {
     "name": "stdout",
     "output_type": "stream",
     "text": [
      "schnelle-patatas-bravas-mit-krauterknoblauch-mayo\n",
      "huhnchen-mit-zwiebel-tomaten-sauce\n",
      "apfel-feta-tartelettes-mit-karottensalat\n",
      "wurziges-rindfleisch-mit-gemuse\n",
      "mafaldine-mit-cremiger-brokkoli-basilikum-sauce\n",
      "chili-sin-carne\n"
     ]
    }
   ],
   "source": [
    "for recipe in recipes:\n",
    "    print(recipe.slug)\n",
    "    result = client.delete_via_slug(recipe.slug)\n",
    "    # print(result)"
   ]
  },
  {
   "cell_type": "code",
   "execution_count": 20,
   "id": "29ce4626-af8e-4cd4-b484-4b44e214f30d",
   "metadata": {},
   "outputs": [],
   "source": [
    "recipe = recipes[0]"
   ]
  },
  {
   "cell_type": "code",
   "execution_count": 21,
   "id": "3b7ab521-bb12-4865-b8ea-0eee7e26e4ae",
   "metadata": {},
   "outputs": [
    {
     "data": {
      "text/plain": [
       "{}"
      ]
     },
     "execution_count": 21,
     "metadata": {},
     "output_type": "execute_result"
    }
   ],
   "source": [
    "recipe.extras"
   ]
  },
  {
   "cell_type": "code",
   "execution_count": 5,
   "id": "8d4244ba-ac8e-46c8-8c9b-45cd7dbc991a",
   "metadata": {},
   "outputs": [
    {
     "name": "stdout",
     "output_type": "stream",
     "text": [
      "[]\n",
      "[RecipeTag(name='kptncook')]\n"
     ]
    }
   ],
   "source": [
    "for recipe in recipes:\n",
    "    print(recipe.tags)"
   ]
  },
  {
   "cell_type": "code",
   "execution_count": null,
   "id": "d9cbe5de-50f1-4887-a2b6-cd9ea493d6dd",
   "metadata": {},
   "outputs": [],
   "source": []
  }
 ],
 "metadata": {
  "kernelspec": {
   "display_name": "Python 3 (ipykernel)",
   "language": "python",
   "name": "python3"
  },
  "language_info": {
   "codemirror_mode": {
    "name": "ipython",
    "version": 3
   },
   "file_extension": ".py",
   "mimetype": "text/x-python",
   "name": "python",
   "nbconvert_exporter": "python",
   "pygments_lexer": "ipython3",
   "version": "3.10.4"
  }
 },
 "nbformat": 4,
 "nbformat_minor": 5
}
