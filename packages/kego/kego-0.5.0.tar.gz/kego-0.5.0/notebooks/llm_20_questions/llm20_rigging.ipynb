{
 "cells": [
  {
   "cell_type": "markdown",
   "id": "0",
   "metadata": {},
   "source": [
    "# Attempt with Rigging"
   ]
  },
  {
   "cell_type": "code",
   "execution_count": null,
   "id": "1",
   "metadata": {},
   "outputs": [],
   "source": [
    "%load_ext autoreload\n",
    "%autoreload 2"
   ]
  },
  {
   "cell_type": "markdown",
   "id": "2",
   "metadata": {},
   "source": [
    "# Question Asker Agent"
   ]
  },
  {
   "cell_type": "code",
   "execution_count": null,
   "id": "3",
   "metadata": {},
   "outputs": [],
   "source": [
    "# MODEL = \"gpt-4o\"\n",
    "MODEL = \"transformers!meta-llama/Meta-Llama-3-8B-Instruct,device_map=cuda:1,max_tokens=1024,load_in_4bit=True\""
   ]
  },
  {
   "cell_type": "code",
   "execution_count": null,
   "id": "4",
   "metadata": {},
   "outputs": [],
   "source": [
    "import rigging as rg\n",
    "\n",
    "from IPython.display import display, clear_output\n",
    "\n",
    "import kego\n",
    "\n",
    "\n",
    "class AskerQuestion(rg.Model):\n",
    "    question: str"
   ]
  },
  {
   "cell_type": "code",
   "execution_count": null,
   "id": "5",
   "metadata": {},
   "outputs": [],
   "source": [
    "questions = []\n",
    "answers = []\n",
    "\n",
    "\n",
    "def get_model():\n",
    "    return rg.get_generator(MODEL)\n",
    "\n",
    "\n",
    "async def ask_next_question(questions, answers, model, verbose=False):\n",
    "    system_prompt = \"\"\"\n",
    "        You are playing the game 20 questions.\n",
    "            - Your task is to ask questions.\n",
    "            - These questions should try to quickly find the keyword.\n",
    "            - You will recieve back only yes or no responses.\n",
    "            - Note previous questions and their answers when creating your next question.\n",
    "            - Do not assume anything specific too soon. Only as questions that divide possible answers in two evenly split groups.\n",
    "            - The keyword will be a person, place or thing. Only ask questions related to these.\n",
    "            - Avoid asking the question: \"Is the thing you're thinking of something that can be held in your hand?\".\n",
    "    \"\"\"\n",
    "    assert len(questions) == len(answers)\n",
    "\n",
    "    prev_content = \"\"\n",
    "    for i, question in enumerate(questions):\n",
    "        prev_content += f\"question {i} <question>{question}</question> <answer>{answers[i]}</answer>\"\n",
    "\n",
    "    user_prompt = f\"\"\"\n",
    "        Previous questions and answers are:\n",
    "            {prev_content}\n",
    "        \n",
    "        Ask your question within the tag {AskerQuestion.xml_tags()}\n",
    "    \"\"\"\n",
    "    asker = await model.chat(\n",
    "        [\n",
    "            {\"role\": \"system\", \"content\": system_prompt},\n",
    "            {\"role\": \"user\", \"content\": user_prompt},\n",
    "        ]\n",
    "    ).run()\n",
    "    question = asker.last.parse(AskerQuestion).question\n",
    "    if verbose:\n",
    "        print(f\"=== Question {len(questions) + 1} ====\")\n",
    "        print(question)\n",
    "\n",
    "    return question"
   ]
  },
  {
   "cell_type": "code",
   "execution_count": null,
   "id": "6",
   "metadata": {},
   "outputs": [],
   "source": [
    "model = get_model()"
   ]
  },
  {
   "cell_type": "code",
   "execution_count": null,
   "id": "7",
   "metadata": {},
   "outputs": [],
   "source": [
    "kego.empty_gpu()\n",
    "kego.info_gpus()"
   ]
  },
  {
   "cell_type": "code",
   "execution_count": null,
   "id": "8",
   "metadata": {},
   "outputs": [],
   "source": [
    "# question = await ask_next_question(questions, answers, model=model)"
   ]
  },
  {
   "cell_type": "markdown",
   "id": "9",
   "metadata": {},
   "source": [
    "# LLM Trying to Guess the Keyword \"Tom Hanks\""
   ]
  },
  {
   "cell_type": "code",
   "execution_count": null,
   "id": "10",
   "metadata": {},
   "outputs": [],
   "source": [
    "# answer = \"no\"\n",
    "# questions.append(question)\n",
    "# answers.append(answer)\n",
    "# question = await ask_next_question(questions, answers, model=model)"
   ]
  },
  {
   "cell_type": "code",
   "execution_count": null,
   "id": "11",
   "metadata": {},
   "outputs": [],
   "source": [
    "def print_info():\n",
    "    print(f\"{answers=}\")\n",
    "    print(f\"{questions=}\")\n",
    "\n",
    "\n",
    "print_info()"
   ]
  },
  {
   "cell_type": "code",
   "execution_count": null,
   "id": "12",
   "metadata": {},
   "outputs": [],
   "source": [
    "# question"
   ]
  },
  {
   "cell_type": "code",
   "execution_count": null,
   "id": "13",
   "metadata": {},
   "outputs": [],
   "source": [
    "# answer = \"no\"\n",
    "# questions.append(question)\n",
    "# answers.append(answer)\n",
    "# question = await ask_next_question(questions, answers, model=model)"
   ]
  },
  {
   "cell_type": "markdown",
   "id": "14",
   "metadata": {},
   "source": [
    "# Create our Answerer Agent"
   ]
  },
  {
   "cell_type": "code",
   "execution_count": null,
   "id": "15",
   "metadata": {},
   "outputs": [],
   "source": [
    "class YesNoAnswer(rg.Model):\n",
    "    \"Yes/No answer answer with coercion\"\n",
    "    answer: str\n",
    "\n",
    "\n",
    "async def get_agent_answer(keyword, question, model):\n",
    "\n",
    "    system_prompt = f\"\"\"\n",
    "        You are playing the game 20 questions. You will be asked a question an must answer yes or no.\n",
    "        Note specifically\n",
    "        - Persons are living things.\n",
    "        The keyword you are answering for is {keyword}\n",
    "    \"\"\"\n",
    "\n",
    "    user_prompt = f\"\"\"\n",
    "        The question is <question>{question}</question>\n",
    "    \n",
    "        Your response should be given between the tags {YesNoAnswer.xml_tags()}\n",
    "    \n",
    "        It should only be 'yes' or 'no'\n",
    "        \n",
    "        \"\"\"\n",
    "\n",
    "    answerer = await model.chat(\n",
    "        [\n",
    "            {\"role\": \"system\", \"content\": system_prompt},\n",
    "            {\"role\": \"user\", \"content\": user_prompt},\n",
    "        ]\n",
    "    ).run()\n",
    "\n",
    "    answer = answerer.last.parse(YesNoAnswer).answer\n",
    "    return answer"
   ]
  },
  {
   "cell_type": "code",
   "execution_count": null,
   "id": "16",
   "metadata": {},
   "outputs": [],
   "source": [
    "# keyword = 'Tom Hanks'\n",
    "# question = 'Is he a handsome lad?'\n",
    "# await get_agent_answer(keyword, question, model=model)"
   ]
  },
  {
   "cell_type": "markdown",
   "id": "17",
   "metadata": {},
   "source": [
    "# Guesser Agent"
   ]
  },
  {
   "cell_type": "code",
   "execution_count": null,
   "id": "18",
   "metadata": {},
   "outputs": [],
   "source": [
    "class Guess(rg.Model):\n",
    "    \"20 Questions guess\"\n",
    "    guess: str\n",
    "\n",
    "\n",
    "async def make_guess(\n",
    "    questions: list, answers: list, guesses: list, model, verbose=False\n",
    "):\n",
    "    system_prompt = \"\"\"\n",
    "        You are playing the game 20 questions.\n",
    "            - Your task is to guess the keyword.\n",
    "            - Note previous questions and their answers when creating your guess\n",
    "            - The keyword will be a person, place or thing.\n",
    "    \"\"\"\n",
    "    assert len(questions) == len(answers)\n",
    "\n",
    "    prev_content = \"\"\n",
    "    for i, question in enumerate(questions):\n",
    "        prev_content += f\"question {i} <question>{question}</question> <answer>{answers[i]}</answer>\"\n",
    "\n",
    "    user_prompt = f\"\"\"\n",
    "        Previous questions and answers are:\n",
    "            {prev_content}\n",
    "\n",
    "        Previous Guesses are, do not repeat these:\n",
    "            {','.join(guesses)}\n",
    "        \n",
    "        You will now guess for the 20 question game.\n",
    "          - Be specific.\n",
    "          - Guess only a single thing.\n",
    "        \n",
    "          \n",
    "        Put the word for your guess in the following tag {Guess.xml_tags()}\n",
    "    \"\"\"\n",
    "    asker = await model.chat(\n",
    "        [\n",
    "            {\"role\": \"system\", \"content\": system_prompt},\n",
    "            {\"role\": \"user\", \"content\": user_prompt},\n",
    "        ]\n",
    "    ).run()\n",
    "\n",
    "    guess = asker.last.parse(Guess).guess\n",
    "    if verbose:\n",
    "        print(f\"=== Guess {len(questions) + 1} ====\")\n",
    "        print(guess)\n",
    "\n",
    "    return guess"
   ]
  },
  {
   "cell_type": "markdown",
   "id": "19",
   "metadata": {},
   "source": [
    "# Lets let the Agents fight it out!!!"
   ]
  },
  {
   "cell_type": "code",
   "execution_count": null,
   "id": "20",
   "metadata": {},
   "outputs": [],
   "source": [
    "import string\n",
    "\n",
    "\n",
    "def keyword_guessed(guess: str, keyword: str) -> bool:\n",
    "    def normalize(s: str) -> str:\n",
    "        t = str.maketrans(\"\", \"\", string.punctuation)\n",
    "        return s.lower().replace(\"the\", \"\").replace(\" \", \"\").translate(t)\n",
    "\n",
    "    if normalize(guess) == normalize(keyword):\n",
    "        return True\n",
    "    # for s in alts:\n",
    "    #   if normalize(s) == normalize(guess):\n",
    "    #     return True\n",
    "\n",
    "    return False"
   ]
  },
  {
   "cell_type": "code",
   "execution_count": null,
   "id": "21",
   "metadata": {},
   "outputs": [],
   "source": [
    "keyword = \"Tom Hanks\"\n",
    "questions = []\n",
    "answers = []\n",
    "guesses = []\n",
    "max_questions = 40\n",
    "for i in range(max_questions):\n",
    "    print(\"=\" * 20)\n",
    "    print(f\"Round {i}\")\n",
    "    question = await ask_next_question(questions, answers, model=model)\n",
    "    print(f\"[Question]: {question}\")\n",
    "    answer = await get_agent_answer(keyword, question, model=model)\n",
    "\n",
    "    print(f\"[Answer]:   {answer}\")\n",
    "    questions.append(question)\n",
    "    answers.append(answer)\n",
    "    guess = await make_guess(questions, answers, guesses, model=model)\n",
    "    guesses.append(guess)\n",
    "    print(f\"[Guess]: {guess}\")\n",
    "    if keyword_guessed(guess, keyword):\n",
    "        print(\"FOUND IT!!!! BIZNATCH!!!!!!\")\n",
    "        break"
   ]
  }
 ],
 "metadata": {
  "kernelspec": {
   "display_name": "Python 3 (ipykernel)",
   "language": "python",
   "name": "python3"
  },
  "language_info": {
   "codemirror_mode": {
    "name": "ipython",
    "version": 3
   },
   "file_extension": ".py",
   "mimetype": "text/x-python",
   "name": "python",
   "nbconvert_exporter": "python",
   "pygments_lexer": "ipython3",
   "version": "3.10.12"
  }
 },
 "nbformat": 4,
 "nbformat_minor": 5
}
