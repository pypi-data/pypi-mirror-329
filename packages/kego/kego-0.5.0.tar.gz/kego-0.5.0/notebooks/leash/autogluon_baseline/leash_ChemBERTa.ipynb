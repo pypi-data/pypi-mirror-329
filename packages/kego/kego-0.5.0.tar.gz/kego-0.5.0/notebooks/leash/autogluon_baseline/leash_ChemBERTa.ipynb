{
 "cells": [
  {
   "cell_type": "code",
   "execution_count": null,
   "metadata": {},
   "outputs": [],
   "source": [
    "%load_ext autoreload\n",
    "%autoreload 2"
   ]
  },
  {
   "cell_type": "code",
   "execution_count": null,
   "metadata": {},
   "outputs": [],
   "source": [
    "from pathlib import Path\n",
    "\n",
    "import numpy as np\n",
    "import polars as pl\n",
    "from sklearn.model_selection import train_test_split\n",
    "import torch\n",
    "import torch.nn as nn\n",
    "import torch.nn.functional as F\n",
    "from torch.utils.data import Dataset, DataLoader\n",
    "from torchmetrics import AveragePrecision\n",
    "import lightning as L\n",
    "from lightning.pytorch.callbacks import (\n",
    "    EarlyStopping,\n",
    "    ModelCheckpoint,\n",
    "    TQDMProgressBar,\n",
    ")\n",
    "from transformers import AutoConfig, AutoTokenizer, AutoModel, DataCollatorWithPadding\n",
    "import datasets\n",
    "from rdkit import Chem"
   ]
  },
  {
   "cell_type": "code",
   "execution_count": null,
   "metadata": {},
   "outputs": [],
   "source": [
    "DEBUG = False\n",
    "NORMALIZE = True\n",
    "N_ROWS = 180_000_000\n",
    "assert N_ROWS is None or N_ROWS % 3 == 0\n",
    "if DEBUG:\n",
    "    N_SAMPLES = 10_000\n",
    "else:\n",
    "    N_SAMPLES = 2_000_000\n",
    "PROTEIN_NAMES = [\"BRD4\", \"HSA\", \"sEH\"]\n",
    "data_dir = Path(\"/kaggle/input/leash-BELKA\")\n",
    "model_name = \"DeepChem/ChemBERTa-10M-MTR\"\n",
    "batch_size = 256\n",
    "trainer_params = {\n",
    "    \"max_epochs\": 5,\n",
    "    \"enable_progress_bar\": True,\n",
    "    \"accelerator\": \"auto\",\n",
    "    \"precision\": \"16-mixed\",\n",
    "    \"gradient_clip_val\": None,\n",
    "    \"accumulate_grad_batches\": 1,\n",
    "    \"devices\": [0],\n",
    "}"
   ]
  },
  {
   "cell_type": "code",
   "execution_count": null,
   "metadata": {},
   "outputs": [],
   "source": [
    "!pwd"
   ]
  },
  {
   "cell_type": "code",
   "execution_count": null,
   "metadata": {},
   "outputs": [],
   "source": [
    "tokenizer = AutoTokenizer.from_pretrained(model_name)"
   ]
  }
 ],
 "metadata": {
  "kernelspec": {
   "display_name": ".venv",
   "language": "python",
   "name": "python3"
  },
  "language_info": {
   "name": "python",
   "version": "3.10.12"
  }
 },
 "nbformat": 4,
 "nbformat_minor": 2
}
