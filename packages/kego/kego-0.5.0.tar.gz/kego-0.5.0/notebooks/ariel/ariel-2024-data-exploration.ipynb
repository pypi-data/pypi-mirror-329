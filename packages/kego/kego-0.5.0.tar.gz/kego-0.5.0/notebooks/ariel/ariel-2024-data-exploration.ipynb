{
 "cells": [
  {
   "cell_type": "code",
   "execution_count": null,
   "metadata": {},
   "outputs": [],
   "source": [
    "%load_ext autoreload\n",
    "%autoreload 2"
   ]
  },
  {
   "cell_type": "code",
   "execution_count": null,
   "metadata": {},
   "outputs": [],
   "source": [
    "import numpy as np\n",
    "import pandas as pd\n",
    "from tqdm import tqdm\n",
    "import matplotlib.pyplot as plt\n",
    "import os\n",
    "import multiprocessing\n",
    "import concurrent\n",
    "\n",
    "from sklearn.model_selection import cross_val_predict\n",
    "from sklearn.linear_model import RidgeCV\n",
    "from sklearn.metrics import r2_score, mean_squared_error\n",
    "\n",
    "import sklearn.model_selection\n",
    "import itertools\n",
    "import sklearn.linear_model\n",
    "import sklearn.metrics\n",
    "\n",
    "import kego.plotting.axes_utils\n",
    "import kego.plotting.timeseries\n",
    "import kego.plotting.utils_plotting\n",
    "\n",
    "import kego.plotting"
   ]
  },
  {
   "cell_type": "code",
   "execution_count": null,
   "metadata": {},
   "outputs": [],
   "source": [
    "FOLDER_COMPETITION = os.environ[\"PATH_EFOLDER\"] + \"ariel-data-challenge-2024/\"\n",
    "# FOLDER_COMPETITION = \"/kaggle/input/\"\n",
    "!ls $FOLDER_COMPETITION"
   ]
  },
  {
   "cell_type": "code",
   "execution_count": null,
   "metadata": {},
   "outputs": [],
   "source": [
    "!ls /home/kristian/Projects/kego/data/ariel"
   ]
  },
  {
   "cell_type": "code",
   "execution_count": null,
   "metadata": {
    "_cell_guid": "b1076dfc-b9ad-4769-8c92-a6c4dae69d19",
    "_uuid": "8f2839f25d086af736a60e9eeb907d3b93b6e0e5"
   },
   "outputs": [],
   "source": [
    "train_adc_info = pd.read_csv(\n",
    "    FOLDER_COMPETITION + \"train_adc_info.csv\", index_col=\"planet_id\"\n",
    ")\n",
    "train_labels = pd.read_csv(\n",
    "    FOLDER_COMPETITION + \"train_labels.csv\", index_col=\"planet_id\"\n",
    ")\n",
    "test_adc_info = pd.read_csv(\n",
    "    FOLDER_COMPETITION + \"test_adc_info.csv\", index_col=\"planet_id\"\n",
    ")\n",
    "sample_submission = pd.read_csv(\n",
    "    FOLDER_COMPETITION + \"sample_submission.csv\", index_col=\"planet_id\"\n",
    ")"
   ]
  },
  {
   "cell_type": "code",
   "execution_count": null,
   "metadata": {},
   "outputs": [],
   "source": [
    "!ls $FOLDER_COMPETITION/train/2193939147"
   ]
  },
  {
   "cell_type": "code",
   "execution_count": null,
   "metadata": {},
   "outputs": [],
   "source": [
    "train_labels"
   ]
  },
  {
   "cell_type": "code",
   "execution_count": null,
   "metadata": {},
   "outputs": [],
   "source": [
    "wavelengths = pd.read_csv(FOLDER_COMPETITION + \"wavelengths.csv\")"
   ]
  },
  {
   "cell_type": "markdown",
   "metadata": {},
   "source": [
    "### Plot spectrum on wavenlength and equal distant scales"
   ]
  },
  {
   "cell_type": "code",
   "execution_count": null,
   "metadata": {},
   "outputs": [],
   "source": [
    "train_labels_t = train_labels.T\n",
    "train_labels_t.index = wavelengths.values[0]\n",
    "train_labels_t.index.name = \"wavelength\"\n",
    "figure, axes = kego.plotting.figures.create_figure_axes()\n",
    "axes.plot(train_labels_t.index, train_labels_t.iloc[:, 0], label=\"wavelengths\")\n",
    "axes.plot(\n",
    "    range(train_labels_t.shape[0])\n",
    "    / np.max(train_labels_t.shape[0])\n",
    "    * np.max(train_labels_t.index),\n",
    "    train_labels_t.iloc[:, 0],\n",
    "    label=\"range\",\n",
    ")\n",
    "axes.legend()"
   ]
  },
  {
   "cell_type": "code",
   "execution_count": null,
   "metadata": {},
   "outputs": [],
   "source": [
    "plt.figure(figsize=(6, 2))\n",
    "plt.title(\"Histogram of the planets' sizes (regression targets)\", fontsize=18)\n",
    "plt.hist(train_labels.values.ravel(), bins=20, density=True, color=\"olive\")\n",
    "plt.xlabel(r\"Planet's size $(\\frac{r}{R})^2$\", fontsize=14)\n",
    "plt.ylabel(\"Density\", fontsize=14)\n",
    "plt.xlim(0, 0.008)\n",
    "plt.show()"
   ]
  },
  {
   "cell_type": "code",
   "execution_count": null,
   "metadata": {},
   "outputs": [],
   "source": [
    "!ls $FOLDER_COMPETITION/train/$planet_id/AIRS-CH0_calibration"
   ]
  },
  {
   "cell_type": "code",
   "execution_count": null,
   "metadata": {},
   "outputs": [],
   "source": [
    "planet_id = 14485303\n",
    "f_signal = pd.read_parquet(\n",
    "    FOLDER_COMPETITION + f\"train/{planet_id}/FGS1_signal.parquet\"\n",
    ")\n",
    "a_signal = pd.read_parquet(\n",
    "    FOLDER_COMPETITION + f\"train/{planet_id}/AIRS-CH0_signal.parquet\"\n",
    ")\n",
    "a_cal_dark = pd.read_parquet(\n",
    "    FOLDER_COMPETITION + f\"train/{planet_id}/AIRS-CH0_calibration/dark.parquet\"\n",
    ")\n",
    "display(f_signal.head(2))\n",
    "display(a_signal.head(2))"
   ]
  },
  {
   "cell_type": "code",
   "execution_count": null,
   "metadata": {},
   "outputs": [],
   "source": [
    "mean_signal = f_signal.values.mean(axis=1)\n",
    "net_signal = mean_signal[1::2] - mean_signal[0::2]\n",
    "cum_signal = net_signal.cumsum()\n",
    "window = 800\n",
    "smooth_signal = (cum_signal[window:] - cum_signal[:-window]) / window\n",
    "\n",
    "_, (ax1, ax2) = plt.subplots(2, 1, sharex=True)\n",
    "ax1.plot(net_signal, label=\"raw net signal\")\n",
    "ax1.legend()\n",
    "ax2.plot(smooth_signal, color=\"c\", label=\"smoothened net signal\")\n",
    "ax2.legend()\n",
    "ax2.set_xlabel(\"time\")\n",
    "plt.suptitle(\"FGS1 light curve\", y=0.96)\n",
    "\n",
    "plt.show()"
   ]
  },
  {
   "cell_type": "code",
   "execution_count": null,
   "metadata": {},
   "outputs": [],
   "source": [
    "plt.imshow(a_signal.to_numpy().reshape(11250, 32, 356)[0])"
   ]
  },
  {
   "cell_type": "code",
   "execution_count": null,
   "metadata": {},
   "outputs": [],
   "source": [
    "plt.imshow(f_signal.to_numpy().reshape(135000, 32, 32)[0])"
   ]
  },
  {
   "cell_type": "code",
   "execution_count": null,
   "metadata": {},
   "outputs": [],
   "source": [
    "mean_signal = a_signal.values.mean(axis=1)\n",
    "net_signal = mean_signal[1::2] - mean_signal[0::2]\n",
    "cum_signal = net_signal.cumsum()\n",
    "window = 100\n",
    "smooth_signal = (cum_signal[window:] - cum_signal[:-window]) / window\n",
    "\n",
    "_, (ax1, ax2) = plt.subplots(2, 1, sharex=True)\n",
    "ax1.plot(net_signal, label=\"raw net signal\")\n",
    "ax1.legend()\n",
    "ax2.plot(smooth_signal, color=\"c\", label=\"smoothened net signal\")\n",
    "ax2.legend()\n",
    "ax2.set_xlabel(\"time\")\n",
    "plt.suptitle(\"FGS1 light curve\", y=0.96)\n",
    "\n",
    "plt.show()"
   ]
  },
  {
   "cell_type": "code",
   "execution_count": null,
   "metadata": {},
   "outputs": [],
   "source": [
    "adc_info = train_adc_info\n",
    "planet_ids = adc_info.index\n",
    "\n",
    "dataset = \"train\"\n",
    "i = 1\n",
    "\n",
    "f_signal = pd.read_parquet(\n",
    "    FOLDER_COMPETITION + f\"{dataset}/{planet_id}/FGS1_signal.parquet\"\n",
    ")\n",
    "mean_signal = f_signal.values.mean(axis=1)  # mean over the 32*32 pixels\n",
    "net_signal = mean_signal[1::2] - mean_signal[0::2]\n",
    "gain = adc_info.FGS1_adc_gain.values[i]"
   ]
  },
  {
   "cell_type": "code",
   "execution_count": null,
   "metadata": {},
   "outputs": [],
   "source": [
    "model = RidgeCV()\n",
    "train_labels_sel = train_labels.iloc[: train_adc_info.shape[0]]\n",
    "oof_pred = cross_val_predict(model, train, train_labels_sel)\n",
    "\n",
    "print(f\"# R2 score: {r2_score(train_labels_sel, oof_pred):.3f}\")\n",
    "sigma_pred = mean_squared_error(train_labels_sel, oof_pred, squared=False)\n",
    "print(f\"# Root mean squared error: {sigma_pred:.6f}\")\n",
    "\n",
    "col = 1\n",
    "plt.scatter(\n",
    "    oof_pred[:, col],\n",
    "    train_labels_sel.iloc[:, col],\n",
    "    s=15,\n",
    "    c=train_adc_info.iloc[: train_labels_t.shape[0]][\"star\"],\n",
    ")\n",
    "plt.gca().set_aspect(\"equal\")\n",
    "plt.xlabel(\"y_pred\")\n",
    "plt.ylabel(\"y_true\")\n",
    "plt.title(\"Comparing y_true and y_pred\")\n",
    "plt.show()"
   ]
  },
  {
   "cell_type": "code",
   "execution_count": null,
   "metadata": {},
   "outputs": [],
   "source": []
  }
 ],
 "metadata": {
  "kaggle": {
   "accelerator": "none",
   "dataSources": [
    {
     "databundleVersionId": 9188054,
     "sourceId": 70367,
     "sourceType": "competition"
    }
   ],
   "dockerImageVersionId": 30746,
   "isGpuEnabled": false,
   "isInternetEnabled": true,
   "language": "python",
   "sourceType": "notebook"
  },
  "kernelspec": {
   "display_name": "Python 3",
   "language": "python",
   "name": "python3"
  },
  "language_info": {
   "codemirror_mode": {
    "name": "ipython",
    "version": 3
   },
   "file_extension": ".py",
   "mimetype": "text/x-python",
   "name": "python",
   "nbconvert_exporter": "python",
   "pygments_lexer": "ipython3",
   "version": "3.10.12"
  }
 },
 "nbformat": 4,
 "nbformat_minor": 4
}
