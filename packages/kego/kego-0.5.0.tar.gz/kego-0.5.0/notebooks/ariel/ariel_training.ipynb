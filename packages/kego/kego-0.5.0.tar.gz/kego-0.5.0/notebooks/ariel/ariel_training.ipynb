{
 "cells": [
  {
   "cell_type": "code",
   "execution_count": null,
   "metadata": {},
   "outputs": [],
   "source": [
    "%load_ext autoreload\n",
    "%autoreload 2"
   ]
  },
  {
   "cell_type": "code",
   "execution_count": null,
   "metadata": {},
   "outputs": [],
   "source": [
    "import numpy as np\n",
    "import scipy.stats\n",
    "import pandas as pd\n",
    "import os\n",
    "import pandas.api.types\n",
    "import kego.plotting\n",
    "import kego.ariel.metrics\n",
    "import kego.plotting.axes_utils\n",
    "import kego.plotting.histograms\n",
    "import kego.plotting.utils_plotting\n",
    "import kego.plotting.figures\n",
    "import sklearn.model_selection\n",
    "import sklearn.ensemble\n",
    "import sklearn.linear_model"
   ]
  },
  {
   "cell_type": "code",
   "execution_count": null,
   "metadata": {},
   "outputs": [],
   "source": [
    "FOLDER_DOWNLOADS = os.environ[\"PATH_CFOLDER\"] + \"Users/krist/Downloads/\"\n",
    "# FOLDER_COMPETITION = \"/home/kristian/Projects/kego/data/ariel/competition/\"\n",
    "FOLDER_COMPETITION = os.environ[\"PATH_EFOLDER\"] + \"/ariel-data-challenge-2024/\"\n",
    "os.listdir(FOLDER_DOWNLOADS)[:2]"
   ]
  },
  {
   "cell_type": "code",
   "execution_count": null,
   "metadata": {},
   "outputs": [],
   "source": [
    "!ls $FOLDER_COMPETITION/test_adc_info.csv"
   ]
  },
  {
   "cell_type": "code",
   "execution_count": null,
   "metadata": {},
   "outputs": [],
   "source": [
    "X_submission = pd.read_csv(FOLDER_COMPETITION + \"/test_adc_info.csv\")\n",
    "X_submission"
   ]
  },
  {
   "cell_type": "code",
   "execution_count": null,
   "metadata": {},
   "outputs": [],
   "source": [
    "X = pd.read_csv(FOLDER_DOWNLOADS + \"phases_step8000_nids673.csv\").drop(\n",
    "    columns=[\"Unnamed: 0\"]\n",
    ")\n",
    "y = pd.read_csv(FOLDER_COMPETITION + \"train_labels.csv\")"
   ]
  },
  {
   "cell_type": "code",
   "execution_count": null,
   "metadata": {},
   "outputs": [],
   "source": [
    "X_train, X_test, y_train, y_test = sklearn.model_selection.train_test_split(\n",
    "    X, y.drop(columns=[\"planet_id\"]), test_size=0.3, random_state=42\n",
    ")"
   ]
  },
  {
   "cell_type": "code",
   "execution_count": null,
   "metadata": {},
   "outputs": [],
   "source": [
    "model = sklearn.ensemble.HistGradientBoostingRegressor()\n",
    "model = sklearn.linear_model.RidgeCV()\n",
    "oof_pred = sklearn.model_selection.cross_val_predict(model, X_train, y_train, cv=5)"
   ]
  },
  {
   "cell_type": "code",
   "execution_count": null,
   "metadata": {},
   "outputs": [],
   "source": [
    "final_model = model.fit(X_train, y_train)\n",
    "y_prediction = final_model.predict(X_test)"
   ]
  },
  {
   "cell_type": "code",
   "execution_count": null,
   "metadata": {},
   "outputs": [],
   "source": [
    "def score(truths, predictions):\n",
    "    solution = truths\n",
    "    predictions = np.clip(predictions, a_min=0, a_max=None)\n",
    "    submission_values = pd.DataFrame(data=predictions)\n",
    "    submission_sigmas = pd.DataFrame(\n",
    "        data=np.ones_like(predictions) * np.mean(predictions) * 0.1\n",
    "    )\n",
    "    submission = pd.concat(\n",
    "        (submission_values, submission_sigmas), axis=1, ignore_index=True\n",
    "    )\n",
    "    naive_mean = np.mean(truths)\n",
    "    naive_sigma = np.std(truths).mean()\n",
    "    sigma_true = naive_sigma\n",
    "    print(f\"{naive_mean=}\")\n",
    "    print(f\"{naive_sigma=}\")\n",
    "    print(f\"{sigma_true=}\")\n",
    "    return kego.ariel.metrics.score(\n",
    "        solution=solution,\n",
    "        submission=submission,\n",
    "        row_id_column_name=None,\n",
    "        naive_mean=naive_mean,\n",
    "        naive_sigma=naive_sigma,\n",
    "        sigma_true=sigma_true,\n",
    "    )"
   ]
  },
  {
   "cell_type": "code",
   "execution_count": null,
   "metadata": {},
   "outputs": [],
   "source": [
    "score(truths=y_train, predictions=oof_pred), score(\n",
    "    truths=y_test, predictions=y_prediction\n",
    ")"
   ]
  },
  {
   "cell_type": "code",
   "execution_count": null,
   "metadata": {},
   "outputs": [],
   "source": [
    "n_show_columns = 5\n",
    "for i in range(n_show_columns):\n",
    "    figure, axes = kego.plotting.figures.create_figure_axes()\n",
    "    kego.plotting.histograms.plot_histogram_2d(\n",
    "        oof_pred[:, i],\n",
    "        y_train.iloc[:, i].to_numpy(),\n",
    "        label_x=\"pred\",\n",
    "        label_y=\"true\",\n",
    "        axes=axes,\n",
    "        annotate_line=\"unity\",\n",
    "    )"
   ]
  },
  {
   "cell_type": "code",
   "execution_count": null,
   "metadata": {},
   "outputs": [],
   "source": [
    "import kego.plotting.axes_utils\n",
    "import kego.plotting.figures\n",
    "import kego.plotting.utils_plotting\n",
    "\n",
    "\n",
    "figure, axes = kego.plotting.figures.create_figure_axes(figure_size=(12, 10))\n",
    "for index in range(len(y)):\n",
    "    axes.plot(y.iloc[index, 1:])\n",
    "    kego.plotting.axes_utils.set_axes(axes, labelrotation_x=90, ylim=[0, None])\n",
    "    if index >= 20:\n",
    "        break"
   ]
  },
  {
   "cell_type": "code",
   "execution_count": null,
   "metadata": {},
   "outputs": [],
   "source": [
    "solution = pd.concat([ids, y], axis=1)\n",
    "submission = pd.concat([ids, y * 0.79, y.add_prefix(\"sigma_\") * 0.1], axis=1)\n",
    "submission.shape, solution.shape, y.shape[1] * 2"
   ]
  },
  {
   "cell_type": "code",
   "execution_count": null,
   "metadata": {},
   "outputs": [],
   "source": [
    "def retrieve_pred_true(submission, solution, row_id_column_name=\"planet_id\"):\n",
    "    solution = solution.copy()\n",
    "    submission = submission.copy()\n",
    "    del solution[row_id_column_name]\n",
    "    del submission[row_id_column_name]\n",
    "\n",
    "    if submission.min().min() < 0:\n",
    "        raise ValueError(\"Negative values in the submission\")\n",
    "    for col in submission.columns:\n",
    "        if not pandas.api.types.is_numeric_dtype(submission[col]):\n",
    "            raise ValueError(f\"Submission column {col} must be a number\")\n",
    "    n_wavelengths = len(solution.columns)\n",
    "    y_pred = submission.iloc[:, :n_wavelengths].values\n",
    "    if len(submission.columns) != n_wavelengths * 2:\n",
    "        raise ValueError(\n",
    "            \"Wrong number of columns in the submission\"\n",
    "        )  # Set a non-zero minimum sigma pred to prevent division by zero errors.\n",
    "    sigma_pred = np.clip(\n",
    "        submission.iloc[:, n_wavelengths:].values, a_min=10**-15, a_max=None\n",
    "    )\n",
    "    y_true = solution.values\n",
    "    return y_pred, y_true, sigma_pred\n",
    "\n",
    "\n",
    "naive_mean = np.mean(y)\n",
    "naive_sigma = y.to_numpy().std()\n",
    "sigma_true = solution.iloc[:, 1:].to_numpy().std()\n",
    "\n",
    "y_pred, y_true, sigma_pred = retrieve_pred_true(\n",
    "    submission=submission, solution=solution\n",
    ")\n",
    "gaussian_pred = scipy.stats.norm.logpdf(y_true, loc=y_pred, scale=sigma_pred)\n",
    "gaussian_true = scipy.stats.norm.logpdf(\n",
    "    y_true, loc=y_true, scale=sigma_true * np.ones_like(y_true)\n",
    ")"
   ]
  },
  {
   "cell_type": "code",
   "execution_count": null,
   "metadata": {},
   "outputs": [],
   "source": [
    "import kego.ariel.metrics\n",
    "\n",
    "data_full = y\n",
    "\n",
    "kego.ariel.metrics.score(\n",
    "    solution=solution,\n",
    "    submission=submission,\n",
    "    row_id_column_name=\"planet_id\",\n",
    "    naive_mean=naive_mean,\n",
    "    naive_sigma=naive_sigma,\n",
    "    sigma_true=sigma_true,\n",
    ")"
   ]
  },
  {
   "cell_type": "code",
   "execution_count": null,
   "metadata": {},
   "outputs": [],
   "source": [
    "submission.iloc[:, 1:]"
   ]
  },
  {
   "cell_type": "code",
   "execution_count": null,
   "metadata": {},
   "outputs": [],
   "source": [
    "solution.iloc[:, 1:]"
   ]
  },
  {
   "cell_type": "code",
   "execution_count": null,
   "metadata": {},
   "outputs": [],
   "source": [
    "import kego.plotting.axes_utils\n",
    "import kego.plotting.histograms\n",
    "import kego.plotting.utils_plotting\n",
    "\n",
    "\n",
    "plot_types = [\"histogram\", \"lineplot\", \"lineplot_logpdf_true\", \"lineplot_logpdf_pred\"]\n",
    "samples = range(5)\n",
    "print(f\"{len(samples)=}\")\n",
    "figure, axes_list, colorbar_list = kego.plotting.figures.create_axes_grid(\n",
    "    n_columns=len(plot_types), n_rows=len(samples), spacing_x=0.0, spacing_y=0.0\n",
    ")\n",
    "for i_sample, sample in enumerate(samples):\n",
    "    for i_type, _type in enumerate(plot_types):\n",
    "        axes = axes_list[i_sample, i_type]\n",
    "        data = y.iloc[sample, 1:]\n",
    "        labelrotation_x = 0\n",
    "        ylim = None\n",
    "        title = None\n",
    "        if _type == \"histogram\":\n",
    "            kego.plotting.histograms.plot_histogram(\n",
    "                data, axes=axes, alpha=0.2, xlim=[np.min(data_full), np.max(data_full)]\n",
    "            )\n",
    "            ylim = [0, 300]\n",
    "        elif _type == \"lineplot\":\n",
    "            axes.plot(y.iloc[sample, 1:])\n",
    "            labelrotation_x = 90\n",
    "        elif _type == \"lineplot_logpdf_true\":\n",
    "            axes.plot(gaussian_true[:, sample])\n",
    "        elif _type == \"lineplot_logpdf_pred\":\n",
    "            axes.plot(gaussian_pred[:, sample])\n",
    "        if i_sample == 0:\n",
    "            title = _type\n",
    "        kego.plotting.axes_utils.set_axes(\n",
    "            axes, labelrotation_x=labelrotation_x, ylim=ylim, title=title\n",
    "        )"
   ]
  },
  {
   "cell_type": "code",
   "execution_count": null,
   "metadata": {},
   "outputs": [],
   "source": [
    "import kego.ariel.metrics\n",
    "\n",
    "kego.ariel.metrics.score(\n",
    "    solution=solution,\n",
    "    submission=submission,\n",
    "    row_id_column_name=\"planet_id\",\n",
    "    naive_mean=np.mean(data_full),\n",
    "    naive_sigma=data_full.to_numpy().std(),\n",
    "    sigma_true=1e-5,\n",
    ")"
   ]
  }
 ],
 "metadata": {
  "kernelspec": {
   "display_name": ".venv",
   "language": "python",
   "name": "python3"
  },
  "language_info": {
   "codemirror_mode": {
    "name": "ipython",
    "version": 3
   },
   "file_extension": ".py",
   "mimetype": "text/x-python",
   "name": "python",
   "nbconvert_exporter": "python",
   "pygments_lexer": "ipython3",
   "version": "3.10.12"
  }
 },
 "nbformat": 4,
 "nbformat_minor": 2
}
