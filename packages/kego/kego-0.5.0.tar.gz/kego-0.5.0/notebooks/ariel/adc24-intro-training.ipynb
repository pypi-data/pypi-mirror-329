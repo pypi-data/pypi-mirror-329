{
 "cells": [
  {
   "cell_type": "markdown",
   "id": "0",
   "metadata": {
    "_cell_guid": "b1076dfc-b9ad-4769-8c92-a6c4dae69d19",
    "_uuid": "8f2839f25d086af736a60e9eeb907d3b93b6e0e5",
    "papermill": {
     "duration": 0.01211,
     "end_time": "2024-08-04T13:16:41.829318",
     "exception": false,
     "start_time": "2024-08-04T13:16:41.817208",
     "status": "completed"
    },
    "tags": []
   },
   "source": [
    "# Ariel Data Challenge 2024: Introductory model: training\n",
    "\n",
    "In this notebook, we show how to train and cross-validate a model. At the end, we save the model so that it can be used for inference in the separate notebook [ADC24 Intro inference](https://www.kaggle.com/code/ambrosm/adc24-intro-inference).\n"
   ]
  },
  {
   "cell_type": "code",
   "execution_count": null,
   "id": "1",
   "metadata": {},
   "outputs": [],
   "source": [
    "%load_ext autoreload\n",
    "%autoreload 2"
   ]
  },
  {
   "cell_type": "code",
   "execution_count": null,
   "id": "2",
   "metadata": {
    "_kg_hide-input": true,
    "papermill": {
     "duration": 3.311304,
     "end_time": "2024-08-04T13:16:45.152747",
     "exception": false,
     "start_time": "2024-08-04T13:16:41.841443",
     "status": "completed"
    },
    "tags": []
   },
   "outputs": [],
   "source": [
    "import pandas as pd\n",
    "import polars as pl\n",
    "import matplotlib.pyplot as plt\n",
    "import numpy as np\n",
    "import seaborn as sns\n",
    "import scipy.stats\n",
    "import os\n",
    "from tqdm import tqdm\n",
    "import pickle\n",
    "\n",
    "from sklearn.model_selection import cross_val_predict\n",
    "from sklearn.linear_model import Ridge\n",
    "from sklearn.metrics import r2_score, mean_squared_error"
   ]
  },
  {
   "cell_type": "markdown",
   "id": "3",
   "metadata": {
    "papermill": {
     "duration": 0.011688,
     "end_time": "2024-08-04T13:16:45.176922",
     "exception": false,
     "start_time": "2024-08-04T13:16:45.165234",
     "status": "completed"
    },
    "tags": []
   },
   "source": [
    "# A look at the data\n",
    "\n",
    "We start by reading the metadata:"
   ]
  },
  {
   "cell_type": "code",
   "execution_count": null,
   "id": "4",
   "metadata": {},
   "outputs": [],
   "source": [
    "FOLDER_COMPETITION = os.environ[\"PATH_EFOLDER\"] + \"ariel-data-challenge-2024/\"\n",
    "# FOLDER_COMPETITION = '/kaggle/input/ariel-data-challenge-2024/'"
   ]
  },
  {
   "cell_type": "code",
   "execution_count": null,
   "id": "5",
   "metadata": {
    "papermill": {
     "duration": 0.353675,
     "end_time": "2024-08-04T13:16:45.542624",
     "exception": false,
     "start_time": "2024-08-04T13:16:45.188949",
     "status": "completed"
    },
    "tags": []
   },
   "outputs": [],
   "source": [
    "train_adc_info = pd.read_csv(\n",
    "    FOLDER_COMPETITION + \"train_adc_info.csv\", index_col=\"planet_id\"\n",
    ")\n",
    "# test_adc_info = pd.read_csv(FOLDER_COMPETITION + 'test_adc_info.csv',\n",
    "#                            index_col='planet_id')\n",
    "train_labels = pd.read_csv(\n",
    "    FOLDER_COMPETITION + \"train_labels.csv\", index_col=\"planet_id\"\n",
    ")\n",
    "wavelengths = pd.read_csv(FOLDER_COMPETITION + \"wavelengths.csv\")\n",
    "axis_info = pd.read_parquet(FOLDER_COMPETITION + \"axis_info.parquet\")"
   ]
  },
  {
   "cell_type": "markdown",
   "id": "6",
   "metadata": {
    "papermill": {
     "duration": 0.011286,
     "end_time": "2024-08-04T13:16:45.565970",
     "exception": false,
     "start_time": "2024-08-04T13:16:45.554684",
     "status": "completed"
    },
    "tags": []
   },
   "source": [
    "Some facts about the data:\n",
    "- We have 673 planets for training. These planets belong to two different stars.\n",
    "- There will be roughly 800 planets for testing (but the test data is hidden).\n",
    "- The competition is a multi-output regression task with 283 targets to predict."
   ]
  },
  {
   "cell_type": "markdown",
   "id": "7",
   "metadata": {
    "papermill": {
     "duration": 0.011734,
     "end_time": "2024-08-04T13:16:45.589435",
     "exception": false,
     "start_time": "2024-08-04T13:16:45.577701",
     "status": "completed"
    },
    "tags": []
   },
   "source": [
    "## The FGS1 data\n",
    "\n",
    "Having read the metadata, we'll tackle the FGS1 data (Fine Guidance System). The FGS1 measurements consist of one file per planet (673 files for 673 planets for training). For now, we ignore the calibration files.\n",
    "\n",
    "Each file contains 135,000 rows of images taken at 0.1 second time steps. Each row is a 32\\*32 image at a single wavelength.\n",
    "\n",
    "We read a sample file:"
   ]
  },
  {
   "cell_type": "code",
   "execution_count": null,
   "id": "8",
   "metadata": {
    "papermill": {
     "duration": 1.794702,
     "end_time": "2024-08-04T13:16:47.396131",
     "exception": false,
     "start_time": "2024-08-04T13:16:45.601429",
     "status": "completed"
    },
    "tags": []
   },
   "outputs": [],
   "source": [
    "planet_id = 14485303\n",
    "f_signal = pd.read_parquet(\n",
    "    FOLDER_COMPETITION + f\"train/{planet_id}/FGS1_signal.parquet\"\n",
    ")\n",
    "f_signal"
   ]
  },
  {
   "cell_type": "markdown",
   "id": "9",
   "metadata": {
    "papermill": {
     "duration": 0.012239,
     "end_time": "2024-08-04T13:16:47.421823",
     "exception": false,
     "start_time": "2024-08-04T13:16:47.409584",
     "status": "completed"
    },
    "tags": []
   },
   "source": [
    "Every row of the file corresponds to an image of a star. The images come in pairs, and the second image is lighter than the first one:"
   ]
  },
  {
   "cell_type": "code",
   "execution_count": null,
   "id": "10",
   "metadata": {
    "_kg_hide-input": true,
    "papermill": {
     "duration": 1.079252,
     "end_time": "2024-08-04T13:16:48.513287",
     "exception": false,
     "start_time": "2024-08-04T13:16:47.434035",
     "status": "completed"
    },
    "tags": []
   },
   "outputs": [],
   "source": [
    "_, (ax1, ax2) = plt.subplots(1, 2, figsize=(12, 4))\n",
    "sns.heatmap(f_signal.iloc[0].values.reshape(32, 32), ax=ax1, vmin=0, vmax=52000)\n",
    "ax1.set_aspect(\"equal\")\n",
    "sns.heatmap(f_signal.iloc[1].values.reshape(32, 32), ax=ax2, vmin=0, vmax=52000)\n",
    "ax2.set_aspect(\"equal\")\n",
    "plt.suptitle(\"A pair of FGS1 images\")\n",
    "plt.show()"
   ]
  },
  {
   "cell_type": "markdown",
   "id": "11",
   "metadata": {
    "papermill": {
     "duration": 0.012756,
     "end_time": "2024-08-04T13:16:48.538989",
     "exception": false,
     "start_time": "2024-08-04T13:16:48.526233",
     "status": "completed"
    },
    "tags": []
   },
   "source": [
    "To see the time series, we first have to compute the difference between the even and the odd frames to get the net signal (67500 time steps). We then take the mean over all 1024 pixels. The net signal is very noisy, and we smoothen it by computing a moving average. The plot of the smoothened signal clearly shows that the signal intensity is reduced (i.e., the image gets darker) while the planet passes in front of the star (between time steps 23500 and 44000).\n",
    "\n",
    "The left diagram shows a planet with a strong reduction of the signal intensity, the right diagram shows a planet with a weak reduction:"
   ]
  },
  {
   "cell_type": "code",
   "execution_count": null,
   "id": "12",
   "metadata": {
    "_kg_hide-input": true,
    "papermill": {
     "duration": 4.71979,
     "end_time": "2024-08-04T13:16:53.271760",
     "exception": false,
     "start_time": "2024-08-04T13:16:48.551970",
     "status": "completed"
    },
    "tags": []
   },
   "outputs": [],
   "source": [
    "_, ((ax1, ax2), (ax3, ax4)) = plt.subplots(2, 2, sharex=True, figsize=(12, 4))\n",
    "\n",
    "planet_id = 14485303\n",
    "f_signal = pd.read_parquet(\n",
    "    FOLDER_COMPETITION + f\"train/{planet_id}/FGS1_signal.parquet\"\n",
    ")\n",
    "\n",
    "mean_signal = f_signal.values.mean(axis=1)\n",
    "net_signal = mean_signal[1::2] - mean_signal[0::2]\n",
    "cum_signal = net_signal.cumsum()\n",
    "window = 800\n",
    "smooth_signal = (cum_signal[window:] - cum_signal[:-window]) / window\n",
    "\n",
    "ax1.set_title(\"FGS1: time series of planet with strong signal\")\n",
    "ax1.plot(net_signal, label=\"raw signal\")\n",
    "ax1.legend()\n",
    "ax3.plot(smooth_signal, color=\"c\", label=\"smoothened signal\")\n",
    "ax3.legend()\n",
    "ax3.set_xlabel(\"time step\")\n",
    "for time_step in [20500, 23500, 44000, 47000]:\n",
    "    ax3.axvline(time_step, color=\"gray\")\n",
    "\n",
    "planet_id = 4249337798\n",
    "f_signal = pd.read_parquet(\n",
    "    FOLDER_COMPETITION + f\"train/{planet_id}/FGS1_signal.parquet\"\n",
    ")\n",
    "\n",
    "mean_signal = f_signal.values.mean(axis=1)\n",
    "net_signal = mean_signal[1::2] - mean_signal[0::2]\n",
    "cum_signal = net_signal.cumsum()\n",
    "window = 800\n",
    "smooth_signal = (cum_signal[window:] - cum_signal[:-window]) / window\n",
    "\n",
    "ax2.set_title(\"FGS1: time series of planet with weak signal\")\n",
    "ax2.plot(net_signal, label=\"raw signal\")\n",
    "ax2.legend()\n",
    "ax4.plot(smooth_signal, color=\"c\", label=\"smoothened signal\")\n",
    "ax4.legend()\n",
    "ax4.set_xlabel(\"time step\")\n",
    "for time_step in [20500, 23500, 44000, 47000]:\n",
    "    ax4.axvline(time_step, color=\"gray\")\n",
    "\n",
    "# plt.suptitle('FGS1 time series', y=0.96)\n",
    "plt.show()"
   ]
  },
  {
   "cell_type": "markdown",
   "id": "13",
   "metadata": {
    "papermill": {
     "duration": 0.013879,
     "end_time": "2024-08-04T13:16:53.300233",
     "exception": false,
     "start_time": "2024-08-04T13:16:53.286354",
     "status": "completed"
    },
    "tags": []
   },
   "source": [
    "## The AIRS data\n",
    "\n",
    "AIRS is the other sensor of the satellite. It produces one file per planet as well. Each file contains 11,250 rows of images captured at constant time steps. Each 32 x 356 image has been flattened into 11392 columns."
   ]
  },
  {
   "cell_type": "code",
   "execution_count": null,
   "id": "14",
   "metadata": {
    "papermill": {
     "duration": 2.287662,
     "end_time": "2024-08-04T13:16:55.602236",
     "exception": false,
     "start_time": "2024-08-04T13:16:53.314574",
     "status": "completed"
    },
    "tags": []
   },
   "outputs": [],
   "source": [
    "planet_id = 4249337798\n",
    "a_signal = pd.read_parquet(\n",
    "    FOLDER_COMPETITION + f\"train/{planet_id}/AIRS-CH0_signal.parquet\"\n",
    ")\n",
    "a_signal"
   ]
  },
  {
   "cell_type": "code",
   "execution_count": null,
   "id": "15",
   "metadata": {},
   "outputs": [],
   "source": [
    "a_signal[0]"
   ]
  },
  {
   "cell_type": "code",
   "execution_count": null,
   "id": "16",
   "metadata": {
    "_kg_hide-input": true,
    "papermill": {
     "duration": 0.748181,
     "end_time": "2024-08-04T13:16:56.366169",
     "exception": false,
     "start_time": "2024-08-04T13:16:55.617988",
     "status": "completed"
    },
    "tags": []
   },
   "outputs": [],
   "source": [
    "a_signal = a_signal.values.reshape(11250, 32, 356)\n",
    "\n",
    "plt.figure(figsize=(10, 3))\n",
    "sns.heatmap(a_signal[1])\n",
    "plt.ylabel(\"spatial dimension\")\n",
    "plt.xlabel(\"wavelength dimension\")\n",
    "plt.show()"
   ]
  },
  {
   "cell_type": "markdown",
   "id": "17",
   "metadata": {
    "papermill": {
     "duration": 0.015742,
     "end_time": "2024-08-04T13:16:56.400153",
     "exception": false,
     "start_time": "2024-08-04T13:16:56.384411",
     "status": "completed"
    },
    "tags": []
   },
   "source": [
    "The data again is a time series, and we can see how the star is obscured while the planet is passing in front of it."
   ]
  },
  {
   "cell_type": "code",
   "execution_count": null,
   "id": "18",
   "metadata": {
    "_kg_hide-input": true,
    "papermill": {
     "duration": 0.819706,
     "end_time": "2024-08-04T13:16:57.236323",
     "exception": false,
     "start_time": "2024-08-04T13:16:56.416617",
     "status": "completed"
    },
    "tags": []
   },
   "outputs": [],
   "source": [
    "mean_signal = a_signal.mean(axis=2).mean(axis=1)\n",
    "net_signal = mean_signal[1::2] - mean_signal[0::2]\n",
    "cum_signal = net_signal.cumsum()\n",
    "window = 80\n",
    "smooth_signal = (cum_signal[window:] - cum_signal[:-window]) / window\n",
    "\n",
    "_, (ax1, ax2) = plt.subplots(2, 1, sharex=True)\n",
    "ax1.plot(net_signal, label=\"raw net signal\")\n",
    "ax1.legend()\n",
    "ax2.plot(smooth_signal, color=\"c\", label=\"smoothened net signal\")\n",
    "ax2.legend()\n",
    "ax2.set_xlabel(\"time\")\n",
    "for time_step in [20500, 23500, 44000, 47000]:\n",
    "    ax2.axvline(time_step * 11250 // 135000, color=\"gray\")\n",
    "plt.suptitle(\"AIRS-CH0 time series\", y=0.96)\n",
    "plt.show()"
   ]
  },
  {
   "cell_type": "markdown",
   "id": "19",
   "metadata": {
    "papermill": {
     "duration": 0.015887,
     "end_time": "2024-08-04T13:16:57.268659",
     "exception": false,
     "start_time": "2024-08-04T13:16:57.252772",
     "status": "completed"
    },
    "tags": []
   },
   "source": [
    "# Reading the data\n",
    "\n",
    "We now read the FGS1 data and the AIRS-CH0 data for all 673 training planets. As the dataset doesn't fit into RAM completely, we keep only two one-dimensional time series for every planet. At the end we'll have\n",
    "1. A time series with 67500 steps per planet taken from the FGS1 data, and\n",
    "2. A time series with 5625 steps per planet taken from the AIRS-CH0 data.\n",
    "\n",
    "We use the Jupyter `%%writefile` cell magic to save the function code to a file. This ensures that the inference notebook will process the test data in exactly the same way as this notebook processes the training data."
   ]
  },
  {
   "cell_type": "code",
   "execution_count": null,
   "id": "20",
   "metadata": {
    "papermill": {
     "duration": 0.029207,
     "end_time": "2024-08-04T13:16:57.314195",
     "exception": false,
     "start_time": "2024-08-04T13:16:57.284988",
     "status": "completed"
    },
    "tags": []
   },
   "outputs": [],
   "source": [
    "%%writefile f_read_and_preprocess.py\n",
    "\n",
    "def f_read_and_preprocess(dataset, adc_info, planet_ids):\n",
    "    \"\"\"Read the FGS1 files for all planet_ids and extract the time series.\n",
    "    \n",
    "    Parameters\n",
    "    dataset: 'train' or 'test'\n",
    "    adc_info: metadata dataframe, either train_adc_info or test_adc_info\n",
    "    planet_ids: list of planet ids\n",
    "    \n",
    "    Returns\n",
    "    dataframe with one row per planet_id and 67500 values per row\n",
    "    \n",
    "    \"\"\"\n",
    "    f_raw_train = np.full((len(planet_ids), 67500), np.nan, dtype=np.float32)\n",
    "    for i, planet_id in tqdm(list(enumerate(planet_ids))):\n",
    "        f_signal = pl.read_parquet(FOLDER_COMPETITION + f'{dataset}/{planet_id}/FGS1_signal.parquet')\n",
    "        mean_signal = f_signal.cast(pl.Int32).sum_horizontal().cast(pl.Float32).to_numpy() / 1024 # mean over the 32*32 pixels\n",
    "        net_signal = mean_signal[1::2] - mean_signal[0::2]\n",
    "        f_raw_train[i] = net_signal\n",
    "    return f_raw_train\n",
    "    "
   ]
  },
  {
   "cell_type": "code",
   "execution_count": null,
   "id": "21",
   "metadata": {
    "papermill": {
     "duration": 703.12813,
     "end_time": "2024-08-04T13:28:40.460053",
     "exception": false,
     "start_time": "2024-08-04T13:16:57.331923",
     "status": "completed"
    },
    "tags": []
   },
   "outputs": [],
   "source": [
    "%%time\n",
    "exec(open(\"f_read_and_preprocess.py\", \"r\").read())\n",
    "f_raw_train = f_read_and_preprocess(\"train\", train_adc_info, train_labels.index)\n",
    "with open(\"f_raw_train.pickle\", \"wb\") as f:\n",
    "    pickle.dump(f_raw_train, f)"
   ]
  },
  {
   "cell_type": "code",
   "execution_count": null,
   "id": "22",
   "metadata": {},
   "outputs": [],
   "source": [
    "# TODO: continue from here\n",
    "!ls -lrth"
   ]
  },
  {
   "cell_type": "code",
   "execution_count": null,
   "id": "23",
   "metadata": {
    "papermill": {
     "duration": 0.096284,
     "end_time": "2024-08-04T13:28:40.635168",
     "exception": false,
     "start_time": "2024-08-04T13:28:40.538884",
     "status": "completed"
    },
    "tags": []
   },
   "outputs": [],
   "source": [
    "%%writefile a_read_and_preprocess.py\n",
    "def a_read_and_preprocess(dataset, adc_info, planet_ids):\n",
    "    \"\"\"Read the AIRS-CH0 files for all planet_ids and extract the time series.\n",
    "    \n",
    "    Parameters\n",
    "    dataset: 'train' or 'test'\n",
    "    adc_info: metadata dataframe, either train_adc_info or test_adc_info\n",
    "    planet_ids: list of planet ids\n",
    "    \n",
    "    Returns\n",
    "    dataframe with one row per planet_id and 5625 values per row\n",
    "    \n",
    "    \"\"\"\n",
    "    a_raw_train = np.full((len(planet_ids), 5625), np.nan, dtype=np.float32)\n",
    "    for i, planet_id in tqdm(list(enumerate(planet_ids))):\n",
    "        signal = pl.read_parquet(FOLDER_COMPETITION + f'{dataset}/{planet_id}/AIRS-CH0_signal.parquet')\n",
    "        mean_signal = signal.cast(pl.Int32).sum_horizontal().cast(pl.Float32).to_numpy() / (32*356) # mean over the 32*356 pixels\n",
    "        net_signal = mean_signal[1::2] - mean_signal[0::2]\n",
    "        a_raw_train[i] = net_signal\n",
    "    return a_raw_train\n",
    "    "
   ]
  },
  {
   "cell_type": "code",
   "execution_count": null,
   "id": "24",
   "metadata": {
    "papermill": {
     "duration": 1203.809161,
     "end_time": "2024-08-04T13:48:44.524365",
     "exception": false,
     "start_time": "2024-08-04T13:28:40.715204",
     "status": "completed"
    },
    "tags": []
   },
   "outputs": [],
   "source": [
    "%%time\n",
    "exec(open(\"a_read_and_preprocess.py\", \"r\").read())\n",
    "a_raw_train = a_read_and_preprocess(\"train\", train_adc_info, train_labels.index)\n",
    "with open(\"a_raw_train.pickle\", \"wb\") as f:\n",
    "    pickle.dump(a_raw_train, f)"
   ]
  },
  {
   "cell_type": "markdown",
   "id": "25",
   "metadata": {
    "papermill": {
     "duration": 0.140922,
     "end_time": "2024-08-04T13:48:44.806499",
     "exception": false,
     "start_time": "2024-08-04T13:48:44.665577",
     "status": "completed"
    },
    "tags": []
   },
   "source": [
    "As a plausibility check, we plot the means of all time series:"
   ]
  },
  {
   "cell_type": "code",
   "execution_count": null,
   "id": "26",
   "metadata": {
    "_kg_hide-input": true,
    "papermill": {
     "duration": 0.804285,
     "end_time": "2024-08-04T13:48:45.835786",
     "exception": false,
     "start_time": "2024-08-04T13:48:45.031501",
     "status": "completed"
    },
    "tags": []
   },
   "outputs": [],
   "source": [
    "plt.figure(figsize=(6, 2))\n",
    "plt.plot(f_raw_train.mean(axis=0))\n",
    "for time_step in [20500, 23500, 44000, 47000]:\n",
    "    plt.axvline(time_step, color=\"gray\")\n",
    "plt.xlabel(\"time step\")\n",
    "plt.title(\"FGS1: Overall mean\")\n",
    "plt.show()\n",
    "\n",
    "plt.figure(figsize=(6, 2))\n",
    "plt.plot(a_raw_train.mean(axis=0))\n",
    "for time_step in [20500, 23500, 44000, 47000]:\n",
    "    plt.axvline(time_step * 11250 // 135000, color=\"gray\")\n",
    "plt.xlabel(\"time step\")\n",
    "plt.title(\"AIRS-CH0: Overall mean\")\n",
    "plt.show()"
   ]
  },
  {
   "cell_type": "markdown",
   "id": "27",
   "metadata": {
    "papermill": {
     "duration": 0.143308,
     "end_time": "2024-08-04T13:48:46.121240",
     "exception": false,
     "start_time": "2024-08-04T13:48:45.977932",
     "status": "completed"
    },
    "tags": []
   },
   "source": [
    "# Feature engineering\n",
    "\n",
    "We want to know how much darker the images get when the planet obscures the star. The time series diagrams above show that the planets reduce the brightness of the stars (on average) by 0.2 % (from 228.2 to 227.6 or from 1371 to 1368)."
   ]
  },
  {
   "cell_type": "code",
   "execution_count": null,
   "id": "28",
   "metadata": {
    "papermill": {
     "duration": 0.159461,
     "end_time": "2024-08-04T13:48:46.426700",
     "exception": false,
     "start_time": "2024-08-04T13:48:46.267239",
     "status": "completed"
    },
    "tags": []
   },
   "outputs": [],
   "source": [
    "%%writefile feature_engineering.py\n",
    "\n",
    "def feature_engineering(f_raw, a_raw):\n",
    "    \"\"\"Create a dataframe with two features from the raw data.\n",
    "    \n",
    "    Parameters:\n",
    "    f_raw: ndarray of shape (n_planets, 67500)\n",
    "    a_raw: ndarray of shape (n_planets, 5625)\n",
    "    \n",
    "    Return value:\n",
    "    df: DataFrame of shape (n_planets, 2)\n",
    "    \"\"\"\n",
    "    obscured = f_raw[:, 23500:44000].mean(axis=1)\n",
    "    unobscured = (f_raw[:, :20500].mean(axis=1) + f_raw[:, 47000:].mean(axis=1)) / 2\n",
    "    f_relative_reduction = (unobscured - obscured) / unobscured\n",
    "    obscured = a_raw[:, 1958:3666].mean(axis=1)\n",
    "    unobscured = (a_raw[:, :1708].mean(axis=1) + a_raw[:, 3916:].mean(axis=1)) / 2\n",
    "    a_relative_reduction = (unobscured - obscured) / unobscured\n",
    "\n",
    "    df = pd.DataFrame({'a_relative_reduction': a_relative_reduction,\n",
    "                       'f_relative_reduction': f_relative_reduction})\n",
    "    \n",
    "    return df\n"
   ]
  },
  {
   "cell_type": "code",
   "execution_count": null,
   "id": "29",
   "metadata": {
    "papermill": {
     "duration": 0.180725,
     "end_time": "2024-08-04T13:48:46.753008",
     "exception": false,
     "start_time": "2024-08-04T13:48:46.572283",
     "status": "completed"
    },
    "tags": []
   },
   "outputs": [],
   "source": [
    "exec(open(\"feature_engineering.py\", \"r\").read())\n",
    "\n",
    "train = feature_engineering(f_raw_train, a_raw_train)"
   ]
  },
  {
   "cell_type": "markdown",
   "id": "30",
   "metadata": {
    "papermill": {
     "duration": 0.142796,
     "end_time": "2024-08-04T13:48:47.039452",
     "exception": false,
     "start_time": "2024-08-04T13:48:46.896656",
     "status": "completed"
    },
    "tags": []
   },
   "source": [
    "The following scatterplot shows a strong correlation between the signal reduction when the planet is in front of the star and one of the targets we want to predict. The other targets have a similarly high correlation."
   ]
  },
  {
   "cell_type": "code",
   "execution_count": null,
   "id": "31",
   "metadata": {
    "_kg_hide-input": true,
    "papermill": {
     "duration": 0.549253,
     "end_time": "2024-08-04T13:48:47.733841",
     "exception": false,
     "start_time": "2024-08-04T13:48:47.184588",
     "status": "completed"
    },
    "tags": []
   },
   "outputs": [],
   "source": [
    "color_array = np.array(plt.rcParams[\"axes.prop_cycle\"].by_key()[\"color\"])\n",
    "plt.scatter(\n",
    "    train.a_relative_reduction,\n",
    "    train_labels.wl_1,\n",
    "    s=15,\n",
    "    alpha=0.5,\n",
    "    c=color_array[train_adc_info.star],\n",
    ")\n",
    "plt.xlabel(\"relative signal reduction when planet is in front\")\n",
    "plt.ylabel(\"target\")\n",
    "plt.title(\"Correlation between relative signal reduction and target\")\n",
    "plt.gca().set_aspect(\"equal\")\n",
    "points = [\n",
    "    plt.Line2D(\n",
    "        [0],\n",
    "        [0],\n",
    "        label=f\"star {i}\",\n",
    "        marker=\"o\",\n",
    "        markersize=3,\n",
    "        markeredgecolor=color_array[i],\n",
    "        markerfacecolor=color_array[i],\n",
    "        linestyle=\"\",\n",
    "    )\n",
    "    for i in range(2)\n",
    "]\n",
    "\n",
    "plt.legend(handles=points)\n",
    "plt.show()"
   ]
  },
  {
   "cell_type": "markdown",
   "id": "32",
   "metadata": {
    "papermill": {
     "duration": 0.144412,
     "end_time": "2024-08-04T13:48:48.044625",
     "exception": false,
     "start_time": "2024-08-04T13:48:47.900213",
     "status": "completed"
    },
    "tags": []
   },
   "source": [
    "# The model and the cross-validation\n",
    "\n",
    "To keep things simple, we predict the targets with ridge regression.\n",
    "\n",
    "We are interested in three cross-validation metrics:\n",
    "1. The R2 score is above 0.9, which confirms the correlation we've seen in the scatterplot.\n",
    "2. The root mean squared error will be the predicted uncertainty.\n",
    "3. The competition metric gives an indication of the leaderboard score. Unfortunately the competition metric depends on the value of `sigma_true`, which I don't know."
   ]
  },
  {
   "cell_type": "code",
   "execution_count": null,
   "id": "33",
   "metadata": {
    "papermill": {
     "duration": 0.348361,
     "end_time": "2024-08-04T13:48:48.535962",
     "exception": false,
     "start_time": "2024-08-04T13:48:48.187601",
     "status": "completed"
    },
    "tags": []
   },
   "outputs": [],
   "source": [
    "model = Ridge(alpha=1e-12)\n",
    "\n",
    "oof_pred = cross_val_predict(model, train, train_labels)\n",
    "\n",
    "print(f\"# R2 score: {r2_score(train_labels, oof_pred):.3f}\")\n",
    "sigma_pred = mean_squared_error(train_labels, oof_pred, squared=False)\n",
    "print(f\"# Root mean squared error: {sigma_pred:.6f}\")\n",
    "# R2 score: 0.971\n",
    "# Root mean squared error: 0.000293"
   ]
  },
  {
   "cell_type": "code",
   "execution_count": null,
   "id": "34",
   "metadata": {
    "_kg_hide-input": true,
    "papermill": {
     "duration": 0.515392,
     "end_time": "2024-08-04T13:48:49.255335",
     "exception": false,
     "start_time": "2024-08-04T13:48:48.739943",
     "status": "completed"
    },
    "tags": []
   },
   "outputs": [],
   "source": [
    "col = 1\n",
    "plt.scatter(oof_pred[:, col], train_labels.iloc[:, col], s=15, c=\"lightgreen\")\n",
    "plt.gca().set_aspect(\"equal\")\n",
    "plt.xlabel(\"y_pred\")\n",
    "plt.ylabel(\"y_true\")\n",
    "plt.title(\"Comparing y_true and y_pred\")\n",
    "plt.show()"
   ]
  },
  {
   "cell_type": "code",
   "execution_count": null,
   "id": "35",
   "metadata": {
    "_kg_hide-input": true,
    "papermill": {
     "duration": 0.166566,
     "end_time": "2024-08-04T13:48:49.574162",
     "exception": false,
     "start_time": "2024-08-04T13:48:49.407596",
     "status": "completed"
    },
    "tags": []
   },
   "outputs": [],
   "source": [
    "%%writefile competition_score.py\n",
    "# Adapted from https://www.kaggle.com/code/metric/ariel-gaussian-log-likelihood\n",
    "class ParticipantVisibleError(Exception):\n",
    "    pass\n",
    "\n",
    "def competition_score(\n",
    "        solution: pd.DataFrame,\n",
    "        submission: pd.DataFrame,\n",
    "        naive_mean: float,\n",
    "        naive_sigma: float,\n",
    "        sigma_true: float,\n",
    "        row_id_column_name='planet_id',\n",
    "    ) -> float:\n",
    "    '''\n",
    "    This is a Gaussian Log Likelihood based metric. For a submission, which contains the predicted mean (x_hat) and variance (x_hat_std),\n",
    "    we calculate the Gaussian Log-likelihood (GLL) value to the provided ground truth (x). We treat each pair of x_hat,\n",
    "    x_hat_std as a 1D gaussian, meaning there will be 283 1D gaussian distributions, hence 283 values for each test spectrum,\n",
    "    the GLL value for one spectrum is the sum of all of them.\n",
    "\n",
    "    Inputs:\n",
    "        - solution: Ground Truth spectra (from test set)\n",
    "            - shape: (nsamples, n_wavelengths)\n",
    "        - submission: Predicted spectra and errors (from participants)\n",
    "            - shape: (nsamples, n_wavelengths*2)\n",
    "        naive_mean: (float) mean from the train set.\n",
    "        naive_sigma: (float) standard deviation from the train set.\n",
    "        sigma_true: (float) essentially sets the scale of the outputs.\n",
    "    '''\n",
    "\n",
    "    del solution[row_id_column_name]\n",
    "    del submission[row_id_column_name]\n",
    "\n",
    "    if submission.min().min() < 0:\n",
    "        raise ParticipantVisibleError('Negative values in the submission')\n",
    "    for col in submission.columns:\n",
    "        if not pd.api.types.is_numeric_dtype(submission[col]):\n",
    "            raise ParticipantVisibleError(f'Submission column {col} must be a number')\n",
    "\n",
    "    n_wavelengths = len(solution.columns)\n",
    "    if len(submission.columns) != n_wavelengths*2:\n",
    "        raise ParticipantVisibleError('Wrong number of columns in the submission')\n",
    "\n",
    "    y_pred = submission.iloc[:, :n_wavelengths].values\n",
    "    # Set a non-zero minimum sigma pred to prevent division by zero errors.\n",
    "    sigma_pred = np.clip(submission.iloc[:, n_wavelengths:].values, a_min=10**-15, a_max=None)\n",
    "    y_true = solution.values\n",
    "\n",
    "    GLL_pred = np.sum(scipy.stats.norm.logpdf(y_true, loc=y_pred, scale=sigma_pred))\n",
    "    GLL_true = np.sum(scipy.stats.norm.logpdf(y_true, loc=y_true, scale=sigma_true * np.ones_like(y_true)))\n",
    "    GLL_mean = np.sum(scipy.stats.norm.logpdf(y_true, loc=naive_mean * np.ones_like(y_true), scale=naive_sigma * np.ones_like(y_true)))\n",
    "\n",
    "    submit_score = (GLL_pred - GLL_mean)/(GLL_true - GLL_mean)\n",
    "    return float(np.clip(submit_score, 0.0, 1.0))"
   ]
  },
  {
   "cell_type": "code",
   "execution_count": null,
   "id": "36",
   "metadata": {
    "papermill": {
     "duration": 0.160396,
     "end_time": "2024-08-04T13:48:49.883698",
     "exception": false,
     "start_time": "2024-08-04T13:48:49.723302",
     "status": "completed"
    },
    "tags": []
   },
   "outputs": [],
   "source": [
    "%%writefile postprocessing.py\n",
    "\n",
    "def postprocessing(pred_array, index, sigma_pred):\n",
    "    \"\"\"Create a submission dataframe from its components\n",
    "    \n",
    "    Parameters:\n",
    "    pred_array: ndarray of shape (n_samples, 283)\n",
    "    index: pandas.Index of length n_samples with name 'planet_id'\n",
    "    sigma_pred: float\n",
    "    \n",
    "    Return value:\n",
    "    df: DataFrame of shape (n_samples, 566) with planet_id as index\n",
    "    \"\"\"\n",
    "    return pd.concat([pd.DataFrame(pred_array.clip(0, None), index=index, columns=wavelengths.columns),\n",
    "                      pd.DataFrame(sigma_pred, index=index, columns=[f\"sigma_{i}\" for i in range(1, 284)])],\n",
    "                     axis=1)\n",
    "\n"
   ]
  },
  {
   "cell_type": "code",
   "execution_count": null,
   "id": "37",
   "metadata": {
    "papermill": {
     "duration": 0.311946,
     "end_time": "2024-08-04T13:48:50.342738",
     "exception": false,
     "start_time": "2024-08-04T13:48:50.030792",
     "status": "completed"
    },
    "tags": []
   },
   "outputs": [],
   "source": [
    "exec(open(\"competition_score.py\", \"r\").read())\n",
    "exec(open(\"postprocessing.py\", \"r\").read())\n",
    "\n",
    "oof_df = postprocessing(oof_pred, train_adc_info.index, sigma_pred)\n",
    "display(oof_df)\n",
    "\n",
    "gll_score = competition_score(\n",
    "    train_labels.copy().reset_index(),\n",
    "    oof_df.copy().reset_index(),\n",
    "    naive_mean=train_labels.values.mean(),\n",
    "    naive_sigma=train_labels.values.std(),\n",
    "    sigma_true=0.000003,\n",
    ")\n",
    "print(f\"# Estimated competition score: {gll_score:.3f}\")\n",
    "# Estimated competition score: 0.259"
   ]
  },
  {
   "cell_type": "markdown",
   "id": "38",
   "metadata": {
    "papermill": {
     "duration": 0.14662,
     "end_time": "2024-08-04T13:48:50.635398",
     "exception": false,
     "start_time": "2024-08-04T13:48:50.488778",
     "status": "completed"
    },
    "tags": []
   },
   "source": [
    "# Refitting and saving the model"
   ]
  },
  {
   "cell_type": "code",
   "execution_count": null,
   "id": "39",
   "metadata": {
    "papermill": {
     "duration": 0.168481,
     "end_time": "2024-08-04T13:48:50.948582",
     "exception": false,
     "start_time": "2024-08-04T13:48:50.780101",
     "status": "completed"
    },
    "tags": []
   },
   "outputs": [],
   "source": [
    "# Refit the model to the full dataset\n",
    "model.fit(train, train_labels)\n",
    "with open(\"model.pickle\", \"wb\") as f:\n",
    "    pickle.dump(model, f)\n",
    "with open(\"sigma_pred.pickle\", \"wb\") as f:\n",
    "    pickle.dump(sigma_pred, f)"
   ]
  },
  {
   "cell_type": "markdown",
   "id": "40",
   "metadata": {
    "papermill": {
     "duration": 0.223909,
     "end_time": "2024-08-04T13:48:51.374507",
     "exception": false,
     "start_time": "2024-08-04T13:48:51.150598",
     "status": "completed"
    },
    "tags": []
   },
   "source": [
    "# Submission"
   ]
  },
  {
   "cell_type": "code",
   "execution_count": null,
   "id": "41",
   "metadata": {
    "papermill": {
     "duration": 3.28803,
     "end_time": "2024-08-04T13:48:54.810008",
     "exception": false,
     "start_time": "2024-08-04T13:48:51.521978",
     "status": "completed"
    },
    "tags": []
   },
   "outputs": [],
   "source": [
    "# Load the data\n",
    "test_adc_info = pd.read_csv(\n",
    "    FOLDER_COMPETITION + \"test_adc_info.csv\", index_col=\"planet_id\"\n",
    ")\n",
    "sample_submission = pd.read_csv(\n",
    "    FOLDER_COMPETITION + \"sample_submission.csv\", index_col=\"planet_id\"\n",
    ")\n",
    "f_raw_test = f_read_and_preprocess(\"test\", test_adc_info, sample_submission.index)\n",
    "a_raw_test = a_read_and_preprocess(\"test\", test_adc_info, sample_submission.index)\n",
    "test = feature_engineering(f_raw_test, a_raw_test)\n",
    "\n",
    "# Load the model\n",
    "with open(\"model.pickle\", \"rb\") as f:\n",
    "    model = pickle.load(f)\n",
    "with open(\"sigma_pred.pickle\", \"rb\") as f:\n",
    "    sigma_pred = pickle.load(f)\n",
    "\n",
    "# Predict\n",
    "test_pred = model.predict(test)\n",
    "\n",
    "# Package into submission file\n",
    "sub_df = postprocessing(test_pred, sample_submission.index, sigma_pred)\n",
    "display(sub_df)\n",
    "sub_df.to_csv(\"submission.csv\")\n",
    "#!head submission.csv"
   ]
  },
  {
   "cell_type": "code",
   "execution_count": null,
   "id": "42",
   "metadata": {
    "papermill": {
     "duration": 0.147695,
     "end_time": "2024-08-04T13:48:55.103647",
     "exception": false,
     "start_time": "2024-08-04T13:48:54.955952",
     "status": "completed"
    },
    "tags": []
   },
   "outputs": [],
   "source": []
  }
 ],
 "metadata": {
  "kaggle": {
   "accelerator": "none",
   "dataSources": [
    {
     "databundleVersionId": 9188054,
     "sourceId": 70367,
     "sourceType": "competition"
    }
   ],
   "dockerImageVersionId": 30746,
   "isGpuEnabled": false,
   "isInternetEnabled": false,
   "language": "python",
   "sourceType": "notebook"
  },
  "kernelspec": {
   "display_name": ".venv",
   "language": "python",
   "name": "python3"
  },
  "language_info": {
   "codemirror_mode": {
    "name": "ipython",
    "version": 3
   },
   "file_extension": ".py",
   "mimetype": "text/x-python",
   "name": "python",
   "nbconvert_exporter": "python",
   "pygments_lexer": "ipython3",
   "version": "3.10.12"
  },
  "papermill": {
   "default_parameters": {},
   "duration": 1937.711471,
   "end_time": "2024-08-04T13:48:56.388231",
   "environment_variables": {},
   "exception": null,
   "input_path": "__notebook__.ipynb",
   "output_path": "__notebook__.ipynb",
   "parameters": {},
   "start_time": "2024-08-04T13:16:38.676760",
   "version": "2.5.0"
  }
 },
 "nbformat": 4,
 "nbformat_minor": 5
}
