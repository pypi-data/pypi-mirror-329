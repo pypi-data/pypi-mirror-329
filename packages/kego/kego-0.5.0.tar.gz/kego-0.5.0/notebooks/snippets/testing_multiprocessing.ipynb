{
 "cells": [
  {
   "cell_type": "code",
   "execution_count": null,
   "metadata": {},
   "outputs": [],
   "source": [
    "%load_ext autoreload\n",
    "%autoreload 2"
   ]
  },
  {
   "cell_type": "code",
   "execution_count": null,
   "metadata": {},
   "outputs": [],
   "source": [
    "from multiprocessing import Process, Value, Array\n",
    "\n",
    "\n",
    "def f(n, a):\n",
    "    n.value = 3.1415927\n",
    "    for i in range(len(a)):\n",
    "        a[i] = -a[i]\n",
    "\n",
    "\n",
    "if __name__ == \"__main__\":\n",
    "    num = Value(\"d\", 0.0)\n",
    "    arr = Array(\"i\", range(10))\n",
    "\n",
    "    p = Process(target=f, args=(num, arr))\n",
    "    p.start()\n",
    "    p.join()\n",
    "\n",
    "    print(num.value)\n",
    "    print(arr[:])\n",
    "    print()"
   ]
  },
  {
   "cell_type": "code",
   "execution_count": null,
   "metadata": {},
   "outputs": [],
   "source": [
    "from multiprocessing import Pool\n",
    "import time\n",
    "import numpy as np\n",
    "\n",
    "\n",
    "def f(a, b):\n",
    "    return a * b\n",
    "\n",
    "\n",
    "if __name__ == \"__main__\":\n",
    "    with Pool(processes=10) as pool:  # start 4 worker processes\n",
    "        result = pool.apply_async(\n",
    "            f, (np.arange(100), -1)\n",
    "        )  # evaluate \"f(10)\" asynchronously in a single process\n",
    "result.get()"
   ]
  }
 ],
 "metadata": {
  "kernelspec": {
   "display_name": ".venv",
   "language": "python",
   "name": "python3"
  },
  "language_info": {
   "codemirror_mode": {
    "name": "ipython",
    "version": 3
   },
   "file_extension": ".py",
   "mimetype": "text/x-python",
   "name": "python",
   "nbconvert_exporter": "python",
   "pygments_lexer": "ipython3",
   "version": "3.10.12"
  }
 },
 "nbformat": 4,
 "nbformat_minor": 2
}
