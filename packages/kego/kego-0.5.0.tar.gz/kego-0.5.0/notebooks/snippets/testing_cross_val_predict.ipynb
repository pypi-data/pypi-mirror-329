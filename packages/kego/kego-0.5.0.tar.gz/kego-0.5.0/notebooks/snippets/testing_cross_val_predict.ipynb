{
 "cells": [
  {
   "cell_type": "code",
   "execution_count": null,
   "metadata": {},
   "outputs": [],
   "source": [
    "%load_ext autoreload\n",
    "%autoreload 2"
   ]
  },
  {
   "cell_type": "code",
   "execution_count": null,
   "metadata": {},
   "outputs": [],
   "source": [
    "import kego.plotting"
   ]
  },
  {
   "cell_type": "code",
   "execution_count": null,
   "metadata": {},
   "outputs": [],
   "source": [
    "from sklearn import datasets, linear_model, ensemble\n",
    "from sklearn.model_selection import cross_val_predict\n",
    "\n",
    "diabetes = datasets.load_diabetes()\n",
    "X = diabetes.data[:150]\n",
    "y = diabetes.target[:150]\n",
    "lasso = linear_model.Lasso()\n",
    "hgbr = ensemble.HistGradientBoostingRegressor()\n",
    "y_pred = cross_val_predict(hgbr, X, y, cv=3)"
   ]
  },
  {
   "cell_type": "code",
   "execution_count": null,
   "metadata": {},
   "outputs": [],
   "source": [
    "import kego.plotting.axes_utils\n",
    "import kego.plotting.histograms\n",
    "import kego.plotting.utils_plotting\n",
    "\n",
    "\n",
    "figure, axes = kego.plotting.figures.create_figure_axes()\n",
    "kego.plotting.histograms.plot_histogram_2d(\n",
    "    y,\n",
    "    y_pred,\n",
    "    axes=axes,\n",
    "    annotate=False,\n",
    "    label_x=\"y\",\n",
    "    label_y=\"pred\",\n",
    "    annotate_line=\"unity\",\n",
    ");"
   ]
  },
  {
   "cell_type": "code",
   "execution_count": null,
   "metadata": {},
   "outputs": [],
   "source": []
  }
 ],
 "metadata": {
  "kernelspec": {
   "display_name": ".venv",
   "language": "python",
   "name": "python3"
  },
  "language_info": {
   "codemirror_mode": {
    "name": "ipython",
    "version": 3
   },
   "file_extension": ".py",
   "mimetype": "text/x-python",
   "name": "python",
   "nbconvert_exporter": "python",
   "pygments_lexer": "ipython3",
   "version": "3.10.12"
  }
 },
 "nbformat": 4,
 "nbformat_minor": 2
}
