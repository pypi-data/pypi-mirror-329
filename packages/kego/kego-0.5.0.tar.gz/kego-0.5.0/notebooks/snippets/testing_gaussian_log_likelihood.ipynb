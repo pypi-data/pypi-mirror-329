{
 "cells": [
  {
   "cell_type": "code",
   "execution_count": null,
   "metadata": {},
   "outputs": [],
   "source": [
    "%load_ext autoreload\n",
    "%autoreload 2"
   ]
  },
  {
   "cell_type": "code",
   "execution_count": null,
   "metadata": {},
   "outputs": [],
   "source": [
    "from torch import nn\n",
    "import torch"
   ]
  },
  {
   "cell_type": "code",
   "execution_count": null,
   "metadata": {},
   "outputs": [],
   "source": [
    "loss = nn.GaussianNLLLoss()\n",
    "input = torch.randn(5, 2, requires_grad=True)\n",
    "target = torch.randn(5, 2)\n",
    "var = torch.ones(5, 2, requires_grad=True)  # heteroscedastic\n",
    "output = loss(input, target, var)\n",
    "output.backward()"
   ]
  },
  {
   "cell_type": "code",
   "execution_count": null,
   "metadata": {},
   "outputs": [],
   "source": [
    "import scipy.stats\n",
    "import numpy as np\n",
    "import random\n",
    "import pandas as pd\n",
    "import pandas.api.types\n",
    "import scipy.stats\n",
    "import matplotlib.pyplot as plt"
   ]
  },
  {
   "cell_type": "code",
   "execution_count": null,
   "metadata": {},
   "outputs": [],
   "source": [
    "n_samples = 100\n",
    "x = np.linspace(0, 1, n_samples)\n",
    "rands = [random.random() for i in range(n_samples)]"
   ]
  },
  {
   "cell_type": "code",
   "execution_count": null,
   "metadata": {},
   "outputs": [],
   "source": [
    "n_wavelengths_input = 5\n",
    "n_samples = 10\n",
    "\n",
    "\n",
    "def get_pdfs(\n",
    "    n_wavelengths_input=n_wavelengths_input,\n",
    "    n_samples=n_samples,\n",
    "    sigma_scale=0.1,\n",
    "    solution_fraction=0.9,\n",
    "):\n",
    "    submission_values = np.array(\n",
    "        [random.random() for _ in range(n_samples * n_wavelengths_input)]\n",
    "    ).reshape(n_samples, n_wavelengths_input)\n",
    "    submission_sigma = np.ones_like(submission_values) * sigma_scale\n",
    "    submission = np.concatenate((submission_values, submission_sigma), axis=1)\n",
    "\n",
    "    naive_mean = np.mean(submission_values)\n",
    "    naive_sigma = np.std(submission_values)\n",
    "\n",
    "    solution = submission_values * solution_fraction\n",
    "\n",
    "    sigma_true = np.std(solution)\n",
    "\n",
    "    print(f\"{solution.shape=}\")\n",
    "    print(f\"{submission.shape=}\")\n",
    "\n",
    "    solution = solution.copy()\n",
    "    submission = submission.copy()\n",
    "\n",
    "    n_wavelengths = solution.shape[1]\n",
    "\n",
    "    y_pred = submission[:, :n_wavelengths]\n",
    "    # Set a non-zero minimum sigma pred to prevent division by zero errors.\n",
    "    sigma_pred = np.clip(submission[:, n_wavelengths:], a_min=10**-15, a_max=None)\n",
    "    y_true = solution\n",
    "    print(f\"{y_true.shape=}\")\n",
    "    print(f\"{y_pred.shape=}\")\n",
    "    print(f\"{sigma_pred.shape=}\")\n",
    "    pred_pdf = scipy.stats.norm.logpdf(y_true, loc=y_pred, scale=sigma_pred)\n",
    "    GLL_pred = np.sum(pred_pdf)\n",
    "    true_pdf = scipy.stats.norm.logpdf(\n",
    "        y_true, loc=y_true, scale=sigma_true * np.ones_like(y_true)\n",
    "    )\n",
    "    GLL_true = np.sum(true_pdf)\n",
    "    mean_pdf = scipy.stats.norm.logpdf(\n",
    "        y_true,\n",
    "        loc=naive_mean * np.ones_like(y_true),\n",
    "        scale=naive_sigma * np.ones_like(y_true),\n",
    "    )\n",
    "    GLL_mean = np.sum(mean_pdf)\n",
    "\n",
    "    submit_score = (GLL_pred - GLL_mean) / (GLL_true - GLL_mean)\n",
    "    print(f\"{submit_score =: .4f} ({float(np.clip(submit_score, 0.0, 1.0))})\")\n",
    "    return mean_pdf, pred_pdf, true_pdf"
   ]
  },
  {
   "cell_type": "code",
   "execution_count": null,
   "metadata": {},
   "outputs": [],
   "source": [
    "mean_pdf.shape, pred_pdf.shape, true_pdf.shape"
   ]
  },
  {
   "cell_type": "code",
   "execution_count": null,
   "metadata": {},
   "outputs": [],
   "source": [
    "x = np.linspace(-1, 1, 100)\n",
    "rv = scipy.stats.norm()\n",
    "for solution_fraction in [1, 0.9, 0.8]:\n",
    "    mean_pdf, pred_pdf, true_pdf = get_pdfs(\n",
    "        n_wavelengths_input=n_wavelengths_input,\n",
    "        n_samples=n_samples,\n",
    "        sigma_scale=0.1,\n",
    "        solution_fraction=0.9,\n",
    "    )\n",
    "    plt.figure()\n",
    "    for i_sample in range(n_samples):\n",
    "        plt.plot(\n",
    "            range(n_wavelengths_input),\n",
    "            mean_pdf[i_sample],\n",
    "            \"b-\",\n",
    "            lw=2,\n",
    "            label=f\"mean_pdf ({solution_fraction})\",\n",
    "        )\n",
    "        plt.plot(\n",
    "            range(n_wavelengths_input),\n",
    "            pred_pdf[i_sample],\n",
    "            \"g-\",\n",
    "            lw=2,\n",
    "            label=f\"pred_pdf ({solution_fraction})\",\n",
    "        )\n",
    "        plt.plot(\n",
    "            range(n_wavelengths_input),\n",
    "            true_pdf[i_sample],\n",
    "            \"r-\",\n",
    "            lw=2,\n",
    "            label=f\"true_pdf ({solution_fraction})\",\n",
    "        )\n",
    "        plt.legend()"
   ]
  },
  {
   "cell_type": "code",
   "execution_count": null,
   "metadata": {},
   "outputs": [],
   "source": [
    "gaussian_pred = scipy.stats.norm.pdf(rands, loc=x, scale=np.mean(x))  # * 0.2\n",
    "plt.figure()\n",
    "plt.plot(x, rands, label=\"rands\")\n",
    "plt.plot(x, gaussian_pred, label=\"gaussian\")\n",
    "plt.legend()\n",
    "plt.show()"
   ]
  },
  {
   "cell_type": "code",
   "execution_count": null,
   "metadata": {},
   "outputs": [],
   "source": []
  }
 ],
 "metadata": {
  "kernelspec": {
   "display_name": ".venv",
   "language": "python",
   "name": "python3"
  },
  "language_info": {
   "codemirror_mode": {
    "name": "ipython",
    "version": 3
   },
   "file_extension": ".py",
   "mimetype": "text/x-python",
   "name": "python",
   "nbconvert_exporter": "python",
   "pygments_lexer": "ipython3",
   "version": "3.10.12"
  }
 },
 "nbformat": 4,
 "nbformat_minor": 2
}
