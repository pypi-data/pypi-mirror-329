{
 "cells": [
  {
   "cell_type": "code",
   "execution_count": null,
   "metadata": {},
   "outputs": [],
   "source": [
    "%load_ext autoreload\n",
    "%autoreload 2"
   ]
  },
  {
   "cell_type": "code",
   "execution_count": null,
   "metadata": {},
   "outputs": [],
   "source": [
    "import pathlib\n",
    "import itertools\n",
    "\n",
    "import numpy as np\n",
    "import pandas as pd\n",
    "import matplotlib.pyplot as plt\n",
    "\n",
    "import sklearn.metrics"
   ]
  },
  {
   "cell_type": "code",
   "execution_count": null,
   "metadata": {},
   "outputs": [],
   "source": [
    "PATH_PROJECT = pathlib.Path(\n",
    "    \"/home/kristian/Projects/kego/pii-detection-removal-from-educational-data/\"\n",
    ")\n",
    "PATH_COMPETITION = PATH_PROJECT\n",
    "PATH_TRAIN = PATH_COMPETITION / \"train.json\"\n",
    "PATH_SUBMISSION_EXAMPLE = PATH_COMPETITION / \"sample_submission.csv\""
   ]
  },
  {
   "cell_type": "code",
   "execution_count": null,
   "metadata": {},
   "outputs": [],
   "source": [
    "!head $PATH_SUBMISSION_EXAMPLE"
   ]
  },
  {
   "cell_type": "code",
   "execution_count": null,
   "metadata": {},
   "outputs": [],
   "source": [
    "train = pd.read_json(PATH_TRAIN)"
   ]
  },
  {
   "cell_type": "code",
   "execution_count": null,
   "metadata": {},
   "outputs": [],
   "source": [
    "train.head()"
   ]
  },
  {
   "cell_type": "code",
   "execution_count": null,
   "metadata": {},
   "outputs": [],
   "source": [
    "def flatten_list(_list):\n",
    "    return [x for y in _list for x in y]"
   ]
  },
  {
   "cell_type": "code",
   "execution_count": null,
   "metadata": {},
   "outputs": [],
   "source": [
    "unique_labels, unique_labels_n = np.unique(\n",
    "    flatten_list(train.labels.values), return_counts=True\n",
    ")"
   ]
  },
  {
   "cell_type": "code",
   "execution_count": null,
   "metadata": {},
   "outputs": [],
   "source": [
    "def create_figure_axes(figure=None, axes=None):\n",
    "    if figure is None:\n",
    "        figure = plt.figure()\n",
    "    if axes is None:\n",
    "        axes = plt.gca()\n",
    "    return figure, axes\n",
    "\n",
    "\n",
    "def plot_histogram(x, df=None, type=\"string\", log_y=False):\n",
    "    figure, axes = create_figure_axes()\n",
    "    if isinstance(x, str):\n",
    "        _x = df[x].values\n",
    "    else:\n",
    "        _x = x\n",
    "    if type == \"string\":\n",
    "        unique_labels, unique_labels_n = np.unique(flatten_list(_x), return_counts=True)\n",
    "        bin_centers = range(len(unique_labels))\n",
    "        bin_heights = unique_labels_n\n",
    "        bin_widths = np.diff(bin_centers)[0]\n",
    "        axes.bar(x=bin_centers, height=bin_heights, width=bin_widths)\n",
    "        axes.set_xticks(bin_centers, unique_labels, rotation=90)\n",
    "    if log_y:\n",
    "        axes.set_yscale(\"log\")"
   ]
  },
  {
   "cell_type": "code",
   "execution_count": null,
   "metadata": {},
   "outputs": [],
   "source": [
    "plot_histogram(\"labels\", train, log_y=True)"
   ]
  },
  {
   "cell_type": "code",
   "execution_count": null,
   "metadata": {},
   "outputs": [],
   "source": [
    "train.head()"
   ]
  },
  {
   "cell_type": "code",
   "execution_count": null,
   "metadata": {},
   "outputs": [],
   "source": [
    "train[\"document\"].nunique(), train.shape"
   ]
  },
  {
   "cell_type": "code",
   "execution_count": null,
   "metadata": {},
   "outputs": [],
   "source": [
    "train"
   ]
  },
  {
   "cell_type": "code",
   "execution_count": null,
   "metadata": {},
   "outputs": [],
   "source": [
    "def get_solutions(train):\n",
    "    document_n_list = []\n",
    "    hit_indices_list = []\n",
    "    hit_tokens_list = []\n",
    "    hit_types_list = []\n",
    "    for i in range(train.shape[0]):\n",
    "        labels = np.array(train.labels.values[i])\n",
    "        tokens = np.array(train.tokens.values[i])\n",
    "        document_n = train.document.values[i]\n",
    "        hit_indices = np.where(labels != \"O\")[0]\n",
    "        # print(f\"{hit_indices=}\")\n",
    "        hit_types = labels[np.array(hit_indices)]\n",
    "        hit_tokens = tokens[np.array(hit_indices)]\n",
    "\n",
    "        document_n_list.append([document_n] * len(hit_indices))\n",
    "        hit_indices_list.append(hit_indices)\n",
    "        hit_tokens_list.append(hit_tokens)\n",
    "        hit_types_list.append(hit_types)\n",
    "    documents_n = flatten_list(document_n_list)\n",
    "    hit_index = flatten_list(hit_indices_list)\n",
    "    hit_tokens = flatten_list(hit_tokens_list)\n",
    "    hit_type = flatten_list(hit_types_list)\n",
    "    print(f\"{len(documents_n)}, {documents_n=}\")\n",
    "    print(f\"{len(hit_index)}, {hit_index=}\")\n",
    "    print(f\"{len(hit_type)}, {hit_type=}\")\n",
    "    print(f\"{len(hit_tokens)}, {hit_tokens=}\")\n",
    "    # row_id,document,token,label\n",
    "    solutions = pd.DataFrame(\n",
    "        data={\n",
    "            \"document\": documents_n,\n",
    "            \"token\": hit_index,\n",
    "            \"label\": hit_type,\n",
    "            \"token name\": hit_tokens,\n",
    "        }\n",
    "    )\n",
    "    solutions.index.name = \"row_id\"\n",
    "    return solutions\n",
    "\n",
    "\n",
    "solutions = get_solutions(train)\n",
    "solutions"
   ]
  },
  {
   "cell_type": "code",
   "execution_count": null,
   "metadata": {},
   "outputs": [],
   "source": [
    "solutions[\"token name\"].nunique()"
   ]
  },
  {
   "cell_type": "code",
   "execution_count": null,
   "metadata": {},
   "outputs": [],
   "source": [
    "solutions.groupby(\"document\").apply(lambda x: x.loc[x[\"token\"].idxmax()])"
   ]
  },
  {
   "cell_type": "code",
   "execution_count": null,
   "metadata": {},
   "outputs": [],
   "source": [
    "!head $PATH_PROJECT\"/predictions/test.csv\""
   ]
  },
  {
   "cell_type": "code",
   "execution_count": null,
   "metadata": {},
   "outputs": [],
   "source": []
  }
 ],
 "metadata": {
  "kernelspec": {
   "display_name": ".venv",
   "language": "python",
   "name": "python3"
  },
  "language_info": {
   "codemirror_mode": {
    "name": "ipython",
    "version": 3
   },
   "file_extension": ".py",
   "mimetype": "text/x-python",
   "name": "python",
   "nbconvert_exporter": "python",
   "pygments_lexer": "ipython3",
   "version": "3.10.12"
  }
 },
 "nbformat": 4,
 "nbformat_minor": 2
}
