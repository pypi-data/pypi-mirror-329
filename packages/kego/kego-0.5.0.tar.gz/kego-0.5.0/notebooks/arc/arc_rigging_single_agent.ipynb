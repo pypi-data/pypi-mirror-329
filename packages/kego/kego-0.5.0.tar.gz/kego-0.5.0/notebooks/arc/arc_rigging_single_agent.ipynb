{
 "cells": [
  {
   "cell_type": "code",
   "execution_count": null,
   "metadata": {},
   "outputs": [],
   "source": [
    "%load_ext autoreload\n",
    "%autoreload 2"
   ]
  },
  {
   "cell_type": "code",
   "execution_count": null,
   "metadata": {},
   "outputs": [],
   "source": [
    "import rigging as rg\n",
    "import kego.arc.images as images\n",
    "from kego.files.json import load_json\n",
    "import arckit\n",
    "import pathlib"
   ]
  },
  {
   "cell_type": "code",
   "execution_count": null,
   "metadata": {},
   "outputs": [],
   "source": [
    "PATH_DATA = pathlib.Path(\"/home/kristian/Projects/kego/data/\")\n",
    "PATH_COMPETITION = PATH_DATA / \"arc/arc-prize-2024/\"\n",
    "PATH_TRAIN_CHALLENGES = PATH_COMPETITION / \"arc-agi_training_challenges.json\"\n",
    "PATH_TRAIN_SOLUTIONS = PATH_COMPETITION / \"arc-agi_training_solutions.json\"\n",
    "PATH_TEST = PATH_COMPETITION / \"test.csv\"\n",
    "PATH_SUBMISSION_EXAMPLE = PATH_COMPETITION / \"sample_submission.csv\"\n",
    "\n",
    "# MODEL = \"transformers!meta-llama/Meta-Llama-3-8B-Instruct,device_map=cuda:1,max_tokens=1024,load_in_4bit=True\"\n",
    "MODEL = \"openai/gpt-4o-mini\""
   ]
  },
  {
   "cell_type": "code",
   "execution_count": null,
   "metadata": {},
   "outputs": [],
   "source": [
    "train_solutions = load_json(PATH_TRAIN_SOLUTIONS)\n",
    "\n",
    "train_set, test_set = arckit.load_data(\"kaggle2024\")\n",
    "\n",
    "task_example = train_set.tasks[0]\n",
    "drawing = images.show_task(task_example, train_solutions=train_solutions)"
   ]
  },
  {
   "cell_type": "code",
   "execution_count": null,
   "metadata": {},
   "outputs": [],
   "source": [
    "task, solution = images.get_solution(task_example, train_solutions=train_solutions)"
   ]
  },
  {
   "cell_type": "code",
   "execution_count": null,
   "metadata": {},
   "outputs": [],
   "source": [
    "prompt = task_example.gpt_prompt(0, include_completion=False)\n",
    "prompt"
   ]
  },
  {
   "cell_type": "code",
   "execution_count": null,
   "metadata": {},
   "outputs": [],
   "source": [
    "def array_to_str(array):\n",
    "    return (\n",
    "        array.__str__().strip(\"[]\").replace(\"]\", \"\\n\").replace(\"[\", \"\").replace(\",\", \"\")\n",
    "    )\n",
    "\n",
    "\n",
    "def sample_to_str(sample):\n",
    "    examples_dict = sample.to_dict()\n",
    "    training_examples_str = \"\"\n",
    "    for i, example in enumerate(examples_dict[\"train\"]):\n",
    "        for io in [\"input\", \"output\"]:\n",
    "            training_examples_str += f\"{io} {i}: \" + array_to_str(example[io]) + \"\\n\"\n",
    "    return training_examples_str"
   ]
  },
  {
   "cell_type": "code",
   "execution_count": null,
   "metadata": {},
   "outputs": [],
   "source": [
    "prompt"
   ]
  },
  {
   "cell_type": "code",
   "execution_count": null,
   "metadata": {},
   "outputs": [],
   "source": [
    "print(prompt)"
   ]
  },
  {
   "cell_type": "code",
   "execution_count": null,
   "metadata": {},
   "outputs": [],
   "source": [
    "class Solution(rg.Model):\n",
    "    solution: str\n",
    "    explanation: str\n",
    "\n",
    "    @classmethod\n",
    "    def xml_example(cls) -> str:\n",
    "        return Solution(\n",
    "            solution=\"\"\"\n",
    "            7 7 7 0 0 0 7 7 7\n",
    "            7 7 7 0 0 0 7 7 7\n",
    "            7 7 7 0 0 0 7 7 7\n",
    "            7 7 7 0 0 0 7 7 7\n",
    "            7 7 7 0 0 0 7 7 7\n",
    "            7 7 7 0 0 0 7 7 7\n",
    "            7 7 0 7 7 7 0 0 0\n",
    "            7 7 0 7 7 7 0 0 0\n",
    "            7 7 0 7 7 7 0 0 0\n",
    "            \"\"\",\n",
    "            explanation=\"\"\"\n",
    "            Step 1: Identify the Transformation Pattern\n",
    "            Looking at the provided examples:\n",
    "\n",
    "            Input 1 to Output 1: The input grid was a 3x3 matrix, and the output grid became a 9x9 matrix.\n",
    "            Input 2 to Output 2: The input grid was a 3x3 matrix, and the output grid became a 9x9 matrix.\n",
    "            Input 3 to Output 3: The input grid was a 3x3 matrix, and the output grid became a 9x9 matrix.\n",
    "            Input 4 to Output 4: The input grid was a 3x3 matrix, and the output grid became a 9x9 matrix.\n",
    "            Input 5 to Output 5: The input grid was a 3x3 matrix, and the output grid became a 9x9 matrix.\n",
    "            From this, we can infer that the transformation involves expanding the grid from 3x3 to 9x9. This suggests a magnification or duplication of the grid elements.\n",
    "\n",
    "            Step 2: Determine the Transformation Rule\n",
    "            Upon examining the relationship between input and output, we observe:\n",
    "\n",
    "            Each element of the 3x3 input grid seems to be expanded into a 3x3 block in the 9x9 output grid. For instance:\n",
    "            In Input 1, the 7 at position (1,2) of the input grid results in a 3x3 block of 7s at positions (4, 7) in the output grid.\n",
    "            Empty cells (with value 0) remain as 0 in the corresponding 3x3 blocks in the output grid.\n",
    "\n",
    "            Step 3: Apply the Transformation to Input 6\n",
    "            Let's now apply the transformation to Input 6:\n",
    "\n",
    "            Input 6:\n",
    "            7 0 7\n",
    "            7 0 7\n",
    "            7 7 0\n",
    "            For each element in this grid:\n",
    "\n",
    "            The 7 at position (1,1) in the input should expand into a 3x3 block of 7s in the output.\n",
    "            The 0 at position (1,2) in the input should expand into a 3x3 block of 0s in the output.\n",
    "            This pattern continues for each element.\n",
    "\n",
    "            Output 6 will be:\n",
    "            \"\"\",\n",
    "        ).to_pretty_xml()\n",
    "\n",
    "\n",
    "def get_model():\n",
    "    return rg.get_generator(MODEL)\n",
    "\n",
    "\n",
    "async def generate_solution(sample, model, verbose=False):\n",
    "    n_input_problem = len(task.train) + 1\n",
    "    system_prompt = f\"\"\"\n",
    "        'We are playing a game which involves transforming an input grid of digits into an output grid of digits. \n",
    "        In general, digits form objects in 2D and the task is to perform some spatial transformation \n",
    "        of these objects to go from the input grid to the output grid. \n",
    "        All the information about the transformation is contained within the input pairs themselves, \n",
    "        and your answer will only be correct if the output grid is exactly correct, \n",
    "        so this is what I expect from you. I will begin by giving you several examples of input-output pairs. \n",
    "        You will then be given a new input grid, and you must provide the corresponding output grid.\\n\n",
    "        \n",
    "        Please provide a step-by-step explanation. \n",
    "        Specifically, answer the following in your explanation. \n",
    "        1. Justify the output shape of your answer. \\n\n",
    "        2. Did you consider shapes in the outputs and why?\\n\n",
    "        Provide the output for Input {n_input_problem} again at the end of your answer.'\n",
    "    \"\"\"\n",
    "    sample_str = sample_to_str(sample)\n",
    "\n",
    "    prompt = \"We are playing a game which involves transforming an input grid of digits into an output grid of digits. In general, digits form objects in 2D and the task is to perform some spatial transformation of these objects to go from the input grid to the output grid. All the information about the transformation is contained within the input pairs themselves, and your answer will only be correct if the output grid is exactly correct, so this is what I expect from you. I will begin by giving you several examples of input-output pairs. You will then be given a new input grid, and you must provide the corresponding output grid.\\nInput 1: \\n0 7 7\\n7 7 7\\n0 7 7\\nOutput 1: \\n0 0 0 0 7 7 0 7 7\\n0 0 0 7 7 7 7 7 7\\n0 0 0 0 7 7 0 7 7\\n0 7 7 0 7 7 0 7 7\\n7 7 7 7 7 7 7 7 7\\n0 7 7 0 7 7 0 7 7\\n0 0 0 0 7 7 0 7 7\\n0 0 0 7 7 7 7 7 7\\n0 0 0 0 7 7 0 7 7\\n\\nInput 2: \\n4 0 4\\n0 0 0\\n0 4 0\\nOutput 2: \\n4 0 4 0 0 0 4 0 4\\n0 0 0 0 0 0 0 0 0\\n0 4 0 0 0 0 0 4 0\\n0 0 0 0 0 0 0 0 0\\n0 0 0 0 0 0 0 0 0\\n0 0 0 0 0 0 0 0 0\\n0 0 0 4 0 4 0 0 0\\n0 0 0 0 0 0 0 0 0\\n0 0 0 0 4 0 0 0 0\\n\\nInput 3: \\n0 0 0\\n0 0 2\\n2 0 2\\nOutput 3: \\n0 0 0 0 0 0 0 0 0\\n0 0 0 0 0 0 0 0 0\\n0 0 0 0 0 0 0 0 0\\n0 0 0 0 0 0 0 0 0\\n0 0 0 0 0 0 0 0 2\\n0 0 0 0 0 0 2 0 2\\n0 0 0 0 0 0 0 0 0\\n0 0 2 0 0 0 0 0 2\\n2 0 2 0 0 0 2 0 2\\n\\nInput 4: \\n6 6 0\\n6 0 0\\n0 6 6\\nOutput 4: \\n6 6 0 6 6 0 0 0 0\\n6 0 0 6 0 0 0 0 0\\n0 6 6 0 6 6 0 0 0\\n6 6 0 0 0 0 0 0 0\\n6 0 0 0 0 0 0 0 0\\n0 6 6 0 0 0 0 0 0\\n0 0 0 6 6 0 6 6 0\\n0 0 0 6 0 0 6 0 0\\n0 0 0 0 6 6 0 6 6\\n\\nInput 5: \\n2 2 2\\n0 0 0\\n0 2 2\\nOutput 5: \\n2 2 2 2 2 2 2 2 2\\n0 0 0 0 0 0 0 0 0\\n0 2 2 0 2 2 0 2 2\\n0 0 0 0 0 0 0 0 0\\n0 0 0 0 0 0 0 0 0\\n0 0 0 0 0 0 0 0 0\\n0 0 0 2 2 2 2 2 2\\n0 0 0 0 0 0 0 0 0\\n0 0 0 0 2 2 0 2 2\\n\\nInput 6:\\n7 0 7\\n7 0 7\\n7 7 0Please provide a step-by-step explanation. Specifically, answer the following in your explanation. 1. Justify the output shape of your answer. \\n2. Did you consider shapes in the outputs and why?\\nProvide the output for Input 6 again at the end of your answer.\"\n",
    "    user_prompt = f\"\"\"\n",
    "        The training sample is {sample_str}\n",
    "    \n",
    "        Provide your solution and explanation within the tag \n",
    "        \n",
    "        Example:\n",
    "        {prompt}\n",
    "        {Solution.xml_example()}\n",
    "    \"\"\"\n",
    "    asker = await model.chat(\n",
    "        [\n",
    "            {\"role\": \"system\", \"content\": system_prompt},\n",
    "            {\"role\": \"user\", \"content\": user_prompt},\n",
    "        ]\n",
    "    ).run()\n",
    "    solution = asker.last.parse(Solution).solution\n",
    "    explanation = asker.last.parse(Solution).explanation\n",
    "    if verbose:\n",
    "        print(f\"=== Solution ====\")\n",
    "        print(solution)\n",
    "        print(f\"=== Explanation ====\")\n",
    "        print(explanation)\n",
    "\n",
    "    return solution, explanation"
   ]
  },
  {
   "cell_type": "code",
   "execution_count": null,
   "metadata": {},
   "outputs": [],
   "source": [
    "model = get_model()"
   ]
  },
  {
   "cell_type": "code",
   "execution_count": null,
   "metadata": {},
   "outputs": [],
   "source": [
    "task_example = train_set.tasks[1]"
   ]
  },
  {
   "cell_type": "code",
   "execution_count": null,
   "metadata": {},
   "outputs": [],
   "source": [
    "await generate_solution(sample=task_example, model=model, verbose=True)"
   ]
  },
  {
   "cell_type": "code",
   "execution_count": null,
   "metadata": {},
   "outputs": [],
   "source": []
  }
 ],
 "metadata": {
  "kernelspec": {
   "display_name": ".venv",
   "language": "python",
   "name": "python3"
  },
  "language_info": {
   "codemirror_mode": {
    "name": "ipython",
    "version": 3
   },
   "file_extension": ".py",
   "mimetype": "text/x-python",
   "name": "python",
   "nbconvert_exporter": "python",
   "pygments_lexer": "ipython3",
   "version": "3.10.12"
  }
 },
 "nbformat": 4,
 "nbformat_minor": 2
}
