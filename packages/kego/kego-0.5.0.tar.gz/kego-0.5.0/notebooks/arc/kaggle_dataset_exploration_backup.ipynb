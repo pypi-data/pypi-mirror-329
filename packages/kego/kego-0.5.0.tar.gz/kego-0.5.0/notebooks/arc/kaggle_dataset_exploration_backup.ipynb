{
 "cells": [
  {
   "cell_type": "code",
   "execution_count": null,
   "metadata": {},
   "outputs": [],
   "source": [
    "%load_ext autoreload\n",
    "%autoreload 2"
   ]
  },
  {
   "cell_type": "code",
   "execution_count": null,
   "metadata": {},
   "outputs": [],
   "source": [
    "import pathlib\n",
    "import numpy as np\n",
    "import pandas as pd\n",
    "import json\n",
    "import arckit\n",
    "import drawsvg"
   ]
  },
  {
   "cell_type": "code",
   "execution_count": null,
   "metadata": {},
   "outputs": [],
   "source": [
    "!ls ../../data/arc/arc-prize-2024/"
   ]
  },
  {
   "cell_type": "code",
   "execution_count": null,
   "metadata": {},
   "outputs": [],
   "source": [
    "PATH_DATA = pathlib.Path(\"/home/kristian/Projects/kego/data/\")\n",
    "PATH_COMPETITION = PATH_DATA / \"arc/arc-prize-2024/\"\n",
    "PATH_TRAIN_CHALLENGES = PATH_COMPETITION / \"arc-agi_training_challenges.json\"\n",
    "PATH_TRAIN_SOLUTIONS = PATH_COMPETITION / \"arc-agi_training_solutions.json\"\n",
    "PATH_TEST = PATH_COMPETITION / \"test.csv\"\n",
    "PATH_SUBMISSION_EXAMPLE = PATH_COMPETITION / \"sample_submission.csv\""
   ]
  },
  {
   "cell_type": "code",
   "execution_count": null,
   "metadata": {},
   "outputs": [],
   "source": [
    "def load_json(filepath):\n",
    "    with open(filepath) as file:\n",
    "        data = json.load(file)\n",
    "    return data"
   ]
  },
  {
   "cell_type": "code",
   "execution_count": null,
   "metadata": {},
   "outputs": [],
   "source": [
    "train_set, test_set = arckit.load_data(\"kaggle2024\")"
   ]
  },
  {
   "cell_type": "code",
   "execution_count": null,
   "metadata": {},
   "outputs": [],
   "source": [
    "train_solutions = load_json(PATH_TRAIN_SOLUTIONS)\n",
    "train_solutions[\"007bbfb7\"]"
   ]
  },
  {
   "cell_type": "code",
   "execution_count": null,
   "metadata": {},
   "outputs": [],
   "source": [
    "train_set.tasks[0]\n",
    "from IPython.core.display import display, SVG, HTML"
   ]
  },
  {
   "cell_type": "code",
   "execution_count": null,
   "metadata": {},
   "outputs": [],
   "source": [
    "def show(drawing: drawsvg.Drawing):\n",
    "    display(SVG(drawing.as_svg()))"
   ]
  },
  {
   "cell_type": "code",
   "execution_count": null,
   "metadata": {},
   "outputs": [],
   "source": [
    "def show_task(task: arckit.data.Task):\n",
    "    drawing = arckit.vis.draw_task(task, include_test=True)\n",
    "    solution = train_solutions[task.id]\n",
    "    show(drawing)\n",
    "    display(solution)\n",
    "    show(arckit.vis.draw_grid(np.array(solution[0])))\n",
    "    return drawing"
   ]
  },
  {
   "cell_type": "code",
   "execution_count": null,
   "metadata": {},
   "outputs": [],
   "source": [
    "sad"
   ]
  }
 ],
 "metadata": {
  "kernelspec": {
   "display_name": ".venv",
   "language": "python",
   "name": "python3"
  },
  "language_info": {
   "codemirror_mode": {
    "name": "ipython",
    "version": 3
   },
   "file_extension": ".py",
   "mimetype": "text/x-python",
   "name": "python",
   "nbconvert_exporter": "python",
   "pygments_lexer": "ipython3",
   "version": "3.10.12"
  }
 },
 "nbformat": 4,
 "nbformat_minor": 2
}
