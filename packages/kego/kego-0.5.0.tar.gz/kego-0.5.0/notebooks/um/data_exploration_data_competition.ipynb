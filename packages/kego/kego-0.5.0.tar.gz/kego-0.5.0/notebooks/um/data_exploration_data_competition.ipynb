{
 "cells": [
  {
   "cell_type": "code",
   "execution_count": null,
   "metadata": {},
   "outputs": [],
   "source": [
    "%load_ext autoreload\n",
    "%autoreload 2"
   ]
  },
  {
   "cell_type": "code",
   "execution_count": null,
   "metadata": {},
   "outputs": [],
   "source": [
    "import pandas as pd\n",
    "import pathlib\n",
    "import os\n",
    "import numpy as np\n",
    "from typing import Literal\n",
    "import matplotlib.pyplot as plt\n",
    "from sklearn.ensemble import ExtraTreesClassifier\n",
    "from sklearn.ensemble import ExtraTreesRegressor\n",
    "from sklearn.datasets import load_iris\n",
    "from sklearn.feature_selection import SelectFromModel\n",
    "\n",
    "from kego import plotting"
   ]
  },
  {
   "cell_type": "code",
   "execution_count": null,
   "metadata": {},
   "outputs": [],
   "source": [
    "FOLDER_COMPETITION = pathlib.Path(\n",
    "    \"../../data/um/um-game-playing-strength-of-mcts-variants/\"\n",
    ")\n",
    "!ls $FOLDER_COMPETITION\n",
    "FILEPATH_TRAINING = FOLDER_COMPETITION / \"train.csv\""
   ]
  },
  {
   "cell_type": "code",
   "execution_count": null,
   "metadata": {},
   "outputs": [],
   "source": [
    "train_raw = pd.read_csv(FILEPATH_TRAINING)"
   ]
  },
  {
   "cell_type": "code",
   "execution_count": null,
   "metadata": {},
   "outputs": [],
   "source": [
    "plotting.value_counts.plot_value_counts(\n",
    "    df=train_raw.iloc[:, :4], font_size=8, figure_size=[8, 3]\n",
    ");"
   ]
  },
  {
   "cell_type": "code",
   "execution_count": null,
   "metadata": {},
   "outputs": [],
   "source": [
    "train_raw.head(2)"
   ]
  },
  {
   "cell_type": "code",
   "execution_count": null,
   "metadata": {},
   "outputs": [],
   "source": [
    "train_raw[\"utility_agent1\"].hist()"
   ]
  },
  {
   "cell_type": "code",
   "execution_count": null,
   "metadata": {},
   "outputs": [],
   "source": [
    "train_raw.shape  # .drop(columns=\"utility_agent1\")"
   ]
  },
  {
   "cell_type": "code",
   "execution_count": null,
   "metadata": {},
   "outputs": [],
   "source": [
    "def prepare_df(df):\n",
    "    df = df.copy()\n",
    "    df = df.drop(columns=df.dtypes[df.dtypes == object].index)\n",
    "    df = df.reset_index(drop=True)\n",
    "    df = df.drop(columns=df.columns[df.isna().sum(axis=0) == df.shape[0]])\n",
    "    df = df.reset_index(drop=True)\n",
    "    return df\n",
    "\n",
    "\n",
    "train = prepare_df(train_raw)\n",
    "\n",
    "y = train[[\"utility_agent1\"]]\n",
    "X = train.drop(columns=[\"utility_agent1\"])"
   ]
  },
  {
   "cell_type": "code",
   "execution_count": null,
   "metadata": {},
   "outputs": [],
   "source": [
    "X.isna().any().any()"
   ]
  },
  {
   "cell_type": "code",
   "execution_count": null,
   "metadata": {},
   "outputs": [],
   "source": [
    "feature_relevance = pd.Series(index=X.columns, data=clf.feature_importances_)\n",
    "feature_relevance.sort_values(ascending=False).iloc[:20]"
   ]
  },
  {
   "cell_type": "code",
   "execution_count": null,
   "metadata": {},
   "outputs": [],
   "source": [
    "np.array(y).ravel()"
   ]
  },
  {
   "cell_type": "code",
   "execution_count": null,
   "metadata": {},
   "outputs": [],
   "source": [
    "class FeatureSelector:\n",
    "    def __init__(self, X, y) -> None:\n",
    "        self.X = X\n",
    "        self.y = np.array(y).ravel()\n",
    "        self.feature_ranker = None\n",
    "        self.feature_relevance = None\n",
    "\n",
    "    def _rank_features(self):\n",
    "        self.feature_ranker = ExtraTreesRegressor(n_estimators=50, n_jobs=16)\n",
    "        self.feature_ranker = self.feature_ranker.fit(self.X, self.y)\n",
    "        self.feature_relevance = pd.Series(\n",
    "            index=X.columns, data=clf.feature_importances_\n",
    "        )\n",
    "        self.feature_relevance.sort_values(ascending=False)\n",
    "        return self.feature_relevance\n",
    "\n",
    "    def select_features(\n",
    "        self,\n",
    "        threshold: float | str | None = 1e-1,\n",
    "        setup: Literal[\"selector\", \"threshold\"] = \"threshold\",\n",
    "    ):\n",
    "        if self.feature_ranker is None:\n",
    "            self._rank_features()\n",
    "        if setup == \"selector\":\n",
    "            model = SelectFromModel(\n",
    "                self.feature_ranker, prefit=True, threshold=threshold\n",
    "            )\n",
    "            X_new = model.transform(self.X)\n",
    "        elif setup == \"threshold\":\n",
    "            X_new = X.loc[\n",
    "                :, feature_relevance[feature_relevance.values >= threshold].index\n",
    "            ]\n",
    "        return X_new"
   ]
  },
  {
   "cell_type": "code",
   "execution_count": null,
   "metadata": {},
   "outputs": [],
   "source": [
    "feature_selector = FeatureSelector(X, y)\n",
    "feature_selector.select_features()"
   ]
  },
  {
   "cell_type": "code",
   "execution_count": null,
   "metadata": {},
   "outputs": [],
   "source": [
    "X_reduced = feature_selector.select_features(threshold=1e-3)"
   ]
  },
  {
   "cell_type": "code",
   "execution_count": null,
   "metadata": {},
   "outputs": [],
   "source": [
    "plotting.value_counts.plot_value_counts(df=X_reduced)"
   ]
  },
  {
   "cell_type": "code",
   "execution_count": null,
   "metadata": {},
   "outputs": [],
   "source": [
    "clf.feature_importances_.shape"
   ]
  },
  {
   "cell_type": "code",
   "execution_count": null,
   "metadata": {},
   "outputs": [],
   "source": [
    "plotting.lines.plot_line(\n",
    "    range(len(clf.feature_importances_)), clf.feature_importances_, log=[\"false\", \"log\"]\n",
    ")"
   ]
  },
  {
   "cell_type": "code",
   "execution_count": null,
   "metadata": {},
   "outputs": [],
   "source": [
    "clf.feature_importances_"
   ]
  },
  {
   "cell_type": "code",
   "execution_count": null,
   "metadata": {},
   "outputs": [],
   "source": []
  }
 ],
 "metadata": {
  "kernelspec": {
   "display_name": ".venv",
   "language": "python",
   "name": "python3"
  },
  "language_info": {
   "codemirror_mode": {
    "name": "ipython",
    "version": 3
   },
   "file_extension": ".py",
   "mimetype": "text/x-python",
   "name": "python",
   "nbconvert_exporter": "python",
   "pygments_lexer": "ipython3",
   "version": "3.10.12"
  }
 },
 "nbformat": 4,
 "nbformat_minor": 2
}
