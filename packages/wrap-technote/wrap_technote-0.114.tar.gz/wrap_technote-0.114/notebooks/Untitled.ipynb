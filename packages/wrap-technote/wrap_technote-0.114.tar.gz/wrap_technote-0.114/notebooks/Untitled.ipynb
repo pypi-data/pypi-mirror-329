{
 "cells": [
  {
   "cell_type": "code",
   "execution_count": 3,
   "metadata": {},
   "outputs": [],
   "source": [
    "import numpy as np"
   ]
  },
  {
   "cell_type": "code",
   "execution_count": 10,
   "metadata": {},
   "outputs": [],
   "source": [
    "def round_to_100_percent(number_set, digit_after_decimal=0):\n",
    "    \"\"\"\n",
    "        This function take a list of number and return a list of percentage, which\n",
    "        represents the portion of each number in sum of all numbers\n",
    "        Moreover, those percentages are adding up to 100%!!!\n",
    "        Notice: the algorithm we are using here is 'Largest Remainder'\n",
    "        The down-side is that the results won't be accurate, but they are never\n",
    "        accurate anyway:)\n",
    "\n",
    "    From https://stackoverflow.com/q/25271388\n",
    "    \"\"\"\n",
    "    unround_numbers = [\n",
    "        x / np.float(np.sum(number_set)) * 100 * 10 ** digit_after_decimal\n",
    "        for x in number_set\n",
    "    ]\n",
    "    print(unround_numbers)\n",
    "    decimal_part_with_index = sorted(\n",
    "        [(index, unround_numbers[index] % 1) for index in range(len(unround_numbers))],\n",
    "        key=lambda y: y[1],\n",
    "        reverse=True,\n",
    "    )\n",
    "    print(decimal_part_with_index)\n",
    "    remainder = 100 * 10 ** digit_after_decimal - np.sum(\n",
    "        [np.int(x) if not np.isnan(x) else 0 for x in unround_numbers]\n",
    "    )\n",
    "    index = 0\n",
    "    print(remainder)\n",
    "    while remainder > 0:\n",
    "        unround_numbers[decimal_part_with_index[index][0]] += 1\n",
    "        print(unround_numbers)\n",
    "        remainder -= 1\n",
    "        index = (index + 1) % len(number_set)\n",
    "    return [\n",
    "        (np.int(x) if not np.isnan(x) else np.nan) / np.float(10 ** digit_after_decimal)\n",
    "        for x in unround_numbers\n",
    "    ]"
   ]
  },
  {
   "cell_type": "code",
   "execution_count": 11,
   "metadata": {},
   "outputs": [
    {
     "name": "stdout",
     "output_type": "stream",
     "text": [
      "[11.11111111111111, 44.44444444444444, 44.44444444444444]\n",
      "[(1, 0.44444444444444287), (2, 0.44444444444444287), (0, 0.11111111111111072)]\n",
      "1\n",
      "[11.11111111111111, 45.44444444444444, 44.44444444444444]\n"
     ]
    },
    {
     "data": {
      "text/plain": [
       "[11.0, 45.0, 44.0]"
      ]
     },
     "execution_count": 11,
     "metadata": {},
     "output_type": "execute_result"
    }
   ],
   "source": [
    "round_to_100_percent([1, 4, 4])"
   ]
  },
  {
   "cell_type": "code",
   "execution_count": null,
   "metadata": {},
   "outputs": [],
   "source": []
  },
  {
   "cell_type": "code",
   "execution_count": null,
   "metadata": {},
   "outputs": [],
   "source": []
  }
 ],
 "metadata": {
  "kernelspec": {
   "display_name": "Python 3",
   "language": "python",
   "name": "python3"
  },
  "language_info": {
   "codemirror_mode": {
    "name": "ipython",
    "version": 3
   },
   "file_extension": ".py",
   "mimetype": "text/x-python",
   "name": "python",
   "nbconvert_exporter": "python",
   "pygments_lexer": "ipython3",
   "version": "3.8.5"
  }
 },
 "nbformat": 4,
 "nbformat_minor": 4
}
