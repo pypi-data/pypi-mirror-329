{
 "cells": [
  {
   "cell_type": "code",
   "execution_count": 1,
   "metadata": {},
   "outputs": [],
   "source": [
    "import wrap_technote as tn\n",
    "import dew_gwdata as gd\n",
    "import pandas as pd\n",
    "import matplotlib.pyplot as plt\n",
    "import numpy as np\n",
    "from matplotlib import gridspec"
   ]
  },
  {
   "cell_type": "code",
   "execution_count": 2,
   "metadata": {},
   "outputs": [],
   "source": [
    "%matplotlib inline\n",
    "plt.rcParams[\"figure.dpi\"] = 130\n",
    "plt.rcParams[\"figure.figsize\"] = (6, 3)"
   ]
  },
  {
   "cell_type": "code",
   "execution_count": 3,
   "metadata": {},
   "outputs": [],
   "source": [
    "db = gd.sageodata()"
   ]
  },
  {
   "cell_type": "code",
   "execution_count": 71,
   "metadata": {},
   "outputs": [],
   "source": [
    "w = \"NGK027\""
   ]
  },
  {
   "cell_type": "code",
   "execution_count": 86,
   "metadata": {},
   "outputs": [],
   "source": [
    "wls = db.water_levels(db.find_wells(w)).dropna(subset=[\"rswl\", \"obs_date\"], how=\"any\")\n",
    "wls = wls.groupby(wls.obs_date.dt.year).rswl.max()"
   ]
  },
  {
   "cell_type": "code",
   "execution_count": 87,
   "metadata": {},
   "outputs": [
    {
     "data": {
      "text/plain": [
       "<matplotlib.collections.PathCollection at 0x1c5c04e4e48>"
      ]
     },
     "execution_count": 87,
     "metadata": {},
     "output_type": "execute_result"
    },
    {
     "data": {
      "image/png": "[encoded data removed]",
      "text/plain": [
       "<Figure size 780x390 with 1 Axes>"
      ]
     },
     "metadata": {
      "needs_background": "light"
     },
     "output_type": "display_data"
    }
   ],
   "source": [
    "plt.scatter(wls.index, wls)"
   ]
  },
  {
   "cell_type": "code",
   "execution_count": 88,
   "metadata": {},
   "outputs": [
    {
     "data": {
      "text/plain": [
       "array([  0,   5,  20,  50,  80,  95, 100])"
      ]
     },
     "execution_count": 88,
     "metadata": {},
     "output_type": "execute_result"
    }
   ],
   "source": [
    "tn.bom_percentiles"
   ]
  },
  {
   "cell_type": "code",
   "execution_count": null,
   "metadata": {},
   "outputs": [],
   "source": []
  },
  {
   "cell_type": "code",
   "execution_count": 89,
   "metadata": {},
   "outputs": [],
   "source": [
    "def get_class_value_ranges(\n",
    "    s,\n",
    "    upper_interval_boundaries=(10, 30, 70, 90, 100),\n",
    "    interval_names=(\n",
    "        \"Very much below average\",\n",
    "        \"Below average\",\n",
    "        \"Average\",\n",
    "        \"Above average\",\n",
    "        \"Very much above average\",\n",
    "    ),\n",
    "):\n",
    "    vmin = s.min()\n",
    "    vmax = s.max()\n",
    "    vrange = s.max() - s.min()\n",
    "    upper_interval_values = np.array(\n",
    "        [vmin + (pct / 100) * vrange for pct in upper_interval_boundaries]\n",
    "    )\n",
    "\n",
    "    intervals = []\n",
    "    lower = vmin\n",
    "    for i in range(len(upper_interval_values)):\n",
    "        upper = upper_interval_values[i]\n",
    "        name = interval_names[i]\n",
    "        intervals.append((name, lower, upper))\n",
    "        lower = upper\n",
    "    return intervals"
   ]
  },
  {
   "cell_type": "code",
   "execution_count": 90,
   "metadata": {},
   "outputs": [
    {
     "data": {
      "text/plain": [
       "[('Very much below average', 182.84, 183.058),\n",
       " ('Below average', 183.058, 183.494),\n",
       " ('Average', 183.494, 184.366),\n",
       " ('Above average', 184.366, 184.80200000000002),\n",
       " ('Very much above average', 184.80200000000002, 185.02)]"
      ]
     },
     "execution_count": 90,
     "metadata": {},
     "output_type": "execute_result"
    }
   ],
   "source": [
    "get_class_value_ranges(wls)"
   ]
  },
  {
   "cell_type": "code",
   "execution_count": 91,
   "metadata": {
    "scrolled": false
   },
   "outputs": [
    {
     "data": {
      "image/png": "[encoded data removed]",
      "text/plain": [
       "<Figure size 780x390 with 1 Axes>"
      ]
     },
     "metadata": {
      "needs_background": "light"
     },
     "output_type": "display_data"
    }
   ],
   "source": [
    "def rank_and_classify(s, param_name=\"\"):\n",
    "    fig = plt.figure()\n",
    "    ax = fig.add_subplot(111)\n",
    "\n",
    "    if param_name != \"\":\n",
    "        param_name += \"_\"\n",
    "    new_df = pd.DataFrame(index=s.index)\n",
    "\n",
    "    intervals = get_class_value_ranges(s)\n",
    "\n",
    "    vmin = s.min()\n",
    "    vmax = s.max()\n",
    "\n",
    "    def map_value_to_vpcts(v):\n",
    "        if v == vmin:\n",
    "            return \"Lowest on record\"\n",
    "        elif v == vmax:\n",
    "            return \"Highest on record\"\n",
    "        else:\n",
    "            for name, lower, upper in intervals:\n",
    "                if v > lower and v <= upper:\n",
    "                    return name\n",
    "\n",
    "    #     lower = vmin\n",
    "    #     for i in range(len(vpcts)):\n",
    "    #         c = tn.bom_classes[1:-1][i]\n",
    "    #         upper = vpcts[i]\n",
    "    #         ax.axhspan(lower, upper, label=c, color=bcmap.class_to_rgba(c))\n",
    "    #         lower = upper\n",
    "\n",
    "    #     ax.legend()\n",
    "\n",
    "    new_df[f\"{param_name}bom_class\"] = s.map(map_value_to_vpcts)\n",
    "    return new_df\n",
    "\n",
    "\n",
    "old = tn.rank_and_classify(wls)\n",
    "new = rank_and_classify(wls)"
   ]
  },
  {
   "cell_type": "code",
   "execution_count": 92,
   "metadata": {},
   "outputs": [
    {
     "data": {
      "text/html": [
       "<div>\n",
       "<style scoped>\n",
       "    .dataframe tbody tr th:only-of-type {\n",
       "        vertical-align: middle;\n",
       "    }\n",
       "\n",
       "    .dataframe tbody tr th {\n",
       "        vertical-align: top;\n",
       "    }\n",
       "\n",
       "    .dataframe thead th {\n",
       "        text-align: right;\n",
       "    }\n",
       "</style>\n",
       "<table border=\"1\" class=\"dataframe\">\n",
       "  <thead>\n",
       "    <tr style=\"text-align: right;\">\n",
       "      <th></th>\n",
       "      <th>percentile</th>\n",
       "      <th>bom_class</th>\n",
       "    </tr>\n",
       "    <tr>\n",
       "      <th>obs_date</th>\n",
       "      <th></th>\n",
       "      <th></th>\n",
       "    </tr>\n",
       "  </thead>\n",
       "  <tbody>\n",
       "    <tr>\n",
       "      <th>1998</th>\n",
       "      <td>9.523810</td>\n",
       "      <td>Very much below average</td>\n",
       "    </tr>\n",
       "    <tr>\n",
       "      <th>2001</th>\n",
       "      <td>95.238095</td>\n",
       "      <td>Very much above average</td>\n",
       "    </tr>\n",
       "    <tr>\n",
       "      <th>2002</th>\n",
       "      <td>57.142857</td>\n",
       "      <td>Average</td>\n",
       "    </tr>\n",
       "    <tr>\n",
       "      <th>2003</th>\n",
       "      <td>90.476190</td>\n",
       "      <td>Very much above average</td>\n",
       "    </tr>\n",
       "    <tr>\n",
       "      <th>2004</th>\n",
       "      <td>85.714286</td>\n",
       "      <td>Above average</td>\n",
       "    </tr>\n",
       "    <tr>\n",
       "      <th>2005</th>\n",
       "      <td>76.190476</td>\n",
       "      <td>Above average</td>\n",
       "    </tr>\n",
       "    <tr>\n",
       "      <th>2006</th>\n",
       "      <td>14.285714</td>\n",
       "      <td>Below average</td>\n",
       "    </tr>\n",
       "    <tr>\n",
       "      <th>2007</th>\n",
       "      <td>23.809524</td>\n",
       "      <td>Below average</td>\n",
       "    </tr>\n",
       "    <tr>\n",
       "      <th>2008</th>\n",
       "      <td>33.333333</td>\n",
       "      <td>Average</td>\n",
       "    </tr>\n",
       "    <tr>\n",
       "      <th>2009</th>\n",
       "      <td>50.000000</td>\n",
       "      <td>Average</td>\n",
       "    </tr>\n",
       "    <tr>\n",
       "      <th>2010</th>\n",
       "      <td>64.285714</td>\n",
       "      <td>Average</td>\n",
       "    </tr>\n",
       "    <tr>\n",
       "      <th>2011</th>\n",
       "      <td>38.095238</td>\n",
       "      <td>Average</td>\n",
       "    </tr>\n",
       "    <tr>\n",
       "      <th>2012</th>\n",
       "      <td>71.428571</td>\n",
       "      <td>Above average</td>\n",
       "    </tr>\n",
       "    <tr>\n",
       "      <th>2013</th>\n",
       "      <td>64.285714</td>\n",
       "      <td>Average</td>\n",
       "    </tr>\n",
       "    <tr>\n",
       "      <th>2014</th>\n",
       "      <td>80.952381</td>\n",
       "      <td>Above average</td>\n",
       "    </tr>\n",
       "    <tr>\n",
       "      <th>2015</th>\n",
       "      <td>28.571429</td>\n",
       "      <td>Below average</td>\n",
       "    </tr>\n",
       "    <tr>\n",
       "      <th>2016</th>\n",
       "      <td>100.000000</td>\n",
       "      <td>Highest on record</td>\n",
       "    </tr>\n",
       "    <tr>\n",
       "      <th>2017</th>\n",
       "      <td>50.000000</td>\n",
       "      <td>Average</td>\n",
       "    </tr>\n",
       "    <tr>\n",
       "      <th>2018</th>\n",
       "      <td>19.047619</td>\n",
       "      <td>Below average</td>\n",
       "    </tr>\n",
       "    <tr>\n",
       "      <th>2019</th>\n",
       "      <td>42.857143</td>\n",
       "      <td>Average</td>\n",
       "    </tr>\n",
       "    <tr>\n",
       "      <th>2020</th>\n",
       "      <td>4.761905</td>\n",
       "      <td>Lowest on record</td>\n",
       "    </tr>\n",
       "  </tbody>\n",
       "</table>\n",
       "</div>"
      ],
      "text/plain": [
       "          percentile                bom_class\n",
       "obs_date                                     \n",
       "1998        9.523810  Very much below average\n",
       "2001       95.238095  Very much above average\n",
       "2002       57.142857                  Average\n",
       "2003       90.476190  Very much above average\n",
       "2004       85.714286            Above average\n",
       "2005       76.190476            Above average\n",
       "2006       14.285714            Below average\n",
       "2007       23.809524            Below average\n",
       "2008       33.333333                  Average\n",
       "2009       50.000000                  Average\n",
       "2010       64.285714                  Average\n",
       "2011       38.095238                  Average\n",
       "2012       71.428571            Above average\n",
       "2013       64.285714                  Average\n",
       "2014       80.952381            Above average\n",
       "2015       28.571429            Below average\n",
       "2016      100.000000        Highest on record\n",
       "2017       50.000000                  Average\n",
       "2018       19.047619            Below average\n",
       "2019       42.857143                  Average\n",
       "2020        4.761905         Lowest on record"
      ]
     },
     "execution_count": 92,
     "metadata": {},
     "output_type": "execute_result"
    }
   ],
   "source": [
    "old"
   ]
  },
  {
   "cell_type": "code",
   "execution_count": 93,
   "metadata": {},
   "outputs": [
    {
     "data": {
      "text/html": [
       "<div>\n",
       "<style scoped>\n",
       "    .dataframe tbody tr th:only-of-type {\n",
       "        vertical-align: middle;\n",
       "    }\n",
       "\n",
       "    .dataframe tbody tr th {\n",
       "        vertical-align: top;\n",
       "    }\n",
       "\n",
       "    .dataframe thead th {\n",
       "        text-align: right;\n",
       "    }\n",
       "</style>\n",
       "<table border=\"1\" class=\"dataframe\">\n",
       "  <thead>\n",
       "    <tr style=\"text-align: right;\">\n",
       "      <th></th>\n",
       "      <th>bom_class</th>\n",
       "    </tr>\n",
       "    <tr>\n",
       "      <th>obs_date</th>\n",
       "      <th></th>\n",
       "    </tr>\n",
       "  </thead>\n",
       "  <tbody>\n",
       "    <tr>\n",
       "      <th>1998</th>\n",
       "      <td>Below average</td>\n",
       "    </tr>\n",
       "    <tr>\n",
       "      <th>2001</th>\n",
       "      <td>Above average</td>\n",
       "    </tr>\n",
       "    <tr>\n",
       "      <th>2002</th>\n",
       "      <td>Average</td>\n",
       "    </tr>\n",
       "    <tr>\n",
       "      <th>2003</th>\n",
       "      <td>Average</td>\n",
       "    </tr>\n",
       "    <tr>\n",
       "      <th>2004</th>\n",
       "      <td>Average</td>\n",
       "    </tr>\n",
       "    <tr>\n",
       "      <th>2005</th>\n",
       "      <td>Average</td>\n",
       "    </tr>\n",
       "    <tr>\n",
       "      <th>2006</th>\n",
       "      <td>Below average</td>\n",
       "    </tr>\n",
       "    <tr>\n",
       "      <th>2007</th>\n",
       "      <td>Average</td>\n",
       "    </tr>\n",
       "    <tr>\n",
       "      <th>2008</th>\n",
       "      <td>Average</td>\n",
       "    </tr>\n",
       "    <tr>\n",
       "      <th>2009</th>\n",
       "      <td>Average</td>\n",
       "    </tr>\n",
       "    <tr>\n",
       "      <th>2010</th>\n",
       "      <td>Average</td>\n",
       "    </tr>\n",
       "    <tr>\n",
       "      <th>2011</th>\n",
       "      <td>Average</td>\n",
       "    </tr>\n",
       "    <tr>\n",
       "      <th>2012</th>\n",
       "      <td>Average</td>\n",
       "    </tr>\n",
       "    <tr>\n",
       "      <th>2013</th>\n",
       "      <td>Average</td>\n",
       "    </tr>\n",
       "    <tr>\n",
       "      <th>2014</th>\n",
       "      <td>Average</td>\n",
       "    </tr>\n",
       "    <tr>\n",
       "      <th>2015</th>\n",
       "      <td>Average</td>\n",
       "    </tr>\n",
       "    <tr>\n",
       "      <th>2016</th>\n",
       "      <td>Highest on record</td>\n",
       "    </tr>\n",
       "    <tr>\n",
       "      <th>2017</th>\n",
       "      <td>Average</td>\n",
       "    </tr>\n",
       "    <tr>\n",
       "      <th>2018</th>\n",
       "      <td>Below average</td>\n",
       "    </tr>\n",
       "    <tr>\n",
       "      <th>2019</th>\n",
       "      <td>Average</td>\n",
       "    </tr>\n",
       "    <tr>\n",
       "      <th>2020</th>\n",
       "      <td>Lowest on record</td>\n",
       "    </tr>\n",
       "  </tbody>\n",
       "</table>\n",
       "</div>"
      ],
      "text/plain": [
       "                  bom_class\n",
       "obs_date                   \n",
       "1998          Below average\n",
       "2001          Above average\n",
       "2002                Average\n",
       "2003                Average\n",
       "2004                Average\n",
       "2005                Average\n",
       "2006          Below average\n",
       "2007                Average\n",
       "2008                Average\n",
       "2009                Average\n",
       "2010                Average\n",
       "2011                Average\n",
       "2012                Average\n",
       "2013                Average\n",
       "2014                Average\n",
       "2015                Average\n",
       "2016      Highest on record\n",
       "2017                Average\n",
       "2018          Below average\n",
       "2019                Average\n",
       "2020       Lowest on record"
      ]
     },
     "execution_count": 93,
     "metadata": {},
     "output_type": "execute_result"
    }
   ],
   "source": [
    "new"
   ]
  },
  {
   "cell_type": "code",
   "execution_count": 94,
   "metadata": {},
   "outputs": [],
   "source": [
    "bcmap = tn.BoMClassesColormap()"
   ]
  },
  {
   "cell_type": "code",
   "execution_count": 95,
   "metadata": {},
   "outputs": [
    {
     "data": {
      "text/plain": [
       "Text(0, 0.5, 'RSWL')"
      ]
     },
     "execution_count": 95,
     "metadata": {},
     "output_type": "execute_result"
    },
    {
     "data": {
      "image/png": "[encoded data removed]",
      "text/plain": [
       "<Figure size 780x390 with 2 Axes>"
      ]
     },
     "metadata": {
      "needs_background": "light"
     },
     "output_type": "display_data"
    }
   ],
   "source": [
    "fig, axes = plt.subplots(1, 2, gridspec_kw=dict(width_ratios=(10, 1)))\n",
    "\n",
    "axes[0].scatter(\n",
    "    old.index,\n",
    "    wls.values,\n",
    "    c=[bcmap.class_to_rgba(c) for c in old.bom_class],\n",
    "    edgecolor=\"k\",\n",
    "    linewidth=0.2,\n",
    "    marker=\"o\",\n",
    ")\n",
    "\n",
    "\n",
    "bcmap.plot_legend(axes[1])\n",
    "fig.suptitle(f\"{w} Old method\")\n",
    "axes[0].set_ylabel(\"RSWL\")"
   ]
  },
  {
   "cell_type": "code",
   "execution_count": 96,
   "metadata": {},
   "outputs": [
    {
     "data": {
      "text/plain": [
       "Text(0, 0.5, 'RSWL')"
      ]
     },
     "execution_count": 96,
     "metadata": {},
     "output_type": "execute_result"
    },
    {
     "data": {
      "image/png": "[encoded data removed]",
      "text/plain": [
       "<Figure size 780x390 with 2 Axes>"
      ]
     },
     "metadata": {
      "needs_background": "light"
     },
     "output_type": "display_data"
    }
   ],
   "source": [
    "fig, axes = plt.subplots(1, 2, gridspec_kw=dict(width_ratios=(10, 1)))\n",
    "\n",
    "intervals = get_class_value_ranges(wls)\n",
    "for name, lower, upper in intervals:\n",
    "    axes[0].axhspan(lower, upper, facecolor=bcmap.class_to_rgba(name), alpha=0.3)\n",
    "\n",
    "axes[0].scatter(\n",
    "    new.index,\n",
    "    wls.values,\n",
    "    c=[bcmap.class_to_rgba(c) for c in new.bom_class],\n",
    "    edgecolor=\"k\",\n",
    "    linewidth=0.2,\n",
    "    marker=\"o\",\n",
    ")\n",
    "\n",
    "bcmap.plot_legend(axes[1])\n",
    "fig.suptitle(f\"{w} New method\")\n",
    "axes[0].set_ylabel(\"RSWL\")"
   ]
  },
  {
   "cell_type": "code",
   "execution_count": null,
   "metadata": {},
   "outputs": [],
   "source": []
  },
  {
   "cell_type": "code",
   "execution_count": null,
   "metadata": {},
   "outputs": [],
   "source": []
  },
  {
   "cell_type": "code",
   "execution_count": null,
   "metadata": {},
   "outputs": [],
   "source": []
  },
  {
   "cell_type": "code",
   "execution_count": null,
   "metadata": {},
   "outputs": [],
   "source": []
  },
  {
   "cell_type": "code",
   "execution_count": null,
   "metadata": {},
   "outputs": [],
   "source": []
  },
  {
   "cell_type": "code",
   "execution_count": null,
   "metadata": {},
   "outputs": [],
   "source": []
  },
  {
   "cell_type": "code",
   "execution_count": null,
   "metadata": {},
   "outputs": [],
   "source": []
  },
  {
   "cell_type": "code",
   "execution_count": null,
   "metadata": {},
   "outputs": [],
   "source": []
  },
  {
   "cell_type": "code",
   "execution_count": null,
   "metadata": {},
   "outputs": [],
   "source": []
  },
  {
   "cell_type": "code",
   "execution_count": null,
   "metadata": {},
   "outputs": [],
   "source": []
  },
  {
   "cell_type": "code",
   "execution_count": null,
   "metadata": {},
   "outputs": [],
   "source": []
  },
  {
   "cell_type": "code",
   "execution_count": null,
   "metadata": {},
   "outputs": [],
   "source": []
  },
  {
   "cell_type": "code",
   "execution_count": null,
   "metadata": {},
   "outputs": [],
   "source": []
  },
  {
   "cell_type": "code",
   "execution_count": null,
   "metadata": {},
   "outputs": [],
   "source": []
  },
  {
   "cell_type": "code",
   "execution_count": null,
   "metadata": {},
   "outputs": [],
   "source": []
  },
  {
   "cell_type": "code",
   "execution_count": null,
   "metadata": {},
   "outputs": [],
   "source": []
  },
  {
   "cell_type": "code",
   "execution_count": null,
   "metadata": {},
   "outputs": [],
   "source": []
  }
 ],
 "metadata": {
  "kernelspec": {
   "display_name": "Python 3",
   "language": "python",
   "name": "python3"
  },
  "language_info": {
   "codemirror_mode": {
    "name": "ipython",
    "version": 3
   },
   "file_extension": ".py",
   "mimetype": "text/x-python",
   "name": "python",
   "nbconvert_exporter": "python",
   "pygments_lexer": "ipython3",
   "version": "3.7.4"
  }
 },
 "nbformat": 4,
 "nbformat_minor": 2
}
