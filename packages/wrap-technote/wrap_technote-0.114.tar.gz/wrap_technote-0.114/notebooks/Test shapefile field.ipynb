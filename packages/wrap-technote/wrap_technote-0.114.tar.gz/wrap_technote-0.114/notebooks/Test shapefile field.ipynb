{
 "cells": [
  {
   "cell_type": "code",
   "execution_count": 1,
   "metadata": {},
   "outputs": [],
   "source": [
    "import wrap_technote as tn"
   ]
  },
  {
   "cell_type": "code",
   "execution_count": 2,
   "metadata": {},
   "outputs": [
    {
     "data": {
      "text/plain": [
       "<wrap_technote.gwutils.WellSelectionQuery at 0x2217312b860>"
      ]
     },
     "execution_count": 2,
     "metadata": {},
     "output_type": "execute_result"
    }
   ],
   "source": [
    "resource = tn.load_gw_resource(\"EP_Southern_Basins_Coffin_Bay_WL\")\n",
    "resource"
   ]
  },
  {
   "cell_type": "code",
   "execution_count": 3,
   "metadata": {},
   "outputs": [
    {
     "data": {
      "text/plain": [
       "'Coffin Bay Consumptive Pool'"
      ]
     },
     "execution_count": 3,
     "metadata": {},
     "output_type": "execute_result"
    }
   ],
   "source": [
    "resource.shapefile_value"
   ]
  },
  {
   "cell_type": "code",
   "execution_count": 11,
   "metadata": {},
   "outputs": [],
   "source": [
    "wells = resource.find_wells(\"WL\", 2015, 2019)"
   ]
  },
  {
   "cell_type": "code",
   "execution_count": 12,
   "metadata": {},
   "outputs": [],
   "source": [
    "import matplotlib.pyplot as plt"
   ]
  },
  {
   "cell_type": "code",
   "execution_count": 13,
   "metadata": {},
   "outputs": [
    {
     "data": {
      "image/png": "[encoded data removed]",
      "text/plain": [
       "<Figure size 432x288 with 1 Axes>"
      ]
     },
     "metadata": {
      "needs_background": "light"
     },
     "output_type": "display_data"
    }
   ],
   "source": [
    "plt.scatter(wells.longitude, wells.latitude, marker=\".\", color=\"k\")\n",
    "for x, y in resource.polygon_coord_arrays:\n",
    "    plt.plot(x, y)"
   ]
  },
  {
   "cell_type": "code",
   "execution_count": 14,
   "metadata": {},
   "outputs": [
    {
     "data": {
      "text/html": [
       "<div>\n",
       "<style scoped>\n",
       "    .dataframe tbody tr th:only-of-type {\n",
       "        vertical-align: middle;\n",
       "    }\n",
       "\n",
       "    .dataframe tbody tr th {\n",
       "        vertical-align: top;\n",
       "    }\n",
       "\n",
       "    .dataframe thead th {\n",
       "        text-align: right;\n",
       "    }\n",
       "</style>\n",
       "<table border=\"1\" class=\"dataframe\">\n",
       "  <thead>\n",
       "    <tr style=\"text-align: right;\">\n",
       "      <th></th>\n",
       "      <th>well_id</th>\n",
       "      <th>dh_no</th>\n",
       "      <th>unit_long</th>\n",
       "      <th>unit_hyphen</th>\n",
       "      <th>obs_no</th>\n",
       "      <th>dh_name</th>\n",
       "      <th>easting</th>\n",
       "      <th>northing</th>\n",
       "      <th>zone</th>\n",
       "      <th>latitude</th>\n",
       "      <th>longitude</th>\n",
       "      <th>aquifer</th>\n",
       "    </tr>\n",
       "  </thead>\n",
       "  <tbody>\n",
       "    <tr>\n",
       "      <th>0</th>\n",
       "      <td>LKW042</td>\n",
       "      <td>7207</td>\n",
       "      <td>592800203</td>\n",
       "      <td>5928-203</td>\n",
       "      <td>LKW042</td>\n",
       "      <td>None</td>\n",
       "      <td>543474.19</td>\n",
       "      <td>6168099.34</td>\n",
       "      <td>53</td>\n",
       "      <td>-34.628067</td>\n",
       "      <td>135.474283</td>\n",
       "      <td>Qpcb</td>\n",
       "    </tr>\n",
       "    <tr>\n",
       "      <th>1</th>\n",
       "      <td>LKW037</td>\n",
       "      <td>7305</td>\n",
       "      <td>592800301</td>\n",
       "      <td>5928-301</td>\n",
       "      <td>LKW037</td>\n",
       "      <td>CB TWS INVESTIGATION 4</td>\n",
       "      <td>544192.73</td>\n",
       "      <td>6167595.47</td>\n",
       "      <td>53</td>\n",
       "      <td>-34.632580</td>\n",
       "      <td>135.482148</td>\n",
       "      <td>Qpcb</td>\n",
       "    </tr>\n",
       "    <tr>\n",
       "      <th>2</th>\n",
       "      <td>LKW038</td>\n",
       "      <td>7307</td>\n",
       "      <td>592800303</td>\n",
       "      <td>5928-303</td>\n",
       "      <td>LKW038</td>\n",
       "      <td>CB TWS INVESTIGATION 1</td>\n",
       "      <td>544106.69</td>\n",
       "      <td>6167429.54</td>\n",
       "      <td>53</td>\n",
       "      <td>-34.634080</td>\n",
       "      <td>135.481218</td>\n",
       "      <td>Qpcb</td>\n",
       "    </tr>\n",
       "    <tr>\n",
       "      <th>3</th>\n",
       "      <td>LKW039</td>\n",
       "      <td>7308</td>\n",
       "      <td>592800304</td>\n",
       "      <td>5928-304</td>\n",
       "      <td>LKW039</td>\n",
       "      <td>CB TWS INVESTIGATION 2</td>\n",
       "      <td>544098.69</td>\n",
       "      <td>6167423.48</td>\n",
       "      <td>53</td>\n",
       "      <td>-34.634135</td>\n",
       "      <td>135.481131</td>\n",
       "      <td>Qpcb</td>\n",
       "    </tr>\n",
       "    <tr>\n",
       "      <th>4</th>\n",
       "      <td>LKW043</td>\n",
       "      <td>7312</td>\n",
       "      <td>592800308</td>\n",
       "      <td>5928-308</td>\n",
       "      <td>LKW043</td>\n",
       "      <td>COFFIN BAY GOLF/BOWLING CLUB</td>\n",
       "      <td>543592.72</td>\n",
       "      <td>6167431.52</td>\n",
       "      <td>53</td>\n",
       "      <td>-34.634085</td>\n",
       "      <td>135.475610</td>\n",
       "      <td>Qpcb</td>\n",
       "    </tr>\n",
       "    <tr>\n",
       "      <th>5</th>\n",
       "      <td>LKW027</td>\n",
       "      <td>11282</td>\n",
       "      <td>602801043</td>\n",
       "      <td>6028-1043</td>\n",
       "      <td>LKW027</td>\n",
       "      <td>5</td>\n",
       "      <td>546343.73</td>\n",
       "      <td>6165675.45</td>\n",
       "      <td>53</td>\n",
       "      <td>-34.649799</td>\n",
       "      <td>135.505720</td>\n",
       "      <td>Qpcb</td>\n",
       "    </tr>\n",
       "    <tr>\n",
       "      <th>6</th>\n",
       "      <td>LKW060</td>\n",
       "      <td>247525</td>\n",
       "      <td>592800436</td>\n",
       "      <td>5928-436</td>\n",
       "      <td>LKW060</td>\n",
       "      <td>CB 1</td>\n",
       "      <td>545131.70</td>\n",
       "      <td>6166656.54</td>\n",
       "      <td>53</td>\n",
       "      <td>-34.641006</td>\n",
       "      <td>135.492442</td>\n",
       "      <td>Qpcb</td>\n",
       "    </tr>\n",
       "    <tr>\n",
       "      <th>7</th>\n",
       "      <td>LKW064</td>\n",
       "      <td>283736</td>\n",
       "      <td>592800459</td>\n",
       "      <td>5928-459</td>\n",
       "      <td>LKW064</td>\n",
       "      <td>COFFIN BAY 2</td>\n",
       "      <td>545648.71</td>\n",
       "      <td>6168123.45</td>\n",
       "      <td>53</td>\n",
       "      <td>-34.627755</td>\n",
       "      <td>135.498004</td>\n",
       "      <td>Qpcb</td>\n",
       "    </tr>\n",
       "  </tbody>\n",
       "</table>\n",
       "</div>"
      ],
      "text/plain": [
       "  well_id   dh_no  unit_long unit_hyphen  obs_no  \\\n",
       "0  LKW042    7207  592800203    5928-203  LKW042   \n",
       "1  LKW037    7305  592800301    5928-301  LKW037   \n",
       "2  LKW038    7307  592800303    5928-303  LKW038   \n",
       "3  LKW039    7308  592800304    5928-304  LKW039   \n",
       "4  LKW043    7312  592800308    5928-308  LKW043   \n",
       "5  LKW027   11282  602801043   6028-1043  LKW027   \n",
       "6  LKW060  247525  592800436    5928-436  LKW060   \n",
       "7  LKW064  283736  592800459    5928-459  LKW064   \n",
       "\n",
       "                        dh_name    easting    northing  zone   latitude  \\\n",
       "0                          None  543474.19  6168099.34    53 -34.628067   \n",
       "1        CB TWS INVESTIGATION 4  544192.73  6167595.47    53 -34.632580   \n",
       "2        CB TWS INVESTIGATION 1  544106.69  6167429.54    53 -34.634080   \n",
       "3        CB TWS INVESTIGATION 2  544098.69  6167423.48    53 -34.634135   \n",
       "4  COFFIN BAY GOLF/BOWLING CLUB  543592.72  6167431.52    53 -34.634085   \n",
       "5                             5  546343.73  6165675.45    53 -34.649799   \n",
       "6                          CB 1  545131.70  6166656.54    53 -34.641006   \n",
       "7                  COFFIN BAY 2  545648.71  6168123.45    53 -34.627755   \n",
       "\n",
       "    longitude aquifer  \n",
       "0  135.474283    Qpcb  \n",
       "1  135.482148    Qpcb  \n",
       "2  135.481218    Qpcb  \n",
       "3  135.481131    Qpcb  \n",
       "4  135.475610    Qpcb  \n",
       "5  135.505720    Qpcb  \n",
       "6  135.492442    Qpcb  \n",
       "7  135.498004    Qpcb  "
      ]
     },
     "execution_count": 14,
     "metadata": {},
     "output_type": "execute_result"
    }
   ],
   "source": [
    "wells"
   ]
  }
 ],
 "metadata": {
  "kernelspec": {
   "display_name": "gw",
   "language": "python",
   "name": "gw"
  },
  "language_info": {
   "codemirror_mode": {
    "name": "ipython",
    "version": 3
   },
   "file_extension": ".py",
   "mimetype": "text/x-python",
   "name": "python",
   "nbconvert_exporter": "python",
   "pygments_lexer": "ipython3",
   "version": "3.7.3"
  }
 },
 "nbformat": 4,
 "nbformat_minor": 2
}
