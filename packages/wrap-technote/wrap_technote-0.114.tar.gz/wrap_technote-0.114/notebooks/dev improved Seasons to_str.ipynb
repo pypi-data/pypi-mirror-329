{
 "cells": [
  {
   "cell_type": "code",
   "execution_count": 1,
   "metadata": {},
   "outputs": [],
   "source": [
    "import re\n",
    "\n",
    "import wrap_technote as tn"
   ]
  },
  {
   "cell_type": "code",
   "execution_count": 4,
   "metadata": {},
   "outputs": [
    {
     "data": {
      "text/plain": [
       "[{'season': 'recovery',\n",
       "  'start': 1,\n",
       "  'end': 31,\n",
       "  'func': 'max',\n",
       "  'color': 'blue',\n",
       "  'marker': '^'},\n",
       " {'season': 'pumping',\n",
       "  'start': 31,\n",
       "  'end': 195,\n",
       "  'func': 'min',\n",
       "  'color': 'pink',\n",
       "  'marker': 'v'},\n",
       " {'season': 'recovery',\n",
       "  'start': 195,\n",
       "  'end': 365,\n",
       "  'func': 'max',\n",
       "  'color': 'blue',\n",
       "  'marker': '^'}]"
      ]
     },
     "execution_count": 4,
     "metadata": {},
     "output_type": "execute_result"
    }
   ],
   "source": [
    "tn.Seasons.from_str(\"recovery to Jan 31, pumping to Jul 14, recovery to Dec 31\").periods"
   ]
  },
  {
   "cell_type": "code",
   "execution_count": 5,
   "metadata": {},
   "outputs": [
    {
     "name": "stdout",
     "output_type": "stream",
     "text": [
      "[{'season': 'recovery', 'start': 1, 'end': 31, 'func': 'max'}, {'season': 'pumping', 'start': 31, 'end': 195, 'func': 'min'}, {'season': 'recovery', 'start': 195, 'end': 365, 'func': 'max'}]\n"
     ]
    }
   ],
   "source": [
    "seasons = (\n",
    "    tn.Seasons()\n",
    "    .append(\"recovery\", \"max\", end=tn.doy(\"Jan 31\"))\n",
    "    .append(\"pumping\", \"min\", end=tn.doy(\"Jul 14\"))\n",
    "    .append(\"recovery\", \"max\")\n",
    ")\n",
    "\n",
    "# seasons = tn.Seasons().append(\"pumping\", \"min\", end=tn.doy(\"May 31\")).append(\"recovery\", \"max\")\n",
    "\n",
    "print(seasons.periods)"
   ]
  },
  {
   "cell_type": "code",
   "execution_count": 6,
   "metadata": {},
   "outputs": [
    {
     "data": {
      "text/plain": [
       "'recovery to Jan 31, pumping to Jul 14, recovery to Dec 31'"
      ]
     },
     "execution_count": 6,
     "metadata": {},
     "output_type": "execute_result"
    }
   ],
   "source": [
    "seasons.to_str()"
   ]
  },
  {
   "cell_type": "code",
   "execution_count": 20,
   "metadata": {},
   "outputs": [
    {
     "name": "stdout",
     "output_type": "stream",
     "text": [
      "recovery to Jan 31, pumping to Jul 14, recovery to Dec 31\n"
     ]
    }
   ],
   "source": [
    "def to_str(s):\n",
    "    elements = []\n",
    "    for period in seasons.periods:\n",
    "        elements.append(\n",
    "            f\"{period['season']} to {tn.doy_to_non_leap_year(period['end'])}\"\n",
    "        )\n",
    "    return \", \".join(elements)\n",
    "\n",
    "\n",
    "x = to_str(seasons)\n",
    "print(x)"
   ]
  },
  {
   "cell_type": "code",
   "execution_count": 18,
   "metadata": {},
   "outputs": [
    {
     "data": {
      "text/plain": [
       "[{'season': 'pumping',\n",
       "  'start': 1,\n",
       "  'end': 151,\n",
       "  'func': 'min',\n",
       "  'color': 'pink',\n",
       "  'marker': 'v'},\n",
       " {'season': 'recovery',\n",
       "  'start': 151,\n",
       "  'end': 365,\n",
       "  'func': 'max',\n",
       "  'color': 'blue',\n",
       "  'marker': '^'}]"
      ]
     },
     "execution_count": 18,
     "metadata": {},
     "output_type": "execute_result"
    }
   ],
   "source": [
    "def from_str(s):\n",
    "    append_arguments = []\n",
    "    elements = s.split(\",\")\n",
    "    for e in elements:\n",
    "        name = e.strip().split()[0]\n",
    "        if \"recover\" in name.lower():\n",
    "            func = \"max\"\n",
    "            kws = {\"color\": \"blue\", \"marker\": \"^\"}\n",
    "        else:\n",
    "            func = \"min\"\n",
    "            kws = {\"color\": \"pink\", \"marker\": \"v\"}\n",
    "        date_match = re.search(\n",
    "            r\"(?:Jan|Feb|Mar|Apr|May|Jun|Jul|Aug|Sep|Oct|Nov|Dec) ?[0-9]{1,2}\", e\n",
    "        )\n",
    "        if date_match:\n",
    "            kws[\"end\"] = tn.doy(date_match.group())\n",
    "            append_arguments.append(((name, func), kws))\n",
    "        else:\n",
    "            raise KeyError(\"did not find a date match!\")\n",
    "    obj = tn.Seasons()\n",
    "    for args, kwargs in append_arguments:\n",
    "        obj = obj.append(*args, **kwargs)\n",
    "    return obj\n",
    "\n",
    "\n",
    "from_str(x).periods"
   ]
  },
  {
   "cell_type": "code",
   "execution_count": null,
   "metadata": {},
   "outputs": [],
   "source": []
  },
  {
   "cell_type": "code",
   "execution_count": null,
   "metadata": {},
   "outputs": [],
   "source": []
  }
 ],
 "metadata": {
  "kernelspec": {
   "display_name": "gw",
   "language": "python",
   "name": "gw"
  },
  "language_info": {
   "codemirror_mode": {
    "name": "ipython",
    "version": 3
   },
   "file_extension": ".py",
   "mimetype": "text/x-python",
   "name": "python",
   "nbconvert_exporter": "python",
   "pygments_lexer": "ipython3",
   "version": "3.7.3"
  }
 },
 "nbformat": 4,
 "nbformat_minor": 2
}
