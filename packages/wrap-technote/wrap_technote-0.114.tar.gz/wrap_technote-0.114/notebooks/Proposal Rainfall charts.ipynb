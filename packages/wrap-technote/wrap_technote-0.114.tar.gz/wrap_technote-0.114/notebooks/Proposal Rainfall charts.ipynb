{
 "cells": [
  {
   "cell_type": "code",
   "execution_count": 1,
   "metadata": {},
   "outputs": [],
   "source": [
    "import colorsys\n",
    "from datetime import date, datetime, timedelta\n",
    "import io\n",
    "import re\n",
    "\n",
    "import matplotlib.pyplot as plt\n",
    "from matplotlib import lines as mlines\n",
    "from matplotlib import gridspec\n",
    "from matplotlib import dates as mdates\n",
    "from matplotlib import ticker as mticker\n",
    "import pandas as pd\n",
    "import requests\n",
    "import numpy as np\n",
    "from scipy import stats\n",
    "\n",
    "import wrap_technote as tn\n",
    "import ausweather"
   ]
  },
  {
   "cell_type": "code",
   "execution_count": 2,
   "metadata": {},
   "outputs": [],
   "source": [
    "%matplotlib inline\n",
    "plt.rcParams[\"figure.dpi\"] = 150\n",
    "plt.rcParams[\"font.family\"] = \"Segoe UI\"\n",
    "plt.rcParams[\"font.size\"] = 10"
   ]
  },
  {
   "cell_type": "code",
   "execution_count": 3,
   "metadata": {},
   "outputs": [],
   "source": [
    "report = tn.Report(\"Barossa\", \"2019-20\")"
   ]
  },
  {
   "cell_type": "code",
   "execution_count": 4,
   "metadata": {},
   "outputs": [
    {
     "data": {
      "text/html": [
       "<div>\n",
       "<style scoped>\n",
       "    .dataframe tbody tr th:only-of-type {\n",
       "        vertical-align: middle;\n",
       "    }\n",
       "\n",
       "    .dataframe tbody tr th {\n",
       "        vertical-align: top;\n",
       "    }\n",
       "\n",
       "    .dataframe thead th {\n",
       "        text-align: right;\n",
       "    }\n",
       "</style>\n",
       "<table border=\"1\" class=\"dataframe\">\n",
       "  <thead>\n",
       "    <tr style=\"text-align: right;\">\n",
       "      <th></th>\n",
       "      <th>report</th>\n",
       "      <th>previous_users</th>\n",
       "      <th>bom_station_no</th>\n",
       "      <th>bom_station_name</th>\n",
       "      <th>data_start</th>\n",
       "      <th>mean_period_start</th>\n",
       "      <th>mean_period_finish</th>\n",
       "      <th>rf_period_start</th>\n",
       "      <th>rf_period_finish</th>\n",
       "      <th>filename</th>\n",
       "    </tr>\n",
       "  </thead>\n",
       "  <tbody>\n",
       "    <tr>\n",
       "      <th>3</th>\n",
       "      <td>Barossa</td>\n",
       "      <td>SW &amp; GW</td>\n",
       "      <td>23300</td>\n",
       "      <td>Angaston</td>\n",
       "      <td>1950-01-01</td>\n",
       "      <td>1977-07-01</td>\n",
       "      <td>2019-06-30</td>\n",
       "      <td>2018-07-01</td>\n",
       "      <td>2019-09-30</td>\n",
       "      <td>Report_Rainfall_stations.xlsx</td>\n",
       "    </tr>\n",
       "    <tr>\n",
       "      <th>4</th>\n",
       "      <td>Barossa</td>\n",
       "      <td>SW &amp; GW</td>\n",
       "      <td>23318</td>\n",
       "      <td>Tanunda</td>\n",
       "      <td>1950-01-01</td>\n",
       "      <td>1977-07-01</td>\n",
       "      <td>2019-06-30</td>\n",
       "      <td>2018-07-01</td>\n",
       "      <td>2019-09-30</td>\n",
       "      <td>Report_Rainfall_stations.xlsx</td>\n",
       "    </tr>\n",
       "    <tr>\n",
       "      <th>5</th>\n",
       "      <td>Barossa</td>\n",
       "      <td>SW</td>\n",
       "      <td>23752</td>\n",
       "      <td>Williamstown</td>\n",
       "      <td>1950-01-01</td>\n",
       "      <td>1977-07-01</td>\n",
       "      <td>2019-06-30</td>\n",
       "      <td>2018-07-01</td>\n",
       "      <td>2019-09-30</td>\n",
       "      <td>Report_Rainfall_stations.xlsx</td>\n",
       "    </tr>\n",
       "  </tbody>\n",
       "</table>\n",
       "</div>"
      ],
      "text/plain": [
       "    report previous_users  bom_station_no bom_station_name data_start  \\\n",
       "3  Barossa        SW & GW           23300         Angaston 1950-01-01   \n",
       "4  Barossa        SW & GW           23318          Tanunda 1950-01-01   \n",
       "5  Barossa             SW           23752     Williamstown 1950-01-01   \n",
       "\n",
       "  mean_period_start mean_period_finish rf_period_start rf_period_finish  \\\n",
       "3        1977-07-01         2019-06-30      2018-07-01       2019-09-30   \n",
       "4        1977-07-01         2019-06-30      2018-07-01       2019-09-30   \n",
       "5        1977-07-01         2019-06-30      2018-07-01       2019-09-30   \n",
       "\n",
       "                        filename  \n",
       "3  Report_Rainfall_stations.xlsx  \n",
       "4  Report_Rainfall_stations.xlsx  \n",
       "5  Report_Rainfall_stations.xlsx  "
      ]
     },
     "execution_count": 4,
     "metadata": {},
     "output_type": "execute_result"
    }
   ],
   "source": [
    "report.read_table(\"Report_rainfall_stations\")"
   ]
  },
  {
   "cell_type": "code",
   "execution_count": 5,
   "metadata": {},
   "outputs": [],
   "source": [
    "station = 23318"
   ]
  },
  {
   "cell_type": "code",
   "execution_count": 6,
   "metadata": {},
   "outputs": [],
   "source": [
    "rdfn = report.rainfall_dfn(station)"
   ]
  },
  {
   "cell_type": "code",
   "execution_count": 14,
   "metadata": {},
   "outputs": [
    {
     "data": {
      "text/plain": [
       "report                                      Barossa\n",
       "previous_users                              SW & GW\n",
       "bom_station_no                                23318\n",
       "bom_station_name                            Tanunda\n",
       "data_start                      1950-01-01 00:00:00\n",
       "mean_period_start               1977-07-01 00:00:00\n",
       "mean_period_finish              2019-06-30 00:00:00\n",
       "rf_period_start                 2018-07-01 00:00:00\n",
       "rf_period_finish                2019-09-30 00:00:00\n",
       "filename              Report_Rainfall_stations.xlsx\n",
       "Name: 4, dtype: object"
      ]
     },
     "execution_count": 14,
     "metadata": {},
     "output_type": "execute_result"
    }
   ],
   "source": [
    "rdfn"
   ]
  },
  {
   "cell_type": "code",
   "execution_count": 7,
   "metadata": {},
   "outputs": [
    {
     "data": {
      "text/plain": [
       "odict_keys(['water-use year', 'trend line', 'monthly means', '2018-19 monthly totals'])"
      ]
     },
     "execution_count": 7,
     "metadata": {},
     "output_type": "execute_result"
    }
   ],
   "source": [
    "fn = [f for f in report.rainfall_path.glob(f\"report_rainfall_*_{station}*.xlsx\")][0]\n",
    "d = pd.read_excel(fn, sheet_name=None)\n",
    "d.keys()"
   ]
  },
  {
   "cell_type": "code",
   "execution_count": 8,
   "metadata": {},
   "outputs": [],
   "source": [
    "mm = d[\"monthly means\"].set_index(\"Date\")\n",
    "pm = d[\"2018-19 monthly totals\"]  # .set_index(['Date', 'Date.1'])\n",
    "pm[\"Date\"] = pm.Date.fillna(method=\"ffill\")\n",
    "pm = pm.set_index([\"Date\", \"Date.1\"])"
   ]
  },
  {
   "cell_type": "code",
   "execution_count": 9,
   "metadata": {},
   "outputs": [
    {
     "data": {
      "text/html": [
       "<div>\n",
       "<style scoped>\n",
       "    .dataframe tbody tr th:only-of-type {\n",
       "        vertical-align: middle;\n",
       "    }\n",
       "\n",
       "    .dataframe tbody tr th {\n",
       "        vertical-align: top;\n",
       "    }\n",
       "\n",
       "    .dataframe thead th {\n",
       "        text-align: right;\n",
       "    }\n",
       "</style>\n",
       "<table border=\"1\" class=\"dataframe\">\n",
       "  <thead>\n",
       "    <tr style=\"text-align: right;\">\n",
       "      <th></th>\n",
       "      <th>Rain</th>\n",
       "    </tr>\n",
       "    <tr>\n",
       "      <th>Date</th>\n",
       "      <th></th>\n",
       "    </tr>\n",
       "  </thead>\n",
       "  <tbody>\n",
       "    <tr>\n",
       "      <th>7</th>\n",
       "      <td>71.464286</td>\n",
       "    </tr>\n",
       "    <tr>\n",
       "      <th>8</th>\n",
       "      <td>68.347619</td>\n",
       "    </tr>\n",
       "    <tr>\n",
       "      <th>9</th>\n",
       "      <td>65.480952</td>\n",
       "    </tr>\n",
       "    <tr>\n",
       "      <th>10</th>\n",
       "      <td>41.952381</td>\n",
       "    </tr>\n",
       "    <tr>\n",
       "      <th>11</th>\n",
       "      <td>33.126190</td>\n",
       "    </tr>\n",
       "    <tr>\n",
       "      <th>12</th>\n",
       "      <td>30.495238</td>\n",
       "    </tr>\n",
       "    <tr>\n",
       "      <th>1</th>\n",
       "      <td>19.402381</td>\n",
       "    </tr>\n",
       "    <tr>\n",
       "      <th>2</th>\n",
       "      <td>18.804762</td>\n",
       "    </tr>\n",
       "    <tr>\n",
       "      <th>3</th>\n",
       "      <td>27.221429</td>\n",
       "    </tr>\n",
       "    <tr>\n",
       "      <th>4</th>\n",
       "      <td>35.614286</td>\n",
       "    </tr>\n",
       "    <tr>\n",
       "      <th>5</th>\n",
       "      <td>54.238095</td>\n",
       "    </tr>\n",
       "    <tr>\n",
       "      <th>6</th>\n",
       "      <td>66.109524</td>\n",
       "    </tr>\n",
       "  </tbody>\n",
       "</table>\n",
       "</div>"
      ],
      "text/plain": [
       "           Rain\n",
       "Date           \n",
       "7     71.464286\n",
       "8     68.347619\n",
       "9     65.480952\n",
       "10    41.952381\n",
       "11    33.126190\n",
       "12    30.495238\n",
       "1     19.402381\n",
       "2     18.804762\n",
       "3     27.221429\n",
       "4     35.614286\n",
       "5     54.238095\n",
       "6     66.109524"
      ]
     },
     "execution_count": 9,
     "metadata": {},
     "output_type": "execute_result"
    }
   ],
   "source": [
    "mm"
   ]
  },
  {
   "cell_type": "code",
   "execution_count": 10,
   "metadata": {},
   "outputs": [
    {
     "data": {
      "text/html": [
       "<div>\n",
       "<style scoped>\n",
       "    .dataframe tbody tr th:only-of-type {\n",
       "        vertical-align: middle;\n",
       "    }\n",
       "\n",
       "    .dataframe tbody tr th {\n",
       "        vertical-align: top;\n",
       "    }\n",
       "\n",
       "    .dataframe thead th {\n",
       "        text-align: right;\n",
       "    }\n",
       "</style>\n",
       "<table border=\"1\" class=\"dataframe\">\n",
       "  <thead>\n",
       "    <tr style=\"text-align: right;\">\n",
       "      <th></th>\n",
       "      <th></th>\n",
       "      <th>Rain</th>\n",
       "    </tr>\n",
       "    <tr>\n",
       "      <th>Date</th>\n",
       "      <th>Date.1</th>\n",
       "      <th></th>\n",
       "    </tr>\n",
       "  </thead>\n",
       "  <tbody>\n",
       "    <tr>\n",
       "      <th rowspan=\"6\" valign=\"top\">2018.0</th>\n",
       "      <th>7</th>\n",
       "      <td>32.4</td>\n",
       "    </tr>\n",
       "    <tr>\n",
       "      <th>8</th>\n",
       "      <td>79.5</td>\n",
       "    </tr>\n",
       "    <tr>\n",
       "      <th>9</th>\n",
       "      <td>28.3</td>\n",
       "    </tr>\n",
       "    <tr>\n",
       "      <th>10</th>\n",
       "      <td>28.0</td>\n",
       "    </tr>\n",
       "    <tr>\n",
       "      <th>11</th>\n",
       "      <td>39.4</td>\n",
       "    </tr>\n",
       "    <tr>\n",
       "      <th>12</th>\n",
       "      <td>16.1</td>\n",
       "    </tr>\n",
       "    <tr>\n",
       "      <th rowspan=\"9\" valign=\"top\">2019.0</th>\n",
       "      <th>1</th>\n",
       "      <td>0.2</td>\n",
       "    </tr>\n",
       "    <tr>\n",
       "      <th>2</th>\n",
       "      <td>7.6</td>\n",
       "    </tr>\n",
       "    <tr>\n",
       "      <th>3</th>\n",
       "      <td>5.0</td>\n",
       "    </tr>\n",
       "    <tr>\n",
       "      <th>4</th>\n",
       "      <td>0.6</td>\n",
       "    </tr>\n",
       "    <tr>\n",
       "      <th>5</th>\n",
       "      <td>64.0</td>\n",
       "    </tr>\n",
       "    <tr>\n",
       "      <th>6</th>\n",
       "      <td>58.9</td>\n",
       "    </tr>\n",
       "    <tr>\n",
       "      <th>7</th>\n",
       "      <td>58.5</td>\n",
       "    </tr>\n",
       "    <tr>\n",
       "      <th>8</th>\n",
       "      <td>60.6</td>\n",
       "    </tr>\n",
       "    <tr>\n",
       "      <th>9</th>\n",
       "      <td>45.1</td>\n",
       "    </tr>\n",
       "  </tbody>\n",
       "</table>\n",
       "</div>"
      ],
      "text/plain": [
       "               Rain\n",
       "Date   Date.1      \n",
       "2018.0 7       32.4\n",
       "       8       79.5\n",
       "       9       28.3\n",
       "       10      28.0\n",
       "       11      39.4\n",
       "       12      16.1\n",
       "2019.0 1        0.2\n",
       "       2        7.6\n",
       "       3        5.0\n",
       "       4        0.6\n",
       "       5       64.0\n",
       "       6       58.9\n",
       "       7       58.5\n",
       "       8       60.6\n",
       "       9       45.1"
      ]
     },
     "execution_count": 10,
     "metadata": {},
     "output_type": "execute_result"
    }
   ],
   "source": [
    "pm"
   ]
  },
  {
   "cell_type": "code",
   "execution_count": 15,
   "metadata": {},
   "outputs": [
    {
     "data": {
      "image/png": "[encoded data removed]",
      "text/plain": [
       "<Figure size 600x450 with 1 Axes>"
      ]
     },
     "metadata": {
      "needs_background": "light"
     },
     "output_type": "display_data"
    }
   ],
   "source": [
    "fig = plt.figure(figsize=(4, 3))\n",
    "ax = fig.add_subplot(111)\n",
    "ax = tn.plot_rainfall_monthly_means(\n",
    "    mm.Rain,\n",
    "    pm.Rain,\n",
    "    \"1977-78 to 2018-19\",\n",
    "    \"2018-19\",\n",
    "    \"2018\",\n",
    "    \"2019\",\n",
    "    ax=ax,\n",
    "    xtl_kws=dict(fontsize=\"medium\", rotation=90, ha=\"center\"),\n",
    "    bar_width=0.44,\n",
    ")\n",
    "fig.savefig(f\"monthly_rainfall_{station}_{rdfn.name}.png\")"
   ]
  },
  {
   "cell_type": "code",
   "execution_count": null,
   "metadata": {},
   "outputs": [],
   "source": []
  },
  {
   "cell_type": "code",
   "execution_count": null,
   "metadata": {},
   "outputs": [],
   "source": []
  },
  {
   "cell_type": "code",
   "execution_count": null,
   "metadata": {},
   "outputs": [],
   "source": []
  },
  {
   "cell_type": "code",
   "execution_count": null,
   "metadata": {},
   "outputs": [],
   "source": []
  },
  {
   "cell_type": "code",
   "execution_count": 3,
   "metadata": {},
   "outputs": [],
   "source": [
    "colour = {\n",
    "    \"rainfall\": (0 / 255, 176 / 255, 240 / 255, 1),\n",
    "    \"mean\": \"#bebebe\",\n",
    "}"
   ]
  },
  {
   "cell_type": "code",
   "execution_count": 4,
   "metadata": {},
   "outputs": [],
   "source": [
    "data = ausweather.fetch_bom_station_from_silo(\n",
    "    23318, \"kent.inverarity@sa.gov.au\", \"1950-01-01\"\n",
    ")\n",
    "df = data[\"df\"]\n",
    "rf_annual = data[\"annual\"]\n",
    "rf_annual_srn = data[\"srn\"]"
   ]
  },
  {
   "cell_type": "code",
   "execution_count": 7,
   "metadata": {},
   "outputs": [
    {
     "data": {
      "image/png": "[encoded data removed]",
      "text/plain": [
       "<Figure size 1080x450 with 2 Axes>"
      ]
     },
     "metadata": {
      "needs_background": "light"
     },
     "output_type": "display_data"
    }
   ],
   "source": [
    "ausweather.plot_silo_station(\n",
    "    rf_annual,\n",
    "    rf_annual.mean(),\n",
    "    rf_annual_srn,\n",
    "    title=f\"23318 (fetched on {date.today()})\",\n",
    ")"
   ]
  },
  {
   "cell_type": "markdown",
   "metadata": {},
   "source": [
    "# Prepare data"
   ]
  },
  {
   "cell_type": "code",
   "execution_count": 8,
   "metadata": {},
   "outputs": [],
   "source": [
    "mean_period_start = pd.Timestamp(\"1977-07-01\")\n",
    "mean_period_finish = pd.Timestamp(\"2019-06-30\")\n",
    "\n",
    "rf_period_start = pd.Timestamp(\"2018-07-01\")\n",
    "rf_period_finish = pd.Timestamp(\"2019-09-30\")"
   ]
  },
  {
   "cell_type": "markdown",
   "metadata": {},
   "source": [
    "# Configure charting parameters"
   ]
  },
  {
   "cell_type": "code",
   "execution_count": 20,
   "metadata": {},
   "outputs": [],
   "source": [
    "rgba_to_hsva = lambda c: tuple(list(colorsys.rgb_to_hsv(c[0], c[1], c[2])) + [c[3]])\n",
    "\n",
    "colour = {\n",
    "    \"rainfall\": (0 / 255, 176 / 255, 240 / 255, 1),\n",
    "    \"mean\": \"#bebebe\",\n",
    "}\n",
    "\n",
    "\n",
    "def darken(rgba, factor):\n",
    "    h, s, v = colorsys.rgb_to_hsv(rgba[0], rgba[1], rgba[2])\n",
    "    r, g, b = colorsys.hsv_to_rgb(h, s, v * factor)\n",
    "    return (r, g, b, rgba[3])"
   ]
  },
  {
   "cell_type": "markdown",
   "metadata": {},
   "source": [
    "# Annual rainfall with trend line"
   ]
  },
  {
   "cell_type": "markdown",
   "metadata": {},
   "source": [
    "Calculate annual rainfall, and the linear trend line."
   ]
  },
  {
   "cell_type": "code",
   "execution_count": 21,
   "metadata": {
    "scrolled": true
   },
   "outputs": [
    {
     "name": "stdout",
     "output_type": "stream",
     "text": [
      "Annual change in total rainfall: +0.48 mm/y\n"
     ]
    }
   ],
   "source": [
    "rf_mm_subset = df[(df.Date >= mean_period_start) & (df.Date <= mean_period_finish)]\n",
    "rf_mm_subset.loc[:, \"wu_year\"] = [tn.date_to_wateruseyear(d) for d in rf_mm_subset.Date]\n",
    "rf_wuy = rf_mm_subset.groupby(\"wu_year\").Rain.sum()\n",
    "rf_wuy_x = np.arange(len(rf_wuy))\n",
    "slope, intercept, r_value, p_value, std_err = stats.linregress(rf_wuy_x, rf_wuy.values)\n",
    "print(f\"Annual change in total rainfall: {slope:+.2f} mm/y\")"
   ]
  },
  {
   "cell_type": "markdown",
   "metadata": {},
   "source": [
    "Total water-use (financial) year annual rainfall, for the last 15 years"
   ]
  },
  {
   "cell_type": "code",
   "execution_count": 15,
   "metadata": {},
   "outputs": [
    {
     "data": {
      "text/plain": [
       "wu_year\n",
       "2004-05    577.8\n",
       "2005-06    712.6\n",
       "2006-07    437.8\n",
       "2007-08    374.5\n",
       "2008-09    528.9\n",
       "2009-10    544.3\n",
       "2010-11    862.4\n",
       "2011-12    597.0\n",
       "2012-13    404.7\n",
       "2013-14    634.3\n",
       "2014-15    385.8\n",
       "2015-16    526.5\n",
       "2016-17    650.1\n",
       "2017-18    474.8\n",
       "2018-19    360.0\n",
       "Name: Rain, dtype: float64"
      ]
     },
     "execution_count": 15,
     "metadata": {},
     "output_type": "execute_result"
    }
   ],
   "source": [
    "rf_wuy.tail(15)"
   ]
  },
  {
   "cell_type": "code",
   "execution_count": 11,
   "metadata": {},
   "outputs": [
    {
     "data": {
      "image/png": "[encoded data removed]",
      "text/plain": [
       "<Figure size 1080x510 with 1 Axes>"
      ]
     },
     "metadata": {
      "needs_background": "light"
     },
     "output_type": "display_data"
    }
   ],
   "source": [
    "width = 0.8\n",
    "fig = plt.figure(figsize=(7.2, 3.4))\n",
    "ax = fig.add_subplot(111)\n",
    "\n",
    "ax.bar(\n",
    "    rf_wuy_x,\n",
    "    rf_wuy.values,\n",
    "    width=width,\n",
    "    facecolor=colour[\"rainfall\"],\n",
    "    label=\"Annual rainfall\",\n",
    ")\n",
    "ax.plot(\n",
    "    [rf_wuy_x[0] - width / 2, rf_wuy_x[-1] + width / 2],\n",
    "    [rf_wuy.mean(), rf_wuy.mean()],\n",
    "    color=colour[\"mean\"],\n",
    "    ls=\"--\",\n",
    "    lw=1,\n",
    "    label=\"Mean annual rainfall\",\n",
    ")\n",
    "trend_x = np.asarray([rf_wuy_x[0], rf_wuy_x[-1]])\n",
    "trend_y = [slope * tx + intercept for tx in trend_x]\n",
    "ax.plot(trend_x, trend_y, color=\"darkblue\", label=\"Trend in rainfall\")\n",
    "ax.spines[\"top\"].set_visible(False)\n",
    "ax.spines[\"right\"].set_visible(False)\n",
    "\n",
    "ticks_per_label = 2\n",
    "xticks = np.arange(0, len(rf_wuy_x), ticks_per_label)\n",
    "while xticks[-1] != rf_wuy_x[-1]:\n",
    "    xticks += 1\n",
    "ax.set_xticks(xticks)\n",
    "\n",
    "_ = ax.set_xticklabels(\n",
    "    rf_wuy.index[xticks], rotation=90, ha=\"center\", fontsize=\"medium\"\n",
    ")\n",
    "ax.set_ylabel(\"Annual rainfall (mm)\", fontsize=\"medium\")\n",
    "ax.legend(loc=\"best\", fontsize=\"small\", frameon=False, ncol=3)\n",
    "# ax.set_ylim(0, 950)\n",
    "fig.tight_layout()\n",
    "fig.savefig(\"annual_rainfall.png\", dpi=150)"
   ]
  },
  {
   "cell_type": "markdown",
   "metadata": {},
   "source": [
    "# Total monthly rainfall for the last 18 months, with monthly means"
   ]
  },
  {
   "cell_type": "markdown",
   "metadata": {},
   "source": [
    "Mean monthly rainfall:"
   ]
  },
  {
   "cell_type": "code",
   "execution_count": 12,
   "metadata": {},
   "outputs": [
    {
     "name": "stdout",
     "output_type": "stream",
     "text": [
      "Period which has been averaged: 1977-78 to 2018-19\n"
     ]
    },
    {
     "data": {
      "text/plain": [
       "Date\n",
       "7     71.464286\n",
       "8     68.347619\n",
       "9     65.480952\n",
       "10    41.952381\n",
       "11    33.126190\n",
       "12    30.495238\n",
       "1     19.402381\n",
       "2     18.804762\n",
       "3     27.221429\n",
       "4     35.614286\n",
       "5     54.238095\n",
       "6     66.109524\n",
       "Name: Rain, dtype: float64"
      ]
     },
     "execution_count": 12,
     "metadata": {},
     "output_type": "execute_result"
    }
   ],
   "source": [
    "period_label = (\n",
    "    tn.date_to_wateruseyear(mean_period_start)\n",
    "    + \" to \"\n",
    "    + tn.date_to_wateruseyear(mean_period_finish)\n",
    ")\n",
    "print(f\"Period which has been averaged: {period_label}\")\n",
    "\n",
    "rf_mm_subset = df[(df.Date >= mean_period_start) & (df.Date <= mean_period_finish)]\n",
    "rf_mm = (\n",
    "    rf_mm_subset.groupby([rf_mm_subset.Date.dt.year, rf_mm_subset.Date.dt.month])\n",
    "    .Rain.sum()\n",
    "    .mean(level=1)\n",
    ")\n",
    "rf_mm"
   ]
  },
  {
   "cell_type": "markdown",
   "metadata": {},
   "source": [
    "Monthly rainfall totals, over the last 18 months:"
   ]
  },
  {
   "cell_type": "code",
   "execution_count": 13,
   "metadata": {},
   "outputs": [
    {
     "data": {
      "text/plain": [
       "Date  Date\n",
       "2018  7       32.4\n",
       "      8       79.5\n",
       "      9       28.3\n",
       "      10      28.0\n",
       "      11      39.4\n",
       "      12      16.1\n",
       "2019  1        0.2\n",
       "      2        7.6\n",
       "      3        5.0\n",
       "      4        0.6\n",
       "      5       64.0\n",
       "      6       58.9\n",
       "      7       58.5\n",
       "      8       60.6\n",
       "      9       45.1\n",
       "Name: Rain, dtype: float64"
      ]
     },
     "execution_count": 13,
     "metadata": {},
     "output_type": "execute_result"
    }
   ],
   "source": [
    "rf_period = df[(df.Date >= rf_period_start) & (df.Date <= rf_period_finish)]\n",
    "rf_period_m = rf_period.groupby([df.Date.dt.year, df.Date.dt.month]).Rain.sum()\n",
    "rf_period_m"
   ]
  },
  {
   "cell_type": "markdown",
   "metadata": {},
   "source": [
    "Make a chart."
   ]
  },
  {
   "cell_type": "code",
   "execution_count": 14,
   "metadata": {},
   "outputs": [
    {
     "data": {
      "image/png": "[encoded data removed]",
      "text/plain": [
       "<Figure size 1080x450 with 1 Axes>"
      ]
     },
     "metadata": {
      "needs_background": "light"
     },
     "output_type": "display_data"
    }
   ],
   "source": [
    "width = 0.38\n",
    "month_numbers = rf_period_m.index.get_level_values(1)\n",
    "month_names = [date(2000, mn, 1).strftime(\"%b\") for mn in month_numbers]\n",
    "rf_period_mm = [rf_mm.loc[mn] for mn in month_numbers]\n",
    "\n",
    "fig = plt.figure(figsize=(7.2, 3.0))\n",
    "# fig = plt.figure(figsize=(8, 2.8))\n",
    "ax = fig.add_subplot(111)\n",
    "rf_period_x = np.arange(len(month_numbers)) - width / 2\n",
    "rf_period_mm_x = np.arange(len(month_numbers)) + width / 2\n",
    "ax.bar(\n",
    "    rf_period_x,\n",
    "    rf_period_m.values,\n",
    "    width=width,\n",
    "    facecolor=colour[\"rainfall\"],\n",
    "    label=\"2018-19 rainfall\",\n",
    ")\n",
    "ax.bar(\n",
    "    rf_period_mm_x,\n",
    "    rf_period_mm,\n",
    "    width=width,\n",
    "    facecolor=colour[\"mean\"],\n",
    "    label=f\"Mean rainfall\\n({period_label})\",\n",
    ")\n",
    "ax.spines[\"top\"].set_visible(False)\n",
    "ax.spines[\"right\"].set_visible(False)\n",
    "ax.set_xticks(range(len(month_numbers)))\n",
    "_ = ax.set_xticklabels(month_names, rotation=0, ha=\"center\", fontsize=\"medium\")\n",
    "ax.set_ylabel(\"Monthly rainfall (mm)\", fontsize=\"medium\")\n",
    "ax.legend(loc=\"upper right\", fontsize=\"small\", frameon=False, ncol=2)\n",
    "pos = ax.get_position()\n",
    "ax.set_position([pos.x0, pos.y0 + 0.1, pos.width, pos.height - 0.1])\n",
    "ax.set_ylim(0, 100)\n",
    "ly = 0.02\n",
    "l1_x = (pos.x0, pos.x0 + 0.31)\n",
    "l2_x = [pos.x0 + 0.34, pos.x0 + pos.width + 0.04]\n",
    "ax.text(\n",
    "    l1_x[0] + (l1_x[1] - l1_x[0]) / 2,\n",
    "    ly,\n",
    "    \"2018\",\n",
    "    transform=fig.transFigure,\n",
    "    fontsize=\"medium\",\n",
    "    va=\"center\",\n",
    "    ha=\"center\",\n",
    "    bbox=dict(facecolor=\"white\", edgecolor=\"none\"),\n",
    ")\n",
    "ax.text(\n",
    "    l2_x[0] + (l2_x[1] - l2_x[0]) / 2,\n",
    "    ly,\n",
    "    \"2019\",\n",
    "    transform=fig.transFigure,\n",
    "    fontsize=\"medium\",\n",
    "    va=\"center\",\n",
    "    ha=\"center\",\n",
    "    bbox=dict(facecolor=\"white\", edgecolor=\"none\"),\n",
    ")\n",
    "\n",
    "line1 = mlines.Line2D(l1_x, [ly, ly], color=\"k\", lw=0.5, transform=fig.transFigure)\n",
    "line2 = mlines.Line2D(l2_x, [ly, ly], color=\"k\", lw=0.5, transform=fig.transFigure)\n",
    "for line in (line1, line2):\n",
    "    line.set_clip_on(False)\n",
    "    ax.add_line(line)\n",
    "fig.tight_layout()\n",
    "fig.savefig(\"monthly_rainfall.png\", dpi=150)"
   ]
  },
  {
   "cell_type": "code",
   "execution_count": null,
   "metadata": {},
   "outputs": [],
   "source": []
  },
  {
   "cell_type": "code",
   "execution_count": null,
   "metadata": {},
   "outputs": [],
   "source": []
  }
 ],
 "metadata": {
  "kernelspec": {
   "display_name": "gw",
   "language": "python",
   "name": "gw"
  },
  "language_info": {
   "codemirror_mode": {
    "name": "ipython",
    "version": 3
   },
   "file_extension": ".py",
   "mimetype": "text/x-python",
   "name": "python",
   "nbconvert_exporter": "python",
   "pygments_lexer": "ipython3",
   "version": "3.7.3"
  }
 },
 "nbformat": 4,
 "nbformat_minor": 2
}
