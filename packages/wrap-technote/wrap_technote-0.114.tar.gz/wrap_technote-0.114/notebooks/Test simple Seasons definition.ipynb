{
 "cells": [
  {
   "cell_type": "code",
   "execution_count": 1,
   "metadata": {},
   "outputs": [],
   "source": [
    "from wrap_technote import Seasons"
   ]
  },
  {
   "cell_type": "code",
   "execution_count": 4,
   "metadata": {},
   "outputs": [
    {
     "data": {
      "text/plain": [
       "[{'season': 'stressed',\n",
       "  'func': 'min',\n",
       "  'color': 'pink',\n",
       "  'marker': 'v',\n",
       "  'start': 1,\n",
       "  'end': 134},\n",
       " {'season': 'recovery',\n",
       "  'start': 135,\n",
       "  'end': 304,\n",
       "  'func': 'max',\n",
       "  'color': 'blue',\n",
       "  'marker': '^'},\n",
       " {'season': 'stressed',\n",
       "  'func': 'min',\n",
       "  'color': 'pink',\n",
       "  'marker': 'v',\n",
       "  'start': 305,\n",
       "  'end': 366}]"
      ]
     },
     "execution_count": 4,
     "metadata": {},
     "output_type": "execute_result"
    }
   ],
   "source": [
    "Seasons.from_str(\"May15-Oct31\").periods"
   ]
  },
  {
   "cell_type": "code",
   "execution_count": null,
   "metadata": {},
   "outputs": [],
   "source": []
  }
 ],
 "metadata": {
  "kernelspec": {
   "display_name": "gw",
   "language": "python",
   "name": "gw"
  },
  "language_info": {
   "codemirror_mode": {
    "name": "ipython",
    "version": 3
   },
   "file_extension": ".py",
   "mimetype": "text/x-python",
   "name": "python",
   "nbconvert_exporter": "python",
   "pygments_lexer": "ipython3",
   "version": "3.7.3"
  }
 },
 "nbformat": 4,
 "nbformat_minor": 2
}
