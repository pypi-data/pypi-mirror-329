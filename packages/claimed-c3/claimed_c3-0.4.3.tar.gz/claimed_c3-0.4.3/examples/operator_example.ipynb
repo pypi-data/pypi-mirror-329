{
 "cells": [
  {
   "cell_type": "markdown",
   "metadata": {},
   "source": [
    "# operator_example"
   ]
  },
  {
   "cell_type": "markdown",
   "metadata": {},
   "source": [
    "Please update the description of the operator in this markdown cell"
   ]
  },
  {
   "cell_type": "code",
   "execution_count": null,
   "metadata": {},
   "outputs": [],
   "source": [
    "# add any requirements (Hint: pip install -r requirements.txt is supported as well)\n",
    "# commenting out the pip install command is supported as well\n",
    "#!pip install numpy"
   ]
  },
  {
   "cell_type": "code",
   "execution_count": null,
   "metadata": {},
   "outputs": [],
   "source": [
    "import os\n",
    "import logging\n",
    "import numpy as np"
   ]
  },
  {
   "cell_type": "code",
   "execution_count": null,
   "metadata": {},
   "outputs": [],
   "source": [
    "# TODO: Add the operator interface.\n",
    "# A comment one line above os.getenv is the description of this variable.\n",
    "input_path = os.getenv('input_path')\n",
    "\n",
    "# If you specify a default value, this parameter gets marked as optional\n",
    "with_default = os.getenv('with_default', 'default_value')\n",
    "\n",
    "# You can cast to a specific type with int(), float(), or bool() - this type information propagates down to the execution engines (e.g., Kubeflow)\n",
    "num_values = int(os.getenv('num_values', 5))\n",
    "\n",
    "# Output paths are starting with \"output_\".\n",
    "output_path = os.getenv('output_path', None)"
   ]
  },
  {
   "cell_type": "code",
   "execution_count": null,
   "metadata": {},
   "outputs": [],
   "source": [
    "# TODO: Add your code.\n",
    "random_values = np.random.rand(num_values)\n",
    "\n",
    "# C3 adds setup code to your notebook which initalize the logging.\n",
    "# You can just use logging.debug(), logging.info(), logging.warning() in your code.\n",
    "logging.info(f'Random values: {random_values}')"
   ]
  }
 ],
 "metadata": {
  "language_info": {
   "name": "python"
  }
 },
 "nbformat": 4,
 "nbformat_minor": 2
}
