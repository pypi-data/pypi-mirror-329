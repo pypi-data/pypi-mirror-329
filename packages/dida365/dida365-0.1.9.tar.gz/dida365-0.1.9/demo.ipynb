{
 "cells": [
  {
   "cell_type": "markdown",
   "metadata": {},
   "source": [
    "# Dida365/TickTick API Client Demo\n",
    "\n",
    "This notebook demonstrates how to use the Dida365/TickTick API client to interact with your tasks and projects.\n",
    "\n",
    "## Setup\n",
    "\n",
    "First, we need to set up our environment and authenticate with the API."
   ]
  },
  {
   "cell_type": "code",
   "execution_count": 1,
   "metadata": {},
   "outputs": [
    {
     "name": "stdout",
     "output_type": "stream",
     "text": [
      "ServiceType.DIDA365\n"
     ]
    }
   ],
   "source": [
    "import asyncio\n",
    "from dida365 import (\n",
    "    Dida365Client,\n",
    "    ServiceType,\n",
    "    ProjectCreate,\n",
    "    ProjectUpdate,\n",
    "    TaskCreate,\n",
    "    TaskUpdate,\n",
    "    TaskPriority,\n",
    "    TaskStatus,\n",
    "    ViewMode\n",
    ")\n",
    "\n",
    "# Get you TickTick/DIDA365 credentials from:\n",
    "# https://developer.ticktick.com/manage\n",
    "# https://developer.dida365.com/manage\n",
    "# Replace these with your OAuth2 credentials\n",
    "# Check README.md  \"OAuth2 Setup\"\n",
    "CLIENT_ID = \"\"\n",
    "CLIENT_SECRET = \"\"\n",
    "\n",
    "\n",
    "# # Create client instance \n",
    "# client = Dida365Client(\n",
    "#     client_id=CLIENT_ID,\n",
    "#     client_secret=CLIENT_SECRET,\n",
    "#     service_type=ServiceType.TICKTICK, # or ServiceType.DIDA365\n",
    "#     save_to_env=False,\n",
    "# )\n",
    "\n",
    "client = Dida365Client() \n",
    "print(client.config.service_type)"
   ]
  },
  {
   "cell_type": "markdown",
   "metadata": {},
   "source": [
    "## Authentication\n",
    "\n",
    "The client uses OAuth2 for authentication. When you run the cell below, it will open your browser for authorization."
   ]
  },
  {
   "cell_type": "code",
   "execution_count": 2,
   "metadata": {},
   "outputs": [
    {
     "name": "stdout",
     "output_type": "stream",
     "text": [
      "Already authenticated!\n"
     ]
    },
    {
     "data": {
      "text/plain": [
       "TokenInfo(access_token='c8731cc6-2390-4785-9049-d388098feb8e', token_type='Bearer', expires_in=3600, scope='tasks:write tasks:read', created_at=1737287080.71347)"
      ]
     },
     "execution_count": 2,
     "metadata": {},
     "output_type": "execute_result"
    }
   ],
   "source": [
    "async def authenticate():\n",
    "    # This will open your browser for authorization\n",
    "    if not client.auth.token: \n",
    "        token_info = await client.authenticate()\n",
    "        print(\"Successfully authenticated!\")\n",
    "        return token_info\n",
    "    else: \n",
    "        print(\"Already authenticated!\")\n",
    "        return client.auth.token\n",
    "\n",
    "await authenticate()"
   ]
  },
  {
   "cell_type": "markdown",
   "metadata": {},
   "source": [
    "## Projects\n",
    "\n",
    "Let's start by working with projects. We'll demonstrate how to:\n",
    "1. Create a new project\n",
    "2. List all projects\n",
    "3. Update a project\n",
    "4. Get project details\n",
    "5. Delete a project"
   ]
  },
  {
   "cell_type": "code",
   "execution_count": 3,
   "metadata": {},
   "outputs": [
    {
     "name": "stdout",
     "output_type": "stream",
     "text": [
      "Created project: Demo Project (ID: 678ce5aae4b0711d9ddce46e)\n"
     ]
    }
   ],
   "source": [
    "# Create a new project\n",
    "new_project = ProjectCreate(\n",
    "    name=\"Demo Project\",\n",
    "    color=\"#FF0000\",  # Red color\n",
    "    view_mode=ViewMode.KANBAN\n",
    ")\n",
    "project = await client.create_project(new_project)\n",
    "print(f\"Created project: {project.name} (ID: {project.id})\")\n"
   ]
  },
  {
   "cell_type": "code",
   "execution_count": 4,
   "metadata": {},
   "outputs": [
    {
     "name": "stdout",
     "output_type": "stream",
     "text": [
      "\n",
      "All projects:\n",
      "- 📦Reference (ID: 6347718f24cfd16c1d5d505c)\n",
      "- 📍Single Actions (ID: 634771ce2da9d16c1d5d50e8)\n",
      "- 🔬3D-CLIP Anomaly Research (ID: 661d35b30bd8911d632fb19f)\n",
      "- 🧑‍💻面试 集中博士后 (ID: 662a4404ae29916cc031d597)\n",
      "- 📰总务 IDADM 公众号 (ID: 662dc4bde0811105b511f30b)\n",
      "- 🧑‍💻面试 Jiadong Liu (ID: 662f3424e4b05d5d98bb9f35)\n",
      "- ⚖️总务 Logo知识产权申请 (ID: 6631ae4e8d9f1105b5136c3a)\n",
      "- 👹总务 海报跟进， 校对， 整合发送 (ID: 6635b3e7e4bb11390402a777)\n",
      "- 📧总务 取合同快递 (ID: 66418a49b0d69103e387f48f)\n",
      "- 👩🏻‍🔧总务 采购处设备售后 (ID: 66445c4280d25103e3884803)\n",
      "- 🌐Develop Website (ID: 664707907d04d10395f193ab)\n",
      "- 🧑‍💻面试 Zhang Zihao (ID: 6648a6f9cc7091519d6ee69d)\n",
      "- 🗃️Build Effective Literature-SRS Pipeline (ID: 664b2dccd86f11519d6f82d6)\n",
      "- 🌐总务 课题组主页 (ID: 664c53aeba8c51519d6f9d87)\n",
      "- 📧总务 课题组公共邮箱 (ID: 664c5485a35711519d6f9fde)\n",
      "- 🧑‍💻面试 XX Ph.D. Candidate (ID: 664d5387e4b0589df537692a)\n",
      "- 总务 夏令营文件 (ID: 665d5752d5cd11384824a043)\n",
      "- 总务 整理面试进度 (ID: 66606c694590513848253d2d)\n",
      "- Make Incompletion Trigger List (ID: 6667c285f0c311051ad90635)\n",
      "- LF Verification (ID: 6667c2d6fcf251051ad90a35)\n",
      "- Univ Survey (ID: 6667f4c1f1cf11051ad934d2)\n",
      "- Excel Table Correction (ID: 666d4cf5a6cd51029007c92b)\n",
      "- HK VISA (ID: 667813d66e4011c3a71dfa42)\n",
      "- Update Excel Table (ID: 6678ffe6c0cb51c3a71e2966)\n",
      "- 安排周五面试 (ID: 667c1192430211c3a71ecd5f)\n",
      "- Round  2,1 Postdoc Interview (ID: 668242ae2d13110dc5dbf5aa)\n",
      "- csasme 报销 (ID: 668b7b13f51e5102ab78941d)\n",
      "- Contact the agency (ID: 6695e4a726b8d102e13ddfcb)\n",
      "- updated contract (ID: 6696015c35379102e13df1f3)\n",
      "- 公众号广告 (ID: 669602210cba9102e13df380)\n",
      "- appl情报获取 (ID: 669602b064389102e13df730)\n",
      "- lavi cuhk (ID: 669604bfd44c1102e13e01a2)\n",
      "- 学习写 Research Proposal (ID: 6696059b45ef9102e13e05a4)\n",
      "- 组会 关于 VL 的报告 (ID: 6696117f43df1102e13e17b5)\n",
      "- Foundational Course Revision (ID: 669727f70ec5d102e13e409c)\n",
      "- Task Interview (ID: 669dc89d712d9102c3bc2979)\n",
      "- JH. H (ID: 669e1775d5a1d102c3bc411b)\n",
      "- 💻Build Experiment Codebase (ID: 66a89171f918510aa73a5461)\n",
      "- Computer Vision Learn (ID: 66b3427c5dc3518c53a5c1c0)\n",
      "- Survey of 3D Architecture (ID: 66bc273155289102d4c87c1e)\n",
      "- GRE Preparation (ID: 66bc28aa34545102d4c887ad)\n",
      "- 组织面试 (ID: 66bc72d279c2d102d4c89b3a)\n",
      "- torch mastery (ID: 66c2ac9372a011028b501992)\n",
      "- 参加科协 (ID: 66cdd2d90647511f5a5a330f)\n",
      "- Send MSOM Task (ID: 66de5781cda9d1058f1ec689)\n",
      "- 整理申请人名单 (ID: 66e984259650d10631a150bb)\n",
      "- Arrange Visitor Visiting (ID: 6705f9fd87251104e819b1ac)\n",
      "- Oct 16 Interview and Task Status (ID: 6707bc77fcff1107da6874fb)\n",
      "- 要推荐信 (ID: 6710f70fb09b1148f333cd45)\n",
      "- Oct 25 Batch Send  Task (ID: 671b6acf1ad11103187759e3)\n",
      "- 完成简历调查表 (ID: 671e2a502416110318777d79)\n",
      "- Nov 7 Interview and Task (ID: 67220549b7ab51032ace69f5)\n",
      "- Nov 26 Interview (ID: 673af315a18c5102e5288888)\n",
      "- UG Lunch (ID: 673b0e0485e09102e52893c8)\n",
      "- 微信公众号APFC (ID: 673b0e4ab6e9d102e52897ee)\n",
      "- 检查简历 (ID: 673c4dc60899110302749601)\n",
      "- PS (ID: 673c4dece5ac910302749767)\n",
      "- 完成推荐新推荐人沟通 (ID: 674ff68799f8d103176fa730)\n",
      "- 森绿定水果 (ID: 6757cd19d05a1102e535d628)\n",
      "- UCB MSCS (ID: 676d4310340051cccf1e6993)\n",
      "- UIUC MCS (ID: 676d431bc14191cccf1e6aba)\n",
      "- UCLA MSCS (ID: 676d4323367f51cccf1e6bfc)\n",
      "- USC MSCS (ID: 676d432833bf11cccf1e6d42)\n",
      "- NTU (ID: 676d4330c8c311cccf1e6e8c)\n",
      "- NUS (ID: 676d4339c80f11cccf1e6fda)\n",
      "- UCB MEng (ID: 676d433dcc8591cccf1e712c)\n",
      "- UCSD MSCS (ID: 676d435fc35a11cccf1e73cf)\n",
      "- U Washington MSc HCI (ID: 676d43c0d74851cccf1e7894)\n",
      "- HKUSTGZ RedBird (ID: 676d43ced28651cccf1e79e4)\n",
      "- Demo Project 1 (ID: 678ce2dee4b04e8e850040e8)\n",
      "- Demo Project 1 (ID: 678ce2eee4b07d38f792622f)\n",
      "- Demo Project 1 (ID: 678ce2fbe4b00a80ffc7697f)\n",
      "- Demo Project 1 (ID: 678ce3b8e4b07d38f7926a35)\n",
      "- Demo Project (ID: 678ce560e4b04e8e850059e1)\n",
      "- Demo Project (ID: 678ce574e4b0711d9ddce300)\n",
      "- Demo Project (ID: 678ce57ce4b07d38f7927c24)\n",
      "- Demo Project (ID: 678ce5aae4b0711d9ddce46e)\n"
     ]
    }
   ],
   "source": [
    "# List all projects\n",
    "projects = await client.get_projects()\n",
    "print(\"\\nAll projects:\")\n",
    "for p in projects:\n",
    "    print(f\"- {p.name} (ID: {p.id})\")\n",
    "    \n"
   ]
  },
  {
   "cell_type": "code",
   "execution_count": null,
   "metadata": {},
   "outputs": [],
   "source": [
    "# Get active projects (filtering out closed projects)\n",
    "active_projects = [p for p in projects if not p.closed]\n",
    "print(\"\\nActive projects:\")\n",
    "for p in active_projects:\n",
    "    print(f\"- {p.name} (ID: {p.id})\")\n",
    "\n"
   ]
  },
  {
   "cell_type": "code",
   "execution_count": null,
   "metadata": {},
   "outputs": [],
   "source": [
    "\n",
    "# Update the project\n",
    "update = ProjectUpdate(\n",
    "    id=project.id,\n",
    "    name=\"Updated Demo Project\",\n",
    "    color=\"#00FF00\"  # Green color\n",
    ")\n",
    "updated = await client.update_project(update)\n",
    "print(f\"\\nUpdated project name to: {updated.name}\")\n"
   ]
  },
  {
   "cell_type": "code",
   "execution_count": null,
   "metadata": {},
   "outputs": [],
   "source": [
    "# Get project details with tasks\n",
    "details = await client.get_project_with_data(project.id)\n",
    "print(f\"\\nProject details:\")\n",
    "print(f\"Name: {details.project.name}\")\n",
    "print(f\"Tasks: {len(details.tasks)}\")\n",
    "\n",
    "# Delete the project\n",
    "await client.delete_project(project.id)\n",
    "print(\"\\nProject deleted successfully\")"
   ]
  },
  {
   "cell_type": "markdown",
   "metadata": {},
   "source": [
    "## Tasks\n",
    "\n",
    "Now let's work with tasks. We'll demonstrate how to:\n",
    "1. Create a new task\n",
    "2. Get task details\n",
    "3. Update a task\n",
    "4. Complete a task\n",
    "5. Delete a task"
   ]
  },
  {
   "cell_type": "code",
   "execution_count": null,
   "metadata": {},
   "outputs": [],
   "source": [
    "# First create a project for our tasks\n",
    "project = await client.create_project(ProjectCreate(name=\"Task Demo Project\"))\n",
    "\n",
    "# Create a new task\n",
    "new_task = TaskCreate(\n",
    "    title=\"Important Demo Task\",\n",
    "    content=\"This is a demo task with high priority\",\n",
    "    project_id=project.id,\n",
    "    priority=TaskPriority.HIGH\n",
    ")\n",
    "task = await client.create_task(new_task)\n",
    "print(f\"Created task: {task.title} (ID: {task.id})\")\n"
   ]
  },
  {
   "cell_type": "code",
   "execution_count": null,
   "metadata": {},
   "outputs": [],
   "source": [
    "# Get task details\n",
    "task_details = await client.get_task(project.id, task.id)\n",
    "print(f\"\\nTask details:\")\n",
    "print(f\"Title: {task_details.title}\")\n",
    "print(f\"Priority: {task_details.priority}\")\n",
    "print(f\"Status: {task_details.status}\")\n"
   ]
  },
  {
   "cell_type": "code",
   "execution_count": null,
   "metadata": {},
   "outputs": [],
   "source": [
    "# Update the task\n",
    "update = TaskUpdate(\n",
    "    id=task.id,\n",
    "    project_id=project.id,\n",
    "    title=\"Updated Demo Task\",\n",
    "    priority=TaskPriority.MEDIUM\n",
    ")\n",
    "updated = await client.update_task(update)\n",
    "print(f\"\\nUpdated task title to: {updated.title}\")\n"
   ]
  },
  {
   "cell_type": "code",
   "execution_count": null,
   "metadata": {},
   "outputs": [],
   "source": [
    "\n",
    "# Complete the task\n",
    "await client.complete_task(project.id, task.id)\n",
    "print(\"\\nTask marked as completed\")\n"
   ]
  },
  {
   "cell_type": "code",
   "execution_count": null,
   "metadata": {},
   "outputs": [],
   "source": [
    "\n",
    "# Delete the task\n",
    "await client.delete_task(project.id, task.id)\n",
    "print(\"\\nTask deleted successfully\")\n"
   ]
  },
  {
   "cell_type": "code",
   "execution_count": 20,
   "metadata": {},
   "outputs": [],
   "source": [
    "\n",
    "# Clean up by deleting the project\n",
    "await client.delete_project(project.id)"
   ]
  },
  {
   "cell_type": "markdown",
   "metadata": {},
   "source": [
    "## Error Handling\n",
    "\n",
    "The API client includes comprehensive error handling. Let's demonstrate how different types of errors are handled."
   ]
  },
  {
   "cell_type": "code",
   "execution_count": null,
   "metadata": {},
   "outputs": [],
   "source": [
    "from dida365.exceptions import NotFoundError, ValidationError\n",
    "\n",
    "async def demo_error_handling():\n",
    "    try:\n",
    "        # Try to get a non-existent project\n",
    "        await client.get_project(\"non_existent_id\")\n",
    "    except NotFoundError as e:\n",
    "        print(f\"Not Found Error: {e}\")\n",
    "    \n",
    "    try:\n",
    "        # Try to create a project with invalid data\n",
    "        await client.create_project(ProjectCreate(\n",
    "            name=\"Invalid Project\",\n",
    "            color=\"invalid_color\"  # Invalid color format\n",
    "        ))\n",
    "    except ValidationError as e:\n",
    "        print(f\"\\nValidation Error: {e}\")\n",
    "\n",
    "await demo_error_handling()"
   ]
  },
  {
   "cell_type": "markdown",
   "metadata": {},
   "source": [
    "## Cleanup\n",
    "\n",
    "Always remember to close the client when you're done to clean up resources."
   ]
  },
  {
   "cell_type": "code",
   "execution_count": null,
   "metadata": {},
   "outputs": [],
   "source": [
    "await client.http.close()\n",
    "print(\"Client closed successfully\")"
   ]
  }
 ],
 "metadata": {
  "kernelspec": {
   "display_name": "venv",
   "language": "python",
   "name": "python3"
  },
  "language_info": {
   "codemirror_mode": {
    "name": "ipython",
    "version": 3
   },
   "file_extension": ".py",
   "mimetype": "text/x-python",
   "name": "python",
   "nbconvert_exporter": "python",
   "pygments_lexer": "ipython3",
   "version": "3.11.9"
  }
 },
 "nbformat": 4,
 "nbformat_minor": 4
}
