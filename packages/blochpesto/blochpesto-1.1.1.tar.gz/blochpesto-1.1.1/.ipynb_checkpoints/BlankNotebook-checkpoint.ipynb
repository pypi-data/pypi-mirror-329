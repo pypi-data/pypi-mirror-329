{
 "cells": [
  {
   "cell_type": "code",
   "execution_count": 5,
   "id": "1e2a20a6",
   "metadata": {
    "code_folding": []
   },
   "outputs": [
    {
     "name": "stdout",
     "output_type": "stream",
     "text": [
      "-- pesto 1.0.0 --\n"
     ]
    },
    {
     "data": {
      "text/html": [
       "<style>.container { width:75% !important; }</style>"
      ],
      "text/plain": [
       "<IPython.core.display.HTML object>"
      ]
     },
     "metadata": {},
     "output_type": "display_data"
    },
    {
     "data": {
      "text/html": [
       "<style>:root { --jp-notebook-max-width: 95% !important; }</style>"
      ],
      "text/plain": [
       "<IPython.core.display.HTML object>"
      ]
     },
     "metadata": {},
     "output_type": "display_data"
    }
   ],
   "source": [
    "import blochpesto as pesto\n",
    "\n",
    "try:\timport scipy,numpy as np,matplotlib.pyplot as plt\n",
    "except: pass\n",
    "\n",
    "# Automatically reload any changes to the pesto source \n",
    "import importlib\n",
    "%reload_ext autoreload\n",
    "%autoreload 2\n",
    "importlib.reload(pesto)\n",
    "\n",
    "# Attempt to increase the notebook width\n",
    "try:\n",
    "    from IPython.display import display, HTML\n",
    "    display(HTML(\"<style>.container { width:75% !important; }</style>\")) # For jupyter versions <=6\n",
    "    display(HTML(\"<style>:root { --jp-notebook-max-width: 95% !important; }</style>\")) #For jupyter versions 7+\n",
    "except:\n",
    "    pass\n",
    "\n",
    "%matplotlib widget\n",
    "#%matplotlib inline\n"
   ]
  },
  {
   "cell_type": "code",
   "execution_count": null,
   "id": "c36cc97f-ae43-4cae-b81a-f352d9d40253",
   "metadata": {},
   "outputs": [],
   "source": []
  }
 ],
 "metadata": {
  "kernelspec": {
   "display_name": "Python 3 (ipykernel)",
   "language": "python",
   "name": "python3"
  },
  "language_info": {
   "codemirror_mode": {
    "name": "ipython",
    "version": 3
   },
   "file_extension": ".py",
   "mimetype": "text/x-python",
   "name": "python",
   "nbconvert_exporter": "python",
   "pygments_lexer": "ipython3",
   "version": "3.12.2"
  },
  "toc": {
   "base_numbering": 1,
   "nav_menu": {},
   "number_sections": true,
   "sideBar": true,
   "skip_h1_title": false,
   "title_cell": "Table of Contents",
   "title_sidebar": "Contents",
   "toc_cell": false,
   "toc_position": {
    "height": "905px",
    "left": "1499px",
    "top": "860.133px",
    "width": "314px"
   },
   "toc_section_display": true,
   "toc_window_display": true
  }
 },
 "nbformat": 4,
 "nbformat_minor": 5
}
