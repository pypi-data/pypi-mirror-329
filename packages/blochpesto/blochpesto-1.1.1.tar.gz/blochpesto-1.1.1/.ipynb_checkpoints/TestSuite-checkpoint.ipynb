{
 "cells": [
  {
   "cell_type": "code",
   "execution_count": 2,
   "id": "7d5bb0c1-23d5-4a4c-bd2c-a6fc194377e5",
   "metadata": {},
   "outputs": [
    {
     "name": "stdout",
     "output_type": "stream",
     "text": [
      "-- pesto 04.10.2024 --\n",
      "Taking A-branch analyzer workfunction = 4.34eV, calibrated 2023.08.28\n",
      "Call pesto.setAnalyzerWorkFunction(value_in_eV) if you wish to change this\n",
      "Sub-modules included:\n",
      "['Bloch', 'export', 'interactive', 'XPS', 'spin', 'DFT']\n",
      "-- pesto 04.10.2024 --\n",
      "Sub-modules included:\n",
      "['Bloch', 'export', 'interactive', 'XPS', 'spin', 'DFT']\n"
     ]
    },
    {
     "data": {
      "text/html": [
       "<style>:root { --jp-notebook-max-width: 95% !important; }</style>"
      ],
      "text/plain": [
       "<IPython.core.display.HTML object>"
      ]
     },
     "metadata": {},
     "output_type": "display_data"
    },
    {
     "data": {
      "text/html": [
       "<style>:root { --jp-notebook-max-width: 95% !important; }</style>"
      ],
      "text/plain": [
       "<IPython.core.display.HTML object>"
      ]
     },
     "metadata": {},
     "output_type": "display_data"
    },
    {
     "data": {
      "text/html": [
       "<style>:root { --jp-notebook-max-width: 95% !important; }</style>"
      ],
      "text/plain": [
       "<IPython.core.display.HTML object>"
      ]
     },
     "metadata": {},
     "output_type": "display_data"
    },
    {
     "data": {
      "text/html": [
       "<style>:root { --jp-notebook-max-width: 95% !important; }</style>"
      ],
      "text/plain": [
       "<IPython.core.display.HTML object>"
      ]
     },
     "metadata": {},
     "output_type": "display_data"
    },
    {
     "data": {
      "text/html": [
       "<style>:root { --jp-notebook-max-width: 95% !important; }</style>"
      ],
      "text/plain": [
       "<IPython.core.display.HTML object>"
      ]
     },
     "metadata": {},
     "output_type": "display_data"
    },
    {
     "data": {
      "text/html": [
       "<style>:root { --jp-notebook-max-width: 95% !important; }</style>"
      ],
      "text/plain": [
       "<IPython.core.display.HTML object>"
      ]
     },
     "metadata": {},
     "output_type": "display_data"
    },
    {
     "data": {
      "text/html": [
       "<style>:root { --jp-notebook-max-width: 95% !important; }</style>"
      ],
      "text/plain": [
       "<IPython.core.display.HTML object>"
      ]
     },
     "metadata": {},
     "output_type": "display_data"
    },
    {
     "data": {
      "text/html": [
       "<style>:root { --jp-notebook-max-width: 95% !important; }</style>"
      ],
      "text/plain": [
       "<IPython.core.display.HTML object>"
      ]
     },
     "metadata": {},
     "output_type": "display_data"
    },
    {
     "data": {
      "text/html": [
       "<style>:root { --jp-notebook-max-width: 95% !important; }</style>"
      ],
      "text/plain": [
       "<IPython.core.display.HTML object>"
      ]
     },
     "metadata": {},
     "output_type": "display_data"
    },
    {
     "data": {
      "text/html": [
       "<style>:root { --jp-notebook-max-width: 95% !important; }</style>"
      ],
      "text/plain": [
       "<IPython.core.display.HTML object>"
      ]
     },
     "metadata": {},
     "output_type": "display_data"
    },
    {
     "data": {
      "text/html": [
       "<style>:root { --jp-notebook-max-width: 95% !important; }</style>"
      ],
      "text/plain": [
       "<IPython.core.display.HTML object>"
      ]
     },
     "metadata": {},
     "output_type": "display_data"
    },
    {
     "data": {
      "text/html": [
       "<style>:root { --jp-notebook-max-width: 95% !important; }</style>"
      ],
      "text/plain": [
       "<IPython.core.display.HTML object>"
      ]
     },
     "metadata": {},
     "output_type": "display_data"
    },
    {
     "data": {
      "text/html": [
       "<style>:root { --jp-notebook-max-width: 95% !important; }</style>"
      ],
      "text/plain": [
       "<IPython.core.display.HTML object>"
      ]
     },
     "metadata": {},
     "output_type": "display_data"
    },
    {
     "data": {
      "text/html": [
       "<style>:root { --jp-notebook-max-width: 95% !important; }</style>"
      ],
      "text/plain": [
       "<IPython.core.display.HTML object>"
      ]
     },
     "metadata": {},
     "output_type": "display_data"
    },
    {
     "data": {
      "text/html": [
       "<style>:root { --jp-notebook-max-width: 95% !important; }</style>"
      ],
      "text/plain": [
       "<IPython.core.display.HTML object>"
      ]
     },
     "metadata": {},
     "output_type": "display_data"
    }
   ],
   "source": [
    "# Import pesto\n",
    "import sys,pathlib\n",
    "home = str(pathlib.Path.home())\n",
    "sys.path.insert(0, home+'/Dropbox/Work/pesto')\n",
    "#sys.path.insert(0, str(Path(r'Q:\\pesto')))\n",
    "import pesto\n",
    "\n",
    "\n",
    "# Automatically reload any changes to the pesto source\n",
    "import importlib\n",
    "%reload_ext autoreload\n",
    "%autoreload 2\n",
    "importlib.reload(pesto)\n",
    "\n",
    "# Increase the notebook width\n",
    "from IPython.display import display, HTML\n",
    "import subprocess\n",
    "versions = subprocess.check_output([\"jupyter\", \"--version\"]).decode().split('\\n')\n",
    "for ii in versions: \n",
    "    if 'notebook ' in ii and int(ii.split('.')[0][-1])<7: display(HTML(\"<style>.container { width:75% !important; }</style>\")) # For jupyter versions <=6\n",
    "    else: display(HTML(\"<style>:root { --jp-notebook-max-width: 95% !important; }</style>\")) #For jupyter versions 7+\n",
    " \n",
    "\n",
    "\n",
    "%matplotlib widget\n",
    "#%matplotlib inline\n",
    "\n",
    "import matplotlib.pyplot as plt\n",
    "import math,copy,scipy,numpy as np\n"
   ]
  },
  {
   "cell_type": "markdown",
   "id": "5f8620c8-e2e7-4a41-ba40-f62f703b2c96",
   "metadata": {},
   "source": [
    "# Spin"
   ]
  },
  {
   "cell_type": "code",
   "execution_count": null,
   "id": "30c5dc8b-2375-47a0-bad6-54b945a6c059",
   "metadata": {},
   "outputs": [],
   "source": [
    "FerrumImage = pesto.l"
   ]
  },
  {
   "cell_type": "code",
   "execution_count": null,
   "id": "df412b4a-ec1e-4739-9bea-b7c6428a25ea",
   "metadata": {},
   "outputs": [],
   "source": []
  },
  {
   "cell_type": "code",
   "execution_count": null,
   "id": "17318d42-c928-4df9-9f41-57ebfc144153",
   "metadata": {},
   "outputs": [],
   "source": []
  },
  {
   "cell_type": "code",
   "execution_count": null,
   "id": "caf9010d-e702-4dc1-ad11-26c162a74ff4",
   "metadata": {},
   "outputs": [],
   "source": []
  },
  {
   "cell_type": "code",
   "execution_count": null,
   "id": "0f2c0993-126f-4bf2-b735-46ddc85c28ff",
   "metadata": {},
   "outputs": [],
   "source": []
  },
  {
   "cell_type": "code",
   "execution_count": null,
   "id": "c697077d-171d-4f00-8ccf-577663a0eaac",
   "metadata": {},
   "outputs": [],
   "source": []
  },
  {
   "cell_type": "code",
   "execution_count": null,
   "id": "da2ec530-8da5-4044-8fa2-307f33c69a96",
   "metadata": {},
   "outputs": [],
   "source": []
  },
  {
   "cell_type": "code",
   "execution_count": null,
   "id": "87d74d33-96f5-442b-8eb5-838b1e5e14ee",
   "metadata": {},
   "outputs": [],
   "source": []
  },
  {
   "cell_type": "code",
   "execution_count": null,
   "id": "0b445b56-a805-4d54-bf29-46c526e36815",
   "metadata": {},
   "outputs": [],
   "source": []
  },
  {
   "cell_type": "code",
   "execution_count": null,
   "id": "badeace3-a446-4ed6-9772-031eba9a61bc",
   "metadata": {},
   "outputs": [],
   "source": []
  },
  {
   "cell_type": "code",
   "execution_count": null,
   "id": "17c639a0-a71b-48d1-8f69-0ba459421997",
   "metadata": {},
   "outputs": [],
   "source": []
  },
  {
   "cell_type": "code",
   "execution_count": null,
   "id": "520f0eae-04cd-4061-8e4b-afbf17273399",
   "metadata": {},
   "outputs": [],
   "source": []
  },
  {
   "cell_type": "code",
   "execution_count": null,
   "id": "40b7c9cc-8d29-44b0-af10-3cc70b5f4060",
   "metadata": {},
   "outputs": [],
   "source": []
  },
  {
   "cell_type": "code",
   "execution_count": null,
   "id": "68c6452e-6e7b-4014-b110-b7dc66e799fc",
   "metadata": {},
   "outputs": [],
   "source": []
  },
  {
   "cell_type": "code",
   "execution_count": null,
   "id": "5e6f101b-73fe-4343-b607-8a54b3ecd228",
   "metadata": {},
   "outputs": [],
   "source": []
  },
  {
   "cell_type": "code",
   "execution_count": null,
   "id": "2cc39066-864b-47ee-b98b-593fa8cc72c3",
   "metadata": {},
   "outputs": [],
   "source": []
  },
  {
   "cell_type": "code",
   "execution_count": null,
   "id": "a1aa8384-fede-488a-bd55-647658569dbc",
   "metadata": {},
   "outputs": [],
   "source": []
  },
  {
   "cell_type": "code",
   "execution_count": null,
   "id": "f2496904-7b17-481d-9ef5-343a50e3eb3a",
   "metadata": {},
   "outputs": [],
   "source": []
  },
  {
   "cell_type": "markdown",
   "id": "1c6ee41b-da55-4ff3-872b-59874cec3147",
   "metadata": {},
   "source": [
    "# Normal ARPES"
   ]
  },
  {
   "cell_type": "code",
   "execution_count": null,
   "id": "69e64b6d-1c87-4c10-b567-41ae39c45e05",
   "metadata": {},
   "outputs": [],
   "source": []
  }
 ],
 "metadata": {
  "kernelspec": {
   "display_name": "Python 3 (ipykernel)",
   "language": "python",
   "name": "python3"
  },
  "language_info": {
   "codemirror_mode": {
    "name": "ipython",
    "version": 3
   },
   "file_extension": ".py",
   "mimetype": "text/x-python",
   "name": "python",
   "nbconvert_exporter": "python",
   "pygments_lexer": "ipython3",
   "version": "3.12.2"
  }
 },
 "nbformat": 4,
 "nbformat_minor": 5
}
