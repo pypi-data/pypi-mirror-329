
import sys,pathlib,importlib,math,copy

home = str(pathlib.Path.home())
sys.path.insert(0, home+'/Dropbox/Work/pesto')
#sys.path.insert(0, str(Path(r'Q:\pesto')))
import pesto


# Automatically reload any changes to the pesto source (
%reload_ext autoreload
%autoreload 2
importlib.reload(pesto)

# Attempt to increase the notebook width
try:
    from IPython.display import display, HTML
    display(HTML("<style>.container { width:75% !important; }</style>")) # For jupyter versions <=6
    display(HTML("<style>:root { --jp-notebook-max-width: 95% !important; }</style>")) #For jupyter versions 7+
except:
    pass

#%matplotlib ipympl
%matplotlib widget
#%matplotlib inline



try:	import scipy,numpy as np
except: pass





scan = pesto.loadSpectrum("example_data/ARPES_2D.ibw")


pesto.quickPlot(scan)


pesto.explorer("example_data/xy_map.ibw")


import blochpesto as pesto


image = pesto.loadSpectrum("example_data/spinImage/id3_c2rm.xy")


pesto.quickPlot(image)


from example_package_crapol import example as pesto


def test():
    print("1")
    return 0

test()



with open("relax.out") as f:
    data = f.readlines()
energy=[]
for line in data:
    if line.startswith("     energy             new  ="):
        energyval = line.split("=")[1]
        energy.append(float(energyval.split()[0]))
fig,ax=plt.subplots(figsize=[8,5])
ax.scatter(range(len(energy)),energy)
plt.show()



with open("relax.out") as f:
    data = f.readlines()
energy=[]
for line in data:
    if line.startswith("     energy             new  ="):
        energyval = line.split("=")[1]
        energy.append(float(energyval.split()[0]))
fig,ax=plt.subplots(figsize=[8,5])
ax.scatter(range(len(energy)),energy)
plt.show()



with open("relax.out") as f:
    data = f.readlines()
energy=[]
for line in data:
    if line.startswith("     energy             new  ="):
        energyval = line.split("=")[1]
        energy.append(float(energyval.split()[0]))
fig,ax=plt.subplots(figsize=[8,5])
ax.scatter(range(len(energy)),energy)
plt.show()


scan=pesto.loadSpectrum("Johansson/GeSn_0002.pxt")


s = pesto.loadSpectrum("EDC/id15_c1rp.xy")


q = pesto.loadSpectrum("image/id7_c1rp.xy")


for ii,jj in zip(q['Axis'][2],q['Metadata']['CoilPolarity']):
    print(ii,jj)


pos,neg = pesto.spin.separateByPolarity(q)


q['data'][0,:,0]


pesto.quickPlot(q)


pesto.interactive.despike2D(q)


pesto.tree(q)


s = pesto.loadSpectrum("EDC/id15_c1rp.xy")


q = pesto.loadSpectrum("image/id7_c1rp.xy")


coilPositiveImage,coilNegativeImage=pesto.spin.separateByPolarity(q)


pesto.quickPlot(coilPositiveImage)


q['Metadata']


pesto.spin.despike(q)


i = pesto.loadSpectrum("fsm/id20_c2rm.xy")


pesto.quickPlot(i)


despiked=pesto.spin.despike(i,interactive=True,toleranceFactor=2.28)


m1 = pesto.loadSpectrum("example_data/spinMDC/id34_C2_r+.xy")


pesto.quickPlot(i)


tricky_mdc = pesto.loadSpectrum("mdc.xy")


vanlig_mdc = pesto.loadSpectrum("example_data/spinMDC/id35_C2_r-.xy")


pesto.tree(vanlig_mdc)


pesto.spin.despike(vanlig_mdc)


despiked=pesto.spin.despike(vanlig_mdc,interactive=False,toleranceFactor=2.28)


c2rp = pesto.spin.despike(pesto.loadSpectrum("example_data/spinMDC/id34_C2_r+.xy"),interactive=False,toleranceFactor=2.27)
c2rm = pesto.loadSpectrum("example_data/spinMDC/id35_C2_r-.xy")
pesto.spin.quickSummary(c2rp = c2rp,c2rm=c2rm)


pesto.quickPlot(tricky_mdc2)


tricky_mdc2['Metadata']['MajorAxes']


axis=[1,1,1,1,0]
print(np.cumsum(axis))


for ii,jj in zip(coordinates[1:],coordinates[:-1]):
    print(ii,jj)


np.isin(testpoint,coordinates)


coordinates=[]

coordinates.append(np.array([9,1]))
coordinates.append(np.array([1,9]))
coordinates.append(np.array([1,-1]))
coordinates.append(np.array([2,-2]))

distance = [np.linalg.norm(a-b) for a,b in zip(coordinates[1:],coordinates[:-1])]
distance.insert(0,0)
print(distance)
testpoint=np.array([8,1])
is_in_list = np.any(np.all(testpoint == coordinates, axis=1))
if is_in_list:
    print("yes")
else:
    print("no")





pesto.interactive.despike2D(q)


q_std = pesto.spin.standardDeviation(q)


#s_std = pesto.spin.standardDeviation(s)

pesto.tree(q_med)


pesto.quickPlot(s_med)


stddev = pesto.spin.standardDeviation(q)


stddev


q = pesto.loadSpectrum("EDC/id15_c1rp.xy")


q['data'][0]


pesto.quickPlot(q)


list = [3,2,4,1]
pol = ['Offf','ON','Off','ON']
axis = np.array(sorted([int(ii) for ii in list]))
polSorted = np.array(sorted([ii for ii in pol],key=list))
print(axis,polSorted)


np.array([x for _, x in sorted(zip(list, pol))],dtype=object)


590/240


890/774


280/230


pesto.resolutionCalculator()





scan = pesto.loadSpectrum("alignmentSpin/id4.xy",beQuiet=False)
pesto.quickPlot(scan)


pesto.explorer(scan)





EDC= pesto.loadSpectrum("EDC/id17_c2rm.xy",beQuiet=False)


EDC['data']


pesto.tree(EDC)


pesto.quickPlot(EDC)


pos,neg = pesto.spin.sum(EDC)


pesto.interactive.despike1D(EDC)


ass = pesto.spin.asymmetry(EDC)


pesto.tree(ass)


despikedEDC = pesto.spin.despike(EDC,toleranceFactor=2.25)
pesto.quickPlot(despikedEDC)


pesto.tree(pos)


pesto.quickPlot(pesto.spin.asymmetry(EDC))


pesto.tree(EDC)


pos,neg=pesto.spin.separateByPolarity(EDC)


pesto.tree(pos)


pesto.quickPlot(pos)





EDC['Metadata']['CoilPolarity'].count("Positive")





pesto.quickPlot(EDC)


pos,neg = pesto.spin.average(EDC)


pesto.quickPlot(pos)


pesto.quickPlot(neg)


pesto.interactive.despike1D(EDC)





pesto.interactive.despike1D(EDC)








EDC_c1rp = pesto.loadSpectrum("EDC/id15_c1rp.xy",beQuiet=False)
pesto.quickPlot(EDC_c1rp)
EDC_c2rm = pesto.loadSpectrum("EDC/id17_c2rm.xy",beQuiet=False)
pesto.quickPlot(EDC_c2rm)
EDC_c2rp = pesto.loadSpectrum("EDC/id16_c2rp.xy",beQuiet=False)
pesto.quickPlot(EDC_c2rp)


EDC_c1rp = pesto.loadSpectrum("EDC/id15_c1rp.xy",beQuiet=False)
pesto.quickPlot(EDC_c1rp)
EDC_c2rm = pesto.loadSpectrum("EDC/id17_c2rm.xy",beQuiet=False)
pesto.quickPlot(EDC_c2rm)
EDC_c2rp = pesto.loadSpectrum("EDC/id16_c2rp.xy",beQuiet=False)
pesto.quickPlot(EDC_c2rp)


pesto.spin.quickSummary(c1=EDC_c1rp)


a=[]
a.append((0 if not math.isnan(math.nan) else 1))
print(a)


EDC_c2rm = pesto.spin.despike(EDC_c2rm)


EDC_c2rm['Metadata']['CoilPolarity']




%matplotlib inline
fig,ax=plt.subplots(figsize=[5,5])

hv = 27.5
EDC_c2rm = pesto.spin.despike(EDC_c2rm,toleranceFactor=2.26)
px,py,pz = pesto.spin.polarization(c2rp=EDC_c2rp,c2rm=EDC_c2rm,c1=EDC_c1rp)
px_1 = np.cos(np.radians(30))*px['data'] + np.sin(np.radians(30))*pz['data']
pz_1 = np.cos(np.radians(30))*pz['data'] - np.sin(np.radians(30))*px['data']
px['data']=px_1
pz['data']=pz_1
#py['data']=py['data']-0.15
pesto.quickPlot(px,errorbars=True,axis=ax,alpha=0.25,hv=hv,label="P$_X$")
pesto.quickPlot(py,errorbars=True,axis=ax,color='tab:orange',alpha=0.25,hv=hv,label="P$_Y$")
pesto.quickPlot(pz,errorbars=True,axis=ax,color='tab:green',alpha=0.25,hv=hv,label="P$_Z$")
ax.axhline(y=0,color='black')
ax.set_ylim([-1,1])
ax.set_title("Grazing incidence, HPOL")
ax.set_ylabel("Polarization")
for line in ax.legend().get_lines():
    line.set_linewidth(3.0)


nx_plus,nx_minus,ny_plus,ny_minus,nz_plus,nz_minus,total = pesto.spin.componentIntensity(c2rp=EDC_c2rp,c2rm=EDC_c2rm,c1=EDC_c1rp)


pesto.quickPlot(nx_minus)


pesto.spin.quickSummary(c2rp=EDC_c2rp)








image_c1rp = pesto.loadSpectrum("image/id7_c1rp.xy")
#despiked = pesto.spin.despike(image_c1rp,toleranceFactor=2.644)


pesto.quickPlot(image_c1rp)


px,py,pz = pesto.spin.polarization(c1 = image_c1rp)


pesto.quickPlot(pz)


pesto.spin.quickSummary(c1=despiked)


pesto.interactive.despike2D(image_c1rp)


despiked = pesto.spin.despike(image_c1rp,toleranceFactor=2.644)


despikedEDC['data']


pesto.quickPlot(image_c1rp)


pesto.quickPlot(despiked)





pos,neg=pesto.spin.separateByPolarity(image_c1rp)


pos2,neg2=pesto.spin.separateByPolarity(pos)


pesto.tree(pos2)


pesto.tree(pos)


blah = pesto.spin.average(pos)


pesto.quickPlot(pos)





posSum,negSum = pesto.spin.sum(image_c1rp)


posAvg,negAvg = pesto.spin.average(image_c1rp)


pesto.tree(posSum)


pesto.quickPlot(negAvg)


pesto.tree(pos)


numPositiveScans = (image_c1rp['Metadata']['CoilPolarity']=="Positive").sum() / len(image_c1rp['Axis'][1])
print(numPositiveScans)


np.sjhapeimage_c1rp['Metadata']['CoilPolarity']


pesto.tree(image_c1rp)


list(image_c1rp['Metadata']['CoilPolarity'][0])


pos,neg = pesto.spin.averaged(image_c1rp)


pesto.quickPlot(neg)


pesto.quickPlot(image_c1rp)


pesto.interactive.despike2D(image_c1rp)


spectrum=[FILL THIS IN]
plt.show()


%%time
coilPositiveImage = pesto.getSlice(spectrum=despiked,axis=2,axisValue=0,beQuiet=True)


%%time
coilNegativeImage = copy.deepcopy(coilPositiveImage)






%%time
numDataPoints=np.zeros([len(energyAxis),len(angleAxis)],np.int8)

coilPositiveImage['Metadata']['MeasurementType']=""

for kk,stepNumber in enumerate(stepAxis):
    for jj,angle in enumerate(angleAxis):
        if polarityMatrix[jj,kk]=='Positive':
            for ii,energy in enumerate(energyAxis):
                if not math.isnan(despiked['data'][ii,jj,kk]):
                    coilPositiveImage['data'][ii,jj]+=despiked['data'][ii,jj,kk]
                    numDataPoints[ii,jj]+=1

coilPositiveImage['data']=coilPositiveImage['data']/numDataPoints


%%time

despiked=copy.deepcopy(image_c1rp)
despiked['data'][:]=image_c1rp['data'][:]
despiked['data'][:,0,0]=np.NaN
stepAxis=despiked['Axis'][2]
angleAxis=despiked['Axis'][1]
energyAxis=despiked['Axis'][0]
polarityMatrix = despiked['Metadata']['CoilPolarity']

#Compute the average, avoiding nan values

coilPositiveImage = pesto.getSlice(spectrum=despiked,axis=2,axisValue=0,beQuiet=True)
coilPositiveImage['data'][:,:]=0
coilPositiveNumDataPoints=np.zeros([len(energyAxis),len(angleAxis)])
coilPositiveImage['Metadata']['MeasurementType']="" #Hack to make subsequent call to quickPlot work

coilNegativeImage = pesto.getSlice(spectrum=despiked,axis=2,axisValue=0,beQuiet=True)
coilNegativeImage['data'][:,:]=0
coilNegativeNumDataPoints=np.zeros([len(energyAxis),len(angleAxis)])
coilNegativeImage['Metadata']['MeasurementType']="" #Hack to make subsequent call to quickPlot work

for kk,stepNumber in enumerate(stepAxis):
    for jj,angle in enumerate(angleAxis):
        if polarityMatrix[jj,kk]=='Positive':
            EDC = np.nan_to_num(despiked['data'][:,jj,kk]) #Convert all nans to zero
            coilPositiveImage['data'][:,jj]+=EDC
            EDC[EDC>0]=1 #convert all non-zeros to 1
            coilPositiveNumDataPoints[:,jj]+=EDC
            
        if polarityMatrix[jj,kk]=='Negative':
            EDC = np.nan_to_num(despiked['data'][:,jj,kk]) #Convert all nans to zero
            coilNegativeImage['data'][:,jj]+=EDC
            EDC[EDC>0]=1 #convert all non-zeros to 1
            coilNegativeNumDataPoints[:,jj]+=EDC


coilPositiveImage['data']=coilPositiveImage['data']/coilPositiveNumDataPoints

coilNegativeImage['data']=coilNegativeImage['data']/coilNegativeNumDataPoints



pesto.quickPlot(coilPositiveImage)





coilPositiveImage['data']


%%time
coilNegativeImage = pesto.getSlice(spectrum=despiked,axis=2,axisValue=0,beQuiet=True)
coilNegativeImage['data'][:,:]=0
coilNegativeImage['Metadata']['MeasurementType']=""
for stepIndex,stepNumber in enumerate(stepAxis):
    for angleIndex,angle in enumerate(angleAxis):
        if polarityMatrix[angleIndex,stepIndex]=='Negative':
            coilNegativeImage['data'][:,angleIndex]+=despiked['data'][:,angleIndex,stepIndex]


pesto.tree(coilNegativeImage)


numDataPoints[3,3]=128


numDataPoints





despiked = pesto.spin.despike_2D(image_c1rp,toleranceFactor=2.2,beQuiet=False)


#image_c1rp = pesto.loadSpectrum("image/id7_c1rp.xy")
pesto.quickPlot(image_c1rp)

















image_c1rp = pesto.loadSpectrum("image/id7_c1rp.xy")
pesto.quickPlot(image_c1rp)

image_c2rm = pesto.loadSpectrum("image/id3_c2rm.xy")
pesto.quickPlot(image_c2rm)

image_c2rp = pesto.loadSpectrum("image/id8_c2rp.xy")
pesto.quickPlot(image_c2rp)





pesto.tree(image_c1rp)





pesto.tree(fsm_c1rp)





fsm_c1rp['Metadata']['CoilPolarity'][0]


fsm_c1rp['Metadata']['CoilPolarity'][0][0]


#fsm_c1rp = pesto.loadSpectrum("fsm/id21_c1rp.xy",beQuiet=True)
pesto.quickPlot(fsm_c1rp)

#fsm_c2rm = pesto.loadSpectrum("fsm/id20_c2rm.xy",beQuiet=True)
pesto.quickPlot(fsm_c2rm)

#fsm_c2rp = pesto.loadSpectrum("fsm/id22_c2rp.xy",beQuiet=True)
pesto.quickPlot(fsm_c2rp)


fsm_c1rp = pesto.loadSpectrum("2024-10-26_Sarath/C1RP_top.xy",beQuiet=False)


fsm_c1rp = pesto.loadSpectrum("2024-10-26_Sarath/C1RP_top.xy",beQuiet=True)
fsm_c2rp = pesto.loadSpectrum("2024-10-26_Sarath/C2RP_top.xy",beQuiet=True)
fsm_c2rm = pesto.loadSpectrum("2024-10-26_Sarath/C2RM_top.xy",beQuiet=True)



coilPositiveImage,coilNegativeImage=pesto.spin.separateByPolarity(image_c1rp)


pos,neg = pesto.spin.average(image_c1rp)


pos['data']


pesto.quickPlot(pos)


pesto.tree(pos)


pesto.quickPlot(coilNegativeImage)


pesto.interactive.despike2D(image_c1rp)


pesto.interactive.despike2D(fsm_c1rp)


pesto.spin.quickSummary(c1 = fsm_c1rp,c2rm =fsm_c2rm ,c2rp = fsm_c2rp,componentMax=10000)


fsm_c1rp_2 = pesto.loadSpectrum("2024-10-26_Sarath/C1RP_bot.xy",beQuiet=True)
fsm_c2rp_2 = pesto.loadSpectrum("2024-10-26_Sarath/C2RP_bot.xy",beQuiet=True)
fsm_c2rm_2 = pesto.loadSpectrum("2024-10-26_Sarath/C2RM_bot.xy",beQuiet=True)


pesto.spin.quickSummary(c1 = fsm_c1rp_2,c2rm =fsm_c2rm_2 ,c2rp = fsm_c2rp_2)


fsm_c1rp_2 = pesto.loadSpectrum("2024-10-27-Sarath/id5.xy",beQuiet=False)
fsm_c2rp_2 = pesto.loadSpectrum("2024-10-27-Sarath/id7.xy",beQuiet=True)
fsm_c2rm_2 = pesto.loadSpectrum("2024-10-27-Sarath/id9.xy",beQuiet=True)


pesto.quickPlot(fsm_c2rp_2)


pesto.quickPlot(fsm_c2rm_2)


pesto.interactive.despike2D(image_c1rp)


pesto.interactive.despike2D(fsm_c1rp_2)


pesto.spin.quickSummary(c1 = fsm_c1rp_2,c2rm =fsm_c2rm_2 ,c2rp = fsm_c2rp_2,polarizationMax=1,componentMax=3000)


pesto.quickPlot(nz_plus)


component = copy.deepcopy(nz_plus)
component['data']-=nz_minus['data']


np.nanmax(component['data'])


pesto.quickPlot(component)


assyn = pesto.spin.asymmetry(fsm_c2rm)


pesto.quickPlot(assyn)


pos,neg = pesto.spin.separateByPolarity(fsm_c1rp)


pos['data'][10,10,:]


neg['data'][10,10,:]


pesto.quickPlot(pos)





q = pesto.loadSpectrum("example_data/(spin station) ARPES 2D.xy")


pesto.explorer(q)





z = pesto.loadSpectrum("id3.xy",beQuiet=False)


pesto.align(z)





u = pesto.loadSpectrum("Bpickles/07_testMap_WSe2.pickle")


pesto.explorer(u)








xy=pesto.loadSpectrum("example_data/xy_map.ibw")


pesto.explorer(xy)





d = pesto.loadSpectrum("fsm/id20_c2rm.xy")


22*20*8


scatteringScan = pesto.loadSpectrum("example_data/(spin station) ARPES 2D.xy",beQuiet=False)





pesto.explorer(scatteringScan)


mapScan = pesto.loadSpectrum("example_data/(spin station) deflector ARPES.xy",beQuiet=False)


pesto.explorer(mapScan)



re.findall('"([^"]*)"',"Parameter: \"Lens1 (V)\" = 220")[0].replace("(","[").replace(")","]")





q=["dog","cat"]


if "emu" not in q:
    print("yes")





scatteringScan = pesto.loadSpectrum("scattering.xy",beQuiet=False)


pesto.quickPlot(scatteringScan)


uniqueParameterValues={}
uniqueParameterValues['dog']=[0,0]
uniqueParameterValues['cat']=[0,0,0,0]

if 'emu' in uniqueParameterValues.keys() and len(uniqueParameterValues['emu'])>3:
    print("hej")





pesto.quickPlot(scatteringScan)





scatteringScan = pesto.loadSpectrum("example_data/(spin station) Spin MDC.xy",beQuiet=False)























scatteringScan = pesto.loadSpectrum("id28.xy",beQuiet=False)


pesto.quickPlot(scatteringScan)


spinMDC = pesto.loadSpectrum("example_data/(spin station) Spin MDC.xy",beQuiet=False)





pesto.quickPlot(spinEDC)


scan = pesto.loadSpectrum("example_data/(spin station) deflector ARPES.itx")


pesto.explorer(scan)


spectrum=scan
axisValue,integration = 0.000,0.000

slice=pesto.getSlice(spectrum,axis=2,axisValue=axisValue,normalized=True,sliceIntegration=integration,beQuiet=True)

pesto.export.nxs(slice,"slice01.nxs")

axisValue,integration = 3,0.000
slice=pesto.getSlice(spectrum,axis=2,axisValue=axisValue,normalized=True,sliceIntegration=integration,beQuiet=True)

pesto.export.nxs(slice,"slice02.nxs")


scan['Metadata']


spectrum="blah.nxs"
if True in [spectrum.endswith(x) for x in [".ibw",".txt",".xy",".zip",".sp2",".itx",".nxs"]]: print("yes")


scan = pesto.loadSpectrum("slice01.nxs")
scan['Metadata']['CurrentFilePath']="slice02.nxs"


pesto.explorer(scan)


pesto.explorer("slice01.nxs")





c2rp = pesto.loadSpectrum("example_data/spinMDC/id34_C2_r+.xy")



%matplotlib inline

fig,axes=plt.subplots(figsize=[13,5],ncols=2)

spinScan = pesto.loadSpectrum("example_data/spinMDC/id34_C2_r+.xy",beQuiet=True)
ax=axes[0]
ax.set_title("Raw data")
for ii,scanIndex in enumerate(spinScan['Axis'][1]):
    EDC = pesto.getProfile(spinScan,samplingAxis='y',xAxisRange=[scanIndex,scanIndex],beQuiet=True)
    if spinScan['Metadata']['CoilPolarity'][ii]=='Positive': color='tab:blue'
    else: color='tab:orange'
    pesto.quickPlot(EDC,axis=ax,color=color)

spinScan_filtered = pesto.spin.despike(spinScan)
ax=axes[1]
ax.set_title("Despiked")

for ii,scanIndex in enumerate(spinScan_filtered['Axis'][1]):
    EDC = pesto.getProfile(spinScan_filtered,samplingAxis='y',xAxisRange=[scanIndex,scanIndex],beQuiet=True)
    if spinScan['Metadata']['CoilPolarity'][ii]=='Positive': color='tab:blue'
    else: color='tab:orange'
    pesto.quickPlot(EDC,axis=ax,color=color)

plt.tight_layout()
plt.show()


fig,ax=plt.subplots(figsize=[8,4])

asymmetry = pesto.spin.calculateAsymmetry(spinScan_filtered)

pesto.quickPlot(asymmetry,errorbars=True,axis=ax)
ax.axhline(y=0,color='black')
ax.set_ylabel("Asymmetry")
plt.show()



1982.8688/660.956











scan2D = pesto.loadSpectrum("example_data/ARPES_2D.ibw")
pesto.explorer(scan2D)





scan3D = pesto.loadSpectrum("example_data/DA30.zip")
pesto.explorer(scan3D)


pesto.SBZ()


spatialmap = pesto.loadSpectrum("example_data/xy_map.ibw")


pesto.explorer(spatialmap)


pesto.temperatureCalculator(startT=80,endT=100)


pesto.resolutionCalculator()


pesto.XPS.searchByElement()


5000/55
